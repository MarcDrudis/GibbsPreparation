{
 "cells": [
  {
   "cell_type": "code",
   "execution_count": 35,
   "metadata": {},
   "outputs": [],
   "source": [
    "from gibbs.learning.klocal_pauli_basis import KLocalPauliBasis\n",
    "from gibbs.learning.constraint_matrix import ConstraintMatrixFactory\n",
    "from qiskit.quantum_info import Pauli\n",
    "import numpy as np\n",
    "from itertools import product"
   ]
  },
  {
   "cell_type": "code",
   "execution_count": 60,
   "metadata": {},
   "outputs": [],
   "source": [
    "basisL = KLocalPauliBasis(2,4)\n",
    "basisC = KLocalPauliBasis(2,4)\n",
    "def commutator(pauli1_str, pauli2_str):\n",
    "    pauli1 = Pauli(pauli1_str)\n",
    "    pauli2 = Pauli(pauli2_str)\n",
    "    if pauli1.commutes(pauli2):\n",
    "        return \"None\",0\n",
    "    else:\n",
    "        operator = 1j * (pauli1 @ pauli2)\n",
    "        phase = 1j**operator.phase\n",
    "        pauli_label = (operator * phase).to_label()\n",
    "        return pauli_label,int(np.real(phase))\n",
    "\n",
    "def fun(i,j):\n",
    "    return commutator(basisL.paulis_list[int(i)],basisC.paulis_list[int(j)])[0]\n",
    "\n",
    "K = np.empty((basisL.size,basisC.size),dtype=str)\n",
    "for i,j in product(range(basisL.size),range(basisC.size)):\n",
    "    K[i,j] = fun(i,j)\n"
   ]
  },
  {
   "cell_type": "code",
   "execution_count": null,
   "metadata": {},
   "outputs": [],
   "source": []
  }
 ],
 "metadata": {
  "kernelspec": {
   "display_name": "gibbsvenv",
   "language": "python",
   "name": "python3"
  },
  "language_info": {
   "codemirror_mode": {
    "name": "ipython",
    "version": 3
   },
   "file_extension": ".py",
   "mimetype": "text/x-python",
   "name": "python",
   "nbconvert_exporter": "python",
   "pygments_lexer": "ipython3",
   "version": "3.10.9"
  },
  "orig_nbformat": 4,
  "vscode": {
   "interpreter": {
    "hash": "dd6fc153763b8e9ec78bec65332e4837868b6da362e5e54c610a9825559f097e"
   }
  }
 },
 "nbformat": 4,
 "nbformat_minor": 2
}
