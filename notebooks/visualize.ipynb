{
 "cells": [
  {
   "cell_type": "code",
   "execution_count": 16,
   "metadata": {},
   "outputs": [
    {
     "name": "stdout",
     "output_type": "stream",
     "text": [
      "The autoreload extension is already loaded. To reload it, use:\n",
      "  %reload_ext autoreload\n"
     ]
    }
   ],
   "source": [
    "from gibbs.dataclass import GibbsResult,get_results\n",
    "import matplotlib.pyplot as plt\n",
    "import numpy as np\n",
    "from gibbs.learning.bayesian_learning import BayesianLearning\n",
    "from gibbs.learning.constraint_matrix import ConstraintMatrixFactory\n",
    "from qiskit.quantum_info import Statevector\n",
    "from gibbs.learning.klocal_pauli_basis import KLocalPauliBasis\n",
    "from scipy.linalg import block_diag\n",
    "from scipy.sparse import bmat \n",
    "from qiskit.quantum_info import state_fidelity,Statevector\n",
    "from gibbs.utils import number_of_elements, simple_purify_hamiltonian, spectral_dec,printarray, expected_state\n",
    "from gibbs.plots.plots import preparation, compare_preparations, preparation_error\n",
    "# plt.rcParams['text.usetex'] = True\n",
    "\n",
    "%load_ext autoreload\n",
    "%autoreload 2\n",
    "\n",
    "regular_result:GibbsResult = get_results(\"../scripts_lap/job_successquasm\")[0]\n",
    "zne_result:GibbsResult = get_results(\"../scripts_lap/job_7_qasmnoiserelisience\")[0]\n"
   ]
  },
  {
   "cell_type": "code",
   "execution_count": 17,
   "metadata": {},
   "outputs": [
    {
     "name": "stdout",
     "output_type": "stream",
     "text": [
      "[0.0, 0.09090909090909091, 0.18181818181818182, 0.2727272727272727, 0.36363636363636365, 0.4545454545454546, 0.5454545454545455, 0.6363636363636365, 0.7272727272727274, 0.8181818181818183] [0.0, 0.20000000000000004, 0.4000000000000001, 0.6000000000000001]\n"
     ]
    }
   ],
   "source": [
    "print(regular_result.betas,zne_result.betas)"
   ]
  },
  {
   "cell_type": "code",
   "execution_count": 18,
   "metadata": {},
   "outputs": [
    {
     "name": "stdout",
     "output_type": "stream",
     "text": [
      "Temperatures are 0.36363636363636365 for regular and 0.4000000000000001 for zne\n",
      "We end up with fidelities of 0.8633801447554661 for the regular and 0.9395279572283657 for zne\n"
     ]
    },
    {
     "data": {
      "application/vnd.plotly.v1+json": {
       "config": {
        "plotlyServerURL": "https://plot.ly"
       },
       "data": [
        {
         "alignmentgroup": "True",
         "hovertemplate": "<b>%{hovertext}</b><br><br>variable=priorH<br>Pauli Basis=%{x}<br>value=%{y}<extra></extra>",
         "hovertext": [
          "XIII",
          "IXII",
          "IIXI",
          "IIIX",
          "YIII",
          "IYII",
          "IIYI",
          "IIIY",
          "ZIII",
          "IZII",
          "IIZI",
          "IIIZ",
          "XXII",
          "IXXI",
          "IIXX",
          "XYII",
          "IXYI",
          "IIXY",
          "XZII",
          "IXZI",
          "IIXZ",
          "YXII",
          "IYXI",
          "IIYX",
          "YYII",
          "IYYI",
          "IIYY",
          "YZII",
          "IYZI",
          "IIYZ",
          "ZXII",
          "IZXI",
          "IIZX",
          "ZYII",
          "IZYI",
          "IIZY",
          "ZZII",
          "IZZI",
          "IIZZ",
          "XIXI",
          "IXIX",
          "XXXI",
          "IXXX",
          "XYXI",
          "IXYX",
          "XZXI",
          "IXZX",
          "XIYI",
          "IXIY",
          "XXYI",
          "IXXY",
          "XYYI",
          "IXYY",
          "XZYI",
          "IXZY",
          "XIZI",
          "IXIZ",
          "XXZI",
          "IXXZ",
          "XYZI",
          "IXYZ",
          "XZZI",
          "IXZZ",
          "YIXI",
          "IYIX",
          "YXXI",
          "IYXX",
          "YYXI",
          "IYYX",
          "YZXI",
          "IYZX",
          "YIYI",
          "IYIY",
          "YXYI",
          "IYXY",
          "YYYI",
          "IYYY",
          "YZYI",
          "IYZY",
          "YIZI",
          "IYIZ",
          "YXZI",
          "IYXZ",
          "YYZI",
          "IYYZ",
          "YZZI",
          "IYZZ",
          "ZIXI",
          "IZIX",
          "ZXXI",
          "IZXX",
          "ZYXI",
          "IZYX",
          "ZZXI",
          "IZZX",
          "ZIYI",
          "IZIY",
          "ZXYI",
          "IZXY",
          "ZYYI",
          "IZYY",
          "ZZYI",
          "IZZY",
          "ZIZI",
          "IZIZ",
          "ZXZI",
          "IZXZ",
          "ZYZI",
          "IZYZ",
          "ZZZI",
          "IZZZ"
         ],
         "legendgroup": "priorH",
         "marker": {
          "color": "#636efa",
          "pattern": {
           "shape": ""
          }
         },
         "name": "priorH",
         "offsetgroup": "priorH",
         "orientation": "v",
         "showlegend": true,
         "textposition": "auto",
         "type": "bar",
         "x": [
          0,
          1,
          2,
          3,
          4,
          5,
          6,
          7,
          8,
          9,
          10,
          11,
          12,
          13,
          14,
          15,
          16,
          17,
          18,
          19,
          20,
          21,
          22,
          23,
          24,
          25,
          26,
          27,
          28,
          29,
          30,
          31,
          32,
          33,
          34,
          35,
          36,
          37,
          38,
          39,
          40,
          41,
          42,
          43,
          44,
          45,
          46,
          47,
          48,
          49,
          50,
          51,
          52,
          53,
          54,
          55,
          56,
          57,
          58,
          59,
          60,
          61,
          62,
          63,
          64,
          65,
          66,
          67,
          68,
          69,
          70,
          71,
          72,
          73,
          74,
          75,
          76,
          77,
          78,
          79,
          80,
          81,
          82,
          83,
          84,
          85,
          86,
          87,
          88,
          89,
          90,
          91,
          92,
          93,
          94,
          95,
          96,
          97,
          98,
          99,
          100,
          101,
          102,
          103,
          104,
          105,
          106,
          107,
          108,
          109,
          110
         ],
         "xaxis": "x",
         "y": [
          0,
          0,
          0,
          0,
          0,
          0,
          0,
          0,
          -0.8181818181818183,
          -0.8181818181818183,
          -0.8181818181818183,
          -0.8181818181818183,
          0.20454545454545459,
          0.20454545454545459,
          0.20454545454545459,
          0,
          0,
          0,
          0,
          0,
          0,
          0,
          0,
          0,
          0.20454545454545459,
          0.20454545454545459,
          0.20454545454545459,
          0,
          0,
          0,
          0,
          0,
          0,
          0,
          0,
          0,
          0.20454545454545459,
          0.20454545454545459,
          0.20454545454545459,
          0,
          0,
          0,
          0,
          0,
          0,
          0,
          0,
          0,
          0,
          0,
          0,
          0,
          0,
          0,
          0,
          0,
          0,
          0,
          0,
          0,
          0,
          0,
          0,
          0,
          0,
          0,
          0,
          0,
          0,
          0,
          0,
          0,
          0,
          0,
          0,
          0,
          0,
          0,
          0,
          0,
          0,
          0,
          0,
          0,
          0,
          0,
          0,
          0,
          0,
          0,
          0,
          0,
          0,
          0,
          0,
          0,
          0,
          0,
          0,
          0,
          0,
          0,
          0,
          0,
          0,
          0,
          0,
          0,
          0,
          0,
          0
         ],
         "yaxis": "y"
        },
        {
         "alignmentgroup": "True",
         "hovertemplate": "<b>%{hovertext}</b><br><br>variable=regular<br>Pauli Basis=%{x}<br>value=%{y}<extra></extra>",
         "hovertext": [
          "XIII",
          "IXII",
          "IIXI",
          "IIIX",
          "YIII",
          "IYII",
          "IIYI",
          "IIIY",
          "ZIII",
          "IZII",
          "IIZI",
          "IIIZ",
          "XXII",
          "IXXI",
          "IIXX",
          "XYII",
          "IXYI",
          "IIXY",
          "XZII",
          "IXZI",
          "IIXZ",
          "YXII",
          "IYXI",
          "IIYX",
          "YYII",
          "IYYI",
          "IIYY",
          "YZII",
          "IYZI",
          "IIYZ",
          "ZXII",
          "IZXI",
          "IIZX",
          "ZYII",
          "IZYI",
          "IIZY",
          "ZZII",
          "IZZI",
          "IIZZ",
          "XIXI",
          "IXIX",
          "XXXI",
          "IXXX",
          "XYXI",
          "IXYX",
          "XZXI",
          "IXZX",
          "XIYI",
          "IXIY",
          "XXYI",
          "IXXY",
          "XYYI",
          "IXYY",
          "XZYI",
          "IXZY",
          "XIZI",
          "IXIZ",
          "XXZI",
          "IXXZ",
          "XYZI",
          "IXYZ",
          "XZZI",
          "IXZZ",
          "YIXI",
          "IYIX",
          "YXXI",
          "IYXX",
          "YYXI",
          "IYYX",
          "YZXI",
          "IYZX",
          "YIYI",
          "IYIY",
          "YXYI",
          "IYXY",
          "YYYI",
          "IYYY",
          "YZYI",
          "IYZY",
          "YIZI",
          "IYIZ",
          "YXZI",
          "IYXZ",
          "YYZI",
          "IYYZ",
          "YZZI",
          "IYZZ",
          "ZIXI",
          "IZIX",
          "ZXXI",
          "IZXX",
          "ZYXI",
          "IZYX",
          "ZZXI",
          "IZZX",
          "ZIYI",
          "IZIY",
          "ZXYI",
          "IZXY",
          "ZYYI",
          "IZYY",
          "ZZYI",
          "IZZY",
          "ZIZI",
          "IZIZ",
          "ZXZI",
          "IZXZ",
          "ZYZI",
          "IZYZ",
          "ZZZI",
          "IZZZ"
         ],
         "legendgroup": "regular",
         "marker": {
          "color": "#EF553B",
          "pattern": {
           "shape": ""
          }
         },
         "name": "regular",
         "offsetgroup": "regular",
         "orientation": "v",
         "showlegend": true,
         "textposition": "auto",
         "type": "bar",
         "x": [
          0,
          1,
          2,
          3,
          4,
          5,
          6,
          7,
          8,
          9,
          10,
          11,
          12,
          13,
          14,
          15,
          16,
          17,
          18,
          19,
          20,
          21,
          22,
          23,
          24,
          25,
          26,
          27,
          28,
          29,
          30,
          31,
          32,
          33,
          34,
          35,
          36,
          37,
          38,
          39,
          40,
          41,
          42,
          43,
          44,
          45,
          46,
          47,
          48,
          49,
          50,
          51,
          52,
          53,
          54,
          55,
          56,
          57,
          58,
          59,
          60,
          61,
          62,
          63,
          64,
          65,
          66,
          67,
          68,
          69,
          70,
          71,
          72,
          73,
          74,
          75,
          76,
          77,
          78,
          79,
          80,
          81,
          82,
          83,
          84,
          85,
          86,
          87,
          88,
          89,
          90,
          91,
          92,
          93,
          94,
          95,
          96,
          97,
          98,
          99,
          100,
          101,
          102,
          103,
          104,
          105,
          106,
          107,
          108,
          109,
          110
         ],
         "xaxis": "x",
         "y": [
          0.5125725319051562,
          -0.3925070349011155,
          -0.13554153678228162,
          -0.2773766906811329,
          0,
          0,
          0,
          0,
          -0.5280318502078629,
          -0.6972190173505493,
          -0.38286072128391546,
          -0.451880771625883,
          -0.27560182133490163,
          0.057076890331302615,
          0.33177465992253186,
          0,
          0,
          0,
          -0.01743582956734255,
          0.04245491817624292,
          -0.009455097568496912,
          0,
          0,
          0,
          0.03525718367653261,
          -0.0041105614473507125,
          -0.030962656265292154,
          0,
          0,
          0,
          0.015564430833511805,
          0.007940803357540518,
          0.004838648605428292,
          0,
          0,
          0,
          0.2171137203376189,
          0.2942807385268118,
          0.03502456100843454,
          -0.024646450061096573,
          -0.010532825140889733,
          0.0021655797318538266,
          -0.004851331078956134,
          0,
          0,
          0.00023712040488304393,
          -0.0008163460780445655,
          0,
          0,
          0,
          0,
          0.0024225881395635953,
          0.0037452358234786624,
          0,
          0,
          0.0056900605668843696,
          0.0002511728386328793,
          0.02379105243594315,
          -0.000966774807417959,
          0,
          0,
          -0.008420623087530676,
          -0.00006514315142808202,
          0,
          0,
          0,
          0,
          0.0010594930741900195,
          -0.005344737753167696,
          0,
          0,
          0.004109729463780059,
          0.00035794471132389867,
          -0.001388247011023279,
          0.0013654633393760515,
          0,
          0,
          -0.002722737594430303,
          -0.0009856635784318269,
          0,
          0,
          0,
          0,
          -0.013637275467328012,
          0.0002509196850742491,
          0,
          0,
          0.0039736068395281494,
          0.07286839343331702,
          -0.003267313707023233,
          -0.024247278023453483,
          0,
          0,
          0.0015114294530782415,
          -0.008320845222500234,
          0,
          0,
          0,
          0,
          0.0013910571579419458,
          0.023237651361981606,
          0,
          0,
          -0.049359542481483165,
          -0.0038057391315996225,
          -0.017603007760975654,
          0.0010883172771073502,
          0,
          0,
          -0.01961851778819368,
          -0.0015778772704470312
         ],
         "yaxis": "y"
        },
        {
         "alignmentgroup": "True",
         "hovertemplate": "<b>%{hovertext}</b><br><br>variable=zne<br>Pauli Basis=%{x}<br>value=%{y}<extra></extra>",
         "hovertext": [
          "XIII",
          "IXII",
          "IIXI",
          "IIIX",
          "YIII",
          "IYII",
          "IIYI",
          "IIIY",
          "ZIII",
          "IZII",
          "IIZI",
          "IIIZ",
          "XXII",
          "IXXI",
          "IIXX",
          "XYII",
          "IXYI",
          "IIXY",
          "XZII",
          "IXZI",
          "IIXZ",
          "YXII",
          "IYXI",
          "IIYX",
          "YYII",
          "IYYI",
          "IIYY",
          "YZII",
          "IYZI",
          "IIYZ",
          "ZXII",
          "IZXI",
          "IIZX",
          "ZYII",
          "IZYI",
          "IIZY",
          "ZZII",
          "IZZI",
          "IIZZ",
          "XIXI",
          "IXIX",
          "XXXI",
          "IXXX",
          "XYXI",
          "IXYX",
          "XZXI",
          "IXZX",
          "XIYI",
          "IXIY",
          "XXYI",
          "IXXY",
          "XYYI",
          "IXYY",
          "XZYI",
          "IXZY",
          "XIZI",
          "IXIZ",
          "XXZI",
          "IXXZ",
          "XYZI",
          "IXYZ",
          "XZZI",
          "IXZZ",
          "YIXI",
          "IYIX",
          "YXXI",
          "IYXX",
          "YYXI",
          "IYYX",
          "YZXI",
          "IYZX",
          "YIYI",
          "IYIY",
          "YXYI",
          "IYXY",
          "YYYI",
          "IYYY",
          "YZYI",
          "IYZY",
          "YIZI",
          "IYIZ",
          "YXZI",
          "IYXZ",
          "YYZI",
          "IYYZ",
          "YZZI",
          "IYZZ",
          "ZIXI",
          "IZIX",
          "ZXXI",
          "IZXX",
          "ZYXI",
          "IZYX",
          "ZZXI",
          "IZZX",
          "ZIYI",
          "IZIY",
          "ZXYI",
          "IZXY",
          "ZYYI",
          "IZYY",
          "ZZYI",
          "IZZY",
          "ZIZI",
          "IZIZ",
          "ZXZI",
          "IZXZ",
          "ZYZI",
          "IZYZ",
          "ZZZI",
          "IZZZ"
         ],
         "legendgroup": "zne",
         "marker": {
          "color": "#00cc96",
          "pattern": {
           "shape": ""
          }
         },
         "name": "zne",
         "offsetgroup": "zne",
         "orientation": "v",
         "showlegend": true,
         "textposition": "auto",
         "type": "bar",
         "x": [
          0,
          1,
          2,
          3,
          4,
          5,
          6,
          7,
          8,
          9,
          10,
          11,
          12,
          13,
          14,
          15,
          16,
          17,
          18,
          19,
          20,
          21,
          22,
          23,
          24,
          25,
          26,
          27,
          28,
          29,
          30,
          31,
          32,
          33,
          34,
          35,
          36,
          37,
          38,
          39,
          40,
          41,
          42,
          43,
          44,
          45,
          46,
          47,
          48,
          49,
          50,
          51,
          52,
          53,
          54,
          55,
          56,
          57,
          58,
          59,
          60,
          61,
          62,
          63,
          64,
          65,
          66,
          67,
          68,
          69,
          70,
          71,
          72,
          73,
          74,
          75,
          76,
          77,
          78,
          79,
          80,
          81,
          82,
          83,
          84,
          85,
          86,
          87,
          88,
          89,
          90,
          91,
          92,
          93,
          94,
          95,
          96,
          97,
          98,
          99,
          100,
          101,
          102,
          103,
          104,
          105,
          106,
          107,
          108,
          109,
          110
         ],
         "xaxis": "x",
         "y": [
          -0.0063401224222003295,
          0.0035352729668431454,
          -0.022391906698125925,
          -0.02668900743582341,
          0,
          0,
          0,
          0,
          -0.9089529119723352,
          -0.4185760708705179,
          -0.7157909579625712,
          -0.8717752605491386,
          -0.01705655224769361,
          0.09137841095164506,
          -0.411615317561308,
          0,
          0,
          0,
          0.020073309223572946,
          0.0012180657048969862,
          -0.037313069240495884,
          0,
          0,
          0,
          -0.003143682338810708,
          -0.01157813832470466,
          0.10766369013848207,
          0,
          0,
          0,
          0.11019989795589596,
          0.03875481977629898,
          0.06125740529117736,
          0,
          0,
          0,
          -0.030268030735890655,
          0.07875745726989564,
          0.5525720727516269,
          0.00008766754720581195,
          -0.0029941507170881663,
          -0.00013371216362877803,
          -0.0003252800621743528,
          0,
          0,
          -0.00046524420962293844,
          -0.003663403991432969,
          0,
          0,
          0,
          0,
          0.0003052087901632769,
          0.00033650540797977536,
          0,
          0,
          0.00027084969042657104,
          0.00029220824273817284,
          0.0005269938545382786,
          -0.015802423945232884,
          0,
          0,
          -0.0005986395731866663,
          -0.0005317793272652293,
          0,
          0,
          0,
          0,
          0.00068207116696564,
          0.0006915114684882106,
          0,
          0,
          0.00001601441639215748,
          0.0006435301894384777,
          -0.000025578527076775466,
          -0.0003138167220341516,
          0,
          0,
          0.00005668904429566284,
          -0.0022160431815221354,
          0,
          0,
          0,
          0,
          0.0006977451785020218,
          0.008782919534388867,
          0,
          0,
          -0.00006500056150213814,
          -0.002454027241418615,
          0.0000015470216484332264,
          0.009159937016567109,
          0,
          0,
          0.001253435306117161,
          -0.003030854610992348,
          0,
          0,
          0,
          0,
          0.00004770385559623412,
          -0.011391312479837247,
          0,
          0,
          -0.0003540732801401436,
          0.009120411463798939,
          -0.002281933499840662,
          -0.0074667482552148254,
          0,
          0,
          0.0008927332236950136,
          -0.01646594505325316
         ],
         "yaxis": "y"
        }
       ],
       "layout": {
        "barmode": "group",
        "font": {
         "color": "black",
         "size": 18
        },
        "legend": {
         "title": {
          "text": ""
         },
         "tracegroupgap": 0
        },
        "margin": {
         "t": 60
        },
        "template": {
         "data": {
          "bar": [
           {
            "error_x": {
             "color": "#2a3f5f"
            },
            "error_y": {
             "color": "#2a3f5f"
            },
            "marker": {
             "line": {
              "color": "#E5ECF6",
              "width": 0.5
             },
             "pattern": {
              "fillmode": "overlay",
              "size": 10,
              "solidity": 0.2
             }
            },
            "type": "bar"
           }
          ],
          "barpolar": [
           {
            "marker": {
             "line": {
              "color": "#E5ECF6",
              "width": 0.5
             },
             "pattern": {
              "fillmode": "overlay",
              "size": 10,
              "solidity": 0.2
             }
            },
            "type": "barpolar"
           }
          ],
          "carpet": [
           {
            "aaxis": {
             "endlinecolor": "#2a3f5f",
             "gridcolor": "white",
             "linecolor": "white",
             "minorgridcolor": "white",
             "startlinecolor": "#2a3f5f"
            },
            "baxis": {
             "endlinecolor": "#2a3f5f",
             "gridcolor": "white",
             "linecolor": "white",
             "minorgridcolor": "white",
             "startlinecolor": "#2a3f5f"
            },
            "type": "carpet"
           }
          ],
          "choropleth": [
           {
            "colorbar": {
             "outlinewidth": 0,
             "ticks": ""
            },
            "type": "choropleth"
           }
          ],
          "contour": [
           {
            "colorbar": {
             "outlinewidth": 0,
             "ticks": ""
            },
            "colorscale": [
             [
              0,
              "#0d0887"
             ],
             [
              0.1111111111111111,
              "#46039f"
             ],
             [
              0.2222222222222222,
              "#7201a8"
             ],
             [
              0.3333333333333333,
              "#9c179e"
             ],
             [
              0.4444444444444444,
              "#bd3786"
             ],
             [
              0.5555555555555556,
              "#d8576b"
             ],
             [
              0.6666666666666666,
              "#ed7953"
             ],
             [
              0.7777777777777778,
              "#fb9f3a"
             ],
             [
              0.8888888888888888,
              "#fdca26"
             ],
             [
              1,
              "#f0f921"
             ]
            ],
            "type": "contour"
           }
          ],
          "contourcarpet": [
           {
            "colorbar": {
             "outlinewidth": 0,
             "ticks": ""
            },
            "type": "contourcarpet"
           }
          ],
          "heatmap": [
           {
            "colorbar": {
             "outlinewidth": 0,
             "ticks": ""
            },
            "colorscale": [
             [
              0,
              "#0d0887"
             ],
             [
              0.1111111111111111,
              "#46039f"
             ],
             [
              0.2222222222222222,
              "#7201a8"
             ],
             [
              0.3333333333333333,
              "#9c179e"
             ],
             [
              0.4444444444444444,
              "#bd3786"
             ],
             [
              0.5555555555555556,
              "#d8576b"
             ],
             [
              0.6666666666666666,
              "#ed7953"
             ],
             [
              0.7777777777777778,
              "#fb9f3a"
             ],
             [
              0.8888888888888888,
              "#fdca26"
             ],
             [
              1,
              "#f0f921"
             ]
            ],
            "type": "heatmap"
           }
          ],
          "heatmapgl": [
           {
            "colorbar": {
             "outlinewidth": 0,
             "ticks": ""
            },
            "colorscale": [
             [
              0,
              "#0d0887"
             ],
             [
              0.1111111111111111,
              "#46039f"
             ],
             [
              0.2222222222222222,
              "#7201a8"
             ],
             [
              0.3333333333333333,
              "#9c179e"
             ],
             [
              0.4444444444444444,
              "#bd3786"
             ],
             [
              0.5555555555555556,
              "#d8576b"
             ],
             [
              0.6666666666666666,
              "#ed7953"
             ],
             [
              0.7777777777777778,
              "#fb9f3a"
             ],
             [
              0.8888888888888888,
              "#fdca26"
             ],
             [
              1,
              "#f0f921"
             ]
            ],
            "type": "heatmapgl"
           }
          ],
          "histogram": [
           {
            "marker": {
             "pattern": {
              "fillmode": "overlay",
              "size": 10,
              "solidity": 0.2
             }
            },
            "type": "histogram"
           }
          ],
          "histogram2d": [
           {
            "colorbar": {
             "outlinewidth": 0,
             "ticks": ""
            },
            "colorscale": [
             [
              0,
              "#0d0887"
             ],
             [
              0.1111111111111111,
              "#46039f"
             ],
             [
              0.2222222222222222,
              "#7201a8"
             ],
             [
              0.3333333333333333,
              "#9c179e"
             ],
             [
              0.4444444444444444,
              "#bd3786"
             ],
             [
              0.5555555555555556,
              "#d8576b"
             ],
             [
              0.6666666666666666,
              "#ed7953"
             ],
             [
              0.7777777777777778,
              "#fb9f3a"
             ],
             [
              0.8888888888888888,
              "#fdca26"
             ],
             [
              1,
              "#f0f921"
             ]
            ],
            "type": "histogram2d"
           }
          ],
          "histogram2dcontour": [
           {
            "colorbar": {
             "outlinewidth": 0,
             "ticks": ""
            },
            "colorscale": [
             [
              0,
              "#0d0887"
             ],
             [
              0.1111111111111111,
              "#46039f"
             ],
             [
              0.2222222222222222,
              "#7201a8"
             ],
             [
              0.3333333333333333,
              "#9c179e"
             ],
             [
              0.4444444444444444,
              "#bd3786"
             ],
             [
              0.5555555555555556,
              "#d8576b"
             ],
             [
              0.6666666666666666,
              "#ed7953"
             ],
             [
              0.7777777777777778,
              "#fb9f3a"
             ],
             [
              0.8888888888888888,
              "#fdca26"
             ],
             [
              1,
              "#f0f921"
             ]
            ],
            "type": "histogram2dcontour"
           }
          ],
          "mesh3d": [
           {
            "colorbar": {
             "outlinewidth": 0,
             "ticks": ""
            },
            "type": "mesh3d"
           }
          ],
          "parcoords": [
           {
            "line": {
             "colorbar": {
              "outlinewidth": 0,
              "ticks": ""
             }
            },
            "type": "parcoords"
           }
          ],
          "pie": [
           {
            "automargin": true,
            "type": "pie"
           }
          ],
          "scatter": [
           {
            "fillpattern": {
             "fillmode": "overlay",
             "size": 10,
             "solidity": 0.2
            },
            "type": "scatter"
           }
          ],
          "scatter3d": [
           {
            "line": {
             "colorbar": {
              "outlinewidth": 0,
              "ticks": ""
             }
            },
            "marker": {
             "colorbar": {
              "outlinewidth": 0,
              "ticks": ""
             }
            },
            "type": "scatter3d"
           }
          ],
          "scattercarpet": [
           {
            "marker": {
             "colorbar": {
              "outlinewidth": 0,
              "ticks": ""
             }
            },
            "type": "scattercarpet"
           }
          ],
          "scattergeo": [
           {
            "marker": {
             "colorbar": {
              "outlinewidth": 0,
              "ticks": ""
             }
            },
            "type": "scattergeo"
           }
          ],
          "scattergl": [
           {
            "marker": {
             "colorbar": {
              "outlinewidth": 0,
              "ticks": ""
             }
            },
            "type": "scattergl"
           }
          ],
          "scattermapbox": [
           {
            "marker": {
             "colorbar": {
              "outlinewidth": 0,
              "ticks": ""
             }
            },
            "type": "scattermapbox"
           }
          ],
          "scatterpolar": [
           {
            "marker": {
             "colorbar": {
              "outlinewidth": 0,
              "ticks": ""
             }
            },
            "type": "scatterpolar"
           }
          ],
          "scatterpolargl": [
           {
            "marker": {
             "colorbar": {
              "outlinewidth": 0,
              "ticks": ""
             }
            },
            "type": "scatterpolargl"
           }
          ],
          "scatterternary": [
           {
            "marker": {
             "colorbar": {
              "outlinewidth": 0,
              "ticks": ""
             }
            },
            "type": "scatterternary"
           }
          ],
          "surface": [
           {
            "colorbar": {
             "outlinewidth": 0,
             "ticks": ""
            },
            "colorscale": [
             [
              0,
              "#0d0887"
             ],
             [
              0.1111111111111111,
              "#46039f"
             ],
             [
              0.2222222222222222,
              "#7201a8"
             ],
             [
              0.3333333333333333,
              "#9c179e"
             ],
             [
              0.4444444444444444,
              "#bd3786"
             ],
             [
              0.5555555555555556,
              "#d8576b"
             ],
             [
              0.6666666666666666,
              "#ed7953"
             ],
             [
              0.7777777777777778,
              "#fb9f3a"
             ],
             [
              0.8888888888888888,
              "#fdca26"
             ],
             [
              1,
              "#f0f921"
             ]
            ],
            "type": "surface"
           }
          ],
          "table": [
           {
            "cells": {
             "fill": {
              "color": "#EBF0F8"
             },
             "line": {
              "color": "white"
             }
            },
            "header": {
             "fill": {
              "color": "#C8D4E3"
             },
             "line": {
              "color": "white"
             }
            },
            "type": "table"
           }
          ]
         },
         "layout": {
          "annotationdefaults": {
           "arrowcolor": "#2a3f5f",
           "arrowhead": 0,
           "arrowwidth": 1
          },
          "autotypenumbers": "strict",
          "coloraxis": {
           "colorbar": {
            "outlinewidth": 0,
            "ticks": ""
           }
          },
          "colorscale": {
           "diverging": [
            [
             0,
             "#8e0152"
            ],
            [
             0.1,
             "#c51b7d"
            ],
            [
             0.2,
             "#de77ae"
            ],
            [
             0.3,
             "#f1b6da"
            ],
            [
             0.4,
             "#fde0ef"
            ],
            [
             0.5,
             "#f7f7f7"
            ],
            [
             0.6,
             "#e6f5d0"
            ],
            [
             0.7,
             "#b8e186"
            ],
            [
             0.8,
             "#7fbc41"
            ],
            [
             0.9,
             "#4d9221"
            ],
            [
             1,
             "#276419"
            ]
           ],
           "sequential": [
            [
             0,
             "#0d0887"
            ],
            [
             0.1111111111111111,
             "#46039f"
            ],
            [
             0.2222222222222222,
             "#7201a8"
            ],
            [
             0.3333333333333333,
             "#9c179e"
            ],
            [
             0.4444444444444444,
             "#bd3786"
            ],
            [
             0.5555555555555556,
             "#d8576b"
            ],
            [
             0.6666666666666666,
             "#ed7953"
            ],
            [
             0.7777777777777778,
             "#fb9f3a"
            ],
            [
             0.8888888888888888,
             "#fdca26"
            ],
            [
             1,
             "#f0f921"
            ]
           ],
           "sequentialminus": [
            [
             0,
             "#0d0887"
            ],
            [
             0.1111111111111111,
             "#46039f"
            ],
            [
             0.2222222222222222,
             "#7201a8"
            ],
            [
             0.3333333333333333,
             "#9c179e"
            ],
            [
             0.4444444444444444,
             "#bd3786"
            ],
            [
             0.5555555555555556,
             "#d8576b"
            ],
            [
             0.6666666666666666,
             "#ed7953"
            ],
            [
             0.7777777777777778,
             "#fb9f3a"
            ],
            [
             0.8888888888888888,
             "#fdca26"
            ],
            [
             1,
             "#f0f921"
            ]
           ]
          },
          "colorway": [
           "#636efa",
           "#EF553B",
           "#00cc96",
           "#ab63fa",
           "#FFA15A",
           "#19d3f3",
           "#FF6692",
           "#B6E880",
           "#FF97FF",
           "#FECB52"
          ],
          "font": {
           "color": "#2a3f5f"
          },
          "geo": {
           "bgcolor": "white",
           "lakecolor": "white",
           "landcolor": "#E5ECF6",
           "showlakes": true,
           "showland": true,
           "subunitcolor": "white"
          },
          "hoverlabel": {
           "align": "left"
          },
          "hovermode": "closest",
          "mapbox": {
           "style": "light"
          },
          "paper_bgcolor": "white",
          "plot_bgcolor": "#E5ECF6",
          "polar": {
           "angularaxis": {
            "gridcolor": "white",
            "linecolor": "white",
            "ticks": ""
           },
           "bgcolor": "#E5ECF6",
           "radialaxis": {
            "gridcolor": "white",
            "linecolor": "white",
            "ticks": ""
           }
          },
          "scene": {
           "xaxis": {
            "backgroundcolor": "#E5ECF6",
            "gridcolor": "white",
            "gridwidth": 2,
            "linecolor": "white",
            "showbackground": true,
            "ticks": "",
            "zerolinecolor": "white"
           },
           "yaxis": {
            "backgroundcolor": "#E5ECF6",
            "gridcolor": "white",
            "gridwidth": 2,
            "linecolor": "white",
            "showbackground": true,
            "ticks": "",
            "zerolinecolor": "white"
           },
           "zaxis": {
            "backgroundcolor": "#E5ECF6",
            "gridcolor": "white",
            "gridwidth": 2,
            "linecolor": "white",
            "showbackground": true,
            "ticks": "",
            "zerolinecolor": "white"
           }
          },
          "shapedefaults": {
           "line": {
            "color": "#2a3f5f"
           }
          },
          "ternary": {
           "aaxis": {
            "gridcolor": "white",
            "linecolor": "white",
            "ticks": ""
           },
           "baxis": {
            "gridcolor": "white",
            "linecolor": "white",
            "ticks": ""
           },
           "bgcolor": "#E5ECF6",
           "caxis": {
            "gridcolor": "white",
            "linecolor": "white",
            "ticks": ""
           }
          },
          "title": {
           "x": 0.05
          },
          "xaxis": {
           "automargin": true,
           "gridcolor": "white",
           "linecolor": "white",
           "ticks": "",
           "title": {
            "standoff": 15
           },
           "zerolinecolor": "white",
           "zerolinewidth": 2
          },
          "yaxis": {
           "automargin": true,
           "gridcolor": "white",
           "linecolor": "white",
           "ticks": "",
           "title": {
            "standoff": 15
           },
           "zerolinecolor": "white",
           "zerolinewidth": 2
          }
         }
        },
        "title": {
         "text": "Preparation Hamiltonian"
        },
        "xaxis": {
         "anchor": "y",
         "domain": [
          0,
          1
         ],
         "showgrid": true,
         "ticklen": 5,
         "ticks": "outside",
         "ticktext": [
          "1-local",
          "2-local",
          "3-local"
         ],
         "tickvals": [
          -0.5,
          11.5,
          38.5
         ],
         "title": {
          "text": "Pauli Basis"
         }
        },
        "yaxis": {
         "anchor": "x",
         "domain": [
          0,
          1
         ],
         "title": {
          "text": "Coefficient"
         }
        }
       }
      }
     },
     "metadata": {},
     "output_type": "display_data"
    }
   ],
   "source": [
    "print(f\"Temperatures are {regular_result.betas[rtime:=4]} for regular and {zne_result.betas[znetime:=2]} for zne\")\n",
    "state_regular = Statevector(regular_result.ansatz.bind_parameters(regular_result.parameters[rtime]))\n",
    "state_regular_expected = simple_purify_hamiltonian(regular_result.basis.vector_to_pauli_op(regular_result.coriginal)*regular_result.betas[rtime])\n",
    "state_zne = Statevector(zne_result.ansatz.bind_parameters(zne_result.parameters[znetime]))\n",
    "state_zne_expected = simple_purify_hamiltonian(zne_result.basis.vector_to_pauli_op(zne_result.coriginal)*zne_result.betas[znetime])\n",
    "\n",
    "\n",
    "print(f\"We end up with fidelities of {state_fidelity(state_regular,state_regular_expected)} for the regular and {state_fidelity(state_zne,state_zne_expected)} for zne\")\n",
    "compare_preparations([regular_result,zne_result],timesteps=[rtime,znetime],titles=[\"regular\",\"zne\"])"
   ]
  },
  {
   "cell_type": "code",
   "execution_count": 35,
   "metadata": {},
   "outputs": [
    {
     "data": {
      "application/vnd.plotly.v1+json": {
       "config": {
        "plotlyServerURL": "https://plot.ly"
       },
       "data": [
        {
         "alignmentgroup": "True",
         "bingroup": "x",
         "hovertemplate": "variable=zne_error<br>value=%{x}<br>count=%{y}<extra></extra>",
         "legendgroup": "zne_error",
         "marker": {
          "color": "#636efa",
          "pattern": {
           "shape": ""
          }
         },
         "name": "zne_error",
         "nbinsx": 150,
         "offsetgroup": "zne_error",
         "orientation": "v",
         "showlegend": true,
         "type": "histogram",
         "x": [
          0.08332626855192934,
          0.03975812725743139,
          0.028850597578898476,
          0.10502846405639453,
          7.892991815694472e-17,
          1.802486111757151e-17,
          8.500145032286355e-17,
          2.7755575615628914e-17,
          2.3418766925686896e-17,
          4.85722573273506e-17,
          5.204170427930421e-18,
          0.026533472562639628,
          0.0008242811271526526,
          0.008123163047573313,
          7.546047120499111e-17,
          7.45931094670027e-17,
          1.214306433183765e-17,
          7.37257477290143e-17,
          4.881620281615984e-17,
          9.107298248878237e-17,
          0.0352070458838865,
          0.03359382032613625,
          0.2891004641375722,
          6.261267546103788e-18,
          4.5102810375396984e-17,
          2.7755575615628914e-17,
          0.00015018559917670657,
          0.00009831775612661477,
          0.000016681693528579578,
          0.004340170146239163,
          1.8966761754918293e-17,
          1.1362438767648086e-16,
          0.000569945804668538,
          0.00021191602689262672,
          7.982438494924526e-18,
          6.19655422893356e-17,
          4.394745743534212e-17,
          7.361732751176575e-17,
          0.000016814248043461122,
          0.0017567070807725008,
          1.2115959277525512e-16,
          4.307331943377568e-17,
          0.000023629569860218747,
          0.0000012592029981252362,
          0.0002421887556394095,
          0.003747418769289841,
          6.678685382510707e-17,
          4.336808689942018e-17,
          0.00006678619680762499,
          0.000007686221081652789,
          5.631752659704392e-17,
          2.536355457258277e-17,
          1.0190483981827037e-16,
          4.2500725161431774e-17,
          0.0004684327345157957,
          0.0022653274210484844,
          1.0381235801548705e-17,
          5.06796753001193e-17,
          0.000004501904108317871,
          0.000013995977451852792,
          0.000029589038041900976,
          0.00013997863340157546,
          7.470152968425126e-17,
          2.677979366039196e-17,
          0.000041911454756135146,
          0.00005218976525500022,
          1.0495077029659683e-16,
          2.3337451762750483e-17,
          1.8214596497756474e-17,
          7.632783294297951e-17,
          0.0002222406321949798,
          0.0019876404323357624,
          1.1362438767648086e-16,
          7.017498561412427e-17,
          0.0005698996749484873,
          0.0006141892930127332,
          0.0007102041910534559,
          0.0021760708878639434,
          5.204170427930421e-18,
          2.4069288229178198e-17,
          0.000634041508983971,
          0.0015959980665340157,
          9.107298248878237e-17,
          6.938893903907228e-17,
          2.42861286636753e-17,
          8.651933336434325e-17,
          0.0015951584099197736,
          0.0007803706008807515,
          4.90059381963448e-17,
          9.020562075079397e-17,
          0.00008631733902414451,
          0.00047715717754567843,
          0.000020838152953145395,
          0.002001487995591222,
          3.4450524030726903e-17,
          1.0928757898653885e-16,
          0.0003428461065694832,
          0.0012373177591264162
         ],
         "xaxis": "x",
         "yaxis": "y"
        },
        {
         "alignmentgroup": "True",
         "bingroup": "x",
         "hovertemplate": "variable=regular_error<br>value=%{x}<br>count=%{y}<extra></extra>",
         "legendgroup": "regular_error",
         "marker": {
          "color": "#EF553B",
          "pattern": {
           "shape": ""
          }
         },
         "name": "regular_error",
         "nbinsx": 150,
         "offsetgroup": "regular_error",
         "orientation": "v",
         "showlegend": true,
         "type": "histogram",
         "x": [
          0.07016874464026177,
          0.04011457339212259,
          0.08824307608260185,
          0.16975673163146568,
          4.423544863740858e-17,
          4.5102810375396984e-17,
          5.551115123125783e-17,
          5.551115123125783e-17,
          3.903127820947816e-17,
          1.0408340855860843e-16,
          8.326672684688674e-17,
          0.0032093251356046315,
          0.0017108011324302522,
          0.00034746624610827725,
          1.0018028073766061e-16,
          4.683753385137379e-17,
          2.7755575615628914e-17,
          6.071532165918825e-18,
          7.025630077706069e-17,
          1.3877787807814457e-17,
          0.0022136841711284474,
          0.004331862408335333,
          0.003354598431032696,
          9.107298248878237e-17,
          8.673617379884035e-17,
          2.7755575615628914e-17,
          0.03494862856787859,
          0.03259320391235733,
          0.0015216255088623724,
          0.0014393822791916998,
          7.22078646875346e-17,
          2.2768245622195593e-17,
          0.004382942769087636,
          0.002827678791163791,
          7.632783294297951e-17,
          8.326672684688674e-17,
          9.540979117872439e-18,
          2.8080836267374565e-17,
          0.00031091212191323563,
          0.000149417744325768,
          6.808789643208968e-17,
          3.122502256758253e-17,
          0.0002584341601137227,
          0.0008614807392138789,
          0.0020269479771685,
          0.002063361032066103,
          3.903127820947816e-17,
          3.122502256758253e-17,
          0.00019160693824170436,
          0.0004860737642597146,
          1.0234868508263162e-16,
          3.8163916471489756e-17,
          1.5178830414797062e-17,
          4.3151246464923076e-17,
          0.0023412408196423666,
          0.000842119941660035,
          7.502679033599691e-17,
          2.168404344971009e-17,
          0.0032914488523616333,
          0.0007702432503827825,
          0.0011090663541703074,
          0.0011241750683022127,
          0,
          3.729655473350135e-17,
          0.002795634208501543,
          0.00023707797169118024,
          5.117434254131581e-17,
          2.6020852139652106e-17,
          5.421010862427522e-17,
          3.2959746043559335e-17,
          0.00104874632734358,
          0.0025804281294296225,
          6.071532165918825e-18,
          1.3010426069826053e-17,
          0.1680245294519699,
          0.07358216200727251,
          0.005545555375989367,
          0.009040626385120456,
          6.071532165918825e-17,
          4.163336342344337e-17,
          0.011484968846149956,
          0.00384827859716963,
          2.7755575615628914e-17,
          2.7755575615628914e-17,
          1.3877787807814457e-17,
          4.163336342344337e-17,
          0.0048976731719631295,
          0.006098756005460958,
          4.683753385137379e-17,
          1.3877787807814457e-17,
          0.005074473572602017,
          0.14626477170895616,
          0.0023267654258745936,
          0.0016567850664217475,
          5.724587470723463e-17,
          3.469446951953614e-18,
          0.0077665941581980535,
          0.005140193217680472
         ],
         "xaxis": "x",
         "yaxis": "y"
        }
       ],
       "layout": {
        "barmode": "group",
        "legend": {
         "title": {
          "text": "variable"
         },
         "tracegroupgap": 0
        },
        "margin": {
         "t": 60
        },
        "template": {
         "data": {
          "bar": [
           {
            "error_x": {
             "color": "#2a3f5f"
            },
            "error_y": {
             "color": "#2a3f5f"
            },
            "marker": {
             "line": {
              "color": "#E5ECF6",
              "width": 0.5
             },
             "pattern": {
              "fillmode": "overlay",
              "size": 10,
              "solidity": 0.2
             }
            },
            "type": "bar"
           }
          ],
          "barpolar": [
           {
            "marker": {
             "line": {
              "color": "#E5ECF6",
              "width": 0.5
             },
             "pattern": {
              "fillmode": "overlay",
              "size": 10,
              "solidity": 0.2
             }
            },
            "type": "barpolar"
           }
          ],
          "carpet": [
           {
            "aaxis": {
             "endlinecolor": "#2a3f5f",
             "gridcolor": "white",
             "linecolor": "white",
             "minorgridcolor": "white",
             "startlinecolor": "#2a3f5f"
            },
            "baxis": {
             "endlinecolor": "#2a3f5f",
             "gridcolor": "white",
             "linecolor": "white",
             "minorgridcolor": "white",
             "startlinecolor": "#2a3f5f"
            },
            "type": "carpet"
           }
          ],
          "choropleth": [
           {
            "colorbar": {
             "outlinewidth": 0,
             "ticks": ""
            },
            "type": "choropleth"
           }
          ],
          "contour": [
           {
            "colorbar": {
             "outlinewidth": 0,
             "ticks": ""
            },
            "colorscale": [
             [
              0,
              "#0d0887"
             ],
             [
              0.1111111111111111,
              "#46039f"
             ],
             [
              0.2222222222222222,
              "#7201a8"
             ],
             [
              0.3333333333333333,
              "#9c179e"
             ],
             [
              0.4444444444444444,
              "#bd3786"
             ],
             [
              0.5555555555555556,
              "#d8576b"
             ],
             [
              0.6666666666666666,
              "#ed7953"
             ],
             [
              0.7777777777777778,
              "#fb9f3a"
             ],
             [
              0.8888888888888888,
              "#fdca26"
             ],
             [
              1,
              "#f0f921"
             ]
            ],
            "type": "contour"
           }
          ],
          "contourcarpet": [
           {
            "colorbar": {
             "outlinewidth": 0,
             "ticks": ""
            },
            "type": "contourcarpet"
           }
          ],
          "heatmap": [
           {
            "colorbar": {
             "outlinewidth": 0,
             "ticks": ""
            },
            "colorscale": [
             [
              0,
              "#0d0887"
             ],
             [
              0.1111111111111111,
              "#46039f"
             ],
             [
              0.2222222222222222,
              "#7201a8"
             ],
             [
              0.3333333333333333,
              "#9c179e"
             ],
             [
              0.4444444444444444,
              "#bd3786"
             ],
             [
              0.5555555555555556,
              "#d8576b"
             ],
             [
              0.6666666666666666,
              "#ed7953"
             ],
             [
              0.7777777777777778,
              "#fb9f3a"
             ],
             [
              0.8888888888888888,
              "#fdca26"
             ],
             [
              1,
              "#f0f921"
             ]
            ],
            "type": "heatmap"
           }
          ],
          "heatmapgl": [
           {
            "colorbar": {
             "outlinewidth": 0,
             "ticks": ""
            },
            "colorscale": [
             [
              0,
              "#0d0887"
             ],
             [
              0.1111111111111111,
              "#46039f"
             ],
             [
              0.2222222222222222,
              "#7201a8"
             ],
             [
              0.3333333333333333,
              "#9c179e"
             ],
             [
              0.4444444444444444,
              "#bd3786"
             ],
             [
              0.5555555555555556,
              "#d8576b"
             ],
             [
              0.6666666666666666,
              "#ed7953"
             ],
             [
              0.7777777777777778,
              "#fb9f3a"
             ],
             [
              0.8888888888888888,
              "#fdca26"
             ],
             [
              1,
              "#f0f921"
             ]
            ],
            "type": "heatmapgl"
           }
          ],
          "histogram": [
           {
            "marker": {
             "pattern": {
              "fillmode": "overlay",
              "size": 10,
              "solidity": 0.2
             }
            },
            "type": "histogram"
           }
          ],
          "histogram2d": [
           {
            "colorbar": {
             "outlinewidth": 0,
             "ticks": ""
            },
            "colorscale": [
             [
              0,
              "#0d0887"
             ],
             [
              0.1111111111111111,
              "#46039f"
             ],
             [
              0.2222222222222222,
              "#7201a8"
             ],
             [
              0.3333333333333333,
              "#9c179e"
             ],
             [
              0.4444444444444444,
              "#bd3786"
             ],
             [
              0.5555555555555556,
              "#d8576b"
             ],
             [
              0.6666666666666666,
              "#ed7953"
             ],
             [
              0.7777777777777778,
              "#fb9f3a"
             ],
             [
              0.8888888888888888,
              "#fdca26"
             ],
             [
              1,
              "#f0f921"
             ]
            ],
            "type": "histogram2d"
           }
          ],
          "histogram2dcontour": [
           {
            "colorbar": {
             "outlinewidth": 0,
             "ticks": ""
            },
            "colorscale": [
             [
              0,
              "#0d0887"
             ],
             [
              0.1111111111111111,
              "#46039f"
             ],
             [
              0.2222222222222222,
              "#7201a8"
             ],
             [
              0.3333333333333333,
              "#9c179e"
             ],
             [
              0.4444444444444444,
              "#bd3786"
             ],
             [
              0.5555555555555556,
              "#d8576b"
             ],
             [
              0.6666666666666666,
              "#ed7953"
             ],
             [
              0.7777777777777778,
              "#fb9f3a"
             ],
             [
              0.8888888888888888,
              "#fdca26"
             ],
             [
              1,
              "#f0f921"
             ]
            ],
            "type": "histogram2dcontour"
           }
          ],
          "mesh3d": [
           {
            "colorbar": {
             "outlinewidth": 0,
             "ticks": ""
            },
            "type": "mesh3d"
           }
          ],
          "parcoords": [
           {
            "line": {
             "colorbar": {
              "outlinewidth": 0,
              "ticks": ""
             }
            },
            "type": "parcoords"
           }
          ],
          "pie": [
           {
            "automargin": true,
            "type": "pie"
           }
          ],
          "scatter": [
           {
            "fillpattern": {
             "fillmode": "overlay",
             "size": 10,
             "solidity": 0.2
            },
            "type": "scatter"
           }
          ],
          "scatter3d": [
           {
            "line": {
             "colorbar": {
              "outlinewidth": 0,
              "ticks": ""
             }
            },
            "marker": {
             "colorbar": {
              "outlinewidth": 0,
              "ticks": ""
             }
            },
            "type": "scatter3d"
           }
          ],
          "scattercarpet": [
           {
            "marker": {
             "colorbar": {
              "outlinewidth": 0,
              "ticks": ""
             }
            },
            "type": "scattercarpet"
           }
          ],
          "scattergeo": [
           {
            "marker": {
             "colorbar": {
              "outlinewidth": 0,
              "ticks": ""
             }
            },
            "type": "scattergeo"
           }
          ],
          "scattergl": [
           {
            "marker": {
             "colorbar": {
              "outlinewidth": 0,
              "ticks": ""
             }
            },
            "type": "scattergl"
           }
          ],
          "scattermapbox": [
           {
            "marker": {
             "colorbar": {
              "outlinewidth": 0,
              "ticks": ""
             }
            },
            "type": "scattermapbox"
           }
          ],
          "scatterpolar": [
           {
            "marker": {
             "colorbar": {
              "outlinewidth": 0,
              "ticks": ""
             }
            },
            "type": "scatterpolar"
           }
          ],
          "scatterpolargl": [
           {
            "marker": {
             "colorbar": {
              "outlinewidth": 0,
              "ticks": ""
             }
            },
            "type": "scatterpolargl"
           }
          ],
          "scatterternary": [
           {
            "marker": {
             "colorbar": {
              "outlinewidth": 0,
              "ticks": ""
             }
            },
            "type": "scatterternary"
           }
          ],
          "surface": [
           {
            "colorbar": {
             "outlinewidth": 0,
             "ticks": ""
            },
            "colorscale": [
             [
              0,
              "#0d0887"
             ],
             [
              0.1111111111111111,
              "#46039f"
             ],
             [
              0.2222222222222222,
              "#7201a8"
             ],
             [
              0.3333333333333333,
              "#9c179e"
             ],
             [
              0.4444444444444444,
              "#bd3786"
             ],
             [
              0.5555555555555556,
              "#d8576b"
             ],
             [
              0.6666666666666666,
              "#ed7953"
             ],
             [
              0.7777777777777778,
              "#fb9f3a"
             ],
             [
              0.8888888888888888,
              "#fdca26"
             ],
             [
              1,
              "#f0f921"
             ]
            ],
            "type": "surface"
           }
          ],
          "table": [
           {
            "cells": {
             "fill": {
              "color": "#EBF0F8"
             },
             "line": {
              "color": "white"
             }
            },
            "header": {
             "fill": {
              "color": "#C8D4E3"
             },
             "line": {
              "color": "white"
             }
            },
            "type": "table"
           }
          ]
         },
         "layout": {
          "annotationdefaults": {
           "arrowcolor": "#2a3f5f",
           "arrowhead": 0,
           "arrowwidth": 1
          },
          "autotypenumbers": "strict",
          "coloraxis": {
           "colorbar": {
            "outlinewidth": 0,
            "ticks": ""
           }
          },
          "colorscale": {
           "diverging": [
            [
             0,
             "#8e0152"
            ],
            [
             0.1,
             "#c51b7d"
            ],
            [
             0.2,
             "#de77ae"
            ],
            [
             0.3,
             "#f1b6da"
            ],
            [
             0.4,
             "#fde0ef"
            ],
            [
             0.5,
             "#f7f7f7"
            ],
            [
             0.6,
             "#e6f5d0"
            ],
            [
             0.7,
             "#b8e186"
            ],
            [
             0.8,
             "#7fbc41"
            ],
            [
             0.9,
             "#4d9221"
            ],
            [
             1,
             "#276419"
            ]
           ],
           "sequential": [
            [
             0,
             "#0d0887"
            ],
            [
             0.1111111111111111,
             "#46039f"
            ],
            [
             0.2222222222222222,
             "#7201a8"
            ],
            [
             0.3333333333333333,
             "#9c179e"
            ],
            [
             0.4444444444444444,
             "#bd3786"
            ],
            [
             0.5555555555555556,
             "#d8576b"
            ],
            [
             0.6666666666666666,
             "#ed7953"
            ],
            [
             0.7777777777777778,
             "#fb9f3a"
            ],
            [
             0.8888888888888888,
             "#fdca26"
            ],
            [
             1,
             "#f0f921"
            ]
           ],
           "sequentialminus": [
            [
             0,
             "#0d0887"
            ],
            [
             0.1111111111111111,
             "#46039f"
            ],
            [
             0.2222222222222222,
             "#7201a8"
            ],
            [
             0.3333333333333333,
             "#9c179e"
            ],
            [
             0.4444444444444444,
             "#bd3786"
            ],
            [
             0.5555555555555556,
             "#d8576b"
            ],
            [
             0.6666666666666666,
             "#ed7953"
            ],
            [
             0.7777777777777778,
             "#fb9f3a"
            ],
            [
             0.8888888888888888,
             "#fdca26"
            ],
            [
             1,
             "#f0f921"
            ]
           ]
          },
          "colorway": [
           "#636efa",
           "#EF553B",
           "#00cc96",
           "#ab63fa",
           "#FFA15A",
           "#19d3f3",
           "#FF6692",
           "#B6E880",
           "#FF97FF",
           "#FECB52"
          ],
          "font": {
           "color": "#2a3f5f"
          },
          "geo": {
           "bgcolor": "white",
           "lakecolor": "white",
           "landcolor": "#E5ECF6",
           "showlakes": true,
           "showland": true,
           "subunitcolor": "white"
          },
          "hoverlabel": {
           "align": "left"
          },
          "hovermode": "closest",
          "mapbox": {
           "style": "light"
          },
          "paper_bgcolor": "white",
          "plot_bgcolor": "#E5ECF6",
          "polar": {
           "angularaxis": {
            "gridcolor": "white",
            "linecolor": "white",
            "ticks": ""
           },
           "bgcolor": "#E5ECF6",
           "radialaxis": {
            "gridcolor": "white",
            "linecolor": "white",
            "ticks": ""
           }
          },
          "scene": {
           "xaxis": {
            "backgroundcolor": "#E5ECF6",
            "gridcolor": "white",
            "gridwidth": 2,
            "linecolor": "white",
            "showbackground": true,
            "ticks": "",
            "zerolinecolor": "white"
           },
           "yaxis": {
            "backgroundcolor": "#E5ECF6",
            "gridcolor": "white",
            "gridwidth": 2,
            "linecolor": "white",
            "showbackground": true,
            "ticks": "",
            "zerolinecolor": "white"
           },
           "zaxis": {
            "backgroundcolor": "#E5ECF6",
            "gridcolor": "white",
            "gridwidth": 2,
            "linecolor": "white",
            "showbackground": true,
            "ticks": "",
            "zerolinecolor": "white"
           }
          },
          "shapedefaults": {
           "line": {
            "color": "#2a3f5f"
           }
          },
          "ternary": {
           "aaxis": {
            "gridcolor": "white",
            "linecolor": "white",
            "ticks": ""
           },
           "baxis": {
            "gridcolor": "white",
            "linecolor": "white",
            "ticks": ""
           },
           "bgcolor": "#E5ECF6",
           "caxis": {
            "gridcolor": "white",
            "linecolor": "white",
            "ticks": ""
           }
          },
          "title": {
           "x": 0.05
          },
          "xaxis": {
           "automargin": true,
           "gridcolor": "white",
           "linecolor": "white",
           "ticks": "",
           "title": {
            "standoff": 15
           },
           "zerolinecolor": "white",
           "zerolinewidth": 2
          },
          "yaxis": {
           "automargin": true,
           "gridcolor": "white",
           "linecolor": "white",
           "ticks": "",
           "title": {
            "standoff": 15
           },
           "zerolinecolor": "white",
           "zerolinewidth": 2
          }
         }
        },
        "xaxis": {
         "anchor": "y",
         "domain": [
          0,
          1
         ],
         "title": {
          "text": "value"
         }
        },
        "yaxis": {
         "anchor": "x",
         "domain": [
          0,
          1
         ],
         "title": {
          "text": "count"
         }
        }
       }
      }
     },
     "metadata": {},
     "output_type": "display_data"
    }
   ],
   "source": [
    "regular_error = np.abs(regular_result.cfaulties[rtime]-regular_result.coriginal*regular_result.betas[rtime])[regular_result.coriginal==0]\n",
    "zne_error = np.abs(zne_result.cfaulties[znetime]-zne_result.coriginal*zne_result.betas[znetime])[zne_result.coriginal==0]\n",
    "import plotly.express as px\n",
    "df = {\"regular_error\":regular_error,\"zne_error\":zne_error}\n",
    "px.histogram(df,x=[\"zne_error\",\"regular_error\"],barmode=\"group\",nbins=150)   \n"
   ]
  }
 ],
 "metadata": {
  "kernelspec": {
   "display_name": "test_easy_instalation",
   "language": "python",
   "name": "python3"
  },
  "language_info": {
   "codemirror_mode": {
    "name": "ipython",
    "version": 3
   },
   "file_extension": ".py",
   "mimetype": "text/x-python",
   "name": "python",
   "nbconvert_exporter": "python",
   "pygments_lexer": "ipython3",
   "version": "3.10.9"
  },
  "orig_nbformat": 4,
  "vscode": {
   "interpreter": {
    "hash": "a99669db2c788b5eb6a3f1de1af58ba979ab8e9c6ee57e40d99f496c2ca91e4c"
   }
  }
 },
 "nbformat": 4,
 "nbformat_minor": 2
}
