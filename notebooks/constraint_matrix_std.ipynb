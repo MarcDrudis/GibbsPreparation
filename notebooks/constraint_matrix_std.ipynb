{
 "cells": [
  {
   "cell_type": "code",
   "execution_count": 35,
   "metadata": {},
   "outputs": [],
   "source": [
    "from gibbs.learning.klocal_pauli_basis import KLocalPauliBasis\n",
    "from gibbs.learning.constraint_matrix import ConstraintMatrixFactory\n",
    "from qiskit.quantum_info import Pauli\n",
    "import numpy as np\n",
    "from itertools import product"
   ]
  },
  {
   "cell_type": "code",
   "execution_count": 60,
   "metadata": {},
   "outputs": [],
   "source": [
    "basisL = KLocalPauliBasis(2,4)\n",
    "basisC = KLocalPauliBasis(2,4)\n",
    "def commutator(pauli1_str, pauli2_str):\n",
    "    pauli1 = Pauli(pauli1_str)\n",
    "    pauli2 = Pauli(pauli2_str)\n",
    "    if pauli1.commutes(pauli2):\n",
    "        return \"None\",0\n",
    "    else:\n",
    "        operator = 1j * (pauli1 @ pauli2)\n",
    "        phase = 1j**operator.phase\n",
    "        pauli_label = (operator * phase).to_label()\n",
    "        return pauli_label,int(np.real(phase))\n",
    "\n",
    "def fun(i,j):\n",
    "    return commutator(basisL.paulis_list[int(i)],basisC.paulis_list[int(j)])[0]\n",
    "\n",
    "K = np.empty((basisL.size,basisC.size),dtype=str)\n",
    "for i,j in product(range(basisL.size),range(basisC.size)):\n",
    "    K[i,j] = fun(i,j)\n"
   ]
  },
  {
   "cell_type": "code",
   "execution_count": null,
   "metadata": {},
   "outputs": [],
   "source": []
  }
 ],
 "metadata": {
  "kernelspec": {
   "display_name": "test_easy_instalation",
   "language": "python",
   "name": "python3"
  },
  "language_info": {
   "codemirror_mode": {
    "name": "ipython",
    "version": 3
   },
   "file_extension": ".py",
   "mimetype": "text/x-python",
   "name": "python",
   "nbconvert_exporter": "python",
   "pygments_lexer": "ipython3",
   "version": "3.10.9"
  },
  "orig_nbformat": 4,
  "vscode": {
   "interpreter": {
    "hash": "a99669db2c788b5eb6a3f1de1af58ba979ab8e9c6ee57e40d99f496c2ca91e4c"
   }
  }
 },
 "nbformat": 4,
 "nbformat_minor": 2
}
