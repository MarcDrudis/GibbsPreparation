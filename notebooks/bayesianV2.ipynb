{
 "cells": [
  {
   "cell_type": "code",
   "execution_count": 9,
   "metadata": {},
   "outputs": [
    {
     "name": "stdout",
     "output_type": "stream",
     "text": [
      "The autoreload extension is already loaded. To reload it, use:\n",
      "  %reload_ext autoreload\n",
      "14 0.43999999999999995 0.43999999999999995 0.43999999999999995 0.43999999999999995 0.43999999999999995 0.43999999999999995 0.43999999999999995 0.43999999999999995 0.43999999999999995 0.43999999999999995 0.43999999999999995 0.43999999999999995 0.43999999999999995 0.43999999999999995\n",
      "3\n"
     ]
    }
   ],
   "source": [
    "from gibbs.dataclass import GibbsResult,get_results\n",
    "import numpy as np\n",
    "from gibbs.utils import simple_purify_hamiltonian,printarray,spectral_dec,candidate\n",
    "import matplotlib.pyplot as plt\n",
    "from gibbs.learning.bayesian_learning_v2 import BayesianLearning\n",
    "from gibbs.learning.constraint_matrix import ConstraintMatrixFactory\n",
    "from gibbs.plots.plots import compare_preparations, axis_locality,preparation\n",
    "import plotly.express as px\n",
    "from qiskit.quantum_info import state_fidelity\n",
    "\n",
    "%load_ext autoreload\n",
    "%autoreload 2\n",
    "gibbsresults = get_results(\"../saved_simulations/turbo/simplerandomcfields\")\n",
    "\n",
    "print(len(gibbsresults), *(g.betas[-1] for g in gibbsresults))\n",
    "print(gibbsresults[0].klocality)"
   ]
  },
  {
   "cell_type": "code",
   "execution_count": 14,
   "metadata": {},
   "outputs": [
    {
     "name": "stdout",
     "output_type": "stream",
     "text": [
      "(207,) (207,) (207,)\n"
     ]
    },
    {
     "name": "stderr",
     "output_type": "stream",
     "text": [
      "/home/drudis/python_environements/gibbsvenv/lib64/python3.10/site-packages/matplotlib/cbook/__init__.py:1335: ComplexWarning:\n",
      "\n",
      "Casting complex values to real discards the imaginary part\n",
      "\n"
     ]
    },
    {
     "data": {
      "application/vnd.plotly.v1+json": {
       "config": {
        "plotlyServerURL": "https://plot.ly"
       },
       "data": [
        {
         "alignmentgroup": "True",
         "hovertemplate": "<b>%{hovertext}</b><br><br>variable=prepH<br>Pauli Basis=%{x}<br>value=%{y}<extra></extra>",
         "hovertext": [
          "XIIIII",
          "IXIIII",
          "IIXIII",
          "IIIXII",
          "IIIIXI",
          "IIIIIX",
          "YIIIII",
          "IYIIII",
          "IIYIII",
          "IIIYII",
          "IIIIYI",
          "IIIIIY",
          "ZIIIII",
          "IZIIII",
          "IIZIII",
          "IIIZII",
          "IIIIZI",
          "IIIIIZ",
          "XXIIII",
          "IXXIII",
          "IIXXII",
          "IIIXXI",
          "IIIIXX",
          "XYIIII",
          "IXYIII",
          "IIXYII",
          "IIIXYI",
          "IIIIXY",
          "XZIIII",
          "IXZIII",
          "IIXZII",
          "IIIXZI",
          "IIIIXZ",
          "YXIIII",
          "IYXIII",
          "IIYXII",
          "IIIYXI",
          "IIIIYX",
          "YYIIII",
          "IYYIII",
          "IIYYII",
          "IIIYYI",
          "IIIIYY",
          "YZIIII",
          "IYZIII",
          "IIYZII",
          "IIIYZI",
          "IIIIYZ",
          "ZXIIII",
          "IZXIII",
          "IIZXII",
          "IIIZXI",
          "IIIIZX",
          "ZYIIII",
          "IZYIII",
          "IIZYII",
          "IIIZYI",
          "IIIIZY",
          "ZZIIII",
          "IZZIII",
          "IIZZII",
          "IIIZZI",
          "IIIIZZ",
          "XIXIII",
          "IXIXII",
          "IIXIXI",
          "IIIXIX",
          "XXXIII",
          "IXXXII",
          "IIXXXI",
          "IIIXXX",
          "XYXIII",
          "IXYXII",
          "IIXYXI",
          "IIIXYX",
          "XZXIII",
          "IXZXII",
          "IIXZXI",
          "IIIXZX",
          "XIYIII",
          "IXIYII",
          "IIXIYI",
          "IIIXIY",
          "XXYIII",
          "IXXYII",
          "IIXXYI",
          "IIIXXY",
          "XYYIII",
          "IXYYII",
          "IIXYYI",
          "IIIXYY",
          "XZYIII",
          "IXZYII",
          "IIXZYI",
          "IIIXZY",
          "XIZIII",
          "IXIZII",
          "IIXIZI",
          "IIIXIZ",
          "XXZIII",
          "IXXZII",
          "IIXXZI",
          "IIIXXZ",
          "XYZIII",
          "IXYZII",
          "IIXYZI",
          "IIIXYZ",
          "XZZIII",
          "IXZZII",
          "IIXZZI",
          "IIIXZZ",
          "YIXIII",
          "IYIXII",
          "IIYIXI",
          "IIIYIX",
          "YXXIII",
          "IYXXII",
          "IIYXXI",
          "IIIYXX",
          "YYXIII",
          "IYYXII",
          "IIYYXI",
          "IIIYYX",
          "YZXIII",
          "IYZXII",
          "IIYZXI",
          "IIIYZX",
          "YIYIII",
          "IYIYII",
          "IIYIYI",
          "IIIYIY",
          "YXYIII",
          "IYXYII",
          "IIYXYI",
          "IIIYXY",
          "YYYIII",
          "IYYYII",
          "IIYYYI",
          "IIIYYY",
          "YZYIII",
          "IYZYII",
          "IIYZYI",
          "IIIYZY",
          "YIZIII",
          "IYIZII",
          "IIYIZI",
          "IIIYIZ",
          "YXZIII",
          "IYXZII",
          "IIYXZI",
          "IIIYXZ",
          "YYZIII",
          "IYYZII",
          "IIYYZI",
          "IIIYYZ",
          "YZZIII",
          "IYZZII",
          "IIYZZI",
          "IIIYZZ",
          "ZIXIII",
          "IZIXII",
          "IIZIXI",
          "IIIZIX",
          "ZXXIII",
          "IZXXII",
          "IIZXXI",
          "IIIZXX",
          "ZYXIII",
          "IZYXII",
          "IIZYXI",
          "IIIZYX",
          "ZZXIII",
          "IZZXII",
          "IIZZXI",
          "IIIZZX",
          "ZIYIII",
          "IZIYII",
          "IIZIYI",
          "IIIZIY",
          "ZXYIII",
          "IZXYII",
          "IIZXYI",
          "IIIZXY",
          "ZYYIII",
          "IZYYII",
          "IIZYYI",
          "IIIZYY",
          "ZZYIII",
          "IZZYII",
          "IIZZYI",
          "IIIZZY",
          "ZIZIII",
          "IZIZII",
          "IIZIZI",
          "IIIZIZ",
          "ZXZIII",
          "IZXZII",
          "IIZXZI",
          "IIIZXZ",
          "ZYZIII",
          "IZYZII",
          "IIZYZI",
          "IIIZYZ",
          "ZZZIII",
          "IZZZII",
          "IIZZZI",
          "IIIZZZ"
         ],
         "legendgroup": "prepH",
         "marker": {
          "color": "#636efa",
          "pattern": {
           "shape": ""
          }
         },
         "name": "prepH",
         "offsetgroup": "prepH",
         "orientation": "v",
         "showlegend": true,
         "textposition": "auto",
         "type": "bar",
         "x": [
          0,
          1,
          2,
          3,
          4,
          5,
          6,
          7,
          8,
          9,
          10,
          11,
          12,
          13,
          14,
          15,
          16,
          17,
          18,
          19,
          20,
          21,
          22,
          23,
          24,
          25,
          26,
          27,
          28,
          29,
          30,
          31,
          32,
          33,
          34,
          35,
          36,
          37,
          38,
          39,
          40,
          41,
          42,
          43,
          44,
          45,
          46,
          47,
          48,
          49,
          50,
          51,
          52,
          53,
          54,
          55,
          56,
          57,
          58,
          59,
          60,
          61,
          62,
          63,
          64,
          65,
          66,
          67,
          68,
          69,
          70,
          71,
          72,
          73,
          74,
          75,
          76,
          77,
          78,
          79,
          80,
          81,
          82,
          83,
          84,
          85,
          86,
          87,
          88,
          89,
          90,
          91,
          92,
          93,
          94,
          95,
          96,
          97,
          98,
          99,
          100,
          101,
          102,
          103,
          104,
          105,
          106,
          107,
          108,
          109,
          110,
          111,
          112,
          113,
          114,
          115,
          116,
          117,
          118,
          119,
          120,
          121,
          122,
          123,
          124,
          125,
          126,
          127,
          128,
          129,
          130,
          131,
          132,
          133,
          134,
          135,
          136,
          137,
          138,
          139,
          140,
          141,
          142,
          143,
          144,
          145,
          146,
          147,
          148,
          149,
          150,
          151,
          152,
          153,
          154,
          155,
          156,
          157,
          158,
          159,
          160,
          161,
          162,
          163,
          164,
          165,
          166,
          167,
          168,
          169,
          170,
          171,
          172,
          173,
          174,
          175,
          176,
          177,
          178,
          179,
          180,
          181,
          182,
          183,
          184,
          185,
          186,
          187,
          188,
          189,
          190,
          191,
          192,
          193,
          194,
          195,
          196,
          197,
          198,
          199,
          200,
          201,
          202,
          203,
          204,
          205,
          206
         ],
         "xaxis": "x",
         "y": [
          -1.1402841828047031e-15,
          -4.801950999148566e-16,
          -2.709662872067071e-16,
          -4.496923934252314e-16,
          -4.3035195169961094e-17,
          1.812884273706654e-17,
          0,
          0,
          0,
          0,
          0,
          0,
          -0.44047510682773683,
          -0.08329123678761266,
          -0.44408879776546634,
          -0.448936934939384,
          -0.44853191047388385,
          -0.4452472696534826,
          0.1163212410435718,
          0.11738221321021904,
          0.11302608095103266,
          0.11433491454860747,
          0.11294340660437091,
          0,
          0,
          0,
          0,
          0,
          8.950322984865848e-17,
          -1.3833203888405784e-16,
          -2.291898456884826e-16,
          -3.210328978602672e-16,
          4.822057735644295e-17,
          0,
          0,
          0,
          0,
          0,
          -0.0025780673894470535,
          -0.002609620040873468,
          -0.01248007114141907,
          -0.012734131718182598,
          -0.012597850866275694,
          0,
          0,
          0,
          0,
          0,
          -1.8886604641724945e-16,
          -1.3479554900683532e-16,
          -6.209850365292969e-17,
          8.320434974440217e-17,
          1.4229106788176208e-16,
          0,
          0,
          0,
          0,
          0,
          0.11618769071168147,
          0.11756733331837244,
          0.11859059599014136,
          0.11992449137158565,
          0.11885020672370161,
          0.000046973405490013005,
          0.0001475251501299005,
          0.00021376143896059663,
          0.00021481984405622248,
          9.140488187821919e-17,
          2.5662555189773626e-16,
          -2.171732950139503e-17,
          7.400258128106596e-17,
          0,
          0,
          0,
          0,
          0.00027932071658273337,
          0.00152995852462958,
          0.0013355289812987169,
          0.0013425349804350002,
          0,
          0,
          0,
          0,
          0,
          0,
          0,
          0,
          6.102305109897891e-17,
          1.4195463945113772e-16,
          -7.141270338386522e-17,
          1.5786209173781633e-16,
          0,
          0,
          0,
          0,
          -2.0489534447069606e-16,
          7.728187020473506e-17,
          5.11820638503967e-17,
          2.686215294815557e-16,
          -0.0006562018030527807,
          -0.003711117949950543,
          -0.0032718786579832015,
          -0.0032720585491107478,
          0,
          0,
          0,
          0,
          1.4757669943551202e-16,
          1.0658969846782633e-16,
          1.5621566260593783e-16,
          3.835814664563288e-16,
          0,
          0,
          0,
          0,
          0,
          0,
          0,
          0,
          9.937463298397332e-17,
          -4.904104514505689e-17,
          -2.0783855415877123e-17,
          -1.8590238219860595e-17,
          0,
          0,
          0,
          0,
          -0.00002177768150660811,
          -0.00006283113679901973,
          -0.00009552098936011058,
          -0.0000976142756313939,
          8.846021708052838e-17,
          1.0336611648071503e-16,
          2.0970222788723474e-16,
          -2.514733125167014e-16,
          0,
          0,
          0,
          0,
          0.00010030404420346292,
          0.00011777695386207817,
          0.0004445819765060187,
          0.00045036197596358906,
          0,
          0,
          0,
          0,
          0,
          0,
          0,
          0,
          0.003646385861881745,
          0.0007303951040903002,
          0.0032350177646780125,
          0.0032777488221885955,
          0,
          0,
          0,
          0,
          -4.914456574838529e-16,
          1.9215941216861416e-16,
          1.4008691761059718e-16,
          -4.677850550722619e-17,
          -0.0006467557705012179,
          -0.0031735185276303966,
          -0.003264991652160625,
          -0.0032895963735503995,
          0,
          0,
          0,
          0,
          6.593301336549888e-17,
          1.5837536393048272e-16,
          2.6578391947190524e-16,
          -2.395407753808615e-16,
          0,
          0,
          0,
          0,
          0,
          0,
          0,
          0,
          0.003627212201582566,
          0.0032119129044927033,
          0.003263521964194362,
          0.00326992569767189,
          0,
          0,
          0,
          0,
          -0.000009219402649168762,
          0.0021510320821200857,
          0.001982021341313367,
          0.00198068979563637,
          -2.42507281561079e-16,
          5.648345547662389e-17,
          -2.508572387351419e-16,
          1.389640939704319e-17,
          0,
          0,
          0,
          0,
          -0.00018471970933556237,
          -0.005314575500262403,
          -0.0049611178146991425,
          -0.004964097167027726
         ],
         "yaxis": "y"
        },
        {
         "alignmentgroup": "True",
         "hovertemplate": "<b>%{hovertext}</b><br><br>variable=priorH<br>Pauli Basis=%{x}<br>value=%{y}<extra></extra>",
         "hovertext": [
          "XIIIII",
          "IXIIII",
          "IIXIII",
          "IIIXII",
          "IIIIXI",
          "IIIIIX",
          "YIIIII",
          "IYIIII",
          "IIYIII",
          "IIIYII",
          "IIIIYI",
          "IIIIIY",
          "ZIIIII",
          "IZIIII",
          "IIZIII",
          "IIIZII",
          "IIIIZI",
          "IIIIIZ",
          "XXIIII",
          "IXXIII",
          "IIXXII",
          "IIIXXI",
          "IIIIXX",
          "XYIIII",
          "IXYIII",
          "IIXYII",
          "IIIXYI",
          "IIIIXY",
          "XZIIII",
          "IXZIII",
          "IIXZII",
          "IIIXZI",
          "IIIIXZ",
          "YXIIII",
          "IYXIII",
          "IIYXII",
          "IIIYXI",
          "IIIIYX",
          "YYIIII",
          "IYYIII",
          "IIYYII",
          "IIIYYI",
          "IIIIYY",
          "YZIIII",
          "IYZIII",
          "IIYZII",
          "IIIYZI",
          "IIIIYZ",
          "ZXIIII",
          "IZXIII",
          "IIZXII",
          "IIIZXI",
          "IIIIZX",
          "ZYIIII",
          "IZYIII",
          "IIZYII",
          "IIIZYI",
          "IIIIZY",
          "ZZIIII",
          "IZZIII",
          "IIZZII",
          "IIIZZI",
          "IIIIZZ",
          "XIXIII",
          "IXIXII",
          "IIXIXI",
          "IIIXIX",
          "XXXIII",
          "IXXXII",
          "IIXXXI",
          "IIIXXX",
          "XYXIII",
          "IXYXII",
          "IIXYXI",
          "IIIXYX",
          "XZXIII",
          "IXZXII",
          "IIXZXI",
          "IIIXZX",
          "XIYIII",
          "IXIYII",
          "IIXIYI",
          "IIIXIY",
          "XXYIII",
          "IXXYII",
          "IIXXYI",
          "IIIXXY",
          "XYYIII",
          "IXYYII",
          "IIXYYI",
          "IIIXYY",
          "XZYIII",
          "IXZYII",
          "IIXZYI",
          "IIIXZY",
          "XIZIII",
          "IXIZII",
          "IIXIZI",
          "IIIXIZ",
          "XXZIII",
          "IXXZII",
          "IIXXZI",
          "IIIXXZ",
          "XYZIII",
          "IXYZII",
          "IIXYZI",
          "IIIXYZ",
          "XZZIII",
          "IXZZII",
          "IIXZZI",
          "IIIXZZ",
          "YIXIII",
          "IYIXII",
          "IIYIXI",
          "IIIYIX",
          "YXXIII",
          "IYXXII",
          "IIYXXI",
          "IIIYXX",
          "YYXIII",
          "IYYXII",
          "IIYYXI",
          "IIIYYX",
          "YZXIII",
          "IYZXII",
          "IIYZXI",
          "IIIYZX",
          "YIYIII",
          "IYIYII",
          "IIYIYI",
          "IIIYIY",
          "YXYIII",
          "IYXYII",
          "IIYXYI",
          "IIIYXY",
          "YYYIII",
          "IYYYII",
          "IIYYYI",
          "IIIYYY",
          "YZYIII",
          "IYZYII",
          "IIYZYI",
          "IIIYZY",
          "YIZIII",
          "IYIZII",
          "IIYIZI",
          "IIIYIZ",
          "YXZIII",
          "IYXZII",
          "IIYXZI",
          "IIIYXZ",
          "YYZIII",
          "IYYZII",
          "IIYYZI",
          "IIIYYZ",
          "YZZIII",
          "IYZZII",
          "IIYZZI",
          "IIIYZZ",
          "ZIXIII",
          "IZIXII",
          "IIZIXI",
          "IIIZIX",
          "ZXXIII",
          "IZXXII",
          "IIZXXI",
          "IIIZXX",
          "ZYXIII",
          "IZYXII",
          "IIZYXI",
          "IIIZYX",
          "ZZXIII",
          "IZZXII",
          "IIZZXI",
          "IIIZZX",
          "ZIYIII",
          "IZIYII",
          "IIZIYI",
          "IIIZIY",
          "ZXYIII",
          "IZXYII",
          "IIZXYI",
          "IIIZXY",
          "ZYYIII",
          "IZYYII",
          "IIZYYI",
          "IIIZYY",
          "ZZYIII",
          "IZZYII",
          "IIZZYI",
          "IIIZZY",
          "ZIZIII",
          "IZIZII",
          "IIZIZI",
          "IIIZIZ",
          "ZXZIII",
          "IZXZII",
          "IIZXZI",
          "IIIZXZ",
          "ZYZIII",
          "IZYZII",
          "IIZYZI",
          "IIIZYZ",
          "ZZZIII",
          "IZZZII",
          "IIZZZI",
          "IIIZZZ"
         ],
         "legendgroup": "priorH",
         "marker": {
          "color": "#EF553B",
          "pattern": {
           "shape": ""
          }
         },
         "name": "priorH",
         "offsetgroup": "priorH",
         "orientation": "v",
         "showlegend": true,
         "textposition": "auto",
         "type": "bar",
         "x": [
          0,
          1,
          2,
          3,
          4,
          5,
          6,
          7,
          8,
          9,
          10,
          11,
          12,
          13,
          14,
          15,
          16,
          17,
          18,
          19,
          20,
          21,
          22,
          23,
          24,
          25,
          26,
          27,
          28,
          29,
          30,
          31,
          32,
          33,
          34,
          35,
          36,
          37,
          38,
          39,
          40,
          41,
          42,
          43,
          44,
          45,
          46,
          47,
          48,
          49,
          50,
          51,
          52,
          53,
          54,
          55,
          56,
          57,
          58,
          59,
          60,
          61,
          62,
          63,
          64,
          65,
          66,
          67,
          68,
          69,
          70,
          71,
          72,
          73,
          74,
          75,
          76,
          77,
          78,
          79,
          80,
          81,
          82,
          83,
          84,
          85,
          86,
          87,
          88,
          89,
          90,
          91,
          92,
          93,
          94,
          95,
          96,
          97,
          98,
          99,
          100,
          101,
          102,
          103,
          104,
          105,
          106,
          107,
          108,
          109,
          110,
          111,
          112,
          113,
          114,
          115,
          116,
          117,
          118,
          119,
          120,
          121,
          122,
          123,
          124,
          125,
          126,
          127,
          128,
          129,
          130,
          131,
          132,
          133,
          134,
          135,
          136,
          137,
          138,
          139,
          140,
          141,
          142,
          143,
          144,
          145,
          146,
          147,
          148,
          149,
          150,
          151,
          152,
          153,
          154,
          155,
          156,
          157,
          158,
          159,
          160,
          161,
          162,
          163,
          164,
          165,
          166,
          167,
          168,
          169,
          170,
          171,
          172,
          173,
          174,
          175,
          176,
          177,
          178,
          179,
          180,
          181,
          182,
          183,
          184,
          185,
          186,
          187,
          188,
          189,
          190,
          191,
          192,
          193,
          194,
          195,
          196,
          197,
          198,
          199,
          200,
          201,
          202,
          203,
          204,
          205,
          206
         ],
         "xaxis": "x",
         "y": [
          0,
          0,
          0,
          0,
          0,
          0,
          0,
          0,
          0,
          0,
          0,
          0,
          -0.43999999999999995,
          -0.07616402246828759,
          -0.43999999999999995,
          -0.43999999999999995,
          -0.43999999999999995,
          -0.43999999999999995,
          0.10999999999999999,
          0.10999999999999999,
          0.10999999999999999,
          0.10999999999999999,
          0.10999999999999999,
          0,
          0,
          0,
          0,
          0,
          0,
          0,
          0,
          0,
          0,
          0,
          0,
          0,
          0,
          0,
          0.10999999999999999,
          0.10999999999999999,
          0.10999999999999999,
          0.10999999999999999,
          0.10999999999999999,
          0,
          0,
          0,
          0,
          0,
          0,
          0,
          0,
          0,
          0,
          0,
          0,
          0,
          0,
          0,
          0.10999999999999999,
          0.10999999999999999,
          0.10999999999999999,
          0.10999999999999999,
          0.10999999999999999,
          0,
          0,
          0,
          0,
          0,
          0,
          0,
          0,
          0,
          0,
          0,
          0,
          0,
          0,
          0,
          0,
          0,
          0,
          0,
          0,
          0,
          0,
          0,
          0,
          0,
          0,
          0,
          0,
          0,
          0,
          0,
          0,
          0,
          0,
          0,
          0,
          0,
          0,
          0,
          0,
          0,
          0,
          0,
          0,
          0,
          0,
          0,
          0,
          0,
          0,
          0,
          0,
          0,
          0,
          0,
          0,
          0,
          0,
          0,
          0,
          0,
          0,
          0,
          0,
          0,
          0,
          0,
          0,
          0,
          0,
          0,
          0,
          0,
          0,
          0,
          0,
          0,
          0,
          0,
          0,
          0,
          0,
          0,
          0,
          0,
          0,
          0,
          0,
          0,
          0,
          0,
          0,
          0,
          0,
          0,
          0,
          0,
          0,
          0,
          0,
          0,
          0,
          0,
          0,
          0,
          0,
          0,
          0,
          0,
          0,
          0,
          0,
          0,
          0,
          0,
          0,
          0,
          0,
          0,
          0,
          0,
          0,
          0,
          0,
          0,
          0,
          0,
          0,
          0,
          0,
          0,
          0,
          0,
          0,
          0,
          0,
          0,
          0,
          0,
          0,
          0,
          0,
          0,
          0
         ],
         "yaxis": "y"
        }
       ],
       "layout": {
        "barmode": "group",
        "font": {
         "color": "black",
         "size": 18
        },
        "legend": {
         "title": {
          "text": ""
         },
         "tracegroupgap": 0
        },
        "margin": {
         "t": 60
        },
        "template": {
         "data": {
          "bar": [
           {
            "error_x": {
             "color": "#2a3f5f"
            },
            "error_y": {
             "color": "#2a3f5f"
            },
            "marker": {
             "line": {
              "color": "#E5ECF6",
              "width": 0.5
             },
             "pattern": {
              "fillmode": "overlay",
              "size": 10,
              "solidity": 0.2
             }
            },
            "type": "bar"
           }
          ],
          "barpolar": [
           {
            "marker": {
             "line": {
              "color": "#E5ECF6",
              "width": 0.5
             },
             "pattern": {
              "fillmode": "overlay",
              "size": 10,
              "solidity": 0.2
             }
            },
            "type": "barpolar"
           }
          ],
          "carpet": [
           {
            "aaxis": {
             "endlinecolor": "#2a3f5f",
             "gridcolor": "white",
             "linecolor": "white",
             "minorgridcolor": "white",
             "startlinecolor": "#2a3f5f"
            },
            "baxis": {
             "endlinecolor": "#2a3f5f",
             "gridcolor": "white",
             "linecolor": "white",
             "minorgridcolor": "white",
             "startlinecolor": "#2a3f5f"
            },
            "type": "carpet"
           }
          ],
          "choropleth": [
           {
            "colorbar": {
             "outlinewidth": 0,
             "ticks": ""
            },
            "type": "choropleth"
           }
          ],
          "contour": [
           {
            "colorbar": {
             "outlinewidth": 0,
             "ticks": ""
            },
            "colorscale": [
             [
              0,
              "#0d0887"
             ],
             [
              0.1111111111111111,
              "#46039f"
             ],
             [
              0.2222222222222222,
              "#7201a8"
             ],
             [
              0.3333333333333333,
              "#9c179e"
             ],
             [
              0.4444444444444444,
              "#bd3786"
             ],
             [
              0.5555555555555556,
              "#d8576b"
             ],
             [
              0.6666666666666666,
              "#ed7953"
             ],
             [
              0.7777777777777778,
              "#fb9f3a"
             ],
             [
              0.8888888888888888,
              "#fdca26"
             ],
             [
              1,
              "#f0f921"
             ]
            ],
            "type": "contour"
           }
          ],
          "contourcarpet": [
           {
            "colorbar": {
             "outlinewidth": 0,
             "ticks": ""
            },
            "type": "contourcarpet"
           }
          ],
          "heatmap": [
           {
            "colorbar": {
             "outlinewidth": 0,
             "ticks": ""
            },
            "colorscale": [
             [
              0,
              "#0d0887"
             ],
             [
              0.1111111111111111,
              "#46039f"
             ],
             [
              0.2222222222222222,
              "#7201a8"
             ],
             [
              0.3333333333333333,
              "#9c179e"
             ],
             [
              0.4444444444444444,
              "#bd3786"
             ],
             [
              0.5555555555555556,
              "#d8576b"
             ],
             [
              0.6666666666666666,
              "#ed7953"
             ],
             [
              0.7777777777777778,
              "#fb9f3a"
             ],
             [
              0.8888888888888888,
              "#fdca26"
             ],
             [
              1,
              "#f0f921"
             ]
            ],
            "type": "heatmap"
           }
          ],
          "heatmapgl": [
           {
            "colorbar": {
             "outlinewidth": 0,
             "ticks": ""
            },
            "colorscale": [
             [
              0,
              "#0d0887"
             ],
             [
              0.1111111111111111,
              "#46039f"
             ],
             [
              0.2222222222222222,
              "#7201a8"
             ],
             [
              0.3333333333333333,
              "#9c179e"
             ],
             [
              0.4444444444444444,
              "#bd3786"
             ],
             [
              0.5555555555555556,
              "#d8576b"
             ],
             [
              0.6666666666666666,
              "#ed7953"
             ],
             [
              0.7777777777777778,
              "#fb9f3a"
             ],
             [
              0.8888888888888888,
              "#fdca26"
             ],
             [
              1,
              "#f0f921"
             ]
            ],
            "type": "heatmapgl"
           }
          ],
          "histogram": [
           {
            "marker": {
             "pattern": {
              "fillmode": "overlay",
              "size": 10,
              "solidity": 0.2
             }
            },
            "type": "histogram"
           }
          ],
          "histogram2d": [
           {
            "colorbar": {
             "outlinewidth": 0,
             "ticks": ""
            },
            "colorscale": [
             [
              0,
              "#0d0887"
             ],
             [
              0.1111111111111111,
              "#46039f"
             ],
             [
              0.2222222222222222,
              "#7201a8"
             ],
             [
              0.3333333333333333,
              "#9c179e"
             ],
             [
              0.4444444444444444,
              "#bd3786"
             ],
             [
              0.5555555555555556,
              "#d8576b"
             ],
             [
              0.6666666666666666,
              "#ed7953"
             ],
             [
              0.7777777777777778,
              "#fb9f3a"
             ],
             [
              0.8888888888888888,
              "#fdca26"
             ],
             [
              1,
              "#f0f921"
             ]
            ],
            "type": "histogram2d"
           }
          ],
          "histogram2dcontour": [
           {
            "colorbar": {
             "outlinewidth": 0,
             "ticks": ""
            },
            "colorscale": [
             [
              0,
              "#0d0887"
             ],
             [
              0.1111111111111111,
              "#46039f"
             ],
             [
              0.2222222222222222,
              "#7201a8"
             ],
             [
              0.3333333333333333,
              "#9c179e"
             ],
             [
              0.4444444444444444,
              "#bd3786"
             ],
             [
              0.5555555555555556,
              "#d8576b"
             ],
             [
              0.6666666666666666,
              "#ed7953"
             ],
             [
              0.7777777777777778,
              "#fb9f3a"
             ],
             [
              0.8888888888888888,
              "#fdca26"
             ],
             [
              1,
              "#f0f921"
             ]
            ],
            "type": "histogram2dcontour"
           }
          ],
          "mesh3d": [
           {
            "colorbar": {
             "outlinewidth": 0,
             "ticks": ""
            },
            "type": "mesh3d"
           }
          ],
          "parcoords": [
           {
            "line": {
             "colorbar": {
              "outlinewidth": 0,
              "ticks": ""
             }
            },
            "type": "parcoords"
           }
          ],
          "pie": [
           {
            "automargin": true,
            "type": "pie"
           }
          ],
          "scatter": [
           {
            "fillpattern": {
             "fillmode": "overlay",
             "size": 10,
             "solidity": 0.2
            },
            "type": "scatter"
           }
          ],
          "scatter3d": [
           {
            "line": {
             "colorbar": {
              "outlinewidth": 0,
              "ticks": ""
             }
            },
            "marker": {
             "colorbar": {
              "outlinewidth": 0,
              "ticks": ""
             }
            },
            "type": "scatter3d"
           }
          ],
          "scattercarpet": [
           {
            "marker": {
             "colorbar": {
              "outlinewidth": 0,
              "ticks": ""
             }
            },
            "type": "scattercarpet"
           }
          ],
          "scattergeo": [
           {
            "marker": {
             "colorbar": {
              "outlinewidth": 0,
              "ticks": ""
             }
            },
            "type": "scattergeo"
           }
          ],
          "scattergl": [
           {
            "marker": {
             "colorbar": {
              "outlinewidth": 0,
              "ticks": ""
             }
            },
            "type": "scattergl"
           }
          ],
          "scattermapbox": [
           {
            "marker": {
             "colorbar": {
              "outlinewidth": 0,
              "ticks": ""
             }
            },
            "type": "scattermapbox"
           }
          ],
          "scatterpolar": [
           {
            "marker": {
             "colorbar": {
              "outlinewidth": 0,
              "ticks": ""
             }
            },
            "type": "scatterpolar"
           }
          ],
          "scatterpolargl": [
           {
            "marker": {
             "colorbar": {
              "outlinewidth": 0,
              "ticks": ""
             }
            },
            "type": "scatterpolargl"
           }
          ],
          "scatterternary": [
           {
            "marker": {
             "colorbar": {
              "outlinewidth": 0,
              "ticks": ""
             }
            },
            "type": "scatterternary"
           }
          ],
          "surface": [
           {
            "colorbar": {
             "outlinewidth": 0,
             "ticks": ""
            },
            "colorscale": [
             [
              0,
              "#0d0887"
             ],
             [
              0.1111111111111111,
              "#46039f"
             ],
             [
              0.2222222222222222,
              "#7201a8"
             ],
             [
              0.3333333333333333,
              "#9c179e"
             ],
             [
              0.4444444444444444,
              "#bd3786"
             ],
             [
              0.5555555555555556,
              "#d8576b"
             ],
             [
              0.6666666666666666,
              "#ed7953"
             ],
             [
              0.7777777777777778,
              "#fb9f3a"
             ],
             [
              0.8888888888888888,
              "#fdca26"
             ],
             [
              1,
              "#f0f921"
             ]
            ],
            "type": "surface"
           }
          ],
          "table": [
           {
            "cells": {
             "fill": {
              "color": "#EBF0F8"
             },
             "line": {
              "color": "white"
             }
            },
            "header": {
             "fill": {
              "color": "#C8D4E3"
             },
             "line": {
              "color": "white"
             }
            },
            "type": "table"
           }
          ]
         },
         "layout": {
          "annotationdefaults": {
           "arrowcolor": "#2a3f5f",
           "arrowhead": 0,
           "arrowwidth": 1
          },
          "autotypenumbers": "strict",
          "coloraxis": {
           "colorbar": {
            "outlinewidth": 0,
            "ticks": ""
           }
          },
          "colorscale": {
           "diverging": [
            [
             0,
             "#8e0152"
            ],
            [
             0.1,
             "#c51b7d"
            ],
            [
             0.2,
             "#de77ae"
            ],
            [
             0.3,
             "#f1b6da"
            ],
            [
             0.4,
             "#fde0ef"
            ],
            [
             0.5,
             "#f7f7f7"
            ],
            [
             0.6,
             "#e6f5d0"
            ],
            [
             0.7,
             "#b8e186"
            ],
            [
             0.8,
             "#7fbc41"
            ],
            [
             0.9,
             "#4d9221"
            ],
            [
             1,
             "#276419"
            ]
           ],
           "sequential": [
            [
             0,
             "#0d0887"
            ],
            [
             0.1111111111111111,
             "#46039f"
            ],
            [
             0.2222222222222222,
             "#7201a8"
            ],
            [
             0.3333333333333333,
             "#9c179e"
            ],
            [
             0.4444444444444444,
             "#bd3786"
            ],
            [
             0.5555555555555556,
             "#d8576b"
            ],
            [
             0.6666666666666666,
             "#ed7953"
            ],
            [
             0.7777777777777778,
             "#fb9f3a"
            ],
            [
             0.8888888888888888,
             "#fdca26"
            ],
            [
             1,
             "#f0f921"
            ]
           ],
           "sequentialminus": [
            [
             0,
             "#0d0887"
            ],
            [
             0.1111111111111111,
             "#46039f"
            ],
            [
             0.2222222222222222,
             "#7201a8"
            ],
            [
             0.3333333333333333,
             "#9c179e"
            ],
            [
             0.4444444444444444,
             "#bd3786"
            ],
            [
             0.5555555555555556,
             "#d8576b"
            ],
            [
             0.6666666666666666,
             "#ed7953"
            ],
            [
             0.7777777777777778,
             "#fb9f3a"
            ],
            [
             0.8888888888888888,
             "#fdca26"
            ],
            [
             1,
             "#f0f921"
            ]
           ]
          },
          "colorway": [
           "#636efa",
           "#EF553B",
           "#00cc96",
           "#ab63fa",
           "#FFA15A",
           "#19d3f3",
           "#FF6692",
           "#B6E880",
           "#FF97FF",
           "#FECB52"
          ],
          "font": {
           "color": "#2a3f5f"
          },
          "geo": {
           "bgcolor": "white",
           "lakecolor": "white",
           "landcolor": "#E5ECF6",
           "showlakes": true,
           "showland": true,
           "subunitcolor": "white"
          },
          "hoverlabel": {
           "align": "left"
          },
          "hovermode": "closest",
          "mapbox": {
           "style": "light"
          },
          "paper_bgcolor": "white",
          "plot_bgcolor": "#E5ECF6",
          "polar": {
           "angularaxis": {
            "gridcolor": "white",
            "linecolor": "white",
            "ticks": ""
           },
           "bgcolor": "#E5ECF6",
           "radialaxis": {
            "gridcolor": "white",
            "linecolor": "white",
            "ticks": ""
           }
          },
          "scene": {
           "xaxis": {
            "backgroundcolor": "#E5ECF6",
            "gridcolor": "white",
            "gridwidth": 2,
            "linecolor": "white",
            "showbackground": true,
            "ticks": "",
            "zerolinecolor": "white"
           },
           "yaxis": {
            "backgroundcolor": "#E5ECF6",
            "gridcolor": "white",
            "gridwidth": 2,
            "linecolor": "white",
            "showbackground": true,
            "ticks": "",
            "zerolinecolor": "white"
           },
           "zaxis": {
            "backgroundcolor": "#E5ECF6",
            "gridcolor": "white",
            "gridwidth": 2,
            "linecolor": "white",
            "showbackground": true,
            "ticks": "",
            "zerolinecolor": "white"
           }
          },
          "shapedefaults": {
           "line": {
            "color": "#2a3f5f"
           }
          },
          "ternary": {
           "aaxis": {
            "gridcolor": "white",
            "linecolor": "white",
            "ticks": ""
           },
           "baxis": {
            "gridcolor": "white",
            "linecolor": "white",
            "ticks": ""
           },
           "bgcolor": "#E5ECF6",
           "caxis": {
            "gridcolor": "white",
            "linecolor": "white",
            "ticks": ""
           }
          },
          "title": {
           "x": 0.05
          },
          "xaxis": {
           "automargin": true,
           "gridcolor": "white",
           "linecolor": "white",
           "ticks": "",
           "title": {
            "standoff": 15
           },
           "zerolinecolor": "white",
           "zerolinewidth": 2
          },
          "yaxis": {
           "automargin": true,
           "gridcolor": "white",
           "linecolor": "white",
           "ticks": "",
           "title": {
            "standoff": 15
           },
           "zerolinecolor": "white",
           "zerolinewidth": 2
          }
         }
        },
        "title": {
         "text": "Preparation Hamiltonian"
        },
        "xaxis": {
         "anchor": "y",
         "domain": [
          0,
          1
         ],
         "showgrid": true,
         "ticklen": 5,
         "ticks": "outside",
         "ticktext": [
          "1-local",
          "2-local",
          "3-local"
         ],
         "tickvals": [
          -0.5,
          17.5,
          62.5
         ],
         "title": {
          "text": "Pauli Basis"
         }
        },
        "yaxis": {
         "anchor": "x",
         "domain": [
          0,
          1
         ],
         "title": {
          "text": "Coefficient"
         }
        }
       }
      }
     },
     "metadata": {},
     "output_type": "display_data"
    },
    {
     "data": {
      "image/png": "[encoded data removed]",
      "text/plain": [
       "<Figure size 640x480 with 1 Axes>"
      ]
     },
     "metadata": {},
     "output_type": "display_data"
    }
   ],
   "source": [
    "index = 1\n",
    "plt.stairs(gibbsresults[index].cfaulties[-1])\n",
    "plt.stairs(gibbsresults[index].coriginal*gibbsresults[index].betas[-1])\n",
    "preparation(gibbsresults[3])"
   ]
  },
  {
   "cell_type": "code",
   "execution_count": 14,
   "metadata": {},
   "outputs": [],
   "source": [
    "# num_qubits = 5\n",
    "# cmat_factory=ConstraintMatrixFactory(num_qubits,2,3,False)\n",
    "# c_original_prior = np.zeros(cmat_factory.learning_basis.size)\n",
    "# c_original_prior[:5] = -1\n",
    "# c_original_prior[30:35] = 0.25\n",
    "# c_original_prior[45:50] = 0.25\n",
    "# c_original_prior[65:70] = 0.25\n",
    "# control_fields = [np.zeros(cmat_factory.learning_basis.size)]\n",
    "# for i in range(10):\n",
    "#     cf = np.zeros(cmat_factory.learning_basis.size);cf[i*5] = 0.3\n",
    "#     control_fields.append(cf)\n",
    "\n",
    "# prior_std = 5e-2\n",
    "# prior_cfield_std = 1e-4\n",
    "# c_preparation = c_original_prior + np.random.normal(0,prior_std,c_original_prior.shape)\n",
    "# control_fields_noisy = [v+np.random.normal(0,prior_cfield_std,c_original_prior.shape) for v in control_fields]\n",
    "\n",
    "# states = [simple_purify_hamiltonian((c_preparation+v_noisy,cmat_factory.learning_basis),noise=0) for v_noisy in control_fields_noisy]\n",
    "\n",
    "# shots = 1e5\n",
    "# initial_arguments = {\n",
    "#     \"states\":states,\n",
    "#     \"control_fields\": control_fields,\n",
    "#     \"cmat_factory\": cmat_factory,\n",
    "#     \"prior_mean\": c_original_prior,\n",
    "#     \"prior_covariance\": prior_std**2,\n",
    "#     \"prior_cfield_std\": 1e-8,\n",
    "#     \"shots\": shots,\n",
    "#     }\n",
    "# bl = BayesianLearning(**initial_arguments)"
   ]
  },
  {
   "cell_type": "code",
   "execution_count": 4,
   "metadata": {},
   "outputs": [
    {
     "name": "stdout",
     "output_type": "stream",
     "text": [
      "We get control noise and preparation noise of 2.594e-01 and 1.905e-02 respectively.\n"
     ]
    }
   ],
   "source": [
    "timestep = -1\n",
    "c_original_prior = gibbsresults[0].coriginal*gibbsresults[0].betas[timestep]\n",
    "states = [g.state_ansatz(timestep) for g in gibbsresults]\n",
    "control_fields = [g.coriginal-gibbsresults[0].coriginal for g in gibbsresults]\n",
    "control_error_vectors = [np.real((r.cfaulties[timestep]-gibbsresults[0].cfaulties[timestep]) - (r.coriginal - c_original_prior)) for r in gibbsresults]\n",
    "control_noise=np.concatenate(control_error_vectors)\n",
    "control_noise = control_noise[control_noise>1e-8]\n",
    "control_noise = np.std(control_noise)\n",
    "prep_noise = np.std(gibbsresults[0].cfaulties[timestep]-c_original_prior)\n",
    "print(f\"We get control noise and preparation noise of {control_noise:.3e} and {prep_noise:.3e} respectively.\")\n",
    "\n",
    "cmat_factory=ConstraintMatrixFactory(gibbsresults[0].num_qubits,3,4,False)\n",
    "shots = 1e4\n",
    "initial_arguments = {\n",
    "    \"states\":states,\n",
    "    \"control_fields\": [c[:cmat_factory.learning_basis.size] for c in control_fields],\n",
    "    \"cmat_factory\": cmat_factory,\n",
    "    \"prior_mean\": c_original_prior[:cmat_factory.learning_basis.size],\n",
    "    \"prior_covariance\": 1e-1,\n",
    "    \"prior_cfield_std\": 1e-2,\n",
    "    \"shots\": shots,\n",
    "    }\n",
    "bl = BayesianLearning(**initial_arguments)"
   ]
  },
  {
   "cell_type": "code",
   "execution_count": 6,
   "metadata": {},
   "outputs": [
    {
     "data": {
      "text/plain": [
       "<matplotlib.patches.StepPatch at 0x7f9295c67e50>"
      ]
     },
     "execution_count": 6,
     "metadata": {},
     "output_type": "execute_result"
    },
    {
     "data": {
      "image/png": "[encoded data removed]",
      "text/plain": [
       "<Figure size 640x480 with 1 Axes>"
      ]
     },
     "metadata": {},
     "output_type": "display_data"
    }
   ],
   "source": [
    "plt.stairs(c_original_prior)\n",
    "plt.stairs(gibbsresults[0].cfaulties[timestep])\n",
    "# plt.stairs(c_preparation)"
   ]
  },
  {
   "cell_type": "code",
   "execution_count": 17,
   "metadata": {},
   "outputs": [],
   "source": [
    "K = bl.constraint_matrix(0)\n",
    "E = bl.error_matrix(0)"
   ]
  },
  {
   "cell_type": "code",
   "execution_count": 18,
   "metadata": {},
   "outputs": [
    {
     "name": "stdout",
     "output_type": "stream",
     "text": [
      "[-0.97013965 -0.93666096 -0.92164284 -1.04402373 -0.99694987  0.05774634\n",
      " -0.02693479 -0.0355486  -0.01033989 -0.01907965 -0.06252226  0.06166062\n",
      " -0.05668474  0.06314653  0.05785561  0.07483794 -0.02910444  0.07070758\n",
      "  0.00661928 -0.06881409  0.03014325 -0.02766034 -0.09204137  0.01462254\n",
      " -0.06336768  0.03455601 -0.08035578 -0.06564449 -0.02129735  0.08696138\n",
      "  0.33616464  0.24039768  0.28251426  0.35119217  0.25366412  0.17173108\n",
      "  0.04349082  0.00872184  0.01401712 -0.04378301 -0.02176179  0.07894448\n",
      "  0.05123121  0.00673396 -0.08290756  0.18073041  0.2861973   0.27260443\n",
      "  0.14432403  0.30754654 -0.07828665]\n"
     ]
    },
    {
     "data": {
      "text/plain": [
       "<matplotlib.patches.StepPatch at 0x7f01816aeb90>"
      ]
     },
     "execution_count": 18,
     "metadata": {},
     "output_type": "execute_result"
    },
    {
     "data": {
      "image/png": "[encoded data removed]",
      "text/plain": [
       "<Figure size 640x480 with 1 Axes>"
      ]
     },
     "metadata": {},
     "output_type": "display_data"
    }
   ],
   "source": [
    "s,v = spectral_dec(K)\n",
    "can = candidate(v[-1],c_original_prior)\n",
    "print(can)\n",
    "plt.stairs(can)\n",
    "plt.stairs(c_preparation)"
   ]
  },
  {
   "cell_type": "code",
   "execution_count": 19,
   "metadata": {},
   "outputs": [
    {
     "name": "stdout",
     "output_type": "stream",
     "text": [
      "(159, 51) (159, 51, 447) 51\n",
      "51 (51,)\n"
     ]
    }
   ],
   "source": [
    "print(K.shape,E.shape,bl.size)\n",
    "print(bl.size,bl.control_fields[0].shape)"
   ]
  },
  {
   "cell_type": "code",
   "execution_count": 20,
   "metadata": {},
   "outputs": [
    {
     "name": "stdout",
     "output_type": "stream",
     "text": [
      "48.7 ms ± 13.3 ms per loop (mean ± std. dev. of 7 runs, 10 loops each)\n",
      "(204,)\n"
     ]
    }
   ],
   "source": [
    "cost_fun,x0 = bl.cost_function([0,1,2])\n",
    "%timeit cost_fun(x0)\n",
    "print(x0.shape)"
   ]
  },
  {
   "cell_type": "code",
   "execution_count": 21,
   "metadata": {},
   "outputs": [
    {
     "name": "stdout",
     "output_type": "stream",
     "text": [
      "(225042.83960501477, 0.0)\n",
      "(1385.1356839276536, 1834.9811277453737)\n",
      "0.0 3220.1168116730273\n",
      "0.02040816326530612 3175.9049374809947\n"
     ]
    },
    {
     "ename": "KeyboardInterrupt",
     "evalue": "",
     "output_type": "error",
     "traceback": [
      "\u001b[0;31m---------------------------------------------------------------------------\u001b[0m",
      "\u001b[0;31mKeyboardInterrupt\u001b[0m                         Traceback (most recent call last)",
      "Cell \u001b[0;32mIn[21], line 20\u001b[0m\n\u001b[1;32m     17\u001b[0m         cost_best \u001b[39m=\u001b[39m cost_guess\n\u001b[1;32m     18\u001b[0m         \u001b[39mprint\u001b[39m(r,cost_best)\n\u001b[0;32m---> 20\u001b[0m result \u001b[39m=\u001b[39m minimize(cost_fun,x1,options\u001b[39m=\u001b[39;49m{\u001b[39m\"\u001b[39;49m\u001b[39mmaxiter\u001b[39;49m\u001b[39m\"\u001b[39;49m: \u001b[39m1e5\u001b[39;49m, \u001b[39m\"\u001b[39;49m\u001b[39mxrtol\u001b[39;49m\u001b[39m\"\u001b[39;49m: \u001b[39m1e-3\u001b[39;49m, \u001b[39m\"\u001b[39;49m\u001b[39mdisp\u001b[39;49m\u001b[39m\"\u001b[39;49m: \u001b[39mTrue\u001b[39;49;00m},callback\u001b[39m=\u001b[39;49mcallback)\n",
      "File \u001b[0;32m~/python_environements/gibbsvenv/lib64/python3.10/site-packages/scipy/optimize/_minimize.py:691\u001b[0m, in \u001b[0;36mminimize\u001b[0;34m(fun, x0, args, method, jac, hess, hessp, bounds, constraints, tol, callback, options)\u001b[0m\n\u001b[1;32m    689\u001b[0m     res \u001b[39m=\u001b[39m _minimize_cg(fun, x0, args, jac, callback, \u001b[39m*\u001b[39m\u001b[39m*\u001b[39moptions)\n\u001b[1;32m    690\u001b[0m \u001b[39melif\u001b[39;00m meth \u001b[39m==\u001b[39m \u001b[39m'\u001b[39m\u001b[39mbfgs\u001b[39m\u001b[39m'\u001b[39m:\n\u001b[0;32m--> 691\u001b[0m     res \u001b[39m=\u001b[39m _minimize_bfgs(fun, x0, args, jac, callback, \u001b[39m*\u001b[39;49m\u001b[39m*\u001b[39;49moptions)\n\u001b[1;32m    692\u001b[0m \u001b[39melif\u001b[39;00m meth \u001b[39m==\u001b[39m \u001b[39m'\u001b[39m\u001b[39mnewton-cg\u001b[39m\u001b[39m'\u001b[39m:\n\u001b[1;32m    693\u001b[0m     res \u001b[39m=\u001b[39m _minimize_newtoncg(fun, x0, args, jac, hess, hessp, callback,\n\u001b[1;32m    694\u001b[0m                              \u001b[39m*\u001b[39m\u001b[39m*\u001b[39moptions)\n",
      "File \u001b[0;32m~/python_environements/gibbsvenv/lib64/python3.10/site-packages/scipy/optimize/_optimize.py:1388\u001b[0m, in \u001b[0;36m_minimize_bfgs\u001b[0;34m(fun, x0, args, jac, callback, gtol, norm, eps, maxiter, disp, return_all, finite_diff_rel_step, xrtol, **unknown_options)\u001b[0m\n\u001b[1;32m   1385\u001b[0m pk \u001b[39m=\u001b[39m \u001b[39m-\u001b[39mnp\u001b[39m.\u001b[39mdot(Hk, gfk)\n\u001b[1;32m   1386\u001b[0m \u001b[39mtry\u001b[39;00m:\n\u001b[1;32m   1387\u001b[0m     alpha_k, fc, gc, old_fval, old_old_fval, gfkp1 \u001b[39m=\u001b[39m \\\n\u001b[0;32m-> 1388\u001b[0m              _line_search_wolfe12(f, myfprime, xk, pk, gfk,\n\u001b[1;32m   1389\u001b[0m                                   old_fval, old_old_fval, amin\u001b[39m=\u001b[39;49m\u001b[39m1e-100\u001b[39;49m, amax\u001b[39m=\u001b[39;49m\u001b[39m1e100\u001b[39;49m)\n\u001b[1;32m   1390\u001b[0m \u001b[39mexcept\u001b[39;00m _LineSearchError:\n\u001b[1;32m   1391\u001b[0m     \u001b[39m# Line search failed to find a better solution.\u001b[39;00m\n\u001b[1;32m   1392\u001b[0m     warnflag \u001b[39m=\u001b[39m \u001b[39m2\u001b[39m\n",
      "File \u001b[0;32m~/python_environements/gibbsvenv/lib64/python3.10/site-packages/scipy/optimize/_optimize.py:1160\u001b[0m, in \u001b[0;36m_line_search_wolfe12\u001b[0;34m(f, fprime, xk, pk, gfk, old_fval, old_old_fval, **kwargs)\u001b[0m\n\u001b[1;32m   1146\u001b[0m \u001b[39m\u001b[39m\u001b[39m\"\"\"\u001b[39;00m\n\u001b[1;32m   1147\u001b[0m \u001b[39mSame as line_search_wolfe1, but fall back to line_search_wolfe2 if\u001b[39;00m\n\u001b[1;32m   1148\u001b[0m \u001b[39msuitable step length is not found, and raise an exception if a\u001b[39;00m\n\u001b[0;32m   (...)\u001b[0m\n\u001b[1;32m   1155\u001b[0m \n\u001b[1;32m   1156\u001b[0m \u001b[39m\"\"\"\u001b[39;00m\n\u001b[1;32m   1158\u001b[0m extra_condition \u001b[39m=\u001b[39m kwargs\u001b[39m.\u001b[39mpop(\u001b[39m'\u001b[39m\u001b[39mextra_condition\u001b[39m\u001b[39m'\u001b[39m, \u001b[39mNone\u001b[39;00m)\n\u001b[0;32m-> 1160\u001b[0m ret \u001b[39m=\u001b[39m line_search_wolfe1(f, fprime, xk, pk, gfk,\n\u001b[1;32m   1161\u001b[0m                          old_fval, old_old_fval,\n\u001b[1;32m   1162\u001b[0m                          \u001b[39m*\u001b[39;49m\u001b[39m*\u001b[39;49mkwargs)\n\u001b[1;32m   1164\u001b[0m \u001b[39mif\u001b[39;00m ret[\u001b[39m0\u001b[39m] \u001b[39mis\u001b[39;00m \u001b[39mnot\u001b[39;00m \u001b[39mNone\u001b[39;00m \u001b[39mand\u001b[39;00m extra_condition \u001b[39mis\u001b[39;00m \u001b[39mnot\u001b[39;00m \u001b[39mNone\u001b[39;00m:\n\u001b[1;32m   1165\u001b[0m     xp1 \u001b[39m=\u001b[39m xk \u001b[39m+\u001b[39m ret[\u001b[39m0\u001b[39m] \u001b[39m*\u001b[39m pk\n",
      "File \u001b[0;32m~/python_environements/gibbsvenv/lib64/python3.10/site-packages/scipy/optimize/_linesearch.py:84\u001b[0m, in \u001b[0;36mline_search_wolfe1\u001b[0;34m(f, fprime, xk, pk, gfk, old_fval, old_old_fval, args, c1, c2, amax, amin, xtol)\u001b[0m\n\u001b[1;32m     80\u001b[0m     \u001b[39mreturn\u001b[39;00m np\u001b[39m.\u001b[39mdot(gval[\u001b[39m0\u001b[39m], pk)\n\u001b[1;32m     82\u001b[0m derphi0 \u001b[39m=\u001b[39m np\u001b[39m.\u001b[39mdot(gfk, pk)\n\u001b[0;32m---> 84\u001b[0m stp, fval, old_fval \u001b[39m=\u001b[39m scalar_search_wolfe1(\n\u001b[1;32m     85\u001b[0m         phi, derphi, old_fval, old_old_fval, derphi0,\n\u001b[1;32m     86\u001b[0m         c1\u001b[39m=\u001b[39;49mc1, c2\u001b[39m=\u001b[39;49mc2, amax\u001b[39m=\u001b[39;49mamax, amin\u001b[39m=\u001b[39;49mamin, xtol\u001b[39m=\u001b[39;49mxtol)\n\u001b[1;32m     88\u001b[0m \u001b[39mreturn\u001b[39;00m stp, fc[\u001b[39m0\u001b[39m], gc[\u001b[39m0\u001b[39m], fval, old_fval, gval[\u001b[39m0\u001b[39m]\n",
      "File \u001b[0;32m~/python_environements/gibbsvenv/lib64/python3.10/site-packages/scipy/optimize/_linesearch.py:161\u001b[0m, in \u001b[0;36mscalar_search_wolfe1\u001b[0;34m(phi, derphi, phi0, old_phi0, derphi0, c1, c2, amax, amin, xtol)\u001b[0m\n\u001b[1;32m    159\u001b[0m     alpha1 \u001b[39m=\u001b[39m stp\n\u001b[1;32m    160\u001b[0m     phi1 \u001b[39m=\u001b[39m phi(stp)\n\u001b[0;32m--> 161\u001b[0m     derphi1 \u001b[39m=\u001b[39m derphi(stp)\n\u001b[1;32m    162\u001b[0m \u001b[39melse\u001b[39;00m:\n\u001b[1;32m    163\u001b[0m     \u001b[39mbreak\u001b[39;00m\n",
      "File \u001b[0;32m~/python_environements/gibbsvenv/lib64/python3.10/site-packages/scipy/optimize/_linesearch.py:78\u001b[0m, in \u001b[0;36mline_search_wolfe1.<locals>.derphi\u001b[0;34m(s)\u001b[0m\n\u001b[1;32m     77\u001b[0m \u001b[39mdef\u001b[39;00m \u001b[39mderphi\u001b[39m(s):\n\u001b[0;32m---> 78\u001b[0m     gval[\u001b[39m0\u001b[39m] \u001b[39m=\u001b[39m fprime(xk \u001b[39m+\u001b[39;49m s\u001b[39m*\u001b[39;49mpk, \u001b[39m*\u001b[39;49margs)\n\u001b[1;32m     79\u001b[0m     gc[\u001b[39m0\u001b[39m] \u001b[39m+\u001b[39m\u001b[39m=\u001b[39m \u001b[39m1\u001b[39m\n\u001b[1;32m     80\u001b[0m     \u001b[39mreturn\u001b[39;00m np\u001b[39m.\u001b[39mdot(gval[\u001b[39m0\u001b[39m], pk)\n",
      "File \u001b[0;32m~/python_environements/gibbsvenv/lib64/python3.10/site-packages/scipy/optimize/_differentiable_functions.py:273\u001b[0m, in \u001b[0;36mScalarFunction.grad\u001b[0;34m(self, x)\u001b[0m\n\u001b[1;32m    271\u001b[0m \u001b[39mif\u001b[39;00m \u001b[39mnot\u001b[39;00m np\u001b[39m.\u001b[39marray_equal(x, \u001b[39mself\u001b[39m\u001b[39m.\u001b[39mx):\n\u001b[1;32m    272\u001b[0m     \u001b[39mself\u001b[39m\u001b[39m.\u001b[39m_update_x_impl(x)\n\u001b[0;32m--> 273\u001b[0m \u001b[39mself\u001b[39;49m\u001b[39m.\u001b[39;49m_update_grad()\n\u001b[1;32m    274\u001b[0m \u001b[39mreturn\u001b[39;00m \u001b[39mself\u001b[39m\u001b[39m.\u001b[39mg\n",
      "File \u001b[0;32m~/python_environements/gibbsvenv/lib64/python3.10/site-packages/scipy/optimize/_differentiable_functions.py:256\u001b[0m, in \u001b[0;36mScalarFunction._update_grad\u001b[0;34m(self)\u001b[0m\n\u001b[1;32m    254\u001b[0m \u001b[39mdef\u001b[39;00m \u001b[39m_update_grad\u001b[39m(\u001b[39mself\u001b[39m):\n\u001b[1;32m    255\u001b[0m     \u001b[39mif\u001b[39;00m \u001b[39mnot\u001b[39;00m \u001b[39mself\u001b[39m\u001b[39m.\u001b[39mg_updated:\n\u001b[0;32m--> 256\u001b[0m         \u001b[39mself\u001b[39;49m\u001b[39m.\u001b[39;49m_update_grad_impl()\n\u001b[1;32m    257\u001b[0m         \u001b[39mself\u001b[39m\u001b[39m.\u001b[39mg_updated \u001b[39m=\u001b[39m \u001b[39mTrue\u001b[39;00m\n",
      "File \u001b[0;32m~/python_environements/gibbsvenv/lib64/python3.10/site-packages/scipy/optimize/_differentiable_functions.py:173\u001b[0m, in \u001b[0;36mScalarFunction.__init__.<locals>.update_grad\u001b[0;34m()\u001b[0m\n\u001b[1;32m    171\u001b[0m \u001b[39mself\u001b[39m\u001b[39m.\u001b[39m_update_fun()\n\u001b[1;32m    172\u001b[0m \u001b[39mself\u001b[39m\u001b[39m.\u001b[39mngev \u001b[39m+\u001b[39m\u001b[39m=\u001b[39m \u001b[39m1\u001b[39m\n\u001b[0;32m--> 173\u001b[0m \u001b[39mself\u001b[39m\u001b[39m.\u001b[39mg \u001b[39m=\u001b[39m approx_derivative(fun_wrapped, \u001b[39mself\u001b[39;49m\u001b[39m.\u001b[39;49mx, f0\u001b[39m=\u001b[39;49m\u001b[39mself\u001b[39;49m\u001b[39m.\u001b[39;49mf,\n\u001b[1;32m    174\u001b[0m                            \u001b[39m*\u001b[39;49m\u001b[39m*\u001b[39;49mfinite_diff_options)\n",
      "File \u001b[0;32m~/python_environements/gibbsvenv/lib64/python3.10/site-packages/scipy/optimize/_numdiff.py:505\u001b[0m, in \u001b[0;36mapprox_derivative\u001b[0;34m(fun, x0, method, rel_step, abs_step, f0, bounds, sparsity, as_linear_operator, args, kwargs)\u001b[0m\n\u001b[1;32m    502\u001b[0m     use_one_sided \u001b[39m=\u001b[39m \u001b[39mFalse\u001b[39;00m\n\u001b[1;32m    504\u001b[0m \u001b[39mif\u001b[39;00m sparsity \u001b[39mis\u001b[39;00m \u001b[39mNone\u001b[39;00m:\n\u001b[0;32m--> 505\u001b[0m     \u001b[39mreturn\u001b[39;00m _dense_difference(fun_wrapped, x0, f0, h,\n\u001b[1;32m    506\u001b[0m                              use_one_sided, method)\n\u001b[1;32m    507\u001b[0m \u001b[39melse\u001b[39;00m:\n\u001b[1;32m    508\u001b[0m     \u001b[39mif\u001b[39;00m \u001b[39mnot\u001b[39;00m issparse(sparsity) \u001b[39mand\u001b[39;00m \u001b[39mlen\u001b[39m(sparsity) \u001b[39m==\u001b[39m \u001b[39m2\u001b[39m:\n",
      "File \u001b[0;32m~/python_environements/gibbsvenv/lib64/python3.10/site-packages/scipy/optimize/_numdiff.py:576\u001b[0m, in \u001b[0;36m_dense_difference\u001b[0;34m(fun, x0, f0, h, use_one_sided, method)\u001b[0m\n\u001b[1;32m    574\u001b[0m     x \u001b[39m=\u001b[39m x0 \u001b[39m+\u001b[39m h_vecs[i]\n\u001b[1;32m    575\u001b[0m     dx \u001b[39m=\u001b[39m x[i] \u001b[39m-\u001b[39m x0[i]  \u001b[39m# Recompute dx as exactly representable number.\u001b[39;00m\n\u001b[0;32m--> 576\u001b[0m     df \u001b[39m=\u001b[39m fun(x) \u001b[39m-\u001b[39m f0\n\u001b[1;32m    577\u001b[0m \u001b[39melif\u001b[39;00m method \u001b[39m==\u001b[39m \u001b[39m'\u001b[39m\u001b[39m3-point\u001b[39m\u001b[39m'\u001b[39m \u001b[39mand\u001b[39;00m use_one_sided[i]:\n\u001b[1;32m    578\u001b[0m     x1 \u001b[39m=\u001b[39m x0 \u001b[39m+\u001b[39m h_vecs[i]\n",
      "File \u001b[0;32m~/python_environements/gibbsvenv/lib64/python3.10/site-packages/scipy/optimize/_numdiff.py:456\u001b[0m, in \u001b[0;36mapprox_derivative.<locals>.fun_wrapped\u001b[0;34m(x)\u001b[0m\n\u001b[1;32m    455\u001b[0m \u001b[39mdef\u001b[39;00m \u001b[39mfun_wrapped\u001b[39m(x):\n\u001b[0;32m--> 456\u001b[0m     f \u001b[39m=\u001b[39m np\u001b[39m.\u001b[39matleast_1d(fun(x, \u001b[39m*\u001b[39;49margs, \u001b[39m*\u001b[39;49m\u001b[39m*\u001b[39;49mkwargs))\n\u001b[1;32m    457\u001b[0m     \u001b[39mif\u001b[39;00m f\u001b[39m.\u001b[39mndim \u001b[39m>\u001b[39m \u001b[39m1\u001b[39m:\n\u001b[1;32m    458\u001b[0m         \u001b[39mraise\u001b[39;00m \u001b[39mRuntimeError\u001b[39;00m(\u001b[39m\"\u001b[39m\u001b[39m`fun` return value has \u001b[39m\u001b[39m\"\u001b[39m\n\u001b[1;32m    459\u001b[0m                            \u001b[39m\"\u001b[39m\u001b[39mmore than 1 dimension.\u001b[39m\u001b[39m\"\u001b[39m)\n",
      "File \u001b[0;32m~/python_environements/gibbsvenv/lib64/python3.10/site-packages/scipy/optimize/_differentiable_functions.py:137\u001b[0m, in \u001b[0;36mScalarFunction.__init__.<locals>.fun_wrapped\u001b[0;34m(x)\u001b[0m\n\u001b[1;32m    133\u001b[0m \u001b[39mself\u001b[39m\u001b[39m.\u001b[39mnfev \u001b[39m+\u001b[39m\u001b[39m=\u001b[39m \u001b[39m1\u001b[39m\n\u001b[1;32m    134\u001b[0m \u001b[39m# Send a copy because the user may overwrite it.\u001b[39;00m\n\u001b[1;32m    135\u001b[0m \u001b[39m# Overwriting results in undefined behaviour because\u001b[39;00m\n\u001b[1;32m    136\u001b[0m \u001b[39m# fun(self.x) will change self.x, with the two no longer linked.\u001b[39;00m\n\u001b[0;32m--> 137\u001b[0m fx \u001b[39m=\u001b[39m fun(np\u001b[39m.\u001b[39;49mcopy(x), \u001b[39m*\u001b[39;49margs)\n\u001b[1;32m    138\u001b[0m \u001b[39m# Make sure the function returns a true scalar\u001b[39;00m\n\u001b[1;32m    139\u001b[0m \u001b[39mif\u001b[39;00m \u001b[39mnot\u001b[39;00m np\u001b[39m.\u001b[39misscalar(fx):\n",
      "File \u001b[0;32m~/GH/Julien/gibbs_code/gibbs/learning/bayesian_learning_v2.py:138\u001b[0m, in \u001b[0;36mBayesianLearning.cost_function.<locals>.cost_fun\u001b[0;34m(x)\u001b[0m\n\u001b[1;32m    136\u001b[0m \u001b[39mdef\u001b[39;00m \u001b[39mcost_fun\u001b[39m(x):\n\u001b[1;32m    137\u001b[0m     c_guess, \u001b[39m*\u001b[39mv_guesses \u001b[39m=\u001b[39m np\u001b[39m.\u001b[39msplit(x, \u001b[39mlen\u001b[39m(indices) \u001b[39m+\u001b[39m \u001b[39m1\u001b[39m)\n\u001b[0;32m--> 138\u001b[0m     \u001b[39mreturn\u001b[39;00m \u001b[39mself\u001b[39;49m\u001b[39m.\u001b[39;49m_constraint_term(\n\u001b[1;32m    139\u001b[0m         c_guess, v_guesses, cmats, emats\n\u001b[1;32m    140\u001b[0m     ) \u001b[39m+\u001b[39m \u001b[39mself\u001b[39m\u001b[39m.\u001b[39m_regularization_V2(\n\u001b[1;32m    141\u001b[0m         c_guess, v_guesses, c_prior, v_priors, covmat, v_std\n\u001b[1;32m    142\u001b[0m     )\n",
      "File \u001b[0;32m~/GH/Julien/gibbs_code/gibbs/learning/bayesian_learning_v2.py:76\u001b[0m, in \u001b[0;36mBayesianLearning._constraint_term\u001b[0;34m(c_guess, v_guesses, cmats, emats)\u001b[0m\n\u001b[1;32m     64\u001b[0m epsilons \u001b[39m=\u001b[39m [cmat \u001b[39m@\u001b[39m (c_guess \u001b[39m+\u001b[39m v) \u001b[39mfor\u001b[39;00m cmat, v \u001b[39min\u001b[39;00m \u001b[39mzip\u001b[39m(cmats, v_guesses)]\n\u001b[1;32m     65\u001b[0m gammaseps \u001b[39m=\u001b[39m [\n\u001b[1;32m     66\u001b[0m     np\u001b[39m.\u001b[39meinsum(\n\u001b[1;32m     67\u001b[0m         \u001b[39m\"\u001b[39m\u001b[39mkio,i,j,ljo -> kl\u001b[39m\u001b[39m\"\u001b[39m,\n\u001b[0;32m   (...)\u001b[0m\n\u001b[1;32m     74\u001b[0m     \u001b[39mfor\u001b[39;00m emat, v \u001b[39min\u001b[39;00m \u001b[39mzip\u001b[39m(emats, v_guesses)\n\u001b[1;32m     75\u001b[0m ]\n\u001b[0;32m---> 76\u001b[0m choleskis \u001b[39m=\u001b[39m [cholesky(geps, lower\u001b[39m=\u001b[39m\u001b[39mTrue\u001b[39;00m) \u001b[39mfor\u001b[39;00m geps \u001b[39min\u001b[39;00m gammaseps]\n\u001b[1;32m     77\u001b[0m \u001b[39m# Instead of inverting the cholesky matrix it is easier to solve a system of linear equations.\u001b[39;00m\n\u001b[1;32m     78\u001b[0m vectors \u001b[39m=\u001b[39m [\n\u001b[1;32m     79\u001b[0m     solve_triangular(chol, eps) \u001b[39mfor\u001b[39;00m chol, eps \u001b[39min\u001b[39;00m \u001b[39mzip\u001b[39m(choleskis, epsilons)\n\u001b[1;32m     80\u001b[0m ]\n",
      "File \u001b[0;32m~/GH/Julien/gibbs_code/gibbs/learning/bayesian_learning_v2.py:76\u001b[0m, in \u001b[0;36m<listcomp>\u001b[0;34m(.0)\u001b[0m\n\u001b[1;32m     64\u001b[0m epsilons \u001b[39m=\u001b[39m [cmat \u001b[39m@\u001b[39m (c_guess \u001b[39m+\u001b[39m v) \u001b[39mfor\u001b[39;00m cmat, v \u001b[39min\u001b[39;00m \u001b[39mzip\u001b[39m(cmats, v_guesses)]\n\u001b[1;32m     65\u001b[0m gammaseps \u001b[39m=\u001b[39m [\n\u001b[1;32m     66\u001b[0m     np\u001b[39m.\u001b[39meinsum(\n\u001b[1;32m     67\u001b[0m         \u001b[39m\"\u001b[39m\u001b[39mkio,i,j,ljo -> kl\u001b[39m\u001b[39m\"\u001b[39m,\n\u001b[0;32m   (...)\u001b[0m\n\u001b[1;32m     74\u001b[0m     \u001b[39mfor\u001b[39;00m emat, v \u001b[39min\u001b[39;00m \u001b[39mzip\u001b[39m(emats, v_guesses)\n\u001b[1;32m     75\u001b[0m ]\n\u001b[0;32m---> 76\u001b[0m choleskis \u001b[39m=\u001b[39m [cholesky(geps, lower\u001b[39m=\u001b[39;49m\u001b[39mTrue\u001b[39;49;00m) \u001b[39mfor\u001b[39;00m geps \u001b[39min\u001b[39;00m gammaseps]\n\u001b[1;32m     77\u001b[0m \u001b[39m# Instead of inverting the cholesky matrix it is easier to solve a system of linear equations.\u001b[39;00m\n\u001b[1;32m     78\u001b[0m vectors \u001b[39m=\u001b[39m [\n\u001b[1;32m     79\u001b[0m     solve_triangular(chol, eps) \u001b[39mfor\u001b[39;00m chol, eps \u001b[39min\u001b[39;00m \u001b[39mzip\u001b[39m(choleskis, epsilons)\n\u001b[1;32m     80\u001b[0m ]\n",
      "File \u001b[0;32m~/python_environements/gibbsvenv/lib64/python3.10/site-packages/scipy/linalg/_decomp_cholesky.py:89\u001b[0m, in \u001b[0;36mcholesky\u001b[0;34m(a, lower, overwrite_a, check_finite)\u001b[0m\n\u001b[1;32m     45\u001b[0m \u001b[39mdef\u001b[39;00m \u001b[39mcholesky\u001b[39m(a, lower\u001b[39m=\u001b[39m\u001b[39mFalse\u001b[39;00m, overwrite_a\u001b[39m=\u001b[39m\u001b[39mFalse\u001b[39;00m, check_finite\u001b[39m=\u001b[39m\u001b[39mTrue\u001b[39;00m):\n\u001b[1;32m     46\u001b[0m \u001b[39m    \u001b[39m\u001b[39m\"\"\"\u001b[39;00m\n\u001b[1;32m     47\u001b[0m \u001b[39m    Compute the Cholesky decomposition of a matrix.\u001b[39;00m\n\u001b[1;32m     48\u001b[0m \n\u001b[0;32m   (...)\u001b[0m\n\u001b[1;32m     87\u001b[0m \n\u001b[1;32m     88\u001b[0m \u001b[39m    \"\"\"\u001b[39;00m\n\u001b[0;32m---> 89\u001b[0m     c, lower \u001b[39m=\u001b[39m _cholesky(a, lower\u001b[39m=\u001b[39;49mlower, overwrite_a\u001b[39m=\u001b[39;49moverwrite_a, clean\u001b[39m=\u001b[39;49m\u001b[39mTrue\u001b[39;49;00m,\n\u001b[1;32m     90\u001b[0m                          check_finite\u001b[39m=\u001b[39;49mcheck_finite)\n\u001b[1;32m     91\u001b[0m     \u001b[39mreturn\u001b[39;00m c\n",
      "File \u001b[0;32m~/python_environements/gibbsvenv/lib64/python3.10/site-packages/scipy/linalg/_decomp_cholesky.py:35\u001b[0m, in \u001b[0;36m_cholesky\u001b[0;34m(a, lower, overwrite_a, clean, check_finite)\u001b[0m\n\u001b[1;32m     33\u001b[0m overwrite_a \u001b[39m=\u001b[39m overwrite_a \u001b[39mor\u001b[39;00m _datacopied(a1, a)\n\u001b[1;32m     34\u001b[0m potrf, \u001b[39m=\u001b[39m get_lapack_funcs((\u001b[39m'\u001b[39m\u001b[39mpotrf\u001b[39m\u001b[39m'\u001b[39m,), (a1,))\n\u001b[0;32m---> 35\u001b[0m c, info \u001b[39m=\u001b[39m potrf(a1, lower\u001b[39m=\u001b[39;49mlower, overwrite_a\u001b[39m=\u001b[39;49moverwrite_a, clean\u001b[39m=\u001b[39;49mclean)\n\u001b[1;32m     36\u001b[0m \u001b[39mif\u001b[39;00m info \u001b[39m>\u001b[39m \u001b[39m0\u001b[39m:\n\u001b[1;32m     37\u001b[0m     \u001b[39mraise\u001b[39;00m LinAlgError(\u001b[39m\"\u001b[39m\u001b[39m%d\u001b[39;00m\u001b[39m-th leading minor of the array is not positive \u001b[39m\u001b[39m\"\u001b[39m\n\u001b[1;32m     38\u001b[0m                       \u001b[39m\"\u001b[39m\u001b[39mdefinite\u001b[39m\u001b[39m\"\u001b[39m \u001b[39m%\u001b[39m info)\n",
      "\u001b[0;31mKeyboardInterrupt\u001b[0m: "
     ]
    }
   ],
   "source": [
    "from scipy.optimize import minimize\n",
    "x1 = np.concatenate([can] + [control_fields[i] for i in [0,1,2]])\n",
    "print(bl.terms_cost_function([0,1,2],x0))\n",
    "print(bl.terms_cost_function([0,1,2],x1))\n",
    "\n",
    "def callback(x):\n",
    "    print(np.min(x),np.max(x))\n",
    "    print(bl.terms_cost_function([0,1,2],x))\n",
    "\n",
    "x_best,cost_best = None, np.inf\n",
    "\n",
    "for r in np.linspace(0,1,50):\n",
    "    x_guess = r*x0 + (1-r)*x1\n",
    "    cost_guess = cost_fun(x_guess)\n",
    "    if cost_guess<cost_best:\n",
    "        x_best=x_guess\n",
    "        cost_best = cost_guess\n",
    "        print(r,cost_best)\n",
    "\n",
    "result = minimize(cost_fun,x1,options={\"maxiter\": 1e5, \"xrtol\": 1e-3, \"disp\": True},callback=callback)"
   ]
  },
  {
   "cell_type": "code",
   "execution_count": 22,
   "metadata": {},
   "outputs": [
    {
     "ename": "NameError",
     "evalue": "name 'result' is not defined",
     "output_type": "error",
     "traceback": [
      "\u001b[0;31m---------------------------------------------------------------------------\u001b[0m",
      "\u001b[0;31mNameError\u001b[0m                                 Traceback (most recent call last)",
      "Cell \u001b[0;32mIn[22], line 1\u001b[0m\n\u001b[0;32m----> 1\u001b[0m \u001b[39mprint\u001b[39m(bl\u001b[39m.\u001b[39mterms_cost_function([\u001b[39m0\u001b[39m,\u001b[39m1\u001b[39m,\u001b[39m2\u001b[39m],result\u001b[39m.\u001b[39mx))\n\u001b[1;32m      2\u001b[0m plt\u001b[39m.\u001b[39mstairs(result\u001b[39m.\u001b[39mx)\n\u001b[1;32m      3\u001b[0m \u001b[39m# plt.stairs(gibbsresults[0].cfaulties[-1])\u001b[39;00m\n",
      "\u001b[0;31mNameError\u001b[0m: name 'result' is not defined"
     ]
    }
   ],
   "source": [
    "print(bl.terms_cost_function([0,1,2],result.x))\n",
    "plt.stairs(result.x)\n",
    "# plt.stairs(gibbsresults[0].cfaulties[-1])\n",
    "plt.stairs(c_preparation)\n",
    "plt.stairs(c_original_prior)\n",
    "print(result.x.shape,gibbsresults[0].cfaulties[-1].shape,gibbsresults[0].coriginal.shape)"
   ]
  },
  {
   "cell_type": "code",
   "execution_count": 24,
   "metadata": {},
   "outputs": [
    {
     "data": {
      "text/plain": [
       "<matplotlib.legend.Legend at 0x7f0182449690>"
      ]
     },
     "execution_count": 24,
     "metadata": {},
     "output_type": "execute_result"
    },
    {
     "data": {
      "image/png": "[encoded data removed]",
      "text/plain": [
       "<Figure size 640x480 with 1 Axes>"
      ]
     },
     "metadata": {},
     "output_type": "display_data"
    }
   ],
   "source": [
    "# plt.stairs(result.x[:bl.size],label=\"Reconstruction\",lw=2)\n",
    "plt.stairs(x_best[:bl.size],label=\"x_best\")\n",
    "plt.stairs(c_preparation,label=\"Preparation\")\n",
    "plt.stairs(c_original_prior,label=\"Prior\")\n",
    "plt.legend()"
   ]
  },
  {
   "cell_type": "code",
   "execution_count": null,
   "metadata": {},
   "outputs": [],
   "source": []
  }
 ],
 "metadata": {
  "kernelspec": {
   "display_name": "gibbsvenv",
   "language": "python",
   "name": "python3"
  },
  "language_info": {
   "codemirror_mode": {
    "name": "ipython",
    "version": 3
   },
   "file_extension": ".py",
   "mimetype": "text/x-python",
   "name": "python",
   "nbconvert_exporter": "python",
   "pygments_lexer": "ipython3",
   "version": "3.10.9"
  },
  "orig_nbformat": 4,
  "vscode": {
   "interpreter": {
    "hash": "dd6fc153763b8e9ec78bec65332e4837868b6da362e5e54c610a9825559f097e"
   }
  }
 },
 "nbformat": 4,
 "nbformat_minor": 2
}
