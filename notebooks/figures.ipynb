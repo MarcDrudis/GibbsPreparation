{
 "cells": [
  {
   "cell_type": "code",
   "execution_count": 1,
   "metadata": {},
   "outputs": [],
   "source": [
    "from gibbs.dataclass import GibbsResult,get_results\n",
    "import numpy as np\n",
    "from gibbs.utils import simple_purify_hamiltonian,printarray,spectral_dec,candidate, lattice_hamiltonian\n",
    "import matplotlib.pyplot as plt\n",
    "from gibbs.learning.bayesian_learning_v2 import BayesianLearning\n",
    "from gibbs.learning.constraint_matrix import ConstraintMatrixFactory\n",
    "from gibbs.plots.plots import compare_preparations, axis_locality,preparation\n",
    "import plotly.express as px\n",
    "from qiskit.quantum_info import state_fidelity\n",
    "\n",
    "%load_ext autoreload\n",
    "%autoreload 2\n"
   ]
  },
  {
   "cell_type": "code",
   "execution_count": 2,
   "metadata": {},
   "outputs": [
    {
     "ename": "ValueError",
     "evalue": "This configuration of ansatz does not start in identity.",
     "output_type": "error",
     "traceback": [
      "\u001b[0;31m---------------------------------------------------------------------------\u001b[0m",
      "\u001b[0;31mValueError\u001b[0m                                Traceback (most recent call last)",
      "Cell \u001b[0;32mIn[2], line 9\u001b[0m\n\u001b[1;32m      6\u001b[0m result \u001b[39m=\u001b[39m get_results(\u001b[39m\"\u001b[39m\u001b[39m../scripts_lap/job_13_qasm\u001b[39m\u001b[39m\"\u001b[39m)[\u001b[39m0\u001b[39m]\n\u001b[1;32m      8\u001b[0m cmat \u001b[39m=\u001b[39m ConstraintMatrixFactory(result\u001b[39m.\u001b[39mnum_qubits,\u001b[39m2\u001b[39m,\u001b[39m3\u001b[39m)\n\u001b[0;32m----> 9\u001b[0m K,E \u001b[39m=\u001b[39m cmat\u001b[39m.\u001b[39mcreate_cmat(result\u001b[39m.\u001b[39;49mstate_vector(\u001b[39m-\u001b[39;49m\u001b[39m1\u001b[39;49m),shots\u001b[39m:=\u001b[39m\u001b[39m1e9\u001b[39m)\n\u001b[1;32m     10\u001b[0m \u001b[39m# px.histogram((E[np.nonzero(E)]),histnorm=\"percent\").show()\u001b[39;00m\n\u001b[1;32m     11\u001b[0m E_bool \u001b[39m=\u001b[39m (E \u001b[39m!=\u001b[39m \u001b[39m0\u001b[39m)\n",
      "File \u001b[0;32m~/GH/Julien/gibbs_code/gibbs/dataclass.py:87\u001b[0m, in \u001b[0;36mGibbsResult.state_vector\u001b[0;34m(self, timestep)\u001b[0m\n\u001b[1;32m     86\u001b[0m \u001b[39mdef\u001b[39;00m \u001b[39mstate_vector\u001b[39m(\u001b[39mself\u001b[39m, timestep: \u001b[39mint\u001b[39m) \u001b[39m-\u001b[39m\u001b[39m>\u001b[39m Statevector:\n\u001b[0;32m---> 87\u001b[0m     \u001b[39mreturn\u001b[39;00m Statevector(\u001b[39mself\u001b[39;49m\u001b[39m.\u001b[39;49mstate_ansatz(timestep))\n",
      "File \u001b[0;32m~/GH/Julien/gibbs_code/gibbs/dataclass.py:84\u001b[0m, in \u001b[0;36mGibbsResult.state_ansatz\u001b[0;34m(self, timestep)\u001b[0m\n\u001b[1;32m     83\u001b[0m \u001b[39mdef\u001b[39;00m \u001b[39mstate_ansatz\u001b[39m(\u001b[39mself\u001b[39m, timestep: \u001b[39mint\u001b[39m) \u001b[39m-\u001b[39m\u001b[39m>\u001b[39m QuantumCircuit:\n\u001b[0;32m---> 84\u001b[0m     \u001b[39mreturn\u001b[39;00m \u001b[39mself\u001b[39;49m\u001b[39m.\u001b[39;49mansatz\u001b[39m.\u001b[39mbind_parameters(\u001b[39mself\u001b[39m\u001b[39m.\u001b[39mparameters[timestep])\n",
      "File \u001b[0;32m~/GH/Julien/gibbs_code/gibbs/dataclass.py:97\u001b[0m, in \u001b[0;36mGibbsResult.ansatz\u001b[0;34m(self)\u001b[0m\n\u001b[1;32m     94\u001b[0m \u001b[39m@property\u001b[39m\n\u001b[1;32m     95\u001b[0m \u001b[39mdef\u001b[39;00m \u001b[39mansatz\u001b[39m(\u001b[39mself\u001b[39m):\n\u001b[1;32m     96\u001b[0m \u001b[39m    \u001b[39m\u001b[39m\"\"\"Returns the ansatz.\"\"\"\u001b[39;00m\n\u001b[0;32m---> 97\u001b[0m     \u001b[39mreturn\u001b[39;00m efficientTwoLocalansatz(\u001b[39m*\u001b[39;49m\u001b[39m*\u001b[39;49m\u001b[39mself\u001b[39;49m\u001b[39m.\u001b[39;49mansatz_arguments)[\u001b[39m0\u001b[39m]\u001b[39m.\u001b[39mdecompose()\n",
      "File \u001b[0;32m~/GH/Julien/gibbs_code/gibbs/preparation/varqite.py:89\u001b[0m, in \u001b[0;36mefficientTwoLocalansatz\u001b[0;34m(num_qubits, depth, entanglement, su2_gates, ent_gates, barriers, no_hadamart)\u001b[0m\n\u001b[1;32m     85\u001b[0m \u001b[39m# Set the initial parameters to be the identity\u001b[39;00m\n\u001b[1;32m     86\u001b[0m \u001b[39mif\u001b[39;00m partial_trace(\n\u001b[1;32m     87\u001b[0m     Statevector(ansatz\u001b[39m.\u001b[39mbind_parameters(x0)), \u001b[39mrange\u001b[39m(num_qubits, \u001b[39m2\u001b[39m \u001b[39m*\u001b[39m num_qubits)\n\u001b[1;32m     88\u001b[0m )\u001b[39m.\u001b[39mdata \u001b[39m!=\u001b[39m np\u001b[39m.\u001b[39meye(num_qubits):\n\u001b[0;32m---> 89\u001b[0m     \u001b[39mraise\u001b[39;00m \u001b[39mValueError\u001b[39;00m(\u001b[39m\"\u001b[39m\u001b[39mThis configuration of ansatz does not start in identity.\u001b[39m\u001b[39m\"\u001b[39m)\n\u001b[1;32m     90\u001b[0m \u001b[39mreturn\u001b[39;00m ansatz, x0\n",
      "\u001b[0;31mValueError\u001b[0m: This configuration of ansatz does not start in identity."
     ]
    }
   ],
   "source": [
    "import matplotlib.pyplot as plt\n",
    "import matplotlib.patches as mpatches\n",
    "import numpy as np\n",
    "from matplotlib.colors import ListedColormap, LinearSegmentedColormap\n",
    "\n",
    "result = get_results(\"../scripts_lap/job_13_qasm\")[0]\n",
    "\n",
    "cmat = ConstraintMatrixFactory(result.num_qubits,2,3)\n",
    "K,E = cmat.create_cmat(result.state_vector(-1),shots:=1e9)\n",
    "# px.histogram((E[np.nonzero(E)]),histnorm=\"percent\").show()\n",
    "E_bool = (E != 0)\n",
    "# print(E.shape,cmat.sampling_basis.size)\n",
    "E_sign = np.sign(K)[:,:,None]*E_bool\n",
    "# print(np.linalg.norm(E_sign[-1],ord = 2))\n",
    "\n",
    "# create some data\n",
    "fig = plt.figure(figsize=(20,4))\n",
    "ax = fig.add_subplot(111)\n",
    "paulis_indexes = [1,50,100,125,150,175,200]\n",
    "paulis_list = [cmat.sampling_basis.paulis_list[i] for i in paulis_indexes]\n",
    "# print(paulis_list)\n",
    "data = np.einsum(\"ijk,k->ji\",E_bool[:,:,paulis_indexes],paulis_indexes)\n",
    "# data = 255- data\n",
    "# data[data==0] = 0\n",
    "# get the unique values from data\n",
    "# i.e. a sorted list of all values in data\n",
    "values = np.unique(data.ravel())\n",
    "# print(values)\n",
    "\n",
    "\n",
    "colors = [\"darkorange\", \"gold\", \"lawngreen\", \"lightseagreen\", \"blue\" , \"red\"]\n",
    "color_palette = [\"white\"]\n",
    "for c in colors:\n",
    "    color_palette += [c]*300\n",
    "cmap = ListedColormap(colors = color_palette)\n",
    "# print(cmap(2))\n",
    "im = ax.imshow(data, interpolation='none',cmap=cmap)\n",
    "\n",
    "# get the colors of the values, according to the \n",
    "# colormap used by imshow\n",
    "colors = [ im.cmap(im.norm(value)) for value in values]\n",
    "# print(im.norm(values[1]))\n",
    "# create a patch (proxy artist) for every color\n",
    "patches = [ mpatches.Patch(color=colors[i+1], label=paulis_list[i]) for i in range(len(values)-1) ]\n",
    "# put those patched as legend-handles into the legend\n",
    "plt.legend(handles=patches,\n",
    "           bbox_to_anchor=(1.05, 1),\n",
    "           loc=2,\n",
    "           borderaxespad=0.,\n",
    "           fontsize=20)\n",
    "\n",
    "# plt.grid(True)\n",
    "plt.xticks([])\n",
    "plt.yticks([])\n",
    "ax.set_xlabel(\"Constraint Basis\",fontsize=20)\n",
    "ax.set_ylabel(\"Learning Basis\",fontsize=20)\n",
    "\n",
    "print(data.shape)\n",
    "plt.savefig(\"../figures/constraintmatrix.png\",format=\"png\")\n",
    "plt.show()"
   ]
  },
  {
   "attachments": {},
   "cell_type": "markdown",
   "metadata": {},
   "source": [
    "This is the graphic that shows that our ansatz doesn't capture some of the terms in the Hamiltonian."
   ]
  },
  {
   "cell_type": "code",
   "execution_count": null,
   "metadata": {},
   "outputs": [
    {
     "name": "stdout",
     "output_type": "stream",
     "text": [
      "\\documentclass[border=2px]{standalone}\n",
      "\n",
      "\\usepackage[braket, qm]{qcircuit}\n",
      "\\usepackage{graphicx}\n",
      "\n",
      "\\begin{document}\n",
      "\\scalebox{1.0}{\n",
      "\\Qcircuit @C=1.0em @R=0.2em @!R { \\\\\n",
      "\t \t\\nghost{{q}_{0} :  } & \\lstick{{q}_{0} :  } & \\gate{\\mathrm{R_X}\\,(\\mathrm{{\\ensuremath{\\theta}}[0]})} & \\gate{\\mathrm{R_Z}\\,(\\mathrm{{\\ensuremath{\\theta}}[6]})} & \\gate{\\mathrm{R_X}\\,(\\mathrm{{\\ensuremath{\\theta}}[12]})} \\barrier[0em]{5} & \\qw & \\qw & \\qw & \\qw & \\qw & \\ctrl{1} \\barrier[0em]{5} & \\qw & \\gate{\\mathrm{R_X}\\,(\\mathrm{{\\ensuremath{\\theta}}[18]})} & \\gate{\\mathrm{R_Z}\\,(\\mathrm{{\\ensuremath{\\theta}}[24]})} & \\gate{\\mathrm{R_X}\\,(\\mathrm{{\\ensuremath{\\theta}}[30]})} \\barrier[0em]{5} & \\qw & \\qw & \\qw & \\qw & \\qw & \\ctrl{1} \\barrier[0em]{5} & \\qw & \\gate{\\mathrm{R_X}\\,(\\mathrm{{\\ensuremath{\\theta}}[36]})} & \\gate{\\mathrm{R_Z}\\,(\\mathrm{{\\ensuremath{\\theta}}[42]})} & \\gate{\\mathrm{R_X}\\,(\\mathrm{{\\ensuremath{\\theta}}[48]})} \\barrier[0em]{5} & \\qw & \\gate{\\mathrm{H}} & \\ctrl{1} & \\qw & \\qw\\\\\n",
      "\t \t\\nghost{{q}_{1} :  } & \\lstick{{q}_{1} :  } & \\gate{\\mathrm{R_X}\\,(\\mathrm{{\\ensuremath{\\theta}}[1]})} & \\gate{\\mathrm{R_Z}\\,(\\mathrm{{\\ensuremath{\\theta}}[7]})} & \\gate{\\mathrm{R_X}\\,(\\mathrm{{\\ensuremath{\\theta}}[13]})} & \\qw & \\qw & \\qw & \\qw & \\ctrl{1} & \\targ & \\qw & \\gate{\\mathrm{R_X}\\,(\\mathrm{{\\ensuremath{\\theta}}[19]})} & \\gate{\\mathrm{R_Z}\\,(\\mathrm{{\\ensuremath{\\theta}}[25]})} & \\gate{\\mathrm{R_X}\\,(\\mathrm{{\\ensuremath{\\theta}}[31]})} & \\qw & \\qw & \\qw & \\qw & \\ctrl{1} & \\targ & \\qw & \\gate{\\mathrm{R_X}\\,(\\mathrm{{\\ensuremath{\\theta}}[37]})} & \\gate{\\mathrm{R_Z}\\,(\\mathrm{{\\ensuremath{\\theta}}[43]})} & \\gate{\\mathrm{R_X}\\,(\\mathrm{{\\ensuremath{\\theta}}[49]})} & \\qw & \\qw & \\targ & \\qw & \\qw\\\\\n",
      "\t \t\\nghost{{q}_{2} :  } & \\lstick{{q}_{2} :  } & \\gate{\\mathrm{R_X}\\,(\\mathrm{{\\ensuremath{\\theta}}[2]})} & \\gate{\\mathrm{R_Z}\\,(\\mathrm{{\\ensuremath{\\theta}}[8]})} & \\gate{\\mathrm{R_X}\\,(\\mathrm{{\\ensuremath{\\theta}}[14]})} & \\qw & \\qw & \\qw & \\ctrl{1} & \\targ & \\qw & \\qw & \\gate{\\mathrm{R_X}\\,(\\mathrm{{\\ensuremath{\\theta}}[20]})} & \\gate{\\mathrm{R_Z}\\,(\\mathrm{{\\ensuremath{\\theta}}[26]})} & \\gate{\\mathrm{R_X}\\,(\\mathrm{{\\ensuremath{\\theta}}[32]})} & \\qw & \\qw & \\qw & \\ctrl{1} & \\targ & \\qw & \\qw & \\gate{\\mathrm{R_X}\\,(\\mathrm{{\\ensuremath{\\theta}}[38]})} & \\gate{\\mathrm{R_Z}\\,(\\mathrm{{\\ensuremath{\\theta}}[44]})} & \\gate{\\mathrm{R_X}\\,(\\mathrm{{\\ensuremath{\\theta}}[50]})} & \\qw & \\gate{\\mathrm{H}} & \\ctrl{1} & \\qw & \\qw\\\\\n",
      "\t \t\\nghost{{q}_{3} :  } & \\lstick{{q}_{3} :  } & \\gate{\\mathrm{R_X}\\,(\\mathrm{{\\ensuremath{\\theta}}[3]})} & \\gate{\\mathrm{R_Z}\\,(\\mathrm{{\\ensuremath{\\theta}}[9]})} & \\gate{\\mathrm{R_X}\\,(\\mathrm{{\\ensuremath{\\theta}}[15]})} & \\qw & \\qw & \\ctrl{1} & \\targ & \\qw & \\qw & \\qw & \\gate{\\mathrm{R_X}\\,(\\mathrm{{\\ensuremath{\\theta}}[21]})} & \\gate{\\mathrm{R_Z}\\,(\\mathrm{{\\ensuremath{\\theta}}[27]})} & \\gate{\\mathrm{R_X}\\,(\\mathrm{{\\ensuremath{\\theta}}[33]})} & \\qw & \\qw & \\ctrl{1} & \\targ & \\qw & \\qw & \\qw & \\gate{\\mathrm{R_X}\\,(\\mathrm{{\\ensuremath{\\theta}}[39]})} & \\gate{\\mathrm{R_Z}\\,(\\mathrm{{\\ensuremath{\\theta}}[45]})} & \\gate{\\mathrm{R_X}\\,(\\mathrm{{\\ensuremath{\\theta}}[51]})} & \\qw & \\qw & \\targ & \\qw & \\qw\\\\\n",
      "\t \t\\nghost{{q}_{4} :  } & \\lstick{{q}_{4} :  } & \\gate{\\mathrm{R_X}\\,(\\mathrm{{\\ensuremath{\\theta}}[4]})} & \\gate{\\mathrm{R_Z}\\,(\\mathrm{{\\ensuremath{\\theta}}[10]})} & \\gate{\\mathrm{R_X}\\,(\\mathrm{{\\ensuremath{\\theta}}[16]})} & \\qw & \\ctrl{1} & \\targ & \\qw & \\qw & \\qw & \\qw & \\gate{\\mathrm{R_X}\\,(\\mathrm{{\\ensuremath{\\theta}}[22]})} & \\gate{\\mathrm{R_Z}\\,(\\mathrm{{\\ensuremath{\\theta}}[28]})} & \\gate{\\mathrm{R_X}\\,(\\mathrm{{\\ensuremath{\\theta}}[34]})} & \\qw & \\ctrl{1} & \\targ & \\qw & \\qw & \\qw & \\qw & \\gate{\\mathrm{R_X}\\,(\\mathrm{{\\ensuremath{\\theta}}[40]})} & \\gate{\\mathrm{R_Z}\\,(\\mathrm{{\\ensuremath{\\theta}}[46]})} & \\gate{\\mathrm{R_X}\\,(\\mathrm{{\\ensuremath{\\theta}}[52]})} & \\qw & \\gate{\\mathrm{H}} & \\ctrl{1} & \\qw & \\qw\\\\\n",
      "\t \t\\nghost{{q}_{5} :  } & \\lstick{{q}_{5} :  } & \\gate{\\mathrm{R_X}\\,(\\mathrm{{\\ensuremath{\\theta}}[5]})} & \\gate{\\mathrm{R_Z}\\,(\\mathrm{{\\ensuremath{\\theta}}[11]})} & \\gate{\\mathrm{R_X}\\,(\\mathrm{{\\ensuremath{\\theta}}[17]})} & \\qw & \\targ & \\qw & \\qw & \\qw & \\qw & \\qw & \\gate{\\mathrm{R_X}\\,(\\mathrm{{\\ensuremath{\\theta}}[23]})} & \\gate{\\mathrm{R_Z}\\,(\\mathrm{{\\ensuremath{\\theta}}[29]})} & \\gate{\\mathrm{R_X}\\,(\\mathrm{{\\ensuremath{\\theta}}[35]})} & \\qw & \\targ & \\qw & \\qw & \\qw & \\qw & \\qw & \\gate{\\mathrm{R_X}\\,(\\mathrm{{\\ensuremath{\\theta}}[41]})} & \\gate{\\mathrm{R_Z}\\,(\\mathrm{{\\ensuremath{\\theta}}[47]})} & \\gate{\\mathrm{R_X}\\,(\\mathrm{{\\ensuremath{\\theta}}[53]})} & \\qw & \\qw & \\targ & \\qw & \\qw\\\\\n",
      "\\\\ }}\n",
      "\\end{document}\n"
     ]
    }
   ],
   "source": [
    "from qiskit.circuit.library import EfficientSU2\n",
    "from gibbs.preparation.varqite import efficientTwoLocalansatz\n",
    "qc = EfficientSU2(6,reps=2,entanglement=\"reverse_linear\",su2_gates=[\"rx\",\"rz\",\"rx\"],insert_barriers=True).decompose()\n",
    "qc.barrier()\n",
    "qc.h(range(0,qc.num_qubits,2))\n",
    "qc.cx(range(0,qc.num_qubits,2),range(1,qc.num_qubits,2))\n",
    "print(qc.draw(output=\"latex_source\"))"
   ]
  },
  {
   "cell_type": "code",
   "execution_count": null,
   "metadata": {},
   "outputs": [
    {
     "data": {
      "application/vnd.plotly.v1+json": {
       "config": {
        "plotlyServerURL": "https://plot.ly"
       },
       "data": [
        {
         "hovertemplate": "x=%{x}<br>y=%{y}<extra></extra>",
         "legendgroup": "",
         "marker": {
          "color": "#636efa",
          "symbol": "circle"
         },
         "mode": "markers",
         "name": "",
         "orientation": "v",
         "showlegend": false,
         "type": "scatter",
         "x": [
          -0.25,
          -0.2,
          -0.15,
          -0.1,
          -0.05,
          0.25,
          0.05,
          0.1,
          0.15,
          0.2,
          0.25
         ],
         "xaxis": "x",
         "y": [
          0.00875824273402559,
          0.008321342696256062,
          0.007955374797898651,
          0.007656837765007807,
          0.007422379192352224,
          0.007248799850295917,
          0.007133057537979437,
          0.007072270556490956,
          0.00706372087392193,
          0.007104857052108504,
          0.007193297002635157
         ],
         "yaxis": "y"
        }
       ],
       "layout": {
        "legend": {
         "tracegroupgap": 0
        },
        "margin": {
         "t": 60
        },
        "template": {
         "data": {
          "bar": [
           {
            "error_x": {
             "color": "#2a3f5f"
            },
            "error_y": {
             "color": "#2a3f5f"
            },
            "marker": {
             "line": {
              "color": "#E5ECF6",
              "width": 0.5
             },
             "pattern": {
              "fillmode": "overlay",
              "size": 10,
              "solidity": 0.2
             }
            },
            "type": "bar"
           }
          ],
          "barpolar": [
           {
            "marker": {
             "line": {
              "color": "#E5ECF6",
              "width": 0.5
             },
             "pattern": {
              "fillmode": "overlay",
              "size": 10,
              "solidity": 0.2
             }
            },
            "type": "barpolar"
           }
          ],
          "carpet": [
           {
            "aaxis": {
             "endlinecolor": "#2a3f5f",
             "gridcolor": "white",
             "linecolor": "white",
             "minorgridcolor": "white",
             "startlinecolor": "#2a3f5f"
            },
            "baxis": {
             "endlinecolor": "#2a3f5f",
             "gridcolor": "white",
             "linecolor": "white",
             "minorgridcolor": "white",
             "startlinecolor": "#2a3f5f"
            },
            "type": "carpet"
           }
          ],
          "choropleth": [
           {
            "colorbar": {
             "outlinewidth": 0,
             "ticks": ""
            },
            "type": "choropleth"
           }
          ],
          "contour": [
           {
            "colorbar": {
             "outlinewidth": 0,
             "ticks": ""
            },
            "colorscale": [
             [
              0,
              "#0d0887"
             ],
             [
              0.1111111111111111,
              "#46039f"
             ],
             [
              0.2222222222222222,
              "#7201a8"
             ],
             [
              0.3333333333333333,
              "#9c179e"
             ],
             [
              0.4444444444444444,
              "#bd3786"
             ],
             [
              0.5555555555555556,
              "#d8576b"
             ],
             [
              0.6666666666666666,
              "#ed7953"
             ],
             [
              0.7777777777777778,
              "#fb9f3a"
             ],
             [
              0.8888888888888888,
              "#fdca26"
             ],
             [
              1,
              "#f0f921"
             ]
            ],
            "type": "contour"
           }
          ],
          "contourcarpet": [
           {
            "colorbar": {
             "outlinewidth": 0,
             "ticks": ""
            },
            "type": "contourcarpet"
           }
          ],
          "heatmap": [
           {
            "colorbar": {
             "outlinewidth": 0,
             "ticks": ""
            },
            "colorscale": [
             [
              0,
              "#0d0887"
             ],
             [
              0.1111111111111111,
              "#46039f"
             ],
             [
              0.2222222222222222,
              "#7201a8"
             ],
             [
              0.3333333333333333,
              "#9c179e"
             ],
             [
              0.4444444444444444,
              "#bd3786"
             ],
             [
              0.5555555555555556,
              "#d8576b"
             ],
             [
              0.6666666666666666,
              "#ed7953"
             ],
             [
              0.7777777777777778,
              "#fb9f3a"
             ],
             [
              0.8888888888888888,
              "#fdca26"
             ],
             [
              1,
              "#f0f921"
             ]
            ],
            "type": "heatmap"
           }
          ],
          "heatmapgl": [
           {
            "colorbar": {
             "outlinewidth": 0,
             "ticks": ""
            },
            "colorscale": [
             [
              0,
              "#0d0887"
             ],
             [
              0.1111111111111111,
              "#46039f"
             ],
             [
              0.2222222222222222,
              "#7201a8"
             ],
             [
              0.3333333333333333,
              "#9c179e"
             ],
             [
              0.4444444444444444,
              "#bd3786"
             ],
             [
              0.5555555555555556,
              "#d8576b"
             ],
             [
              0.6666666666666666,
              "#ed7953"
             ],
             [
              0.7777777777777778,
              "#fb9f3a"
             ],
             [
              0.8888888888888888,
              "#fdca26"
             ],
             [
              1,
              "#f0f921"
             ]
            ],
            "type": "heatmapgl"
           }
          ],
          "histogram": [
           {
            "marker": {
             "pattern": {
              "fillmode": "overlay",
              "size": 10,
              "solidity": 0.2
             }
            },
            "type": "histogram"
           }
          ],
          "histogram2d": [
           {
            "colorbar": {
             "outlinewidth": 0,
             "ticks": ""
            },
            "colorscale": [
             [
              0,
              "#0d0887"
             ],
             [
              0.1111111111111111,
              "#46039f"
             ],
             [
              0.2222222222222222,
              "#7201a8"
             ],
             [
              0.3333333333333333,
              "#9c179e"
             ],
             [
              0.4444444444444444,
              "#bd3786"
             ],
             [
              0.5555555555555556,
              "#d8576b"
             ],
             [
              0.6666666666666666,
              "#ed7953"
             ],
             [
              0.7777777777777778,
              "#fb9f3a"
             ],
             [
              0.8888888888888888,
              "#fdca26"
             ],
             [
              1,
              "#f0f921"
             ]
            ],
            "type": "histogram2d"
           }
          ],
          "histogram2dcontour": [
           {
            "colorbar": {
             "outlinewidth": 0,
             "ticks": ""
            },
            "colorscale": [
             [
              0,
              "#0d0887"
             ],
             [
              0.1111111111111111,
              "#46039f"
             ],
             [
              0.2222222222222222,
              "#7201a8"
             ],
             [
              0.3333333333333333,
              "#9c179e"
             ],
             [
              0.4444444444444444,
              "#bd3786"
             ],
             [
              0.5555555555555556,
              "#d8576b"
             ],
             [
              0.6666666666666666,
              "#ed7953"
             ],
             [
              0.7777777777777778,
              "#fb9f3a"
             ],
             [
              0.8888888888888888,
              "#fdca26"
             ],
             [
              1,
              "#f0f921"
             ]
            ],
            "type": "histogram2dcontour"
           }
          ],
          "mesh3d": [
           {
            "colorbar": {
             "outlinewidth": 0,
             "ticks": ""
            },
            "type": "mesh3d"
           }
          ],
          "parcoords": [
           {
            "line": {
             "colorbar": {
              "outlinewidth": 0,
              "ticks": ""
             }
            },
            "type": "parcoords"
           }
          ],
          "pie": [
           {
            "automargin": true,
            "type": "pie"
           }
          ],
          "scatter": [
           {
            "fillpattern": {
             "fillmode": "overlay",
             "size": 10,
             "solidity": 0.2
            },
            "type": "scatter"
           }
          ],
          "scatter3d": [
           {
            "line": {
             "colorbar": {
              "outlinewidth": 0,
              "ticks": ""
             }
            },
            "marker": {
             "colorbar": {
              "outlinewidth": 0,
              "ticks": ""
             }
            },
            "type": "scatter3d"
           }
          ],
          "scattercarpet": [
           {
            "marker": {
             "colorbar": {
              "outlinewidth": 0,
              "ticks": ""
             }
            },
            "type": "scattercarpet"
           }
          ],
          "scattergeo": [
           {
            "marker": {
             "colorbar": {
              "outlinewidth": 0,
              "ticks": ""
             }
            },
            "type": "scattergeo"
           }
          ],
          "scattergl": [
           {
            "marker": {
             "colorbar": {
              "outlinewidth": 0,
              "ticks": ""
             }
            },
            "type": "scattergl"
           }
          ],
          "scattermapbox": [
           {
            "marker": {
             "colorbar": {
              "outlinewidth": 0,
              "ticks": ""
             }
            },
            "type": "scattermapbox"
           }
          ],
          "scatterpolar": [
           {
            "marker": {
             "colorbar": {
              "outlinewidth": 0,
              "ticks": ""
             }
            },
            "type": "scatterpolar"
           }
          ],
          "scatterpolargl": [
           {
            "marker": {
             "colorbar": {
              "outlinewidth": 0,
              "ticks": ""
             }
            },
            "type": "scatterpolargl"
           }
          ],
          "scatterternary": [
           {
            "marker": {
             "colorbar": {
              "outlinewidth": 0,
              "ticks": ""
             }
            },
            "type": "scatterternary"
           }
          ],
          "surface": [
           {
            "colorbar": {
             "outlinewidth": 0,
             "ticks": ""
            },
            "colorscale": [
             [
              0,
              "#0d0887"
             ],
             [
              0.1111111111111111,
              "#46039f"
             ],
             [
              0.2222222222222222,
              "#7201a8"
             ],
             [
              0.3333333333333333,
              "#9c179e"
             ],
             [
              0.4444444444444444,
              "#bd3786"
             ],
             [
              0.5555555555555556,
              "#d8576b"
             ],
             [
              0.6666666666666666,
              "#ed7953"
             ],
             [
              0.7777777777777778,
              "#fb9f3a"
             ],
             [
              0.8888888888888888,
              "#fdca26"
             ],
             [
              1,
              "#f0f921"
             ]
            ],
            "type": "surface"
           }
          ],
          "table": [
           {
            "cells": {
             "fill": {
              "color": "#EBF0F8"
             },
             "line": {
              "color": "white"
             }
            },
            "header": {
             "fill": {
              "color": "#C8D4E3"
             },
             "line": {
              "color": "white"
             }
            },
            "type": "table"
           }
          ]
         },
         "layout": {
          "annotationdefaults": {
           "arrowcolor": "#2a3f5f",
           "arrowhead": 0,
           "arrowwidth": 1
          },
          "autotypenumbers": "strict",
          "coloraxis": {
           "colorbar": {
            "outlinewidth": 0,
            "ticks": ""
           }
          },
          "colorscale": {
           "diverging": [
            [
             0,
             "#8e0152"
            ],
            [
             0.1,
             "#c51b7d"
            ],
            [
             0.2,
             "#de77ae"
            ],
            [
             0.3,
             "#f1b6da"
            ],
            [
             0.4,
             "#fde0ef"
            ],
            [
             0.5,
             "#f7f7f7"
            ],
            [
             0.6,
             "#e6f5d0"
            ],
            [
             0.7,
             "#b8e186"
            ],
            [
             0.8,
             "#7fbc41"
            ],
            [
             0.9,
             "#4d9221"
            ],
            [
             1,
             "#276419"
            ]
           ],
           "sequential": [
            [
             0,
             "#0d0887"
            ],
            [
             0.1111111111111111,
             "#46039f"
            ],
            [
             0.2222222222222222,
             "#7201a8"
            ],
            [
             0.3333333333333333,
             "#9c179e"
            ],
            [
             0.4444444444444444,
             "#bd3786"
            ],
            [
             0.5555555555555556,
             "#d8576b"
            ],
            [
             0.6666666666666666,
             "#ed7953"
            ],
            [
             0.7777777777777778,
             "#fb9f3a"
            ],
            [
             0.8888888888888888,
             "#fdca26"
            ],
            [
             1,
             "#f0f921"
            ]
           ],
           "sequentialminus": [
            [
             0,
             "#0d0887"
            ],
            [
             0.1111111111111111,
             "#46039f"
            ],
            [
             0.2222222222222222,
             "#7201a8"
            ],
            [
             0.3333333333333333,
             "#9c179e"
            ],
            [
             0.4444444444444444,
             "#bd3786"
            ],
            [
             0.5555555555555556,
             "#d8576b"
            ],
            [
             0.6666666666666666,
             "#ed7953"
            ],
            [
             0.7777777777777778,
             "#fb9f3a"
            ],
            [
             0.8888888888888888,
             "#fdca26"
            ],
            [
             1,
             "#f0f921"
            ]
           ]
          },
          "colorway": [
           "#636efa",
           "#EF553B",
           "#00cc96",
           "#ab63fa",
           "#FFA15A",
           "#19d3f3",
           "#FF6692",
           "#B6E880",
           "#FF97FF",
           "#FECB52"
          ],
          "font": {
           "color": "#2a3f5f"
          },
          "geo": {
           "bgcolor": "white",
           "lakecolor": "white",
           "landcolor": "#E5ECF6",
           "showlakes": true,
           "showland": true,
           "subunitcolor": "white"
          },
          "hoverlabel": {
           "align": "left"
          },
          "hovermode": "closest",
          "mapbox": {
           "style": "light"
          },
          "paper_bgcolor": "white",
          "plot_bgcolor": "#E5ECF6",
          "polar": {
           "angularaxis": {
            "gridcolor": "white",
            "linecolor": "white",
            "ticks": ""
           },
           "bgcolor": "#E5ECF6",
           "radialaxis": {
            "gridcolor": "white",
            "linecolor": "white",
            "ticks": ""
           }
          },
          "scene": {
           "xaxis": {
            "backgroundcolor": "#E5ECF6",
            "gridcolor": "white",
            "gridwidth": 2,
            "linecolor": "white",
            "showbackground": true,
            "ticks": "",
            "zerolinecolor": "white"
           },
           "yaxis": {
            "backgroundcolor": "#E5ECF6",
            "gridcolor": "white",
            "gridwidth": 2,
            "linecolor": "white",
            "showbackground": true,
            "ticks": "",
            "zerolinecolor": "white"
           },
           "zaxis": {
            "backgroundcolor": "#E5ECF6",
            "gridcolor": "white",
            "gridwidth": 2,
            "linecolor": "white",
            "showbackground": true,
            "ticks": "",
            "zerolinecolor": "white"
           }
          },
          "shapedefaults": {
           "line": {
            "color": "#2a3f5f"
           }
          },
          "ternary": {
           "aaxis": {
            "gridcolor": "white",
            "linecolor": "white",
            "ticks": ""
           },
           "baxis": {
            "gridcolor": "white",
            "linecolor": "white",
            "ticks": ""
           },
           "bgcolor": "#E5ECF6",
           "caxis": {
            "gridcolor": "white",
            "linecolor": "white",
            "ticks": ""
           }
          },
          "title": {
           "x": 0.05
          },
          "xaxis": {
           "automargin": true,
           "gridcolor": "white",
           "linecolor": "white",
           "ticks": "",
           "title": {
            "standoff": 15
           },
           "zerolinecolor": "white",
           "zerolinewidth": 2
          },
          "yaxis": {
           "automargin": true,
           "gridcolor": "white",
           "linecolor": "white",
           "ticks": "",
           "title": {
            "standoff": 15
           },
           "zerolinecolor": "white",
           "zerolinewidth": 2
          }
         }
        },
        "xaxis": {
         "anchor": "y",
         "domain": [
          0,
          1
         ],
         "title": {
          "text": "x"
         }
        },
        "yaxis": {
         "anchor": "x",
         "domain": [
          0,
          1
         ],
         "title": {
          "text": "y"
         }
        }
       }
      }
     },
     "metadata": {},
     "output_type": "display_data"
    }
   ],
   "source": [
    "results = get_results(\"../saved_simulations/turbo/YYtermsheisenberg\")\n",
    "YY_weights = [np.real(r.hamiltonian.coeffs[7]) for r in results]\n",
    "titles = [f\"YY = {w}\" for w in YY_weights]\n",
    "compare_preparations(results,titles,2)\n",
    "expected_state = simple_purify_hamiltonian(lattice_hamiltonian(4,0.25,-1,[\"Z\"],[\"XX\",\"ZZ\"]))\n",
    "infidelities = [1-state_fidelity(r.state_vector(-1),expected_state) for r in results]\n",
    "px.scatter(x=YY_weights,y=infidelities,log_y=False).show()"
   ]
  },
  {
   "cell_type": "code",
   "execution_count": null,
   "metadata": {},
   "outputs": [
    {
     "data": {
      "application/vnd.plotly.v1+json": {
       "config": {
        "plotlyServerURL": "https://plot.ly"
       },
       "data": [
        {
         "alignmentgroup": "True",
         "hovertemplate": "<b>%{hovertext}</b><br><br>variable=H<sub>prep<br>Pauli Basis=%{x}<br>value=%{y}<extra></extra>",
         "hovertext": [
          "XIII",
          "IXII",
          "IIXI",
          "IIIX",
          "YIII",
          "IYII",
          "IIYI",
          "IIIY",
          "ZIII",
          "IZII",
          "IIZI",
          "IIIZ",
          "XXII",
          "IXXI",
          "IIXX",
          "XYII",
          "IXYI",
          "IIXY",
          "XZII",
          "IXZI",
          "IIXZ",
          "YXII",
          "IYXI",
          "IIYX",
          "YYII",
          "IYYI",
          "IIYY",
          "YZII",
          "IYZI",
          "IIYZ",
          "ZXII",
          "IZXI",
          "IIZX",
          "ZYII",
          "IZYI",
          "IIZY",
          "ZZII",
          "IZZI",
          "IIZZ",
          "XIXI",
          "IXIX",
          "XXXI",
          "IXXX",
          "XYXI",
          "IXYX",
          "XZXI",
          "IXZX",
          "XIYI",
          "IXIY",
          "XXYI",
          "IXXY",
          "XYYI",
          "IXYY",
          "XZYI",
          "IXZY",
          "XIZI",
          "IXIZ",
          "XXZI",
          "IXXZ",
          "XYZI",
          "IXYZ",
          "XZZI",
          "IXZZ",
          "YIXI",
          "IYIX",
          "YXXI",
          "IYXX",
          "YYXI",
          "IYYX",
          "YZXI",
          "IYZX",
          "YIYI",
          "IYIY",
          "YXYI",
          "IYXY",
          "YYYI",
          "IYYY",
          "YZYI",
          "IYZY",
          "YIZI",
          "IYIZ",
          "YXZI",
          "IYXZ",
          "YYZI",
          "IYYZ",
          "YZZI",
          "IYZZ",
          "ZIXI",
          "IZIX",
          "ZXXI",
          "IZXX",
          "ZYXI",
          "IZYX",
          "ZZXI",
          "IZZX",
          "ZIYI",
          "IZIY",
          "ZXYI",
          "IZXY",
          "ZYYI",
          "IZYY",
          "ZZYI",
          "IZZY",
          "ZIZI",
          "IZIZ",
          "ZXZI",
          "IZXZ",
          "ZYZI",
          "IZYZ",
          "ZZZI",
          "IZZZ"
         ],
         "legendgroup": "H<sub>prep",
         "marker": {
          "color": "#636efa",
          "pattern": {
           "shape": ""
          }
         },
         "name": "H<sub>prep",
         "offsetgroup": "H<sub>prep",
         "orientation": "v",
         "showlegend": true,
         "textposition": "auto",
         "type": "bar",
         "x": [
          0,
          1,
          2,
          3,
          4,
          5,
          6,
          7,
          8,
          9,
          10,
          11,
          12,
          13,
          14,
          15,
          16,
          17,
          18,
          19,
          20,
          21,
          22,
          23,
          24,
          25,
          26,
          27,
          28,
          29,
          30,
          31,
          32,
          33,
          34,
          35,
          36,
          37,
          38,
          39,
          40,
          41,
          42,
          43,
          44,
          45,
          46,
          47,
          48,
          49,
          50,
          51,
          52,
          53,
          54,
          55,
          56,
          57,
          58,
          59,
          60,
          61,
          62,
          63,
          64,
          65,
          66,
          67,
          68,
          69,
          70,
          71,
          72,
          73,
          74,
          75,
          76,
          77,
          78,
          79,
          80,
          81,
          82,
          83,
          84,
          85,
          86,
          87,
          88,
          89,
          90,
          91,
          92,
          93,
          94,
          95,
          96,
          97,
          98,
          99,
          100,
          101,
          102,
          103,
          104,
          105,
          106,
          107,
          108,
          109,
          110
         ],
         "xaxis": "x",
         "y": [
          4.090532133474068e-16,
          -3.7273206565339334e-16,
          1.8478543017883613e-15,
          5.23559043768175e-16,
          0,
          0,
          0,
          0,
          -1.015304606222431,
          -1.0211540110406983,
          -1.0211540110406963,
          -1.015304606222429,
          0.2286203038399798,
          0.2559221228738143,
          0.2286203038399794,
          0,
          0,
          0,
          -4.834937989613121e-16,
          1.508831330795151e-16,
          7.940242368175064e-17,
          0,
          0,
          0,
          -0.07892295287683992,
          -0.0872018817929707,
          -0.07892295287683979,
          0,
          0,
          0,
          6.392237855421565e-17,
          -5.241530031274643e-16,
          -2.073357170521822e-16,
          0,
          0,
          0,
          0.30377348036356994,
          0.335578365168149,
          0.3037734803635683,
          -0.009118000945828608,
          -0.009118000945828614,
          4.9179630766067285e-18,
          7.647678272187949e-17,
          0,
          0,
          0.007467310228229088,
          0.007467310228229065,
          0,
          0,
          0,
          0,
          -1.0648359391111818e-16,
          8.214911073935636e-17,
          0,
          0,
          -3.2063803572830767e-16,
          -1.3057168968263508e-16,
          -0.02428209652719507,
          -0.024223545281101544,
          0,
          0,
          5.360335791066158e-16,
          2.275593981264518e-16,
          0,
          0,
          0,
          0,
          -7.537962264478156e-17,
          -9.648271145698551e-17,
          0,
          0,
          0.003063338592110898,
          0.0030633385921107945,
          9.893884775982238e-17,
          1.9481595424393378e-17,
          0,
          0,
          0.005845748952846909,
          0.0058457489528468565,
          0,
          0,
          0,
          0,
          0.023377396407960653,
          0.02369239989565693,
          0,
          0,
          -4.508818104617106e-16,
          -9.978961533412301e-17,
          -0.024223545281101738,
          -0.024282096527195013,
          0,
          0,
          1.6342218356023673e-16,
          4.0259542473359966e-17,
          0,
          0,
          0,
          0,
          0.023692399895656805,
          0.02337739640796041,
          0,
          0,
          0.03440053420686151,
          0.03440053420686248,
          -9.753179387569384e-17,
          -4.327924062355864e-17,
          0,
          0,
          -0.05673301420176563,
          -0.05673301420176516
         ],
         "yaxis": "y"
        },
        {
         "alignmentgroup": "True",
         "hovertemplate": "<b>%{hovertext}</b><br><br>variable=H<sub>o<br>Pauli Basis=%{x}<br>value=%{y}<extra></extra>",
         "hovertext": [
          "XIII",
          "IXII",
          "IIXI",
          "IIIX",
          "YIII",
          "IYII",
          "IIYI",
          "IIIY",
          "ZIII",
          "IZII",
          "IIZI",
          "IIIZ",
          "XXII",
          "IXXI",
          "IIXX",
          "XYII",
          "IXYI",
          "IIXY",
          "XZII",
          "IXZI",
          "IIXZ",
          "YXII",
          "IYXI",
          "IIYX",
          "YYII",
          "IYYI",
          "IIYY",
          "YZII",
          "IYZI",
          "IIYZ",
          "ZXII",
          "IZXI",
          "IIZX",
          "ZYII",
          "IZYI",
          "IIZY",
          "ZZII",
          "IZZI",
          "IIZZ",
          "XIXI",
          "IXIX",
          "XXXI",
          "IXXX",
          "XYXI",
          "IXYX",
          "XZXI",
          "IXZX",
          "XIYI",
          "IXIY",
          "XXYI",
          "IXXY",
          "XYYI",
          "IXYY",
          "XZYI",
          "IXZY",
          "XIZI",
          "IXIZ",
          "XXZI",
          "IXXZ",
          "XYZI",
          "IXYZ",
          "XZZI",
          "IXZZ",
          "YIXI",
          "IYIX",
          "YXXI",
          "IYXX",
          "YYXI",
          "IYYX",
          "YZXI",
          "IYZX",
          "YIYI",
          "IYIY",
          "YXYI",
          "IYXY",
          "YYYI",
          "IYYY",
          "YZYI",
          "IYZY",
          "YIZI",
          "IYIZ",
          "YXZI",
          "IYXZ",
          "YYZI",
          "IYYZ",
          "YZZI",
          "IYZZ",
          "ZIXI",
          "IZIX",
          "ZXXI",
          "IZXX",
          "ZYXI",
          "IZYX",
          "ZZXI",
          "IZZX",
          "ZIYI",
          "IZIY",
          "ZXYI",
          "IZXY",
          "ZYYI",
          "IZYY",
          "ZZYI",
          "IZZY",
          "ZIZI",
          "IZIZ",
          "ZXZI",
          "IZXZ",
          "ZYZI",
          "IZYZ",
          "ZZZI",
          "IZZZ"
         ],
         "legendgroup": "H<sub>o",
         "marker": {
          "color": "#EF553B",
          "pattern": {
           "shape": ""
          }
         },
         "name": "H<sub>o",
         "offsetgroup": "H<sub>o",
         "orientation": "v",
         "showlegend": true,
         "textposition": "auto",
         "type": "bar",
         "x": [
          0,
          1,
          2,
          3,
          4,
          5,
          6,
          7,
          8,
          9,
          10,
          11,
          12,
          13,
          14,
          15,
          16,
          17,
          18,
          19,
          20,
          21,
          22,
          23,
          24,
          25,
          26,
          27,
          28,
          29,
          30,
          31,
          32,
          33,
          34,
          35,
          36,
          37,
          38,
          39,
          40,
          41,
          42,
          43,
          44,
          45,
          46,
          47,
          48,
          49,
          50,
          51,
          52,
          53,
          54,
          55,
          56,
          57,
          58,
          59,
          60,
          61,
          62,
          63,
          64,
          65,
          66,
          67,
          68,
          69,
          70,
          71,
          72,
          73,
          74,
          75,
          76,
          77,
          78,
          79,
          80,
          81,
          82,
          83,
          84,
          85,
          86,
          87,
          88,
          89,
          90,
          91,
          92,
          93,
          94,
          95,
          96,
          97,
          98,
          99,
          100,
          101,
          102,
          103,
          104,
          105,
          106,
          107,
          108,
          109,
          110
         ],
         "xaxis": "x",
         "y": [
          0,
          0,
          0,
          0,
          0,
          0,
          0,
          0,
          -1,
          -1,
          -1,
          -1,
          0.25,
          0.25,
          0.25,
          0,
          0,
          0,
          0,
          0,
          0,
          0,
          0,
          0,
          0.25,
          0.25,
          0.25,
          0,
          0,
          0,
          0,
          0,
          0,
          0,
          0,
          0,
          0.25,
          0.25,
          0.25,
          0,
          0,
          0,
          0,
          0,
          0,
          0,
          0,
          0,
          0,
          0,
          0,
          0,
          0,
          0,
          0,
          0,
          0,
          0,
          0,
          0,
          0,
          0,
          0,
          0,
          0,
          0,
          0,
          0,
          0,
          0,
          0,
          0,
          0,
          0,
          0,
          0,
          0,
          0,
          0,
          0,
          0,
          0,
          0,
          0,
          0,
          0,
          0,
          0,
          0,
          0,
          0,
          0,
          0,
          0,
          0,
          0,
          0,
          0,
          0,
          0,
          0,
          0,
          0,
          0,
          0,
          0,
          0,
          0,
          0,
          0,
          0
         ],
         "yaxis": "y"
        }
       ],
       "layout": {
        "barmode": "group",
        "font": {
         "color": "black",
         "size": 18
        },
        "legend": {
         "title": {
          "text": ""
         },
         "tracegroupgap": 0,
         "x": 0.99,
         "xanchor": "right",
         "y": 0.01,
         "yanchor": "bottom"
        },
        "margin": {
         "t": 60
        },
        "template": {
         "data": {
          "bar": [
           {
            "error_x": {
             "color": "#2a3f5f"
            },
            "error_y": {
             "color": "#2a3f5f"
            },
            "marker": {
             "line": {
              "color": "#E5ECF6",
              "width": 0.5
             },
             "pattern": {
              "fillmode": "overlay",
              "size": 10,
              "solidity": 0.2
             }
            },
            "type": "bar"
           }
          ],
          "barpolar": [
           {
            "marker": {
             "line": {
              "color": "#E5ECF6",
              "width": 0.5
             },
             "pattern": {
              "fillmode": "overlay",
              "size": 10,
              "solidity": 0.2
             }
            },
            "type": "barpolar"
           }
          ],
          "carpet": [
           {
            "aaxis": {
             "endlinecolor": "#2a3f5f",
             "gridcolor": "white",
             "linecolor": "white",
             "minorgridcolor": "white",
             "startlinecolor": "#2a3f5f"
            },
            "baxis": {
             "endlinecolor": "#2a3f5f",
             "gridcolor": "white",
             "linecolor": "white",
             "minorgridcolor": "white",
             "startlinecolor": "#2a3f5f"
            },
            "type": "carpet"
           }
          ],
          "choropleth": [
           {
            "colorbar": {
             "outlinewidth": 0,
             "ticks": ""
            },
            "type": "choropleth"
           }
          ],
          "contour": [
           {
            "colorbar": {
             "outlinewidth": 0,
             "ticks": ""
            },
            "colorscale": [
             [
              0,
              "#0d0887"
             ],
             [
              0.1111111111111111,
              "#46039f"
             ],
             [
              0.2222222222222222,
              "#7201a8"
             ],
             [
              0.3333333333333333,
              "#9c179e"
             ],
             [
              0.4444444444444444,
              "#bd3786"
             ],
             [
              0.5555555555555556,
              "#d8576b"
             ],
             [
              0.6666666666666666,
              "#ed7953"
             ],
             [
              0.7777777777777778,
              "#fb9f3a"
             ],
             [
              0.8888888888888888,
              "#fdca26"
             ],
             [
              1,
              "#f0f921"
             ]
            ],
            "type": "contour"
           }
          ],
          "contourcarpet": [
           {
            "colorbar": {
             "outlinewidth": 0,
             "ticks": ""
            },
            "type": "contourcarpet"
           }
          ],
          "heatmap": [
           {
            "colorbar": {
             "outlinewidth": 0,
             "ticks": ""
            },
            "colorscale": [
             [
              0,
              "#0d0887"
             ],
             [
              0.1111111111111111,
              "#46039f"
             ],
             [
              0.2222222222222222,
              "#7201a8"
             ],
             [
              0.3333333333333333,
              "#9c179e"
             ],
             [
              0.4444444444444444,
              "#bd3786"
             ],
             [
              0.5555555555555556,
              "#d8576b"
             ],
             [
              0.6666666666666666,
              "#ed7953"
             ],
             [
              0.7777777777777778,
              "#fb9f3a"
             ],
             [
              0.8888888888888888,
              "#fdca26"
             ],
             [
              1,
              "#f0f921"
             ]
            ],
            "type": "heatmap"
           }
          ],
          "heatmapgl": [
           {
            "colorbar": {
             "outlinewidth": 0,
             "ticks": ""
            },
            "colorscale": [
             [
              0,
              "#0d0887"
             ],
             [
              0.1111111111111111,
              "#46039f"
             ],
             [
              0.2222222222222222,
              "#7201a8"
             ],
             [
              0.3333333333333333,
              "#9c179e"
             ],
             [
              0.4444444444444444,
              "#bd3786"
             ],
             [
              0.5555555555555556,
              "#d8576b"
             ],
             [
              0.6666666666666666,
              "#ed7953"
             ],
             [
              0.7777777777777778,
              "#fb9f3a"
             ],
             [
              0.8888888888888888,
              "#fdca26"
             ],
             [
              1,
              "#f0f921"
             ]
            ],
            "type": "heatmapgl"
           }
          ],
          "histogram": [
           {
            "marker": {
             "pattern": {
              "fillmode": "overlay",
              "size": 10,
              "solidity": 0.2
             }
            },
            "type": "histogram"
           }
          ],
          "histogram2d": [
           {
            "colorbar": {
             "outlinewidth": 0,
             "ticks": ""
            },
            "colorscale": [
             [
              0,
              "#0d0887"
             ],
             [
              0.1111111111111111,
              "#46039f"
             ],
             [
              0.2222222222222222,
              "#7201a8"
             ],
             [
              0.3333333333333333,
              "#9c179e"
             ],
             [
              0.4444444444444444,
              "#bd3786"
             ],
             [
              0.5555555555555556,
              "#d8576b"
             ],
             [
              0.6666666666666666,
              "#ed7953"
             ],
             [
              0.7777777777777778,
              "#fb9f3a"
             ],
             [
              0.8888888888888888,
              "#fdca26"
             ],
             [
              1,
              "#f0f921"
             ]
            ],
            "type": "histogram2d"
           }
          ],
          "histogram2dcontour": [
           {
            "colorbar": {
             "outlinewidth": 0,
             "ticks": ""
            },
            "colorscale": [
             [
              0,
              "#0d0887"
             ],
             [
              0.1111111111111111,
              "#46039f"
             ],
             [
              0.2222222222222222,
              "#7201a8"
             ],
             [
              0.3333333333333333,
              "#9c179e"
             ],
             [
              0.4444444444444444,
              "#bd3786"
             ],
             [
              0.5555555555555556,
              "#d8576b"
             ],
             [
              0.6666666666666666,
              "#ed7953"
             ],
             [
              0.7777777777777778,
              "#fb9f3a"
             ],
             [
              0.8888888888888888,
              "#fdca26"
             ],
             [
              1,
              "#f0f921"
             ]
            ],
            "type": "histogram2dcontour"
           }
          ],
          "mesh3d": [
           {
            "colorbar": {
             "outlinewidth": 0,
             "ticks": ""
            },
            "type": "mesh3d"
           }
          ],
          "parcoords": [
           {
            "line": {
             "colorbar": {
              "outlinewidth": 0,
              "ticks": ""
             }
            },
            "type": "parcoords"
           }
          ],
          "pie": [
           {
            "automargin": true,
            "type": "pie"
           }
          ],
          "scatter": [
           {
            "fillpattern": {
             "fillmode": "overlay",
             "size": 10,
             "solidity": 0.2
            },
            "type": "scatter"
           }
          ],
          "scatter3d": [
           {
            "line": {
             "colorbar": {
              "outlinewidth": 0,
              "ticks": ""
             }
            },
            "marker": {
             "colorbar": {
              "outlinewidth": 0,
              "ticks": ""
             }
            },
            "type": "scatter3d"
           }
          ],
          "scattercarpet": [
           {
            "marker": {
             "colorbar": {
              "outlinewidth": 0,
              "ticks": ""
             }
            },
            "type": "scattercarpet"
           }
          ],
          "scattergeo": [
           {
            "marker": {
             "colorbar": {
              "outlinewidth": 0,
              "ticks": ""
             }
            },
            "type": "scattergeo"
           }
          ],
          "scattergl": [
           {
            "marker": {
             "colorbar": {
              "outlinewidth": 0,
              "ticks": ""
             }
            },
            "type": "scattergl"
           }
          ],
          "scattermapbox": [
           {
            "marker": {
             "colorbar": {
              "outlinewidth": 0,
              "ticks": ""
             }
            },
            "type": "scattermapbox"
           }
          ],
          "scatterpolar": [
           {
            "marker": {
             "colorbar": {
              "outlinewidth": 0,
              "ticks": ""
             }
            },
            "type": "scatterpolar"
           }
          ],
          "scatterpolargl": [
           {
            "marker": {
             "colorbar": {
              "outlinewidth": 0,
              "ticks": ""
             }
            },
            "type": "scatterpolargl"
           }
          ],
          "scatterternary": [
           {
            "marker": {
             "colorbar": {
              "outlinewidth": 0,
              "ticks": ""
             }
            },
            "type": "scatterternary"
           }
          ],
          "surface": [
           {
            "colorbar": {
             "outlinewidth": 0,
             "ticks": ""
            },
            "colorscale": [
             [
              0,
              "#0d0887"
             ],
             [
              0.1111111111111111,
              "#46039f"
             ],
             [
              0.2222222222222222,
              "#7201a8"
             ],
             [
              0.3333333333333333,
              "#9c179e"
             ],
             [
              0.4444444444444444,
              "#bd3786"
             ],
             [
              0.5555555555555556,
              "#d8576b"
             ],
             [
              0.6666666666666666,
              "#ed7953"
             ],
             [
              0.7777777777777778,
              "#fb9f3a"
             ],
             [
              0.8888888888888888,
              "#fdca26"
             ],
             [
              1,
              "#f0f921"
             ]
            ],
            "type": "surface"
           }
          ],
          "table": [
           {
            "cells": {
             "fill": {
              "color": "#EBF0F8"
             },
             "line": {
              "color": "white"
             }
            },
            "header": {
             "fill": {
              "color": "#C8D4E3"
             },
             "line": {
              "color": "white"
             }
            },
            "type": "table"
           }
          ]
         },
         "layout": {
          "annotationdefaults": {
           "arrowcolor": "#2a3f5f",
           "arrowhead": 0,
           "arrowwidth": 1
          },
          "autotypenumbers": "strict",
          "coloraxis": {
           "colorbar": {
            "outlinewidth": 0,
            "ticks": ""
           }
          },
          "colorscale": {
           "diverging": [
            [
             0,
             "#8e0152"
            ],
            [
             0.1,
             "#c51b7d"
            ],
            [
             0.2,
             "#de77ae"
            ],
            [
             0.3,
             "#f1b6da"
            ],
            [
             0.4,
             "#fde0ef"
            ],
            [
             0.5,
             "#f7f7f7"
            ],
            [
             0.6,
             "#e6f5d0"
            ],
            [
             0.7,
             "#b8e186"
            ],
            [
             0.8,
             "#7fbc41"
            ],
            [
             0.9,
             "#4d9221"
            ],
            [
             1,
             "#276419"
            ]
           ],
           "sequential": [
            [
             0,
             "#0d0887"
            ],
            [
             0.1111111111111111,
             "#46039f"
            ],
            [
             0.2222222222222222,
             "#7201a8"
            ],
            [
             0.3333333333333333,
             "#9c179e"
            ],
            [
             0.4444444444444444,
             "#bd3786"
            ],
            [
             0.5555555555555556,
             "#d8576b"
            ],
            [
             0.6666666666666666,
             "#ed7953"
            ],
            [
             0.7777777777777778,
             "#fb9f3a"
            ],
            [
             0.8888888888888888,
             "#fdca26"
            ],
            [
             1,
             "#f0f921"
            ]
           ],
           "sequentialminus": [
            [
             0,
             "#0d0887"
            ],
            [
             0.1111111111111111,
             "#46039f"
            ],
            [
             0.2222222222222222,
             "#7201a8"
            ],
            [
             0.3333333333333333,
             "#9c179e"
            ],
            [
             0.4444444444444444,
             "#bd3786"
            ],
            [
             0.5555555555555556,
             "#d8576b"
            ],
            [
             0.6666666666666666,
             "#ed7953"
            ],
            [
             0.7777777777777778,
             "#fb9f3a"
            ],
            [
             0.8888888888888888,
             "#fdca26"
            ],
            [
             1,
             "#f0f921"
            ]
           ]
          },
          "colorway": [
           "#636efa",
           "#EF553B",
           "#00cc96",
           "#ab63fa",
           "#FFA15A",
           "#19d3f3",
           "#FF6692",
           "#B6E880",
           "#FF97FF",
           "#FECB52"
          ],
          "font": {
           "color": "#2a3f5f"
          },
          "geo": {
           "bgcolor": "white",
           "lakecolor": "white",
           "landcolor": "#E5ECF6",
           "showlakes": true,
           "showland": true,
           "subunitcolor": "white"
          },
          "hoverlabel": {
           "align": "left"
          },
          "hovermode": "closest",
          "mapbox": {
           "style": "light"
          },
          "paper_bgcolor": "white",
          "plot_bgcolor": "#E5ECF6",
          "polar": {
           "angularaxis": {
            "gridcolor": "white",
            "linecolor": "white",
            "ticks": ""
           },
           "bgcolor": "#E5ECF6",
           "radialaxis": {
            "gridcolor": "white",
            "linecolor": "white",
            "ticks": ""
           }
          },
          "scene": {
           "xaxis": {
            "backgroundcolor": "#E5ECF6",
            "gridcolor": "white",
            "gridwidth": 2,
            "linecolor": "white",
            "showbackground": true,
            "ticks": "",
            "zerolinecolor": "white"
           },
           "yaxis": {
            "backgroundcolor": "#E5ECF6",
            "gridcolor": "white",
            "gridwidth": 2,
            "linecolor": "white",
            "showbackground": true,
            "ticks": "",
            "zerolinecolor": "white"
           },
           "zaxis": {
            "backgroundcolor": "#E5ECF6",
            "gridcolor": "white",
            "gridwidth": 2,
            "linecolor": "white",
            "showbackground": true,
            "ticks": "",
            "zerolinecolor": "white"
           }
          },
          "shapedefaults": {
           "line": {
            "color": "#2a3f5f"
           }
          },
          "ternary": {
           "aaxis": {
            "gridcolor": "white",
            "linecolor": "white",
            "ticks": ""
           },
           "baxis": {
            "gridcolor": "white",
            "linecolor": "white",
            "ticks": ""
           },
           "bgcolor": "#E5ECF6",
           "caxis": {
            "gridcolor": "white",
            "linecolor": "white",
            "ticks": ""
           }
          },
          "title": {
           "x": 0.05
          },
          "xaxis": {
           "automargin": true,
           "gridcolor": "white",
           "linecolor": "white",
           "ticks": "",
           "title": {
            "standoff": 15
           },
           "zerolinecolor": "white",
           "zerolinewidth": 2
          },
          "yaxis": {
           "automargin": true,
           "gridcolor": "white",
           "linecolor": "white",
           "ticks": "",
           "title": {
            "standoff": 15
           },
           "zerolinecolor": "white",
           "zerolinewidth": 2
          }
         }
        },
        "title": {
         "text": "Preparation Hamiltonian"
        },
        "xaxis": {
         "anchor": "y",
         "domain": [
          0,
          1
         ],
         "showgrid": true,
         "ticklen": 5,
         "ticks": "outside",
         "ticktext": [
          "1-local",
          "2-local",
          "3-local"
         ],
         "tickvals": [
          -0.5,
          11.5,
          38.5
         ],
         "title": {
          "text": "Pauli Basis"
         }
        },
        "yaxis": {
         "anchor": "x",
         "domain": [
          0,
          1
         ],
         "title": {
          "text": "Coefficient"
         }
        }
       }
      }
     },
     "metadata": {},
     "output_type": "display_data"
    },
    {
     "name": "stdout",
     "output_type": "stream",
     "text": [
      "[0.0, 0.00019999999999999998, 0.0022, 0.0222, 0.2222, 1.0]\n",
      "0.5371181909758428\n"
     ]
    }
   ],
   "source": [
    "results = get_results(\"../saved_simulations/turbo/allcontrols4heisenberg\")\n",
    "fig = preparation(results[0],-1)\n",
    "fig.update_layout(legend={\"yanchor\":\"bottom\",\"y\":0.01,\"xanchor\":\"right\",\"x\":0.99})\n",
    "fig.show()\n",
    "print(results[0].betas)\n",
    "print(results[0].fidelity(-1))"
   ]
  },
  {
   "cell_type": "code",
   "execution_count": null,
   "metadata": {},
   "outputs": [
    {
     "data": {
      "application/vnd.plotly.v1+json": {
       "config": {
        "plotlyServerURL": "https://plot.ly"
       },
       "data": [
        {
         "alignmentgroup": "True",
         "hovertemplate": "<b>%{hovertext}</b><br><br>variable=H<sub>prep<br>Pauli Basis=%{x}<br>value=%{y}<extra></extra>",
         "hovertext": [
          "XIII",
          "IXII",
          "IIXI",
          "IIIX",
          "YIII",
          "IYII",
          "IIYI",
          "IIIY",
          "ZIII",
          "IZII",
          "IIZI",
          "IIIZ",
          "XXII",
          "IXXI",
          "IIXX",
          "XYII",
          "IXYI",
          "IIXY",
          "XZII",
          "IXZI",
          "IIXZ",
          "YXII",
          "IYXI",
          "IIYX",
          "YYII",
          "IYYI",
          "IIYY",
          "YZII",
          "IYZI",
          "IIYZ",
          "ZXII",
          "IZXI",
          "IIZX",
          "ZYII",
          "IZYI",
          "IIZY",
          "ZZII",
          "IZZI",
          "IIZZ"
         ],
         "legendgroup": "H<sub>prep",
         "marker": {
          "color": "#636efa",
          "pattern": {
           "shape": ""
          }
         },
         "name": "H<sub>prep",
         "offsetgroup": "H<sub>prep",
         "orientation": "v",
         "showlegend": true,
         "textposition": "auto",
         "type": "bar",
         "x": [
          0,
          1,
          2,
          3,
          4,
          5,
          6,
          7,
          8,
          9,
          10,
          11,
          12,
          13,
          14,
          15,
          16,
          17,
          18,
          19,
          20,
          21,
          22,
          23,
          24,
          25,
          26,
          27,
          28,
          29,
          30,
          31,
          32,
          33,
          34,
          35,
          36,
          37,
          38
         ],
         "xaxis": "x",
         "y": [
          -0.9848278502691135,
          -0.972655903963555,
          -0.9865504932179519,
          -0.9960350785947623,
          0,
          0,
          0,
          0,
          2.220446049250313e-16,
          1.6653345369377348e-16,
          1.7763568394002505e-15,
          2.220446049250313e-16,
          -0.017032097741797803,
          -0.006843334488430691,
          -0.000054767206339682156,
          0,
          0,
          0,
          5.204170427930421e-16,
          4.440892098500626e-16,
          3.608224830031759e-16,
          0,
          0,
          0,
          0.05542184966198288,
          0.006829902607263167,
          -0.022692240502500533,
          0,
          0,
          0,
          1.0269562977782698e-15,
          4.440892098500626e-16,
          -8.326672684688674e-16,
          0,
          0,
          0,
          0.1540368798234148,
          0.15267011409861014,
          0.17101841817377328
         ],
         "yaxis": "y"
        },
        {
         "alignmentgroup": "True",
         "hovertemplate": "<b>%{hovertext}</b><br><br>variable=H<sub>o<br>Pauli Basis=%{x}<br>value=%{y}<extra></extra>",
         "hovertext": [
          "XIII",
          "IXII",
          "IIXI",
          "IIIX",
          "YIII",
          "IYII",
          "IIYI",
          "IIIY",
          "ZIII",
          "IZII",
          "IIZI",
          "IIIZ",
          "XXII",
          "IXXI",
          "IIXX",
          "XYII",
          "IXYI",
          "IIXY",
          "XZII",
          "IXZI",
          "IIXZ",
          "YXII",
          "IYXI",
          "IIYX",
          "YYII",
          "IYYI",
          "IIYY",
          "YZII",
          "IYZI",
          "IIYZ",
          "ZXII",
          "IZXI",
          "IIZX",
          "ZYII",
          "IZYI",
          "IIZY",
          "ZZII",
          "IZZI",
          "IIZZ"
         ],
         "legendgroup": "H<sub>o",
         "marker": {
          "color": "#EF553B",
          "pattern": {
           "shape": ""
          }
         },
         "name": "H<sub>o",
         "offsetgroup": "H<sub>o",
         "orientation": "v",
         "showlegend": true,
         "textposition": "auto",
         "type": "bar",
         "x": [
          0,
          1,
          2,
          3,
          4,
          5,
          6,
          7,
          8,
          9,
          10,
          11,
          12,
          13,
          14,
          15,
          16,
          17,
          18,
          19,
          20,
          21,
          22,
          23,
          24,
          25,
          26,
          27,
          28,
          29,
          30,
          31,
          32,
          33,
          34,
          35,
          36,
          37,
          38
         ],
         "xaxis": "x",
         "y": [
          -1,
          -1,
          -1,
          -1,
          0,
          0,
          0,
          0,
          0,
          0,
          0,
          0,
          0,
          0,
          0,
          0,
          0,
          0,
          0,
          0,
          0,
          0,
          0,
          0,
          0,
          0,
          0,
          0,
          0,
          0,
          0,
          0,
          0,
          0,
          0,
          0,
          0.25,
          0.25,
          0.25
         ],
         "yaxis": "y"
        }
       ],
       "layout": {
        "barmode": "group",
        "font": {
         "color": "black",
         "size": 18
        },
        "legend": {
         "title": {
          "text": ""
         },
         "tracegroupgap": 0,
         "x": 0.99,
         "xanchor": "right",
         "y": 0.01,
         "yanchor": "bottom"
        },
        "margin": {
         "t": 60
        },
        "template": {
         "data": {
          "bar": [
           {
            "error_x": {
             "color": "#2a3f5f"
            },
            "error_y": {
             "color": "#2a3f5f"
            },
            "marker": {
             "line": {
              "color": "#E5ECF6",
              "width": 0.5
             },
             "pattern": {
              "fillmode": "overlay",
              "size": 10,
              "solidity": 0.2
             }
            },
            "type": "bar"
           }
          ],
          "barpolar": [
           {
            "marker": {
             "line": {
              "color": "#E5ECF6",
              "width": 0.5
             },
             "pattern": {
              "fillmode": "overlay",
              "size": 10,
              "solidity": 0.2
             }
            },
            "type": "barpolar"
           }
          ],
          "carpet": [
           {
            "aaxis": {
             "endlinecolor": "#2a3f5f",
             "gridcolor": "white",
             "linecolor": "white",
             "minorgridcolor": "white",
             "startlinecolor": "#2a3f5f"
            },
            "baxis": {
             "endlinecolor": "#2a3f5f",
             "gridcolor": "white",
             "linecolor": "white",
             "minorgridcolor": "white",
             "startlinecolor": "#2a3f5f"
            },
            "type": "carpet"
           }
          ],
          "choropleth": [
           {
            "colorbar": {
             "outlinewidth": 0,
             "ticks": ""
            },
            "type": "choropleth"
           }
          ],
          "contour": [
           {
            "colorbar": {
             "outlinewidth": 0,
             "ticks": ""
            },
            "colorscale": [
             [
              0,
              "#0d0887"
             ],
             [
              0.1111111111111111,
              "#46039f"
             ],
             [
              0.2222222222222222,
              "#7201a8"
             ],
             [
              0.3333333333333333,
              "#9c179e"
             ],
             [
              0.4444444444444444,
              "#bd3786"
             ],
             [
              0.5555555555555556,
              "#d8576b"
             ],
             [
              0.6666666666666666,
              "#ed7953"
             ],
             [
              0.7777777777777778,
              "#fb9f3a"
             ],
             [
              0.8888888888888888,
              "#fdca26"
             ],
             [
              1,
              "#f0f921"
             ]
            ],
            "type": "contour"
           }
          ],
          "contourcarpet": [
           {
            "colorbar": {
             "outlinewidth": 0,
             "ticks": ""
            },
            "type": "contourcarpet"
           }
          ],
          "heatmap": [
           {
            "colorbar": {
             "outlinewidth": 0,
             "ticks": ""
            },
            "colorscale": [
             [
              0,
              "#0d0887"
             ],
             [
              0.1111111111111111,
              "#46039f"
             ],
             [
              0.2222222222222222,
              "#7201a8"
             ],
             [
              0.3333333333333333,
              "#9c179e"
             ],
             [
              0.4444444444444444,
              "#bd3786"
             ],
             [
              0.5555555555555556,
              "#d8576b"
             ],
             [
              0.6666666666666666,
              "#ed7953"
             ],
             [
              0.7777777777777778,
              "#fb9f3a"
             ],
             [
              0.8888888888888888,
              "#fdca26"
             ],
             [
              1,
              "#f0f921"
             ]
            ],
            "type": "heatmap"
           }
          ],
          "heatmapgl": [
           {
            "colorbar": {
             "outlinewidth": 0,
             "ticks": ""
            },
            "colorscale": [
             [
              0,
              "#0d0887"
             ],
             [
              0.1111111111111111,
              "#46039f"
             ],
             [
              0.2222222222222222,
              "#7201a8"
             ],
             [
              0.3333333333333333,
              "#9c179e"
             ],
             [
              0.4444444444444444,
              "#bd3786"
             ],
             [
              0.5555555555555556,
              "#d8576b"
             ],
             [
              0.6666666666666666,
              "#ed7953"
             ],
             [
              0.7777777777777778,
              "#fb9f3a"
             ],
             [
              0.8888888888888888,
              "#fdca26"
             ],
             [
              1,
              "#f0f921"
             ]
            ],
            "type": "heatmapgl"
           }
          ],
          "histogram": [
           {
            "marker": {
             "pattern": {
              "fillmode": "overlay",
              "size": 10,
              "solidity": 0.2
             }
            },
            "type": "histogram"
           }
          ],
          "histogram2d": [
           {
            "colorbar": {
             "outlinewidth": 0,
             "ticks": ""
            },
            "colorscale": [
             [
              0,
              "#0d0887"
             ],
             [
              0.1111111111111111,
              "#46039f"
             ],
             [
              0.2222222222222222,
              "#7201a8"
             ],
             [
              0.3333333333333333,
              "#9c179e"
             ],
             [
              0.4444444444444444,
              "#bd3786"
             ],
             [
              0.5555555555555556,
              "#d8576b"
             ],
             [
              0.6666666666666666,
              "#ed7953"
             ],
             [
              0.7777777777777778,
              "#fb9f3a"
             ],
             [
              0.8888888888888888,
              "#fdca26"
             ],
             [
              1,
              "#f0f921"
             ]
            ],
            "type": "histogram2d"
           }
          ],
          "histogram2dcontour": [
           {
            "colorbar": {
             "outlinewidth": 0,
             "ticks": ""
            },
            "colorscale": [
             [
              0,
              "#0d0887"
             ],
             [
              0.1111111111111111,
              "#46039f"
             ],
             [
              0.2222222222222222,
              "#7201a8"
             ],
             [
              0.3333333333333333,
              "#9c179e"
             ],
             [
              0.4444444444444444,
              "#bd3786"
             ],
             [
              0.5555555555555556,
              "#d8576b"
             ],
             [
              0.6666666666666666,
              "#ed7953"
             ],
             [
              0.7777777777777778,
              "#fb9f3a"
             ],
             [
              0.8888888888888888,
              "#fdca26"
             ],
             [
              1,
              "#f0f921"
             ]
            ],
            "type": "histogram2dcontour"
           }
          ],
          "mesh3d": [
           {
            "colorbar": {
             "outlinewidth": 0,
             "ticks": ""
            },
            "type": "mesh3d"
           }
          ],
          "parcoords": [
           {
            "line": {
             "colorbar": {
              "outlinewidth": 0,
              "ticks": ""
             }
            },
            "type": "parcoords"
           }
          ],
          "pie": [
           {
            "automargin": true,
            "type": "pie"
           }
          ],
          "scatter": [
           {
            "fillpattern": {
             "fillmode": "overlay",
             "size": 10,
             "solidity": 0.2
            },
            "type": "scatter"
           }
          ],
          "scatter3d": [
           {
            "line": {
             "colorbar": {
              "outlinewidth": 0,
              "ticks": ""
             }
            },
            "marker": {
             "colorbar": {
              "outlinewidth": 0,
              "ticks": ""
             }
            },
            "type": "scatter3d"
           }
          ],
          "scattercarpet": [
           {
            "marker": {
             "colorbar": {
              "outlinewidth": 0,
              "ticks": ""
             }
            },
            "type": "scattercarpet"
           }
          ],
          "scattergeo": [
           {
            "marker": {
             "colorbar": {
              "outlinewidth": 0,
              "ticks": ""
             }
            },
            "type": "scattergeo"
           }
          ],
          "scattergl": [
           {
            "marker": {
             "colorbar": {
              "outlinewidth": 0,
              "ticks": ""
             }
            },
            "type": "scattergl"
           }
          ],
          "scattermapbox": [
           {
            "marker": {
             "colorbar": {
              "outlinewidth": 0,
              "ticks": ""
             }
            },
            "type": "scattermapbox"
           }
          ],
          "scatterpolar": [
           {
            "marker": {
             "colorbar": {
              "outlinewidth": 0,
              "ticks": ""
             }
            },
            "type": "scatterpolar"
           }
          ],
          "scatterpolargl": [
           {
            "marker": {
             "colorbar": {
              "outlinewidth": 0,
              "ticks": ""
             }
            },
            "type": "scatterpolargl"
           }
          ],
          "scatterternary": [
           {
            "marker": {
             "colorbar": {
              "outlinewidth": 0,
              "ticks": ""
             }
            },
            "type": "scatterternary"
           }
          ],
          "surface": [
           {
            "colorbar": {
             "outlinewidth": 0,
             "ticks": ""
            },
            "colorscale": [
             [
              0,
              "#0d0887"
             ],
             [
              0.1111111111111111,
              "#46039f"
             ],
             [
              0.2222222222222222,
              "#7201a8"
             ],
             [
              0.3333333333333333,
              "#9c179e"
             ],
             [
              0.4444444444444444,
              "#bd3786"
             ],
             [
              0.5555555555555556,
              "#d8576b"
             ],
             [
              0.6666666666666666,
              "#ed7953"
             ],
             [
              0.7777777777777778,
              "#fb9f3a"
             ],
             [
              0.8888888888888888,
              "#fdca26"
             ],
             [
              1,
              "#f0f921"
             ]
            ],
            "type": "surface"
           }
          ],
          "table": [
           {
            "cells": {
             "fill": {
              "color": "#EBF0F8"
             },
             "line": {
              "color": "white"
             }
            },
            "header": {
             "fill": {
              "color": "#C8D4E3"
             },
             "line": {
              "color": "white"
             }
            },
            "type": "table"
           }
          ]
         },
         "layout": {
          "annotationdefaults": {
           "arrowcolor": "#2a3f5f",
           "arrowhead": 0,
           "arrowwidth": 1
          },
          "autotypenumbers": "strict",
          "coloraxis": {
           "colorbar": {
            "outlinewidth": 0,
            "ticks": ""
           }
          },
          "colorscale": {
           "diverging": [
            [
             0,
             "#8e0152"
            ],
            [
             0.1,
             "#c51b7d"
            ],
            [
             0.2,
             "#de77ae"
            ],
            [
             0.3,
             "#f1b6da"
            ],
            [
             0.4,
             "#fde0ef"
            ],
            [
             0.5,
             "#f7f7f7"
            ],
            [
             0.6,
             "#e6f5d0"
            ],
            [
             0.7,
             "#b8e186"
            ],
            [
             0.8,
             "#7fbc41"
            ],
            [
             0.9,
             "#4d9221"
            ],
            [
             1,
             "#276419"
            ]
           ],
           "sequential": [
            [
             0,
             "#0d0887"
            ],
            [
             0.1111111111111111,
             "#46039f"
            ],
            [
             0.2222222222222222,
             "#7201a8"
            ],
            [
             0.3333333333333333,
             "#9c179e"
            ],
            [
             0.4444444444444444,
             "#bd3786"
            ],
            [
             0.5555555555555556,
             "#d8576b"
            ],
            [
             0.6666666666666666,
             "#ed7953"
            ],
            [
             0.7777777777777778,
             "#fb9f3a"
            ],
            [
             0.8888888888888888,
             "#fdca26"
            ],
            [
             1,
             "#f0f921"
            ]
           ],
           "sequentialminus": [
            [
             0,
             "#0d0887"
            ],
            [
             0.1111111111111111,
             "#46039f"
            ],
            [
             0.2222222222222222,
             "#7201a8"
            ],
            [
             0.3333333333333333,
             "#9c179e"
            ],
            [
             0.4444444444444444,
             "#bd3786"
            ],
            [
             0.5555555555555556,
             "#d8576b"
            ],
            [
             0.6666666666666666,
             "#ed7953"
            ],
            [
             0.7777777777777778,
             "#fb9f3a"
            ],
            [
             0.8888888888888888,
             "#fdca26"
            ],
            [
             1,
             "#f0f921"
            ]
           ]
          },
          "colorway": [
           "#636efa",
           "#EF553B",
           "#00cc96",
           "#ab63fa",
           "#FFA15A",
           "#19d3f3",
           "#FF6692",
           "#B6E880",
           "#FF97FF",
           "#FECB52"
          ],
          "font": {
           "color": "#2a3f5f"
          },
          "geo": {
           "bgcolor": "white",
           "lakecolor": "white",
           "landcolor": "#E5ECF6",
           "showlakes": true,
           "showland": true,
           "subunitcolor": "white"
          },
          "hoverlabel": {
           "align": "left"
          },
          "hovermode": "closest",
          "mapbox": {
           "style": "light"
          },
          "paper_bgcolor": "white",
          "plot_bgcolor": "#E5ECF6",
          "polar": {
           "angularaxis": {
            "gridcolor": "white",
            "linecolor": "white",
            "ticks": ""
           },
           "bgcolor": "#E5ECF6",
           "radialaxis": {
            "gridcolor": "white",
            "linecolor": "white",
            "ticks": ""
           }
          },
          "scene": {
           "xaxis": {
            "backgroundcolor": "#E5ECF6",
            "gridcolor": "white",
            "gridwidth": 2,
            "linecolor": "white",
            "showbackground": true,
            "ticks": "",
            "zerolinecolor": "white"
           },
           "yaxis": {
            "backgroundcolor": "#E5ECF6",
            "gridcolor": "white",
            "gridwidth": 2,
            "linecolor": "white",
            "showbackground": true,
            "ticks": "",
            "zerolinecolor": "white"
           },
           "zaxis": {
            "backgroundcolor": "#E5ECF6",
            "gridcolor": "white",
            "gridwidth": 2,
            "linecolor": "white",
            "showbackground": true,
            "ticks": "",
            "zerolinecolor": "white"
           }
          },
          "shapedefaults": {
           "line": {
            "color": "#2a3f5f"
           }
          },
          "ternary": {
           "aaxis": {
            "gridcolor": "white",
            "linecolor": "white",
            "ticks": ""
           },
           "baxis": {
            "gridcolor": "white",
            "linecolor": "white",
            "ticks": ""
           },
           "bgcolor": "#E5ECF6",
           "caxis": {
            "gridcolor": "white",
            "linecolor": "white",
            "ticks": ""
           }
          },
          "title": {
           "x": 0.05
          },
          "xaxis": {
           "automargin": true,
           "gridcolor": "white",
           "linecolor": "white",
           "ticks": "",
           "title": {
            "standoff": 15
           },
           "zerolinecolor": "white",
           "zerolinewidth": 2
          },
          "yaxis": {
           "automargin": true,
           "gridcolor": "white",
           "linecolor": "white",
           "ticks": "",
           "title": {
            "standoff": 15
           },
           "zerolinecolor": "white",
           "zerolinewidth": 2
          }
         }
        },
        "title": {
         "text": "Preparation Hamiltonian"
        },
        "xaxis": {
         "anchor": "y",
         "domain": [
          0,
          1
         ],
         "showgrid": true,
         "ticklen": 5,
         "ticks": "outside",
         "ticktext": [
          "1-local",
          "2-local"
         ],
         "tickvals": [
          -0.5,
          11.5
         ],
         "title": {
          "text": "Pauli Basis"
         }
        },
        "yaxis": {
         "anchor": "x",
         "domain": [
          0,
          1
         ],
         "title": {
          "text": "Coefficient"
         }
        }
       }
      }
     },
     "metadata": {},
     "output_type": "display_data"
    },
    {
     "name": "stdout",
     "output_type": "stream",
     "text": [
      "[0.0, 0.00019999999999999998, 0.0022, 0.0222, 0.2222, 0.4222, 0.6222000000000001, 0.8222, 1.0]\n",
      "0.007616588471520691\n"
     ]
    }
   ],
   "source": [
    "results = get_results(\"../saved_simulations/turbo/allcontrols4ising\")\n",
    "fig = preparation(results[0],-1)\n",
    "fig.update_layout(legend={\"yanchor\":\"bottom\",\"y\":0.01,\"xanchor\":\"right\",\"x\":0.99})\n",
    "fig.show()\n",
    "print(results[0].betas)\n",
    "print(1-results[0].fidelity(-1))"
   ]
  },
  {
   "cell_type": "code",
   "execution_count": null,
   "metadata": {},
   "outputs": [
    {
     "data": {
      "application/vnd.plotly.v1+json": {
       "config": {
        "plotlyServerURL": "https://plot.ly"
       },
       "data": [
        {
         "alignmentgroup": "True",
         "hovertemplate": "<b>%{hovertext}</b><br><br>variable=H<sub>prep<br>Pauli Basis=%{x}<br>value=%{y}<extra></extra>",
         "hovertext": [
          "XIIIII",
          "IXIIII",
          "IIXIII",
          "IIIXII",
          "IIIIXI",
          "IIIIIX",
          "YIIIII",
          "IYIIII",
          "IIYIII",
          "IIIYII",
          "IIIIYI",
          "IIIIIY",
          "ZIIIII",
          "IZIIII",
          "IIZIII",
          "IIIZII",
          "IIIIZI",
          "IIIIIZ",
          "XXIIII",
          "IXXIII",
          "IIXXII",
          "IIIXXI",
          "IIIIXX",
          "XYIIII",
          "IXYIII",
          "IIXYII",
          "IIIXYI",
          "IIIIXY",
          "XZIIII",
          "IXZIII",
          "IIXZII",
          "IIIXZI",
          "IIIIXZ",
          "YXIIII",
          "IYXIII",
          "IIYXII",
          "IIIYXI",
          "IIIIYX",
          "YYIIII",
          "IYYIII",
          "IIYYII",
          "IIIYYI",
          "IIIIYY",
          "YZIIII",
          "IYZIII",
          "IIYZII",
          "IIIYZI",
          "IIIIYZ",
          "ZXIIII",
          "IZXIII",
          "IIZXII",
          "IIIZXI",
          "IIIIZX",
          "ZYIIII",
          "IZYIII",
          "IIZYII",
          "IIIZYI",
          "IIIIZY",
          "ZZIIII",
          "IZZIII",
          "IIZZII",
          "IIIZZI",
          "IIIIZZ",
          "XIXIII",
          "IXIXII",
          "IIXIXI",
          "IIIXIX",
          "XXXIII",
          "IXXXII",
          "IIXXXI",
          "IIIXXX",
          "XYXIII",
          "IXYXII",
          "IIXYXI",
          "IIIXYX",
          "XZXIII",
          "IXZXII",
          "IIXZXI",
          "IIIXZX",
          "XIYIII",
          "IXIYII",
          "IIXIYI",
          "IIIXIY",
          "XXYIII",
          "IXXYII",
          "IIXXYI",
          "IIIXXY",
          "XYYIII",
          "IXYYII",
          "IIXYYI",
          "IIIXYY",
          "XZYIII",
          "IXZYII",
          "IIXZYI",
          "IIIXZY",
          "XIZIII",
          "IXIZII",
          "IIXIZI",
          "IIIXIZ",
          "XXZIII",
          "IXXZII",
          "IIXXZI",
          "IIIXXZ",
          "XYZIII",
          "IXYZII",
          "IIXYZI",
          "IIIXYZ",
          "XZZIII",
          "IXZZII",
          "IIXZZI",
          "IIIXZZ",
          "YIXIII",
          "IYIXII",
          "IIYIXI",
          "IIIYIX",
          "YXXIII",
          "IYXXII",
          "IIYXXI",
          "IIIYXX",
          "YYXIII",
          "IYYXII",
          "IIYYXI",
          "IIIYYX",
          "YZXIII",
          "IYZXII",
          "IIYZXI",
          "IIIYZX",
          "YIYIII",
          "IYIYII",
          "IIYIYI",
          "IIIYIY",
          "YXYIII",
          "IYXYII",
          "IIYXYI",
          "IIIYXY",
          "YYYIII",
          "IYYYII",
          "IIYYYI",
          "IIIYYY",
          "YZYIII",
          "IYZYII",
          "IIYZYI",
          "IIIYZY",
          "YIZIII",
          "IYIZII",
          "IIYIZI",
          "IIIYIZ",
          "YXZIII",
          "IYXZII",
          "IIYXZI",
          "IIIYXZ",
          "YYZIII",
          "IYYZII",
          "IIYYZI",
          "IIIYYZ",
          "YZZIII",
          "IYZZII",
          "IIYZZI",
          "IIIYZZ",
          "ZIXIII",
          "IZIXII",
          "IIZIXI",
          "IIIZIX",
          "ZXXIII",
          "IZXXII",
          "IIZXXI",
          "IIIZXX",
          "ZYXIII",
          "IZYXII",
          "IIZYXI",
          "IIIZYX",
          "ZZXIII",
          "IZZXII",
          "IIZZXI",
          "IIIZZX",
          "ZIYIII",
          "IZIYII",
          "IIZIYI",
          "IIIZIY",
          "ZXYIII",
          "IZXYII",
          "IIZXYI",
          "IIIZXY",
          "ZYYIII",
          "IZYYII",
          "IIZYYI",
          "IIIZYY",
          "ZZYIII",
          "IZZYII",
          "IIZZYI",
          "IIIZZY",
          "ZIZIII",
          "IZIZII",
          "IIZIZI",
          "IIIZIZ",
          "ZXZIII",
          "IZXZII",
          "IIZXZI",
          "IIIZXZ",
          "ZYZIII",
          "IZYZII",
          "IIZYZI",
          "IIIZYZ",
          "ZZZIII",
          "IZZZII",
          "IIZZZI",
          "IIIZZZ"
         ],
         "legendgroup": "H<sub>prep",
         "marker": {
          "color": "#636efa",
          "pattern": {
           "shape": ""
          }
         },
         "name": "H<sub>prep",
         "offsetgroup": "H<sub>prep",
         "orientation": "v",
         "showlegend": true,
         "textposition": "auto",
         "type": "bar",
         "x": [
          0,
          1,
          2,
          3,
          4,
          5,
          6,
          7,
          8,
          9,
          10,
          11,
          12,
          13,
          14,
          15,
          16,
          17,
          18,
          19,
          20,
          21,
          22,
          23,
          24,
          25,
          26,
          27,
          28,
          29,
          30,
          31,
          32,
          33,
          34,
          35,
          36,
          37,
          38,
          39,
          40,
          41,
          42,
          43,
          44,
          45,
          46,
          47,
          48,
          49,
          50,
          51,
          52,
          53,
          54,
          55,
          56,
          57,
          58,
          59,
          60,
          61,
          62,
          63,
          64,
          65,
          66,
          67,
          68,
          69,
          70,
          71,
          72,
          73,
          74,
          75,
          76,
          77,
          78,
          79,
          80,
          81,
          82,
          83,
          84,
          85,
          86,
          87,
          88,
          89,
          90,
          91,
          92,
          93,
          94,
          95,
          96,
          97,
          98,
          99,
          100,
          101,
          102,
          103,
          104,
          105,
          106,
          107,
          108,
          109,
          110,
          111,
          112,
          113,
          114,
          115,
          116,
          117,
          118,
          119,
          120,
          121,
          122,
          123,
          124,
          125,
          126,
          127,
          128,
          129,
          130,
          131,
          132,
          133,
          134,
          135,
          136,
          137,
          138,
          139,
          140,
          141,
          142,
          143,
          144,
          145,
          146,
          147,
          148,
          149,
          150,
          151,
          152,
          153,
          154,
          155,
          156,
          157,
          158,
          159,
          160,
          161,
          162,
          163,
          164,
          165,
          166,
          167,
          168,
          169,
          170,
          171,
          172,
          173,
          174,
          175,
          176,
          177,
          178,
          179,
          180,
          181,
          182,
          183,
          184,
          185,
          186,
          187,
          188,
          189,
          190,
          191,
          192,
          193,
          194,
          195,
          196,
          197,
          198,
          199,
          200,
          201,
          202,
          203,
          204,
          205,
          206
         ],
         "xaxis": "x",
         "y": [
          0.01238687640950695,
          0.01378916813729973,
          0.025769376251950152,
          -0.03215088974028116,
          0.0009916356091651483,
          -0.012907608260100348,
          0,
          0,
          0,
          0,
          0,
          0,
          -0.42139151170274214,
          -0.4057665820962986,
          -0.3788909984976431,
          -0.3956560569753159,
          -0.3879947785268367,
          -0.410263996436832,
          0.10252588266257272,
          0.10385720883872937,
          0.10383665956805947,
          0.10380353555880249,
          0.10281222531154491,
          0,
          0,
          0,
          0,
          0,
          0.000026493950083990043,
          0.00009664256967668175,
          -0.0006307845205325196,
          0.00032491634667963093,
          -0.00011744292142963094,
          0,
          0,
          0,
          0,
          0,
          -0.01001935057688582,
          -0.00917274639555066,
          -0.009002071212763238,
          -0.009168711832105778,
          -0.009446325139010812,
          0,
          0,
          0,
          0,
          0,
          -0.00000203076164543477,
          0.00001714872700468034,
          0.00042177291372024774,
          -0.0002740659752842342,
          0.00006576297794289813,
          0,
          0,
          0,
          0,
          0,
          0.10696661998229148,
          0.10763105172972628,
          0.10739864778188074,
          0.10751606869152999,
          0.10702728874448364,
          0.00014024740761828778,
          0.0001402628940907204,
          0.00014471143648508013,
          0.00013515223431110647,
          0.00010797253103786299,
          0.0002658753532706319,
          -0.00032562591400159643,
          0.000040628312411749,
          0,
          0,
          0,
          0,
          0.0010680934718200331,
          0.001008030297554733,
          0.0010657116177725284,
          0.001025163855579234,
          0,
          0,
          0,
          0,
          0,
          0,
          0,
          0,
          0.00006588866011292339,
          -0.00010856322885993678,
          0.000008699487594928737,
          -0.00003060779171189839,
          0,
          0,
          0,
          0,
          -0.0000061262355444602,
          -0.000008505337290379993,
          -0.0000069200847923368836,
          0.000011154806057366018,
          -0.0024863106029028763,
          -0.002365829514231841,
          -0.0024909776002483563,
          -0.002421143622520657,
          0,
          0,
          0,
          0,
          -0.000040691411509543435,
          -0.00006838314956074642,
          0.00011227109419267465,
          -0.000013465483176093584,
          0,
          0,
          0,
          0,
          0,
          0,
          0,
          0,
          0.00002603504671815896,
          0.000034026937095100034,
          0.00008871177843266334,
          -0.00009125755126406933,
          0,
          0,
          0,
          0,
          -0.00006359087759268164,
          -0.00006153346927949482,
          -0.00006200225713610483,
          -0.00006199223134420834,
          -0.000020731074982903857,
          -0.0000179941119834672,
          0.000019469260613756974,
          0.000008971963207317169,
          0,
          0,
          0,
          0,
          0.000286071799157218,
          0.00027577419307179017,
          0.0002660363213741506,
          0.0002813442872954113,
          0,
          0,
          0,
          0,
          0,
          0,
          0,
          0,
          0.002591906397165601,
          0.002543812797368171,
          0.002382499363881455,
          0.0024705665132167703,
          0,
          0,
          0,
          0,
          -0.00002719934967671618,
          -0.000031656851704240144,
          0.00005503599130260263,
          -0.000002049582066015375,
          -0.0025408067873829024,
          -0.0023798273446005254,
          -0.002478179105299145,
          -0.0024053336630196413,
          0,
          0,
          0,
          0,
          -0.000037015226852707785,
          -0.00008646099278515563,
          0.00008852813996002919,
          5.406969159197402e-7,
          0,
          0,
          0,
          0,
          0,
          0,
          0,
          0,
          0.002364143566878971,
          0.0024921376385767437,
          0.002429626675311645,
          0.002554861968454044,
          0,
          0,
          0,
          0,
          0.0014331436028115208,
          0.00118738320440763,
          0.0013237627513099648,
          0.0012351507380566201,
          0.00010941380962642001,
          0.00017395733083682243,
          -0.0002122192626050856,
          -0.00001076867358415467,
          0,
          0,
          0,
          0,
          -0.0039043579239012305,
          -0.0034657174904483418,
          -0.003695118435071726,
          -0.0035251497892335587
         ],
         "yaxis": "y"
        },
        {
         "alignmentgroup": "True",
         "hovertemplate": "<b>%{hovertext}</b><br><br>variable=H<sub>o<br>Pauli Basis=%{x}<br>value=%{y}<extra></extra>",
         "hovertext": [
          "XIIIII",
          "IXIIII",
          "IIXIII",
          "IIIXII",
          "IIIIXI",
          "IIIIIX",
          "YIIIII",
          "IYIIII",
          "IIYIII",
          "IIIYII",
          "IIIIYI",
          "IIIIIY",
          "ZIIIII",
          "IZIIII",
          "IIZIII",
          "IIIZII",
          "IIIIZI",
          "IIIIIZ",
          "XXIIII",
          "IXXIII",
          "IIXXII",
          "IIIXXI",
          "IIIIXX",
          "XYIIII",
          "IXYIII",
          "IIXYII",
          "IIIXYI",
          "IIIIXY",
          "XZIIII",
          "IXZIII",
          "IIXZII",
          "IIIXZI",
          "IIIIXZ",
          "YXIIII",
          "IYXIII",
          "IIYXII",
          "IIIYXI",
          "IIIIYX",
          "YYIIII",
          "IYYIII",
          "IIYYII",
          "IIIYYI",
          "IIIIYY",
          "YZIIII",
          "IYZIII",
          "IIYZII",
          "IIIYZI",
          "IIIIYZ",
          "ZXIIII",
          "IZXIII",
          "IIZXII",
          "IIIZXI",
          "IIIIZX",
          "ZYIIII",
          "IZYIII",
          "IIZYII",
          "IIIZYI",
          "IIIIZY",
          "ZZIIII",
          "IZZIII",
          "IIZZII",
          "IIIZZI",
          "IIIIZZ",
          "XIXIII",
          "IXIXII",
          "IIXIXI",
          "IIIXIX",
          "XXXIII",
          "IXXXII",
          "IIXXXI",
          "IIIXXX",
          "XYXIII",
          "IXYXII",
          "IIXYXI",
          "IIIXYX",
          "XZXIII",
          "IXZXII",
          "IIXZXI",
          "IIIXZX",
          "XIYIII",
          "IXIYII",
          "IIXIYI",
          "IIIXIY",
          "XXYIII",
          "IXXYII",
          "IIXXYI",
          "IIIXXY",
          "XYYIII",
          "IXYYII",
          "IIXYYI",
          "IIIXYY",
          "XZYIII",
          "IXZYII",
          "IIXZYI",
          "IIIXZY",
          "XIZIII",
          "IXIZII",
          "IIXIZI",
          "IIIXIZ",
          "XXZIII",
          "IXXZII",
          "IIXXZI",
          "IIIXXZ",
          "XYZIII",
          "IXYZII",
          "IIXYZI",
          "IIIXYZ",
          "XZZIII",
          "IXZZII",
          "IIXZZI",
          "IIIXZZ",
          "YIXIII",
          "IYIXII",
          "IIYIXI",
          "IIIYIX",
          "YXXIII",
          "IYXXII",
          "IIYXXI",
          "IIIYXX",
          "YYXIII",
          "IYYXII",
          "IIYYXI",
          "IIIYYX",
          "YZXIII",
          "IYZXII",
          "IIYZXI",
          "IIIYZX",
          "YIYIII",
          "IYIYII",
          "IIYIYI",
          "IIIYIY",
          "YXYIII",
          "IYXYII",
          "IIYXYI",
          "IIIYXY",
          "YYYIII",
          "IYYYII",
          "IIYYYI",
          "IIIYYY",
          "YZYIII",
          "IYZYII",
          "IIYZYI",
          "IIIYZY",
          "YIZIII",
          "IYIZII",
          "IIYIZI",
          "IIIYIZ",
          "YXZIII",
          "IYXZII",
          "IIYXZI",
          "IIIYXZ",
          "YYZIII",
          "IYYZII",
          "IIYYZI",
          "IIIYYZ",
          "YZZIII",
          "IYZZII",
          "IIYZZI",
          "IIIYZZ",
          "ZIXIII",
          "IZIXII",
          "IIZIXI",
          "IIIZIX",
          "ZXXIII",
          "IZXXII",
          "IIZXXI",
          "IIIZXX",
          "ZYXIII",
          "IZYXII",
          "IIZYXI",
          "IIIZYX",
          "ZZXIII",
          "IZZXII",
          "IIZZXI",
          "IIIZZX",
          "ZIYIII",
          "IZIYII",
          "IIZIYI",
          "IIIZIY",
          "ZXYIII",
          "IZXYII",
          "IIZXYI",
          "IIIZXY",
          "ZYYIII",
          "IZYYII",
          "IIZYYI",
          "IIIZYY",
          "ZZYIII",
          "IZZYII",
          "IIZZYI",
          "IIIZZY",
          "ZIZIII",
          "IZIZII",
          "IIZIZI",
          "IIIZIZ",
          "ZXZIII",
          "IZXZII",
          "IIZXZI",
          "IIIZXZ",
          "ZYZIII",
          "IZYZII",
          "IIZYZI",
          "IIIZYZ",
          "ZZZIII",
          "IZZZII",
          "IIZZZI",
          "IIIZZZ"
         ],
         "legendgroup": "H<sub>o",
         "marker": {
          "color": "#EF553B",
          "pattern": {
           "shape": ""
          }
         },
         "name": "H<sub>o",
         "offsetgroup": "H<sub>o",
         "orientation": "v",
         "showlegend": true,
         "textposition": "auto",
         "type": "bar",
         "x": [
          0,
          1,
          2,
          3,
          4,
          5,
          6,
          7,
          8,
          9,
          10,
          11,
          12,
          13,
          14,
          15,
          16,
          17,
          18,
          19,
          20,
          21,
          22,
          23,
          24,
          25,
          26,
          27,
          28,
          29,
          30,
          31,
          32,
          33,
          34,
          35,
          36,
          37,
          38,
          39,
          40,
          41,
          42,
          43,
          44,
          45,
          46,
          47,
          48,
          49,
          50,
          51,
          52,
          53,
          54,
          55,
          56,
          57,
          58,
          59,
          60,
          61,
          62,
          63,
          64,
          65,
          66,
          67,
          68,
          69,
          70,
          71,
          72,
          73,
          74,
          75,
          76,
          77,
          78,
          79,
          80,
          81,
          82,
          83,
          84,
          85,
          86,
          87,
          88,
          89,
          90,
          91,
          92,
          93,
          94,
          95,
          96,
          97,
          98,
          99,
          100,
          101,
          102,
          103,
          104,
          105,
          106,
          107,
          108,
          109,
          110,
          111,
          112,
          113,
          114,
          115,
          116,
          117,
          118,
          119,
          120,
          121,
          122,
          123,
          124,
          125,
          126,
          127,
          128,
          129,
          130,
          131,
          132,
          133,
          134,
          135,
          136,
          137,
          138,
          139,
          140,
          141,
          142,
          143,
          144,
          145,
          146,
          147,
          148,
          149,
          150,
          151,
          152,
          153,
          154,
          155,
          156,
          157,
          158,
          159,
          160,
          161,
          162,
          163,
          164,
          165,
          166,
          167,
          168,
          169,
          170,
          171,
          172,
          173,
          174,
          175,
          176,
          177,
          178,
          179,
          180,
          181,
          182,
          183,
          184,
          185,
          186,
          187,
          188,
          189,
          190,
          191,
          192,
          193,
          194,
          195,
          196,
          197,
          198,
          199,
          200,
          201,
          202,
          203,
          204,
          205,
          206
         ],
         "xaxis": "x",
         "y": [
          0.012193233632171487,
          0.013384130525433158,
          0.025703946607750605,
          -0.032117033549067024,
          0.0013929612770037293,
          -0.01284352513677215,
          -0.00014847156972599973,
          -0.02380364474848893,
          -0.0021531746768485406,
          -0.0345704959522844,
          0.013767744460329613,
          0.004186065248950522,
          -0.4166098984995433,
          -0.40000994630416997,
          -0.37097494542552634,
          -0.388350101572168,
          -0.38041580973708816,
          -0.4058210399723298,
          0.1,
          0.1,
          0.1,
          0.1,
          0.1,
          0,
          0,
          0,
          0,
          0,
          0,
          0,
          0,
          0,
          0,
          0,
          0,
          0,
          0,
          0,
          0.1,
          0.1,
          0.1,
          0.1,
          0.1,
          0,
          0,
          0,
          0,
          0,
          0,
          0,
          0,
          0,
          0,
          0,
          0,
          0,
          0,
          0,
          0.1,
          0.1,
          0.1,
          0.1,
          0.1,
          0,
          0,
          0,
          0,
          0,
          0,
          0,
          0,
          0,
          0,
          0,
          0,
          0,
          0,
          0,
          0,
          0,
          0,
          0,
          0,
          0,
          0,
          0,
          0,
          0,
          0,
          0,
          0,
          0,
          0,
          0,
          0,
          0,
          0,
          0,
          0,
          0,
          0,
          0,
          0,
          0,
          0,
          0,
          0,
          0,
          0,
          0,
          0,
          0,
          0,
          0,
          0,
          0,
          0,
          0,
          0,
          0,
          0,
          0,
          0,
          0,
          0,
          0,
          0,
          0,
          0,
          0,
          0,
          0,
          0,
          0,
          0,
          0,
          0,
          0,
          0,
          0,
          0,
          0,
          0,
          0,
          0,
          0,
          0,
          0,
          0,
          0,
          0,
          0,
          0,
          0,
          0,
          0,
          0,
          0,
          0,
          0,
          0,
          0,
          0,
          0,
          0,
          0,
          0,
          0,
          0,
          0,
          0,
          0,
          0,
          0,
          0,
          0,
          0,
          0,
          0,
          0,
          0,
          0,
          0,
          0,
          0,
          0,
          0,
          0,
          0,
          0,
          0,
          0,
          0,
          0,
          0,
          0,
          0,
          0,
          0,
          0,
          0,
          0,
          0,
          0,
          0,
          0,
          0
         ],
         "yaxis": "y"
        }
       ],
       "layout": {
        "barmode": "group",
        "font": {
         "color": "black",
         "size": 18
        },
        "legend": {
         "title": {
          "text": ""
         },
         "tracegroupgap": 0,
         "x": 0.99,
         "xanchor": "right",
         "y": 0.01,
         "yanchor": "bottom"
        },
        "margin": {
         "t": 60
        },
        "template": {
         "data": {
          "bar": [
           {
            "error_x": {
             "color": "#2a3f5f"
            },
            "error_y": {
             "color": "#2a3f5f"
            },
            "marker": {
             "line": {
              "color": "#E5ECF6",
              "width": 0.5
             },
             "pattern": {
              "fillmode": "overlay",
              "size": 10,
              "solidity": 0.2
             }
            },
            "type": "bar"
           }
          ],
          "barpolar": [
           {
            "marker": {
             "line": {
              "color": "#E5ECF6",
              "width": 0.5
             },
             "pattern": {
              "fillmode": "overlay",
              "size": 10,
              "solidity": 0.2
             }
            },
            "type": "barpolar"
           }
          ],
          "carpet": [
           {
            "aaxis": {
             "endlinecolor": "#2a3f5f",
             "gridcolor": "white",
             "linecolor": "white",
             "minorgridcolor": "white",
             "startlinecolor": "#2a3f5f"
            },
            "baxis": {
             "endlinecolor": "#2a3f5f",
             "gridcolor": "white",
             "linecolor": "white",
             "minorgridcolor": "white",
             "startlinecolor": "#2a3f5f"
            },
            "type": "carpet"
           }
          ],
          "choropleth": [
           {
            "colorbar": {
             "outlinewidth": 0,
             "ticks": ""
            },
            "type": "choropleth"
           }
          ],
          "contour": [
           {
            "colorbar": {
             "outlinewidth": 0,
             "ticks": ""
            },
            "colorscale": [
             [
              0,
              "#0d0887"
             ],
             [
              0.1111111111111111,
              "#46039f"
             ],
             [
              0.2222222222222222,
              "#7201a8"
             ],
             [
              0.3333333333333333,
              "#9c179e"
             ],
             [
              0.4444444444444444,
              "#bd3786"
             ],
             [
              0.5555555555555556,
              "#d8576b"
             ],
             [
              0.6666666666666666,
              "#ed7953"
             ],
             [
              0.7777777777777778,
              "#fb9f3a"
             ],
             [
              0.8888888888888888,
              "#fdca26"
             ],
             [
              1,
              "#f0f921"
             ]
            ],
            "type": "contour"
           }
          ],
          "contourcarpet": [
           {
            "colorbar": {
             "outlinewidth": 0,
             "ticks": ""
            },
            "type": "contourcarpet"
           }
          ],
          "heatmap": [
           {
            "colorbar": {
             "outlinewidth": 0,
             "ticks": ""
            },
            "colorscale": [
             [
              0,
              "#0d0887"
             ],
             [
              0.1111111111111111,
              "#46039f"
             ],
             [
              0.2222222222222222,
              "#7201a8"
             ],
             [
              0.3333333333333333,
              "#9c179e"
             ],
             [
              0.4444444444444444,
              "#bd3786"
             ],
             [
              0.5555555555555556,
              "#d8576b"
             ],
             [
              0.6666666666666666,
              "#ed7953"
             ],
             [
              0.7777777777777778,
              "#fb9f3a"
             ],
             [
              0.8888888888888888,
              "#fdca26"
             ],
             [
              1,
              "#f0f921"
             ]
            ],
            "type": "heatmap"
           }
          ],
          "heatmapgl": [
           {
            "colorbar": {
             "outlinewidth": 0,
             "ticks": ""
            },
            "colorscale": [
             [
              0,
              "#0d0887"
             ],
             [
              0.1111111111111111,
              "#46039f"
             ],
             [
              0.2222222222222222,
              "#7201a8"
             ],
             [
              0.3333333333333333,
              "#9c179e"
             ],
             [
              0.4444444444444444,
              "#bd3786"
             ],
             [
              0.5555555555555556,
              "#d8576b"
             ],
             [
              0.6666666666666666,
              "#ed7953"
             ],
             [
              0.7777777777777778,
              "#fb9f3a"
             ],
             [
              0.8888888888888888,
              "#fdca26"
             ],
             [
              1,
              "#f0f921"
             ]
            ],
            "type": "heatmapgl"
           }
          ],
          "histogram": [
           {
            "marker": {
             "pattern": {
              "fillmode": "overlay",
              "size": 10,
              "solidity": 0.2
             }
            },
            "type": "histogram"
           }
          ],
          "histogram2d": [
           {
            "colorbar": {
             "outlinewidth": 0,
             "ticks": ""
            },
            "colorscale": [
             [
              0,
              "#0d0887"
             ],
             [
              0.1111111111111111,
              "#46039f"
             ],
             [
              0.2222222222222222,
              "#7201a8"
             ],
             [
              0.3333333333333333,
              "#9c179e"
             ],
             [
              0.4444444444444444,
              "#bd3786"
             ],
             [
              0.5555555555555556,
              "#d8576b"
             ],
             [
              0.6666666666666666,
              "#ed7953"
             ],
             [
              0.7777777777777778,
              "#fb9f3a"
             ],
             [
              0.8888888888888888,
              "#fdca26"
             ],
             [
              1,
              "#f0f921"
             ]
            ],
            "type": "histogram2d"
           }
          ],
          "histogram2dcontour": [
           {
            "colorbar": {
             "outlinewidth": 0,
             "ticks": ""
            },
            "colorscale": [
             [
              0,
              "#0d0887"
             ],
             [
              0.1111111111111111,
              "#46039f"
             ],
             [
              0.2222222222222222,
              "#7201a8"
             ],
             [
              0.3333333333333333,
              "#9c179e"
             ],
             [
              0.4444444444444444,
              "#bd3786"
             ],
             [
              0.5555555555555556,
              "#d8576b"
             ],
             [
              0.6666666666666666,
              "#ed7953"
             ],
             [
              0.7777777777777778,
              "#fb9f3a"
             ],
             [
              0.8888888888888888,
              "#fdca26"
             ],
             [
              1,
              "#f0f921"
             ]
            ],
            "type": "histogram2dcontour"
           }
          ],
          "mesh3d": [
           {
            "colorbar": {
             "outlinewidth": 0,
             "ticks": ""
            },
            "type": "mesh3d"
           }
          ],
          "parcoords": [
           {
            "line": {
             "colorbar": {
              "outlinewidth": 0,
              "ticks": ""
             }
            },
            "type": "parcoords"
           }
          ],
          "pie": [
           {
            "automargin": true,
            "type": "pie"
           }
          ],
          "scatter": [
           {
            "fillpattern": {
             "fillmode": "overlay",
             "size": 10,
             "solidity": 0.2
            },
            "type": "scatter"
           }
          ],
          "scatter3d": [
           {
            "line": {
             "colorbar": {
              "outlinewidth": 0,
              "ticks": ""
             }
            },
            "marker": {
             "colorbar": {
              "outlinewidth": 0,
              "ticks": ""
             }
            },
            "type": "scatter3d"
           }
          ],
          "scattercarpet": [
           {
            "marker": {
             "colorbar": {
              "outlinewidth": 0,
              "ticks": ""
             }
            },
            "type": "scattercarpet"
           }
          ],
          "scattergeo": [
           {
            "marker": {
             "colorbar": {
              "outlinewidth": 0,
              "ticks": ""
             }
            },
            "type": "scattergeo"
           }
          ],
          "scattergl": [
           {
            "marker": {
             "colorbar": {
              "outlinewidth": 0,
              "ticks": ""
             }
            },
            "type": "scattergl"
           }
          ],
          "scattermapbox": [
           {
            "marker": {
             "colorbar": {
              "outlinewidth": 0,
              "ticks": ""
             }
            },
            "type": "scattermapbox"
           }
          ],
          "scatterpolar": [
           {
            "marker": {
             "colorbar": {
              "outlinewidth": 0,
              "ticks": ""
             }
            },
            "type": "scatterpolar"
           }
          ],
          "scatterpolargl": [
           {
            "marker": {
             "colorbar": {
              "outlinewidth": 0,
              "ticks": ""
             }
            },
            "type": "scatterpolargl"
           }
          ],
          "scatterternary": [
           {
            "marker": {
             "colorbar": {
              "outlinewidth": 0,
              "ticks": ""
             }
            },
            "type": "scatterternary"
           }
          ],
          "surface": [
           {
            "colorbar": {
             "outlinewidth": 0,
             "ticks": ""
            },
            "colorscale": [
             [
              0,
              "#0d0887"
             ],
             [
              0.1111111111111111,
              "#46039f"
             ],
             [
              0.2222222222222222,
              "#7201a8"
             ],
             [
              0.3333333333333333,
              "#9c179e"
             ],
             [
              0.4444444444444444,
              "#bd3786"
             ],
             [
              0.5555555555555556,
              "#d8576b"
             ],
             [
              0.6666666666666666,
              "#ed7953"
             ],
             [
              0.7777777777777778,
              "#fb9f3a"
             ],
             [
              0.8888888888888888,
              "#fdca26"
             ],
             [
              1,
              "#f0f921"
             ]
            ],
            "type": "surface"
           }
          ],
          "table": [
           {
            "cells": {
             "fill": {
              "color": "#EBF0F8"
             },
             "line": {
              "color": "white"
             }
            },
            "header": {
             "fill": {
              "color": "#C8D4E3"
             },
             "line": {
              "color": "white"
             }
            },
            "type": "table"
           }
          ]
         },
         "layout": {
          "annotationdefaults": {
           "arrowcolor": "#2a3f5f",
           "arrowhead": 0,
           "arrowwidth": 1
          },
          "autotypenumbers": "strict",
          "coloraxis": {
           "colorbar": {
            "outlinewidth": 0,
            "ticks": ""
           }
          },
          "colorscale": {
           "diverging": [
            [
             0,
             "#8e0152"
            ],
            [
             0.1,
             "#c51b7d"
            ],
            [
             0.2,
             "#de77ae"
            ],
            [
             0.3,
             "#f1b6da"
            ],
            [
             0.4,
             "#fde0ef"
            ],
            [
             0.5,
             "#f7f7f7"
            ],
            [
             0.6,
             "#e6f5d0"
            ],
            [
             0.7,
             "#b8e186"
            ],
            [
             0.8,
             "#7fbc41"
            ],
            [
             0.9,
             "#4d9221"
            ],
            [
             1,
             "#276419"
            ]
           ],
           "sequential": [
            [
             0,
             "#0d0887"
            ],
            [
             0.1111111111111111,
             "#46039f"
            ],
            [
             0.2222222222222222,
             "#7201a8"
            ],
            [
             0.3333333333333333,
             "#9c179e"
            ],
            [
             0.4444444444444444,
             "#bd3786"
            ],
            [
             0.5555555555555556,
             "#d8576b"
            ],
            [
             0.6666666666666666,
             "#ed7953"
            ],
            [
             0.7777777777777778,
             "#fb9f3a"
            ],
            [
             0.8888888888888888,
             "#fdca26"
            ],
            [
             1,
             "#f0f921"
            ]
           ],
           "sequentialminus": [
            [
             0,
             "#0d0887"
            ],
            [
             0.1111111111111111,
             "#46039f"
            ],
            [
             0.2222222222222222,
             "#7201a8"
            ],
            [
             0.3333333333333333,
             "#9c179e"
            ],
            [
             0.4444444444444444,
             "#bd3786"
            ],
            [
             0.5555555555555556,
             "#d8576b"
            ],
            [
             0.6666666666666666,
             "#ed7953"
            ],
            [
             0.7777777777777778,
             "#fb9f3a"
            ],
            [
             0.8888888888888888,
             "#fdca26"
            ],
            [
             1,
             "#f0f921"
            ]
           ]
          },
          "colorway": [
           "#636efa",
           "#EF553B",
           "#00cc96",
           "#ab63fa",
           "#FFA15A",
           "#19d3f3",
           "#FF6692",
           "#B6E880",
           "#FF97FF",
           "#FECB52"
          ],
          "font": {
           "color": "#2a3f5f"
          },
          "geo": {
           "bgcolor": "white",
           "lakecolor": "white",
           "landcolor": "#E5ECF6",
           "showlakes": true,
           "showland": true,
           "subunitcolor": "white"
          },
          "hoverlabel": {
           "align": "left"
          },
          "hovermode": "closest",
          "mapbox": {
           "style": "light"
          },
          "paper_bgcolor": "white",
          "plot_bgcolor": "#E5ECF6",
          "polar": {
           "angularaxis": {
            "gridcolor": "white",
            "linecolor": "white",
            "ticks": ""
           },
           "bgcolor": "#E5ECF6",
           "radialaxis": {
            "gridcolor": "white",
            "linecolor": "white",
            "ticks": ""
           }
          },
          "scene": {
           "xaxis": {
            "backgroundcolor": "#E5ECF6",
            "gridcolor": "white",
            "gridwidth": 2,
            "linecolor": "white",
            "showbackground": true,
            "ticks": "",
            "zerolinecolor": "white"
           },
           "yaxis": {
            "backgroundcolor": "#E5ECF6",
            "gridcolor": "white",
            "gridwidth": 2,
            "linecolor": "white",
            "showbackground": true,
            "ticks": "",
            "zerolinecolor": "white"
           },
           "zaxis": {
            "backgroundcolor": "#E5ECF6",
            "gridcolor": "white",
            "gridwidth": 2,
            "linecolor": "white",
            "showbackground": true,
            "ticks": "",
            "zerolinecolor": "white"
           }
          },
          "shapedefaults": {
           "line": {
            "color": "#2a3f5f"
           }
          },
          "ternary": {
           "aaxis": {
            "gridcolor": "white",
            "linecolor": "white",
            "ticks": ""
           },
           "baxis": {
            "gridcolor": "white",
            "linecolor": "white",
            "ticks": ""
           },
           "bgcolor": "#E5ECF6",
           "caxis": {
            "gridcolor": "white",
            "linecolor": "white",
            "ticks": ""
           }
          },
          "title": {
           "x": 0.05
          },
          "xaxis": {
           "automargin": true,
           "gridcolor": "white",
           "linecolor": "white",
           "ticks": "",
           "title": {
            "standoff": 15
           },
           "zerolinecolor": "white",
           "zerolinewidth": 2
          },
          "yaxis": {
           "automargin": true,
           "gridcolor": "white",
           "linecolor": "white",
           "ticks": "",
           "title": {
            "standoff": 15
           },
           "zerolinecolor": "white",
           "zerolinewidth": 2
          }
         }
        },
        "title": {
         "text": "Preparation Hamiltonian"
        },
        "xaxis": {
         "anchor": "y",
         "domain": [
          0,
          1
         ],
         "showgrid": true,
         "ticklen": 5,
         "ticks": "outside",
         "ticktext": [
          "1-local",
          "2-local",
          "3-local"
         ],
         "tickvals": [
          -0.5,
          17.5,
          62.5
         ],
         "title": {
          "text": "Pauli Basis"
         }
        },
        "yaxis": {
         "anchor": "x",
         "domain": [
          0,
          1
         ],
         "title": {
          "text": "Coefficient"
         }
        }
       }
      }
     },
     "metadata": {},
     "output_type": "display_data"
    },
    {
     "name": "stdout",
     "output_type": "stream",
     "text": [
      "[0.0, 0.04, 0.08, 0.12, 0.16, 0.2, 0.24000000000000002, 0.28, 0.32, 0.36, 0.4]\n"
     ]
    }
   ],
   "source": [
    "results = get_results(\"../saved_simulations/turbo/random1localheisenberg\")\n",
    "fig = preparation(results[1],-1)\n",
    "fig.update_layout(legend={\"yanchor\":\"bottom\",\"y\":0.01,\"xanchor\":\"right\",\"x\":0.99})\n",
    "fig.show()\n",
    "print(results[0].betas)"
   ]
  },
  {
   "cell_type": "code",
   "execution_count": 59,
   "metadata": {},
   "outputs": [
    {
     "data": {
      "image/png": "[encoded data removed]",
      "text/plain": [
       "<Figure size 2210.55x1454.83 with 1 Axes>"
      ]
     },
     "execution_count": 59,
     "metadata": {},
     "output_type": "execute_result"
    }
   ],
   "source": [
    "from gibbs.preparation.varqite import efficientTwoLocalansatz\n",
    "ansatz,x0=efficientTwoLocalansatz(**{'barriers':True,'num_qubits': 4, 'depth': 2, 'entanglement': 'reverse_linear', 'su2_gates': ['ry'], 'ent_gates': ['cx'], 'no_hadamart': False})\n",
    "ansatz.bind_parameters(x0).decompose().draw(output=\"mpl\")"
   ]
  }
 ],
 "metadata": {
  "kernelspec": {
   "display_name": "gibbsvenv",
   "language": "python",
   "name": "python3"
  },
  "language_info": {
   "codemirror_mode": {
    "name": "ipython",
    "version": 3
   },
   "file_extension": ".py",
   "mimetype": "text/x-python",
   "name": "python",
   "nbconvert_exporter": "python",
   "pygments_lexer": "ipython3",
   "version": "3.10.9"
  },
  "orig_nbformat": 4,
  "vscode": {
   "interpreter": {
    "hash": "dd6fc153763b8e9ec78bec65332e4837868b6da362e5e54c610a9825559f097e"
   }
  }
 },
 "nbformat": 4,
 "nbformat_minor": 2
}
