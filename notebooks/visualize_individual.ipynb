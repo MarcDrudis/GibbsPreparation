{
 "cells": [
  {
   "cell_type": "code",
   "execution_count": 62,
   "metadata": {},
   "outputs": [
    {
     "name": "stdout",
     "output_type": "stream",
     "text": [
      "The autoreload extension is already loaded. To reload it, use:\n",
      "  %reload_ext autoreload\n",
      "16.02.2023_10:02:44 16.02.2023_04:22:35\n"
     ]
    }
   ],
   "source": [
    "from gibbs.dataclass import GibbsResult,get_results\n",
    "import matplotlib.pyplot as plt\n",
    "import numpy as np\n",
    "import plotly_express as px\n",
    "from gibbs.learning.bayesian_learning import BayesianLearning\n",
    "from gibbs.learning.constraint_matrix import ConstraintMatrixFactory\n",
    "from qiskit.quantum_info import Statevector\n",
    "from gibbs.learning.klocal_pauli_basis import KLocalPauliBasis\n",
    "from scipy.linalg import block_diag\n",
    "from scipy.sparse import bmat \n",
    "from qiskit.quantum_info import state_fidelity,Statevector\n",
    "from gibbs.utils import number_of_elements, simple_purify_hamiltonian, spectral_dec,printarray, expected_state,identity_purification\n",
    "from gibbs.plots.plots import preparation, compare_preparations, preparation_error\n",
    "# plt.rcParams['text.usetex'] = True\n",
    "\n",
    "%load_ext autoreload\n",
    "%autoreload 2\n",
    "\n",
    "qasm_result,classic_result = get_results(\"../scripts_lap/job_11_qasmauckland_learn\")\n",
    "print(classic_result.date,qasm_result.date)"
   ]
  },
  {
   "cell_type": "code",
   "execution_count": 89,
   "metadata": {},
   "outputs": [
    {
     "data": {
      "application/vnd.plotly.v1+json": {
       "config": {
        "plotlyServerURL": "https://plot.ly"
       },
       "data": [
        {
         "alignmentgroup": "True",
         "hovertemplate": "<b>%{hovertext}</b><br><br>variable=priorH<br>Pauli Basis=%{x}<br>value=%{y}<extra></extra>",
         "hovertext": [
          "XIII",
          "IXII",
          "IIXI",
          "IIIX",
          "YIII",
          "IYII",
          "IIYI",
          "IIIY",
          "ZIII",
          "IZII",
          "IIZI",
          "IIIZ",
          "XXII",
          "IXXI",
          "IIXX",
          "XYII",
          "IXYI",
          "IIXY",
          "XZII",
          "IXZI",
          "IIXZ",
          "YXII",
          "IYXI",
          "IIYX",
          "YYII",
          "IYYI",
          "IIYY",
          "YZII",
          "IYZI",
          "IIYZ",
          "ZXII",
          "IZXI",
          "IIZX",
          "ZYII",
          "IZYI",
          "IIZY",
          "ZZII",
          "IZZI",
          "IIZZ",
          "XIXI",
          "IXIX",
          "XXXI",
          "IXXX",
          "XYXI",
          "IXYX",
          "XZXI",
          "IXZX",
          "XIYI",
          "IXIY",
          "XXYI",
          "IXXY",
          "XYYI",
          "IXYY",
          "XZYI",
          "IXZY",
          "XIZI",
          "IXIZ",
          "XXZI",
          "IXXZ",
          "XYZI",
          "IXYZ",
          "XZZI",
          "IXZZ",
          "YIXI",
          "IYIX",
          "YXXI",
          "IYXX",
          "YYXI",
          "IYYX",
          "YZXI",
          "IYZX",
          "YIYI",
          "IYIY",
          "YXYI",
          "IYXY",
          "YYYI",
          "IYYY",
          "YZYI",
          "IYZY",
          "YIZI",
          "IYIZ",
          "YXZI",
          "IYXZ",
          "YYZI",
          "IYYZ",
          "YZZI",
          "IYZZ",
          "ZIXI",
          "IZIX",
          "ZXXI",
          "IZXX",
          "ZYXI",
          "IZYX",
          "ZZXI",
          "IZZX",
          "ZIYI",
          "IZIY",
          "ZXYI",
          "IZXY",
          "ZYYI",
          "IZYY",
          "ZZYI",
          "IZZY",
          "ZIZI",
          "IZIZ",
          "ZXZI",
          "IZXZ",
          "ZYZI",
          "IZYZ",
          "ZZZI",
          "IZZZ"
         ],
         "legendgroup": "priorH",
         "marker": {
          "color": "#636efa",
          "pattern": {
           "shape": ""
          }
         },
         "name": "priorH",
         "offsetgroup": "priorH",
         "orientation": "v",
         "showlegend": true,
         "textposition": "auto",
         "type": "bar",
         "x": [
          0,
          1,
          2,
          3,
          4,
          5,
          6,
          7,
          8,
          9,
          10,
          11,
          12,
          13,
          14,
          15,
          16,
          17,
          18,
          19,
          20,
          21,
          22,
          23,
          24,
          25,
          26,
          27,
          28,
          29,
          30,
          31,
          32,
          33,
          34,
          35,
          36,
          37,
          38,
          39,
          40,
          41,
          42,
          43,
          44,
          45,
          46,
          47,
          48,
          49,
          50,
          51,
          52,
          53,
          54,
          55,
          56,
          57,
          58,
          59,
          60,
          61,
          62,
          63,
          64,
          65,
          66,
          67,
          68,
          69,
          70,
          71,
          72,
          73,
          74,
          75,
          76,
          77,
          78,
          79,
          80,
          81,
          82,
          83,
          84,
          85,
          86,
          87,
          88,
          89,
          90,
          91,
          92,
          93,
          94,
          95,
          96,
          97,
          98,
          99,
          100,
          101,
          102,
          103,
          104,
          105,
          106,
          107,
          108,
          109,
          110
         ],
         "xaxis": "x",
         "y": [
          0,
          0,
          0,
          0,
          0,
          0,
          0,
          0,
          -1,
          -1,
          -1,
          -1,
          0.25,
          0.25,
          0.25,
          0,
          0,
          0,
          0,
          0,
          0,
          0,
          0,
          0,
          0.25,
          0.25,
          0.25,
          0,
          0,
          0,
          0,
          0,
          0,
          0,
          0,
          0,
          0.25,
          0.25,
          0.25,
          0,
          0,
          0,
          0,
          0,
          0,
          0,
          0,
          0,
          0,
          0,
          0,
          0,
          0,
          0,
          0,
          0,
          0,
          0,
          0,
          0,
          0,
          0,
          0,
          0,
          0,
          0,
          0,
          0,
          0,
          0,
          0,
          0,
          0,
          0,
          0,
          0,
          0,
          0,
          0,
          0,
          0,
          0,
          0,
          0,
          0,
          0,
          0,
          0,
          0,
          0,
          0,
          0,
          0,
          0,
          0,
          0,
          0,
          0,
          0,
          0,
          0,
          0,
          0,
          0,
          0,
          0,
          0,
          0,
          0,
          0,
          0
         ],
         "yaxis": "y"
        },
        {
         "alignmentgroup": "True",
         "hovertemplate": "<b>%{hovertext}</b><br><br>variable=Classic<br>Pauli Basis=%{x}<br>value=%{y}<extra></extra>",
         "hovertext": [
          "XIII",
          "IXII",
          "IIXI",
          "IIIX",
          "YIII",
          "IYII",
          "IIYI",
          "IIIY",
          "ZIII",
          "IZII",
          "IIZI",
          "IIIZ",
          "XXII",
          "IXXI",
          "IIXX",
          "XYII",
          "IXYI",
          "IIXY",
          "XZII",
          "IXZI",
          "IIXZ",
          "YXII",
          "IYXI",
          "IIYX",
          "YYII",
          "IYYI",
          "IIYY",
          "YZII",
          "IYZI",
          "IIYZ",
          "ZXII",
          "IZXI",
          "IIZX",
          "ZYII",
          "IZYI",
          "IIZY",
          "ZZII",
          "IZZI",
          "IIZZ",
          "XIXI",
          "IXIX",
          "XXXI",
          "IXXX",
          "XYXI",
          "IXYX",
          "XZXI",
          "IXZX",
          "XIYI",
          "IXIY",
          "XXYI",
          "IXXY",
          "XYYI",
          "IXYY",
          "XZYI",
          "IXZY",
          "XIZI",
          "IXIZ",
          "XXZI",
          "IXXZ",
          "XYZI",
          "IXYZ",
          "XZZI",
          "IXZZ",
          "YIXI",
          "IYIX",
          "YXXI",
          "IYXX",
          "YYXI",
          "IYYX",
          "YZXI",
          "IYZX",
          "YIYI",
          "IYIY",
          "YXYI",
          "IYXY",
          "YYYI",
          "IYYY",
          "YZYI",
          "IYZY",
          "YIZI",
          "IYIZ",
          "YXZI",
          "IYXZ",
          "YYZI",
          "IYYZ",
          "YZZI",
          "IYZZ",
          "ZIXI",
          "IZIX",
          "ZXXI",
          "IZXX",
          "ZYXI",
          "IZYX",
          "ZZXI",
          "IZZX",
          "ZIYI",
          "IZIY",
          "ZXYI",
          "IZXY",
          "ZYYI",
          "IZYY",
          "ZZYI",
          "IZZY",
          "ZIZI",
          "IZIZ",
          "ZXZI",
          "IZXZ",
          "ZYZI",
          "IZYZ",
          "ZZZI",
          "IZZZ"
         ],
         "legendgroup": "Classic",
         "marker": {
          "color": "#EF553B",
          "pattern": {
           "shape": ""
          }
         },
         "name": "Classic",
         "offsetgroup": "Classic",
         "orientation": "v",
         "showlegend": true,
         "textposition": "auto",
         "type": "bar",
         "x": [
          0,
          1,
          2,
          3,
          4,
          5,
          6,
          7,
          8,
          9,
          10,
          11,
          12,
          13,
          14,
          15,
          16,
          17,
          18,
          19,
          20,
          21,
          22,
          23,
          24,
          25,
          26,
          27,
          28,
          29,
          30,
          31,
          32,
          33,
          34,
          35,
          36,
          37,
          38,
          39,
          40,
          41,
          42,
          43,
          44,
          45,
          46,
          47,
          48,
          49,
          50,
          51,
          52,
          53,
          54,
          55,
          56,
          57,
          58,
          59,
          60,
          61,
          62,
          63,
          64,
          65,
          66,
          67,
          68,
          69,
          70,
          71,
          72,
          73,
          74,
          75,
          76,
          77,
          78,
          79,
          80,
          81,
          82,
          83,
          84,
          85,
          86,
          87,
          88,
          89,
          90,
          91,
          92,
          93,
          94,
          95,
          96,
          97,
          98,
          99,
          100,
          101,
          102,
          103,
          104,
          105,
          106,
          107,
          108,
          109,
          110
         ],
         "xaxis": "x",
         "y": [
          -6.990185287095897e-16,
          -1.3177894562382707e-16,
          2.381426523783224e-16,
          -5.943457884087182e-16,
          0,
          0,
          0,
          0,
          -1.0484942199029068,
          -1.0641439205233725,
          -1.0682776133612741,
          -1.0462934703736733,
          0.23937742382205382,
          0.2682241639158397,
          0.2392380338552532,
          0,
          0,
          0,
          2.1790059277381144e-17,
          -5.658900434986803e-17,
          -1.0842005003261874e-16,
          0,
          0,
          0,
          -0.08571369591543705,
          -0.09547838300392437,
          -0.08562477420554465,
          0,
          0,
          0,
          -3.927726699015327e-17,
          -1.955159760732728e-16,
          5.243863844805262e-16,
          0,
          0,
          0,
          0.32701130118049926,
          0.36338975610057456,
          0.3251029233414515,
          0.004771035334847687,
          0.004752018810408349,
          6.973059081931874e-17,
          6.055533863382898e-17,
          0,
          0,
          0.005435506066067014,
          0.0054815513078488405,
          0,
          0,
          0,
          0,
          -1.3149984425270355e-16,
          -1.5254378403230666e-16,
          0,
          0,
          -3.883679082869304e-16,
          6.571819905990195e-17,
          -0.028345561120660917,
          -0.027809166830085587,
          0,
          0,
          2.5330357781205527e-16,
          7.469068787469467e-17,
          0,
          0,
          0,
          0,
          -2.0238306460457951e-16,
          -2.505466407120339e-17,
          0,
          0,
          -0.0015644831343073168,
          -0.0015923564808059147,
          9.877550990372189e-17,
          -4.270850036554492e-17,
          0,
          0,
          0.009240109771183544,
          0.009202078168919648,
          0,
          0,
          0,
          0,
          0.0278569370107926,
          0.02782505625388814,
          0,
          0,
          -1.307482845817505e-16,
          -6.646854993971807e-17,
          -0.028101495342383934,
          -0.028197816689557436,
          0,
          0,
          1.0303853902978082e-16,
          -4.232504362990551e-17,
          0,
          0,
          0,
          0,
          0.028351685612494903,
          0.027472719963324854,
          0,
          0,
          0.05676397146544526,
          0.053140623687101096,
          -8.593696988243522e-17,
          1.251721396896856e-16,
          0,
          0,
          -0.07502882733078242,
          -0.0702101120993997
         ],
         "yaxis": "y"
        },
        {
         "alignmentgroup": "True",
         "hovertemplate": "<b>%{hovertext}</b><br><br>variable=Qasm<br>Pauli Basis=%{x}<br>value=%{y}<extra></extra>",
         "hovertext": [
          "XIII",
          "IXII",
          "IIXI",
          "IIIX",
          "YIII",
          "IYII",
          "IIYI",
          "IIIY",
          "ZIII",
          "IZII",
          "IIZI",
          "IIIZ",
          "XXII",
          "IXXI",
          "IIXX",
          "XYII",
          "IXYI",
          "IIXY",
          "XZII",
          "IXZI",
          "IIXZ",
          "YXII",
          "IYXI",
          "IIYX",
          "YYII",
          "IYYI",
          "IIYY",
          "YZII",
          "IYZI",
          "IIYZ",
          "ZXII",
          "IZXI",
          "IIZX",
          "ZYII",
          "IZYI",
          "IIZY",
          "ZZII",
          "IZZI",
          "IIZZ",
          "XIXI",
          "IXIX",
          "XXXI",
          "IXXX",
          "XYXI",
          "IXYX",
          "XZXI",
          "IXZX",
          "XIYI",
          "IXIY",
          "XXYI",
          "IXXY",
          "XYYI",
          "IXYY",
          "XZYI",
          "IXZY",
          "XIZI",
          "IXIZ",
          "XXZI",
          "IXXZ",
          "XYZI",
          "IXYZ",
          "XZZI",
          "IXZZ",
          "YIXI",
          "IYIX",
          "YXXI",
          "IYXX",
          "YYXI",
          "IYYX",
          "YZXI",
          "IYZX",
          "YIYI",
          "IYIY",
          "YXYI",
          "IYXY",
          "YYYI",
          "IYYY",
          "YZYI",
          "IYZY",
          "YIZI",
          "IYIZ",
          "YXZI",
          "IYXZ",
          "YYZI",
          "IYYZ",
          "YZZI",
          "IYZZ",
          "ZIXI",
          "IZIX",
          "ZXXI",
          "IZXX",
          "ZYXI",
          "IZYX",
          "ZZXI",
          "IZZX",
          "ZIYI",
          "IZIY",
          "ZXYI",
          "IZXY",
          "ZYYI",
          "IZYY",
          "ZZYI",
          "IZZY",
          "ZIZI",
          "IZIZ",
          "ZXZI",
          "IZXZ",
          "ZYZI",
          "IZYZ",
          "ZZZI",
          "IZZZ"
         ],
         "legendgroup": "Qasm",
         "marker": {
          "color": "#00cc96",
          "pattern": {
           "shape": ""
          }
         },
         "name": "Qasm",
         "offsetgroup": "Qasm",
         "orientation": "v",
         "showlegend": true,
         "textposition": "auto",
         "type": "bar",
         "x": [
          0,
          1,
          2,
          3,
          4,
          5,
          6,
          7,
          8,
          9,
          10,
          11,
          12,
          13,
          14,
          15,
          16,
          17,
          18,
          19,
          20,
          21,
          22,
          23,
          24,
          25,
          26,
          27,
          28,
          29,
          30,
          31,
          32,
          33,
          34,
          35,
          36,
          37,
          38,
          39,
          40,
          41,
          42,
          43,
          44,
          45,
          46,
          47,
          48,
          49,
          50,
          51,
          52,
          53,
          54,
          55,
          56,
          57,
          58,
          59,
          60,
          61,
          62,
          63,
          64,
          65,
          66,
          67,
          68,
          69,
          70,
          71,
          72,
          73,
          74,
          75,
          76,
          77,
          78,
          79,
          80,
          81,
          82,
          83,
          84,
          85,
          86,
          87,
          88,
          89,
          90,
          91,
          92,
          93,
          94,
          95,
          96,
          97,
          98,
          99,
          100,
          101,
          102,
          103,
          104,
          105,
          106,
          107,
          108,
          109,
          110
         ],
         "xaxis": "x",
         "y": [
          -0.006031945952950098,
          -0.031502797151084914,
          -0.07660773942380941,
          -0.10237451885787079,
          0,
          0,
          0,
          0,
          -1.1422608994152244,
          -1.0112357789783788,
          -0.9464618050275411,
          -1.0063909718396984,
          0.2004885992550125,
          0.23661126535492796,
          0.285374167848619,
          0,
          0,
          0,
          -0.002827978829491915,
          0.00781618104706499,
          0.011183849298395051,
          0,
          0,
          0,
          -0.0741727208252774,
          -0.07716656446748221,
          -0.09279247424747536,
          0,
          0,
          0,
          0.024577082545896932,
          0.1280586785103432,
          0.11725660437215794,
          0,
          0,
          0,
          0.21871213000129838,
          0.28794357222790096,
          0.2424107832956064,
          0.002524548194348204,
          0.0045554510501126695,
          -0.010246513006718257,
          -0.007291232288307078,
          0,
          0,
          0.00418632779741968,
          0.005192597376236167,
          0,
          0,
          0,
          0,
          0.0027919189650503825,
          0.00293670391707172,
          0,
          0,
          -0.000479748652346677,
          0.0014917996954178754,
          -0.01631625649908343,
          -0.01731490300696059,
          0,
          0,
          0.0007665236208178054,
          -0.00046761183099675637,
          0,
          0,
          0,
          0,
          0.009083552685416937,
          0.008191544014361233,
          0,
          0,
          -0.0009218590661845328,
          -0.0014512820701705611,
          -0.00036971439854265964,
          -0.001805489516218767,
          0,
          0,
          0.006620622519060629,
          0.009171048986743056,
          0,
          0,
          0,
          0,
          0.019358591177731886,
          0.01876448089632546,
          0,
          0,
          0.013026523405025721,
          0.014716682447890525,
          -0.018624309176688093,
          -0.028943629715692434,
          0,
          0,
          -0.01674564284231184,
          -0.014017454057009313,
          0,
          0,
          0,
          0,
          0.01592371371370023,
          0.027374567862911807,
          0,
          0,
          0.028670127804411916,
          0.026873106231967925,
          -0.0034347272855199066,
          -0.01291961097830813,
          0,
          0,
          -0.03925225805760793,
          -0.038860236191600506
         ],
         "yaxis": "y"
        }
       ],
       "layout": {
        "barmode": "group",
        "font": {
         "color": "black",
         "size": 18
        },
        "legend": {
         "title": {
          "text": ""
         },
         "tracegroupgap": 0
        },
        "margin": {
         "t": 60
        },
        "template": {
         "data": {
          "bar": [
           {
            "error_x": {
             "color": "#2a3f5f"
            },
            "error_y": {
             "color": "#2a3f5f"
            },
            "marker": {
             "line": {
              "color": "#E5ECF6",
              "width": 0.5
             },
             "pattern": {
              "fillmode": "overlay",
              "size": 10,
              "solidity": 0.2
             }
            },
            "type": "bar"
           }
          ],
          "barpolar": [
           {
            "marker": {
             "line": {
              "color": "#E5ECF6",
              "width": 0.5
             },
             "pattern": {
              "fillmode": "overlay",
              "size": 10,
              "solidity": 0.2
             }
            },
            "type": "barpolar"
           }
          ],
          "carpet": [
           {
            "aaxis": {
             "endlinecolor": "#2a3f5f",
             "gridcolor": "white",
             "linecolor": "white",
             "minorgridcolor": "white",
             "startlinecolor": "#2a3f5f"
            },
            "baxis": {
             "endlinecolor": "#2a3f5f",
             "gridcolor": "white",
             "linecolor": "white",
             "minorgridcolor": "white",
             "startlinecolor": "#2a3f5f"
            },
            "type": "carpet"
           }
          ],
          "choropleth": [
           {
            "colorbar": {
             "outlinewidth": 0,
             "ticks": ""
            },
            "type": "choropleth"
           }
          ],
          "contour": [
           {
            "colorbar": {
             "outlinewidth": 0,
             "ticks": ""
            },
            "colorscale": [
             [
              0,
              "#0d0887"
             ],
             [
              0.1111111111111111,
              "#46039f"
             ],
             [
              0.2222222222222222,
              "#7201a8"
             ],
             [
              0.3333333333333333,
              "#9c179e"
             ],
             [
              0.4444444444444444,
              "#bd3786"
             ],
             [
              0.5555555555555556,
              "#d8576b"
             ],
             [
              0.6666666666666666,
              "#ed7953"
             ],
             [
              0.7777777777777778,
              "#fb9f3a"
             ],
             [
              0.8888888888888888,
              "#fdca26"
             ],
             [
              1,
              "#f0f921"
             ]
            ],
            "type": "contour"
           }
          ],
          "contourcarpet": [
           {
            "colorbar": {
             "outlinewidth": 0,
             "ticks": ""
            },
            "type": "contourcarpet"
           }
          ],
          "heatmap": [
           {
            "colorbar": {
             "outlinewidth": 0,
             "ticks": ""
            },
            "colorscale": [
             [
              0,
              "#0d0887"
             ],
             [
              0.1111111111111111,
              "#46039f"
             ],
             [
              0.2222222222222222,
              "#7201a8"
             ],
             [
              0.3333333333333333,
              "#9c179e"
             ],
             [
              0.4444444444444444,
              "#bd3786"
             ],
             [
              0.5555555555555556,
              "#d8576b"
             ],
             [
              0.6666666666666666,
              "#ed7953"
             ],
             [
              0.7777777777777778,
              "#fb9f3a"
             ],
             [
              0.8888888888888888,
              "#fdca26"
             ],
             [
              1,
              "#f0f921"
             ]
            ],
            "type": "heatmap"
           }
          ],
          "heatmapgl": [
           {
            "colorbar": {
             "outlinewidth": 0,
             "ticks": ""
            },
            "colorscale": [
             [
              0,
              "#0d0887"
             ],
             [
              0.1111111111111111,
              "#46039f"
             ],
             [
              0.2222222222222222,
              "#7201a8"
             ],
             [
              0.3333333333333333,
              "#9c179e"
             ],
             [
              0.4444444444444444,
              "#bd3786"
             ],
             [
              0.5555555555555556,
              "#d8576b"
             ],
             [
              0.6666666666666666,
              "#ed7953"
             ],
             [
              0.7777777777777778,
              "#fb9f3a"
             ],
             [
              0.8888888888888888,
              "#fdca26"
             ],
             [
              1,
              "#f0f921"
             ]
            ],
            "type": "heatmapgl"
           }
          ],
          "histogram": [
           {
            "marker": {
             "pattern": {
              "fillmode": "overlay",
              "size": 10,
              "solidity": 0.2
             }
            },
            "type": "histogram"
           }
          ],
          "histogram2d": [
           {
            "colorbar": {
             "outlinewidth": 0,
             "ticks": ""
            },
            "colorscale": [
             [
              0,
              "#0d0887"
             ],
             [
              0.1111111111111111,
              "#46039f"
             ],
             [
              0.2222222222222222,
              "#7201a8"
             ],
             [
              0.3333333333333333,
              "#9c179e"
             ],
             [
              0.4444444444444444,
              "#bd3786"
             ],
             [
              0.5555555555555556,
              "#d8576b"
             ],
             [
              0.6666666666666666,
              "#ed7953"
             ],
             [
              0.7777777777777778,
              "#fb9f3a"
             ],
             [
              0.8888888888888888,
              "#fdca26"
             ],
             [
              1,
              "#f0f921"
             ]
            ],
            "type": "histogram2d"
           }
          ],
          "histogram2dcontour": [
           {
            "colorbar": {
             "outlinewidth": 0,
             "ticks": ""
            },
            "colorscale": [
             [
              0,
              "#0d0887"
             ],
             [
              0.1111111111111111,
              "#46039f"
             ],
             [
              0.2222222222222222,
              "#7201a8"
             ],
             [
              0.3333333333333333,
              "#9c179e"
             ],
             [
              0.4444444444444444,
              "#bd3786"
             ],
             [
              0.5555555555555556,
              "#d8576b"
             ],
             [
              0.6666666666666666,
              "#ed7953"
             ],
             [
              0.7777777777777778,
              "#fb9f3a"
             ],
             [
              0.8888888888888888,
              "#fdca26"
             ],
             [
              1,
              "#f0f921"
             ]
            ],
            "type": "histogram2dcontour"
           }
          ],
          "mesh3d": [
           {
            "colorbar": {
             "outlinewidth": 0,
             "ticks": ""
            },
            "type": "mesh3d"
           }
          ],
          "parcoords": [
           {
            "line": {
             "colorbar": {
              "outlinewidth": 0,
              "ticks": ""
             }
            },
            "type": "parcoords"
           }
          ],
          "pie": [
           {
            "automargin": true,
            "type": "pie"
           }
          ],
          "scatter": [
           {
            "fillpattern": {
             "fillmode": "overlay",
             "size": 10,
             "solidity": 0.2
            },
            "type": "scatter"
           }
          ],
          "scatter3d": [
           {
            "line": {
             "colorbar": {
              "outlinewidth": 0,
              "ticks": ""
             }
            },
            "marker": {
             "colorbar": {
              "outlinewidth": 0,
              "ticks": ""
             }
            },
            "type": "scatter3d"
           }
          ],
          "scattercarpet": [
           {
            "marker": {
             "colorbar": {
              "outlinewidth": 0,
              "ticks": ""
             }
            },
            "type": "scattercarpet"
           }
          ],
          "scattergeo": [
           {
            "marker": {
             "colorbar": {
              "outlinewidth": 0,
              "ticks": ""
             }
            },
            "type": "scattergeo"
           }
          ],
          "scattergl": [
           {
            "marker": {
             "colorbar": {
              "outlinewidth": 0,
              "ticks": ""
             }
            },
            "type": "scattergl"
           }
          ],
          "scattermapbox": [
           {
            "marker": {
             "colorbar": {
              "outlinewidth": 0,
              "ticks": ""
             }
            },
            "type": "scattermapbox"
           }
          ],
          "scatterpolar": [
           {
            "marker": {
             "colorbar": {
              "outlinewidth": 0,
              "ticks": ""
             }
            },
            "type": "scatterpolar"
           }
          ],
          "scatterpolargl": [
           {
            "marker": {
             "colorbar": {
              "outlinewidth": 0,
              "ticks": ""
             }
            },
            "type": "scatterpolargl"
           }
          ],
          "scatterternary": [
           {
            "marker": {
             "colorbar": {
              "outlinewidth": 0,
              "ticks": ""
             }
            },
            "type": "scatterternary"
           }
          ],
          "surface": [
           {
            "colorbar": {
             "outlinewidth": 0,
             "ticks": ""
            },
            "colorscale": [
             [
              0,
              "#0d0887"
             ],
             [
              0.1111111111111111,
              "#46039f"
             ],
             [
              0.2222222222222222,
              "#7201a8"
             ],
             [
              0.3333333333333333,
              "#9c179e"
             ],
             [
              0.4444444444444444,
              "#bd3786"
             ],
             [
              0.5555555555555556,
              "#d8576b"
             ],
             [
              0.6666666666666666,
              "#ed7953"
             ],
             [
              0.7777777777777778,
              "#fb9f3a"
             ],
             [
              0.8888888888888888,
              "#fdca26"
             ],
             [
              1,
              "#f0f921"
             ]
            ],
            "type": "surface"
           }
          ],
          "table": [
           {
            "cells": {
             "fill": {
              "color": "#EBF0F8"
             },
             "line": {
              "color": "white"
             }
            },
            "header": {
             "fill": {
              "color": "#C8D4E3"
             },
             "line": {
              "color": "white"
             }
            },
            "type": "table"
           }
          ]
         },
         "layout": {
          "annotationdefaults": {
           "arrowcolor": "#2a3f5f",
           "arrowhead": 0,
           "arrowwidth": 1
          },
          "autotypenumbers": "strict",
          "coloraxis": {
           "colorbar": {
            "outlinewidth": 0,
            "ticks": ""
           }
          },
          "colorscale": {
           "diverging": [
            [
             0,
             "#8e0152"
            ],
            [
             0.1,
             "#c51b7d"
            ],
            [
             0.2,
             "#de77ae"
            ],
            [
             0.3,
             "#f1b6da"
            ],
            [
             0.4,
             "#fde0ef"
            ],
            [
             0.5,
             "#f7f7f7"
            ],
            [
             0.6,
             "#e6f5d0"
            ],
            [
             0.7,
             "#b8e186"
            ],
            [
             0.8,
             "#7fbc41"
            ],
            [
             0.9,
             "#4d9221"
            ],
            [
             1,
             "#276419"
            ]
           ],
           "sequential": [
            [
             0,
             "#0d0887"
            ],
            [
             0.1111111111111111,
             "#46039f"
            ],
            [
             0.2222222222222222,
             "#7201a8"
            ],
            [
             0.3333333333333333,
             "#9c179e"
            ],
            [
             0.4444444444444444,
             "#bd3786"
            ],
            [
             0.5555555555555556,
             "#d8576b"
            ],
            [
             0.6666666666666666,
             "#ed7953"
            ],
            [
             0.7777777777777778,
             "#fb9f3a"
            ],
            [
             0.8888888888888888,
             "#fdca26"
            ],
            [
             1,
             "#f0f921"
            ]
           ],
           "sequentialminus": [
            [
             0,
             "#0d0887"
            ],
            [
             0.1111111111111111,
             "#46039f"
            ],
            [
             0.2222222222222222,
             "#7201a8"
            ],
            [
             0.3333333333333333,
             "#9c179e"
            ],
            [
             0.4444444444444444,
             "#bd3786"
            ],
            [
             0.5555555555555556,
             "#d8576b"
            ],
            [
             0.6666666666666666,
             "#ed7953"
            ],
            [
             0.7777777777777778,
             "#fb9f3a"
            ],
            [
             0.8888888888888888,
             "#fdca26"
            ],
            [
             1,
             "#f0f921"
            ]
           ]
          },
          "colorway": [
           "#636efa",
           "#EF553B",
           "#00cc96",
           "#ab63fa",
           "#FFA15A",
           "#19d3f3",
           "#FF6692",
           "#B6E880",
           "#FF97FF",
           "#FECB52"
          ],
          "font": {
           "color": "#2a3f5f"
          },
          "geo": {
           "bgcolor": "white",
           "lakecolor": "white",
           "landcolor": "#E5ECF6",
           "showlakes": true,
           "showland": true,
           "subunitcolor": "white"
          },
          "hoverlabel": {
           "align": "left"
          },
          "hovermode": "closest",
          "mapbox": {
           "style": "light"
          },
          "paper_bgcolor": "white",
          "plot_bgcolor": "#E5ECF6",
          "polar": {
           "angularaxis": {
            "gridcolor": "white",
            "linecolor": "white",
            "ticks": ""
           },
           "bgcolor": "#E5ECF6",
           "radialaxis": {
            "gridcolor": "white",
            "linecolor": "white",
            "ticks": ""
           }
          },
          "scene": {
           "xaxis": {
            "backgroundcolor": "#E5ECF6",
            "gridcolor": "white",
            "gridwidth": 2,
            "linecolor": "white",
            "showbackground": true,
            "ticks": "",
            "zerolinecolor": "white"
           },
           "yaxis": {
            "backgroundcolor": "#E5ECF6",
            "gridcolor": "white",
            "gridwidth": 2,
            "linecolor": "white",
            "showbackground": true,
            "ticks": "",
            "zerolinecolor": "white"
           },
           "zaxis": {
            "backgroundcolor": "#E5ECF6",
            "gridcolor": "white",
            "gridwidth": 2,
            "linecolor": "white",
            "showbackground": true,
            "ticks": "",
            "zerolinecolor": "white"
           }
          },
          "shapedefaults": {
           "line": {
            "color": "#2a3f5f"
           }
          },
          "ternary": {
           "aaxis": {
            "gridcolor": "white",
            "linecolor": "white",
            "ticks": ""
           },
           "baxis": {
            "gridcolor": "white",
            "linecolor": "white",
            "ticks": ""
           },
           "bgcolor": "#E5ECF6",
           "caxis": {
            "gridcolor": "white",
            "linecolor": "white",
            "ticks": ""
           }
          },
          "title": {
           "x": 0.05
          },
          "xaxis": {
           "automargin": true,
           "gridcolor": "white",
           "linecolor": "white",
           "ticks": "",
           "title": {
            "standoff": 15
           },
           "zerolinecolor": "white",
           "zerolinewidth": 2
          },
          "yaxis": {
           "automargin": true,
           "gridcolor": "white",
           "linecolor": "white",
           "ticks": "",
           "title": {
            "standoff": 15
           },
           "zerolinecolor": "white",
           "zerolinewidth": 2
          }
         }
        },
        "title": {
         "text": "Preparation Hamiltonian"
        },
        "xaxis": {
         "anchor": "y",
         "domain": [
          0,
          1
         ],
         "showgrid": true,
         "ticklen": 5,
         "ticks": "outside",
         "ticktext": [
          "1-local",
          "2-local",
          "3-local"
         ],
         "tickvals": [
          -0.5,
          11.5,
          38.5
         ],
         "title": {
          "text": "Pauli Basis"
         }
        },
        "yaxis": {
         "anchor": "x",
         "domain": [
          0,
          1
         ],
         "title": {
          "text": "Coefficient"
         }
        }
       }
      }
     },
     "metadata": {},
     "output_type": "display_data"
    },
    {
     "data": {
      "application/vnd.plotly.v1+json": {
       "config": {
        "plotlyServerURL": "https://plot.ly"
       },
       "data": [
        {
         "hovertemplate": "variable=Qasm Fidelity<br>Betas=%{x}<br>value=%{y}<extra></extra>",
         "legendgroup": "Qasm Fidelity",
         "line": {
          "color": "#636efa",
          "dash": "solid"
         },
         "marker": {
          "symbol": "circle"
         },
         "mode": "lines",
         "name": "Qasm Fidelity",
         "orientation": "v",
         "showlegend": true,
         "type": "scatter",
         "x": [
          0,
          0.04,
          0.08,
          0.12,
          0.16,
          0.2,
          0.24000000000000002,
          0.28,
          0.32,
          0.36,
          0.39999999999999997,
          0.43999999999999995,
          0.4799999999999999,
          0.5199999999999999,
          0.5599999999999999,
          0.6,
          0.64,
          0.68,
          0.7200000000000001,
          0.7600000000000001,
          0.8000000000000002,
          0.8400000000000002,
          0.8800000000000002,
          0.9200000000000003,
          0.9600000000000003,
          1.0000000000000002
         ],
         "xaxis": "x",
         "y": [
          0.9999999999999993,
          0.9998019398994745,
          0.9991522714198394,
          0.9982983667921402,
          0.9974922226096068,
          0.9964102051345314,
          0.9957689616110762,
          0.9948019843898719,
          0.9931784666969805,
          0.9907410175920054,
          0.9889490068958029,
          0.9856374530758845,
          0.9833909117011438,
          0.9814552742100869,
          0.9790812349413027,
          0.9760805424701152,
          0.9724032009021624,
          0.9698195426131105,
          0.9673760276135042,
          0.966037990126924,
          0.964365870829766,
          0.9608936098294628,
          0.9575733704874647,
          0.9554484762771399,
          0.952605409243492,
          0.9498694878484231
         ],
         "yaxis": "y"
        },
        {
         "hovertemplate": "variable=Classic Fidelity<br>Betas=%{x}<br>value=%{y}<extra></extra>",
         "legendgroup": "Classic Fidelity",
         "line": {
          "color": "#EF553B",
          "dash": "solid"
         },
         "marker": {
          "symbol": "circle"
         },
         "mode": "lines",
         "name": "Classic Fidelity",
         "orientation": "v",
         "showlegend": true,
         "type": "scatter",
         "x": [
          0,
          0.04,
          0.08,
          0.12,
          0.16,
          0.2,
          0.24000000000000002,
          0.28,
          0.32,
          0.36,
          0.39999999999999997,
          0.43999999999999995,
          0.4799999999999999,
          0.5199999999999999,
          0.5599999999999999,
          0.6,
          0.64,
          0.68,
          0.7200000000000001,
          0.7600000000000001,
          0.8000000000000002,
          0.8400000000000002,
          0.8800000000000002,
          0.9200000000000003,
          0.9600000000000003,
          1.0000000000000002
         ],
         "xaxis": "x",
         "y": [
          0.9999999999999993,
          0.9999246667964438,
          0.9996988180325005,
          0.9993229589333041,
          0.9987979008467555,
          0.9981247505626922,
          0.9973049602980184,
          0.9963404100638654,
          0.9952334984998756,
          0.9939872242954204,
          0.9926052465404765,
          0.9910919178532458,
          0.9894522884976231,
          0.9876920828520813,
          0.9858176516376128,
          0.983835904456746,
          0.9817542276547896,
          0.9795803924847797,
          0.9773224582018323,
          0.9749886741582533,
          0.9725873843135926,
          0.9701269368839214,
          0.9676156011808085,
          0.9650614930658378,
          0.9624725098909642,
          0.9598562753192659
         ],
         "yaxis": "y"
        },
        {
         "hovertemplate": "variable=Identity Fidelity<br>Betas=%{x}<br>value=%{y}<extra></extra>",
         "legendgroup": "Identity Fidelity",
         "line": {
          "color": "#00cc96",
          "dash": "solid"
         },
         "marker": {
          "symbol": "circle"
         },
         "mode": "lines",
         "name": "Identity Fidelity",
         "orientation": "v",
         "showlegend": true,
         "type": "scatter",
         "x": [
          0,
          0.04,
          0.08,
          0.12,
          0.16,
          0.2,
          0.24000000000000002,
          0.28,
          0.32,
          0.36,
          0.39999999999999997,
          0.43999999999999995,
          0.4799999999999999,
          0.5199999999999999,
          0.5599999999999999,
          0.6,
          0.64,
          0.68,
          0.7200000000000001,
          0.7600000000000001,
          0.8000000000000002,
          0.8400000000000002,
          0.8800000000000002,
          0.9200000000000003,
          0.9600000000000003,
          1.0000000000000002
         ],
         "xaxis": "x",
         "y": [
          1,
          0.9982112095028249,
          0.9930074508973848,
          0.9846661410566743,
          0.9734979244029266,
          0.9598330534025612,
          0.9440091360910627,
          0.926360680634366,
          0.9072106388701543,
          0.8868639643353928,
          0.8656030630780461,
          0.8436849265651845,
          0.8213396888316117,
          0.7987703357106557,
          0.7761533031736092,
          0.7536397260013675,
          0.7313571303077068,
          0.709411398651916,
          0.687888871059499,
          0.6668584770026952,
          0.6463738211034058,
          0.62647516857579,
          0.607191295279997,
          0.5885411820621952,
          0.5705355443110627,
          0.5531781959230008
         ],
         "yaxis": "y"
        }
       ],
       "layout": {
        "legend": {
         "title": {
          "text": "variable"
         },
         "tracegroupgap": 0
        },
        "template": {
         "data": {
          "bar": [
           {
            "error_x": {
             "color": "#2a3f5f"
            },
            "error_y": {
             "color": "#2a3f5f"
            },
            "marker": {
             "line": {
              "color": "#E5ECF6",
              "width": 0.5
             },
             "pattern": {
              "fillmode": "overlay",
              "size": 10,
              "solidity": 0.2
             }
            },
            "type": "bar"
           }
          ],
          "barpolar": [
           {
            "marker": {
             "line": {
              "color": "#E5ECF6",
              "width": 0.5
             },
             "pattern": {
              "fillmode": "overlay",
              "size": 10,
              "solidity": 0.2
             }
            },
            "type": "barpolar"
           }
          ],
          "carpet": [
           {
            "aaxis": {
             "endlinecolor": "#2a3f5f",
             "gridcolor": "white",
             "linecolor": "white",
             "minorgridcolor": "white",
             "startlinecolor": "#2a3f5f"
            },
            "baxis": {
             "endlinecolor": "#2a3f5f",
             "gridcolor": "white",
             "linecolor": "white",
             "minorgridcolor": "white",
             "startlinecolor": "#2a3f5f"
            },
            "type": "carpet"
           }
          ],
          "choropleth": [
           {
            "colorbar": {
             "outlinewidth": 0,
             "ticks": ""
            },
            "type": "choropleth"
           }
          ],
          "contour": [
           {
            "colorbar": {
             "outlinewidth": 0,
             "ticks": ""
            },
            "colorscale": [
             [
              0,
              "#0d0887"
             ],
             [
              0.1111111111111111,
              "#46039f"
             ],
             [
              0.2222222222222222,
              "#7201a8"
             ],
             [
              0.3333333333333333,
              "#9c179e"
             ],
             [
              0.4444444444444444,
              "#bd3786"
             ],
             [
              0.5555555555555556,
              "#d8576b"
             ],
             [
              0.6666666666666666,
              "#ed7953"
             ],
             [
              0.7777777777777778,
              "#fb9f3a"
             ],
             [
              0.8888888888888888,
              "#fdca26"
             ],
             [
              1,
              "#f0f921"
             ]
            ],
            "type": "contour"
           }
          ],
          "contourcarpet": [
           {
            "colorbar": {
             "outlinewidth": 0,
             "ticks": ""
            },
            "type": "contourcarpet"
           }
          ],
          "heatmap": [
           {
            "colorbar": {
             "outlinewidth": 0,
             "ticks": ""
            },
            "colorscale": [
             [
              0,
              "#0d0887"
             ],
             [
              0.1111111111111111,
              "#46039f"
             ],
             [
              0.2222222222222222,
              "#7201a8"
             ],
             [
              0.3333333333333333,
              "#9c179e"
             ],
             [
              0.4444444444444444,
              "#bd3786"
             ],
             [
              0.5555555555555556,
              "#d8576b"
             ],
             [
              0.6666666666666666,
              "#ed7953"
             ],
             [
              0.7777777777777778,
              "#fb9f3a"
             ],
             [
              0.8888888888888888,
              "#fdca26"
             ],
             [
              1,
              "#f0f921"
             ]
            ],
            "type": "heatmap"
           }
          ],
          "heatmapgl": [
           {
            "colorbar": {
             "outlinewidth": 0,
             "ticks": ""
            },
            "colorscale": [
             [
              0,
              "#0d0887"
             ],
             [
              0.1111111111111111,
              "#46039f"
             ],
             [
              0.2222222222222222,
              "#7201a8"
             ],
             [
              0.3333333333333333,
              "#9c179e"
             ],
             [
              0.4444444444444444,
              "#bd3786"
             ],
             [
              0.5555555555555556,
              "#d8576b"
             ],
             [
              0.6666666666666666,
              "#ed7953"
             ],
             [
              0.7777777777777778,
              "#fb9f3a"
             ],
             [
              0.8888888888888888,
              "#fdca26"
             ],
             [
              1,
              "#f0f921"
             ]
            ],
            "type": "heatmapgl"
           }
          ],
          "histogram": [
           {
            "marker": {
             "pattern": {
              "fillmode": "overlay",
              "size": 10,
              "solidity": 0.2
             }
            },
            "type": "histogram"
           }
          ],
          "histogram2d": [
           {
            "colorbar": {
             "outlinewidth": 0,
             "ticks": ""
            },
            "colorscale": [
             [
              0,
              "#0d0887"
             ],
             [
              0.1111111111111111,
              "#46039f"
             ],
             [
              0.2222222222222222,
              "#7201a8"
             ],
             [
              0.3333333333333333,
              "#9c179e"
             ],
             [
              0.4444444444444444,
              "#bd3786"
             ],
             [
              0.5555555555555556,
              "#d8576b"
             ],
             [
              0.6666666666666666,
              "#ed7953"
             ],
             [
              0.7777777777777778,
              "#fb9f3a"
             ],
             [
              0.8888888888888888,
              "#fdca26"
             ],
             [
              1,
              "#f0f921"
             ]
            ],
            "type": "histogram2d"
           }
          ],
          "histogram2dcontour": [
           {
            "colorbar": {
             "outlinewidth": 0,
             "ticks": ""
            },
            "colorscale": [
             [
              0,
              "#0d0887"
             ],
             [
              0.1111111111111111,
              "#46039f"
             ],
             [
              0.2222222222222222,
              "#7201a8"
             ],
             [
              0.3333333333333333,
              "#9c179e"
             ],
             [
              0.4444444444444444,
              "#bd3786"
             ],
             [
              0.5555555555555556,
              "#d8576b"
             ],
             [
              0.6666666666666666,
              "#ed7953"
             ],
             [
              0.7777777777777778,
              "#fb9f3a"
             ],
             [
              0.8888888888888888,
              "#fdca26"
             ],
             [
              1,
              "#f0f921"
             ]
            ],
            "type": "histogram2dcontour"
           }
          ],
          "mesh3d": [
           {
            "colorbar": {
             "outlinewidth": 0,
             "ticks": ""
            },
            "type": "mesh3d"
           }
          ],
          "parcoords": [
           {
            "line": {
             "colorbar": {
              "outlinewidth": 0,
              "ticks": ""
             }
            },
            "type": "parcoords"
           }
          ],
          "pie": [
           {
            "automargin": true,
            "type": "pie"
           }
          ],
          "scatter": [
           {
            "fillpattern": {
             "fillmode": "overlay",
             "size": 10,
             "solidity": 0.2
            },
            "type": "scatter"
           }
          ],
          "scatter3d": [
           {
            "line": {
             "colorbar": {
              "outlinewidth": 0,
              "ticks": ""
             }
            },
            "marker": {
             "colorbar": {
              "outlinewidth": 0,
              "ticks": ""
             }
            },
            "type": "scatter3d"
           }
          ],
          "scattercarpet": [
           {
            "marker": {
             "colorbar": {
              "outlinewidth": 0,
              "ticks": ""
             }
            },
            "type": "scattercarpet"
           }
          ],
          "scattergeo": [
           {
            "marker": {
             "colorbar": {
              "outlinewidth": 0,
              "ticks": ""
             }
            },
            "type": "scattergeo"
           }
          ],
          "scattergl": [
           {
            "marker": {
             "colorbar": {
              "outlinewidth": 0,
              "ticks": ""
             }
            },
            "type": "scattergl"
           }
          ],
          "scattermapbox": [
           {
            "marker": {
             "colorbar": {
              "outlinewidth": 0,
              "ticks": ""
             }
            },
            "type": "scattermapbox"
           }
          ],
          "scatterpolar": [
           {
            "marker": {
             "colorbar": {
              "outlinewidth": 0,
              "ticks": ""
             }
            },
            "type": "scatterpolar"
           }
          ],
          "scatterpolargl": [
           {
            "marker": {
             "colorbar": {
              "outlinewidth": 0,
              "ticks": ""
             }
            },
            "type": "scatterpolargl"
           }
          ],
          "scatterternary": [
           {
            "marker": {
             "colorbar": {
              "outlinewidth": 0,
              "ticks": ""
             }
            },
            "type": "scatterternary"
           }
          ],
          "surface": [
           {
            "colorbar": {
             "outlinewidth": 0,
             "ticks": ""
            },
            "colorscale": [
             [
              0,
              "#0d0887"
             ],
             [
              0.1111111111111111,
              "#46039f"
             ],
             [
              0.2222222222222222,
              "#7201a8"
             ],
             [
              0.3333333333333333,
              "#9c179e"
             ],
             [
              0.4444444444444444,
              "#bd3786"
             ],
             [
              0.5555555555555556,
              "#d8576b"
             ],
             [
              0.6666666666666666,
              "#ed7953"
             ],
             [
              0.7777777777777778,
              "#fb9f3a"
             ],
             [
              0.8888888888888888,
              "#fdca26"
             ],
             [
              1,
              "#f0f921"
             ]
            ],
            "type": "surface"
           }
          ],
          "table": [
           {
            "cells": {
             "fill": {
              "color": "#EBF0F8"
             },
             "line": {
              "color": "white"
             }
            },
            "header": {
             "fill": {
              "color": "#C8D4E3"
             },
             "line": {
              "color": "white"
             }
            },
            "type": "table"
           }
          ]
         },
         "layout": {
          "annotationdefaults": {
           "arrowcolor": "#2a3f5f",
           "arrowhead": 0,
           "arrowwidth": 1
          },
          "autotypenumbers": "strict",
          "coloraxis": {
           "colorbar": {
            "outlinewidth": 0,
            "ticks": ""
           }
          },
          "colorscale": {
           "diverging": [
            [
             0,
             "#8e0152"
            ],
            [
             0.1,
             "#c51b7d"
            ],
            [
             0.2,
             "#de77ae"
            ],
            [
             0.3,
             "#f1b6da"
            ],
            [
             0.4,
             "#fde0ef"
            ],
            [
             0.5,
             "#f7f7f7"
            ],
            [
             0.6,
             "#e6f5d0"
            ],
            [
             0.7,
             "#b8e186"
            ],
            [
             0.8,
             "#7fbc41"
            ],
            [
             0.9,
             "#4d9221"
            ],
            [
             1,
             "#276419"
            ]
           ],
           "sequential": [
            [
             0,
             "#0d0887"
            ],
            [
             0.1111111111111111,
             "#46039f"
            ],
            [
             0.2222222222222222,
             "#7201a8"
            ],
            [
             0.3333333333333333,
             "#9c179e"
            ],
            [
             0.4444444444444444,
             "#bd3786"
            ],
            [
             0.5555555555555556,
             "#d8576b"
            ],
            [
             0.6666666666666666,
             "#ed7953"
            ],
            [
             0.7777777777777778,
             "#fb9f3a"
            ],
            [
             0.8888888888888888,
             "#fdca26"
            ],
            [
             1,
             "#f0f921"
            ]
           ],
           "sequentialminus": [
            [
             0,
             "#0d0887"
            ],
            [
             0.1111111111111111,
             "#46039f"
            ],
            [
             0.2222222222222222,
             "#7201a8"
            ],
            [
             0.3333333333333333,
             "#9c179e"
            ],
            [
             0.4444444444444444,
             "#bd3786"
            ],
            [
             0.5555555555555556,
             "#d8576b"
            ],
            [
             0.6666666666666666,
             "#ed7953"
            ],
            [
             0.7777777777777778,
             "#fb9f3a"
            ],
            [
             0.8888888888888888,
             "#fdca26"
            ],
            [
             1,
             "#f0f921"
            ]
           ]
          },
          "colorway": [
           "#636efa",
           "#EF553B",
           "#00cc96",
           "#ab63fa",
           "#FFA15A",
           "#19d3f3",
           "#FF6692",
           "#B6E880",
           "#FF97FF",
           "#FECB52"
          ],
          "font": {
           "color": "#2a3f5f"
          },
          "geo": {
           "bgcolor": "white",
           "lakecolor": "white",
           "landcolor": "#E5ECF6",
           "showlakes": true,
           "showland": true,
           "subunitcolor": "white"
          },
          "hoverlabel": {
           "align": "left"
          },
          "hovermode": "closest",
          "mapbox": {
           "style": "light"
          },
          "paper_bgcolor": "white",
          "plot_bgcolor": "#E5ECF6",
          "polar": {
           "angularaxis": {
            "gridcolor": "white",
            "linecolor": "white",
            "ticks": ""
           },
           "bgcolor": "#E5ECF6",
           "radialaxis": {
            "gridcolor": "white",
            "linecolor": "white",
            "ticks": ""
           }
          },
          "scene": {
           "xaxis": {
            "backgroundcolor": "#E5ECF6",
            "gridcolor": "white",
            "gridwidth": 2,
            "linecolor": "white",
            "showbackground": true,
            "ticks": "",
            "zerolinecolor": "white"
           },
           "yaxis": {
            "backgroundcolor": "#E5ECF6",
            "gridcolor": "white",
            "gridwidth": 2,
            "linecolor": "white",
            "showbackground": true,
            "ticks": "",
            "zerolinecolor": "white"
           },
           "zaxis": {
            "backgroundcolor": "#E5ECF6",
            "gridcolor": "white",
            "gridwidth": 2,
            "linecolor": "white",
            "showbackground": true,
            "ticks": "",
            "zerolinecolor": "white"
           }
          },
          "shapedefaults": {
           "line": {
            "color": "#2a3f5f"
           }
          },
          "ternary": {
           "aaxis": {
            "gridcolor": "white",
            "linecolor": "white",
            "ticks": ""
           },
           "baxis": {
            "gridcolor": "white",
            "linecolor": "white",
            "ticks": ""
           },
           "bgcolor": "#E5ECF6",
           "caxis": {
            "gridcolor": "white",
            "linecolor": "white",
            "ticks": ""
           }
          },
          "title": {
           "x": 0.05
          },
          "xaxis": {
           "automargin": true,
           "gridcolor": "white",
           "linecolor": "white",
           "ticks": "",
           "title": {
            "standoff": 15
           },
           "zerolinecolor": "white",
           "zerolinewidth": 2
          },
          "yaxis": {
           "automargin": true,
           "gridcolor": "white",
           "linecolor": "white",
           "ticks": "",
           "title": {
            "standoff": 15
           },
           "zerolinecolor": "white",
           "zerolinewidth": 2
          }
         }
        },
        "title": {
         "text": "Fidelity Evolution"
        },
        "xaxis": {
         "anchor": "y",
         "domain": [
          0,
          1
         ],
         "title": {
          "text": "Betas"
         }
        },
        "yaxis": {
         "anchor": "x",
         "domain": [
          0,
          1
         ],
         "title": {
          "text": "value"
         }
        }
       }
      }
     },
     "metadata": {},
     "output_type": "display_data"
    }
   ],
   "source": [
    "compare_preparations([classic_result,qasm_result],[\"Classic\",\"Qasm\"],-1).show()\n",
    "idnty_pur = identity_purification(qasm_result.num_qubits)\n",
    "df = {\n",
    "    \"Betas\" : qasm_result.betas,\n",
    "    \"Qasm Fidelity\" : qasm_result.fidelity_evolution(),\n",
    "    \"Classic Fidelity\" : classic_result.fidelity_evolution(),\n",
    "    \"Identity Fidelity\" : [ state_fidelity(simple_purify_hamiltonian(b*qasm_result.hamiltonian),idnty_pur) for b in qasm_result.betas],\n",
    "}\n",
    "px.line(df,x=\"Betas\",y=[\"Qasm Fidelity\",\"Classic Fidelity\",\"Identity Fidelity\"],title=\"Fidelity Evolution\")"
   ]
  },
  {
   "cell_type": "code",
   "execution_count": 113,
   "metadata": {},
   "outputs": [],
   "source": [
    "long_time_result = get_results(\"../saved_simulations/turbo/really_long_evolution\")[0]\n",
    "idnty_pur = identity_purification(long_time_result.num_qubits)\n",
    "df = {\n",
    "    \"Betas\" : long_time_result.betas,\n",
    "    \"Classic Fidelity\" : long_time_result.fidelity_evolution(),\n",
    "    \"Identity Fidelity\" : [ state_fidelity(simple_purify_hamiltonian(b*long_time_result.hamiltonian),idnty_pur) for b in long_time_result.betas],\n",
    "}"
   ]
  },
  {
   "cell_type": "code",
   "execution_count": 114,
   "metadata": {},
   "outputs": [
    {
     "data": {
      "application/vnd.plotly.v1+json": {
       "config": {
        "plotlyServerURL": "https://plot.ly"
       },
       "data": [
        {
         "hovertemplate": "variable=Classic Fidelity<br>Betas=%{x}<br>value=%{y}<extra></extra>",
         "legendgroup": "Classic Fidelity",
         "line": {
          "color": "#636efa",
          "dash": "solid"
         },
         "marker": {
          "symbol": "circle"
         },
         "mode": "lines",
         "name": "Classic Fidelity",
         "showlegend": true,
         "type": "scattergl",
         "x": [
          0,
          0.1,
          0.2,
          0.30000000000000004,
          0.4,
          0.5,
          0.6,
          0.7,
          0.7999999999999999,
          0.8999999999999999,
          0.9999999999999999,
          1.0999999999999999,
          1.2,
          1.3,
          1.4000000000000001,
          1.5000000000000002,
          1.6000000000000003,
          1.7000000000000004,
          1.8000000000000005,
          1.9000000000000006,
          2.0000000000000004,
          2.1000000000000005,
          2.2000000000000006,
          2.3000000000000007,
          2.400000000000001,
          2.500000000000001,
          2.600000000000001,
          2.700000000000001,
          2.800000000000001,
          2.9000000000000012,
          3.0000000000000013,
          3.1000000000000014,
          3.2000000000000015,
          3.3000000000000016,
          3.4000000000000017,
          3.5000000000000018,
          3.600000000000002,
          3.700000000000002,
          3.800000000000002,
          3.900000000000002,
          4.000000000000002,
          4.100000000000001,
          4.200000000000001,
          4.300000000000001,
          4.4,
          4.5,
          4.6,
          4.699999999999999,
          4.799999999999999,
          4.899999999999999,
          4.999999999999998,
          5.099999999999998,
          5.1999999999999975,
          5.299999999999997,
          5.399999999999997,
          5.4999999999999964,
          5.599999999999996,
          5.699999999999996,
          5.799999999999995,
          5.899999999999995,
          5.999999999999995,
          6.099999999999994,
          6.199999999999994,
          6.299999999999994,
          6.399999999999993,
          6.499999999999993,
          6.5999999999999925,
          6.699999999999992,
          6.799999999999992,
          6.8999999999999915,
          6.999999999999991,
          7.099999999999991,
          7.19999999999999,
          7.29999999999999,
          7.39999999999999,
          7.499999999999989,
          7.599999999999989,
          7.699999999999989,
          7.799999999999988,
          7.899999999999988,
          7.999999999999988,
          8.099999999999987,
          8.199999999999987,
          8.299999999999986,
          8.399999999999986,
          8.499999999999986,
          8.599999999999985,
          8.699999999999985,
          8.799999999999985,
          8.899999999999984,
          8.999999999999984,
          9.099999999999984,
          9.199999999999983,
          9.299999999999983,
          9.399999999999983,
          9.499999999999982,
          9.599999999999982,
          9.699999999999982,
          9.799999999999981,
          9.89999999999998,
          9.99999999999998,
          10.09999999999998,
          10.19999999999998,
          10.29999999999998,
          10.399999999999979,
          10.499999999999979,
          10.599999999999978,
          10.699999999999978,
          10.799999999999978,
          10.899999999999977,
          10.999999999999977,
          11.099999999999977,
          11.199999999999976,
          11.299999999999976,
          11.399999999999975,
          11.499999999999975,
          11.599999999999975,
          11.699999999999974,
          11.799999999999974,
          11.899999999999974,
          11.999999999999973,
          12.099999999999973,
          12.199999999999973,
          12.299999999999972,
          12.399999999999972,
          12.499999999999972,
          12.599999999999971,
          12.69999999999997,
          12.79999999999997,
          12.89999999999997,
          12.99999999999997,
          13.09999999999997,
          13.199999999999969,
          13.299999999999969,
          13.399999999999968,
          13.499999999999968,
          13.599999999999968,
          13.699999999999967,
          13.799999999999967,
          13.899999999999967,
          13.999999999999966,
          14.099999999999966,
          14.199999999999966,
          14.299999999999965,
          14.399999999999965,
          14.499999999999964,
          14.599999999999964,
          14.699999999999964,
          14.799999999999963,
          14.899999999999963,
          14.999999999999963,
          15.099999999999962,
          15.199999999999962,
          15.299999999999962,
          15.399999999999961,
          15.499999999999961,
          15.59999999999996,
          15.69999999999996,
          15.79999999999996,
          15.89999999999996,
          15.99999999999996,
          16.09999999999996,
          16.19999999999996,
          16.29999999999996,
          16.399999999999963,
          16.499999999999964,
          16.599999999999966,
          16.699999999999967,
          16.79999999999997,
          16.89999999999997,
          16.99999999999997,
          17.099999999999973,
          17.199999999999974,
          17.299999999999976,
          17.399999999999977,
          17.49999999999998,
          17.59999999999998,
          17.69999999999998,
          17.799999999999983,
          17.899999999999984,
          17.999999999999986,
          18.099999999999987,
          18.19999999999999,
          18.29999999999999,
          18.39999999999999,
          18.499999999999993,
          18.599999999999994,
          18.699999999999996,
          18.799999999999997,
          18.9,
          19,
          19.1,
          19.200000000000003,
          19.300000000000004,
          19.400000000000006,
          19.500000000000007,
          19.60000000000001,
          19.70000000000001,
          19.80000000000001,
          19.900000000000013,
          20.000000000000014,
          20.100000000000016,
          20.200000000000017,
          20.30000000000002,
          20.40000000000002,
          20.50000000000002,
          20.600000000000023,
          20.700000000000024,
          20.800000000000026,
          20.900000000000027,
          21.00000000000003,
          21.10000000000003,
          21.20000000000003,
          21.300000000000033,
          21.400000000000034,
          21.500000000000036,
          21.600000000000037,
          21.70000000000004,
          21.80000000000004,
          21.90000000000004,
          22.000000000000043,
          22.100000000000044,
          22.200000000000045,
          22.300000000000047,
          22.40000000000005,
          22.50000000000005,
          22.60000000000005,
          22.700000000000053,
          22.800000000000054,
          22.900000000000055,
          23.000000000000057,
          23.10000000000006,
          23.20000000000006,
          23.30000000000006,
          23.400000000000063,
          23.500000000000064,
          23.600000000000065,
          23.700000000000067,
          23.800000000000068,
          23.90000000000007,
          24.00000000000007,
          24.100000000000072,
          24.200000000000074,
          24.300000000000075,
          24.400000000000077,
          24.500000000000078,
          24.60000000000008,
          24.70000000000008,
          24.800000000000082,
          24.900000000000084,
          25.000000000000085,
          25.100000000000087,
          25.200000000000088,
          25.30000000000009,
          25.40000000000009,
          25.500000000000092,
          25.600000000000094,
          25.700000000000095,
          25.800000000000097,
          25.900000000000098,
          26.0000000000001,
          26.1000000000001,
          26.200000000000102,
          26.300000000000104,
          26.400000000000105,
          26.500000000000107,
          26.600000000000108,
          26.70000000000011,
          26.80000000000011,
          26.900000000000112,
          27.000000000000114,
          27.100000000000115,
          27.200000000000117,
          27.300000000000118,
          27.40000000000012,
          27.50000000000012,
          27.600000000000122,
          27.700000000000124,
          27.800000000000125,
          27.900000000000126,
          28.000000000000128,
          28.10000000000013,
          28.20000000000013,
          28.300000000000132,
          28.400000000000134,
          28.500000000000135,
          28.600000000000136,
          28.700000000000138,
          28.80000000000014,
          28.90000000000014,
          29.000000000000142,
          29.100000000000144,
          29.200000000000145,
          29.300000000000146,
          29.400000000000148,
          29.50000000000015,
          29.60000000000015,
          29.700000000000152,
          29.800000000000153,
          29.900000000000155,
          30.000000000000156,
          30.100000000000158,
          30.20000000000016,
          30.30000000000016,
          30.400000000000162,
          30.500000000000163,
          30.600000000000165,
          30.700000000000166,
          30.800000000000168,
          30.90000000000017,
          31.00000000000017,
          31.100000000000172,
          31.200000000000173,
          31.300000000000175,
          31.400000000000176,
          31.500000000000178,
          31.60000000000018,
          31.70000000000018,
          31.800000000000182,
          31.900000000000183,
          32.000000000000185,
          32.100000000000186,
          32.20000000000019,
          32.30000000000019,
          32.40000000000019,
          32.50000000000019,
          32.60000000000019,
          32.700000000000195,
          32.800000000000196,
          32.9000000000002,
          33.0000000000002,
          33.1000000000002,
          33.2000000000002,
          33.3000000000002,
          33.400000000000205,
          33.500000000000206,
          33.60000000000021,
          33.70000000000021,
          33.80000000000021,
          33.90000000000021,
          34.00000000000021,
          34.100000000000215,
          34.200000000000216,
          34.30000000000022,
          34.40000000000022,
          34.50000000000022,
          34.60000000000022,
          34.70000000000022,
          34.800000000000225,
          34.900000000000226,
          35.00000000000023,
          35.10000000000023,
          35.20000000000023,
          35.30000000000023,
          35.40000000000023,
          35.500000000000234,
          35.600000000000236,
          35.70000000000024,
          35.80000000000024,
          35.90000000000024,
          36.00000000000024,
          36.10000000000024,
          36.200000000000244,
          36.300000000000246,
          36.40000000000025,
          36.50000000000025,
          36.60000000000025,
          36.70000000000025,
          36.80000000000025,
          36.900000000000254,
          37.000000000000256,
          37.10000000000026,
          37.20000000000026,
          37.30000000000026,
          37.40000000000026,
          37.50000000000026,
          37.600000000000264,
          37.700000000000266,
          37.80000000000027,
          37.90000000000027,
          38.00000000000027,
          38.10000000000027,
          38.20000000000027,
          38.300000000000274,
          38.400000000000276,
          38.50000000000028,
          38.60000000000028,
          38.70000000000028,
          38.80000000000028,
          38.90000000000028,
          39.000000000000284,
          39.100000000000286,
          39.20000000000029,
          39.30000000000029,
          39.40000000000029,
          39.50000000000029,
          39.60000000000029,
          39.700000000000294,
          39.800000000000296,
          39.9000000000003,
          40.0000000000003,
          40.1000000000003,
          40.2000000000003,
          40.3000000000003,
          40.400000000000304,
          40.500000000000306,
          40.60000000000031,
          40.70000000000031,
          40.80000000000031,
          40.90000000000031,
          41.00000000000031,
          41.100000000000314,
          41.200000000000315,
          41.30000000000032,
          41.40000000000032,
          41.50000000000032,
          41.60000000000032,
          41.70000000000032,
          41.800000000000324,
          41.900000000000325,
          42.00000000000033,
          42.10000000000033,
          42.20000000000033,
          42.30000000000033,
          42.40000000000033,
          42.500000000000334,
          42.600000000000335,
          42.70000000000034,
          42.80000000000034,
          42.90000000000034,
          43.00000000000034,
          43.10000000000034,
          43.200000000000344,
          43.300000000000345,
          43.40000000000035,
          43.50000000000035,
          43.60000000000035,
          43.70000000000035,
          43.80000000000035,
          43.900000000000354,
          44.000000000000355,
          44.10000000000036,
          44.20000000000036,
          44.30000000000036,
          44.40000000000036,
          44.50000000000036,
          44.600000000000364,
          44.700000000000365,
          44.80000000000037,
          44.90000000000037,
          45.00000000000037,
          45.10000000000037,
          45.20000000000037,
          45.300000000000374,
          45.400000000000375,
          45.50000000000038,
          45.60000000000038,
          45.70000000000038,
          45.80000000000038,
          45.90000000000038,
          46.000000000000384,
          46.100000000000385,
          46.20000000000039,
          46.30000000000039,
          46.40000000000039,
          46.50000000000039,
          46.60000000000039,
          46.700000000000394,
          46.800000000000395,
          46.9000000000004,
          47.0000000000004,
          47.1000000000004,
          47.2000000000004,
          47.3000000000004,
          47.400000000000404,
          47.500000000000405,
          47.600000000000406,
          47.70000000000041,
          47.80000000000041,
          47.90000000000041,
          48.00000000000041,
          48.10000000000041,
          48.200000000000415,
          48.300000000000416,
          48.40000000000042,
          48.50000000000042,
          48.60000000000042,
          48.70000000000042,
          48.80000000000042,
          48.900000000000425,
          49.000000000000426,
          49.10000000000043,
          49.20000000000043,
          49.30000000000043,
          49.40000000000043,
          49.50000000000043,
          49.600000000000435,
          49.700000000000436,
          49.80000000000044,
          49.90000000000044,
          50
         ],
         "xaxis": "x",
         "y": [
          0.9999999999999996,
          0.999192165577057,
          0.9967811060314377,
          0.9928168211822367,
          0.9873877709797947,
          0.9806187915744599,
          0.9726664882089865,
          0.9637110886130009,
          0.9539460056449629,
          0.9435669088354569,
          0.9327619412538387,
          0.9217041640791057,
          0.910546641940813,
          0.8994200333749501,
          0.8884322260950551,
          0.8776694419919551,
          0.8671982641941415,
          0.8570681374413924,
          0.8473140119048792,
          0.8379589100872185,
          0.8290162842615717,
          0.820492096153625,
          0.8123865943489583,
          0.8046957929254464,
          0.7974126715609224,
          0.7905281264403675,
          0.7840317052773668,
          0.7779121604478737,
          0.7721578528007879,
          0.7667570359719924,
          0.76169804755717,
          0.7569694297098294,
          0.7525599979293953,
          0.7484588732065822,
          0.7446554894419268,
          0.7411395852279263,
          0.7379011867137824,
          0.7349305863440608,
          0.7322183207426134,
          0.7297551498493148,
          0.7275320385525389,
          0.7255401414380822,
          0.7237707908434167,
          0.7222154881199582,
          0.7208658978277649,
          0.719713844487575,
          0.718751311470417,
          0.7179704415984046,
          0.7173635390481357,
          0.7169230721813439,
          0.7166416769691217,
          0.7165121607212795,
          0.7165275058784629,
          0.7166808736686374,
          0.7169656074706882,
          0.7173752357652281,
          0.7179034745854861,
          0.7185442294097887,
          0.7192915964615174,
          0.7201398634025297,
          0.7210835094225939,
          0.7221172047405919,
          0.7232358095432051,
          0.7244343723945982,
          0.7257081281557497,
          0.727052495455639,
          0.7284630737584008,
          0.7299356400712558,
          0.7314661453376314,
          0.7330507105587856,
          0.7346856226856004,
          0.7363673303199968,
          0.7380924392630012,
          0.739857707943997,
          0.7416600427627983,
          0.743496493373628,
          0.745364247937325,
          0.7472606283652843,
          0.7491830855765585,
          0.7511291947866509,
          0.7530966508445748,
          0.755083263632602,
          0.75708695354098,
          0.7591057470284229,
          0.7611377722771975,
          0.7631812549502516,
          0.765234514056581,
          0.7672959579294808,
          0.7693640803215903,
          0.7714374566193384,
          0.7735147401786474,
          0.775594658782975,
          0.7776760112240375,
          0.7797576640048993,
          0.7818385481647503,
          0.7839176562240188,
          0.7859940392482375,
          0.7880668040286801,
          0.7901351103774248,
          0.7921981685344218,
          0.7942552366838578,
          0.7963056185768823,
          0.7983486612577769,
          0.8003837528905053,
          0.8024103206823837,
          0.8044278289018565,
          0.806435776987001,
          0.808433697741642,
          0.8104211556158711,
          0.8123977450677072,
          0.8143630890028668,
          0.8163168372894635,
          0.8182586653446388,
          0.8201882727901377,
          0.8221053821738843,
          0.8240097377548002,
          0.8259011043480196,
          0.8277792662278534,
          0.8296440260859743,
          0.8314952040421537,
          0.8333326367052848,
          0.8351561762822663,
          0.8369656897324635,
          0.8387610579656657,
          0.8405421750813393,
          0.8423089476472676,
          0.8440612940155974,
          0.845799143674413,
          0.847522436633201,
          0.8492311228403177,
          0.8509251616310479,
          0.8526045212045311,
          0.8542691781282143,
          0.8559191168683301,
          0.8575543293450726,
          0.8591748145113034,
          0.8607805779533195,
          0.8623716315128516,
          0.8639479929288927,
          0.865509685498418,
          0.8670567377551402,
          0.8685891831650414,
          0.8701070598381045,
          0.8716104102551743,
          0.8730992810091601,
          0.8745737225599851,
          0.876033789002256,
          0.8774795378452902,
          0.8789110298045612,
          0.8803283286040663,
          0.8817315007891284,
          0.8831206155488195,
          0.8844957445477513,
          0.8858569617665459,
          0.8872043433505625,
          0.8885379674665228,
          0.8898579141664348,
          0.8911642652586387,
          0.8924571041853585,
          0.8937365159066246,
          0.8950025867900546,
          0.8962554045062627,
          0.8974950579296364,
          0.8987216370440436,
          0.8999352328533898,
          0.901135937296626,
          0.9023238431670058,
          0.9034990440354761,
          0.9046616341777874,
          0.9058117085052605,
          0.9069493624990285,
          0.9080746921474991,
          0.9091877938868774,
          0.9102887645446812,
          0.9113777012859404,
          0.91245470156213,
          0.9135198630625208,
          0.9145732836679132,
          0.9156150614066614,
          0.9166452944127744,
          0.9176640808861131,
          0.9186715190544497,
          0.9196677071373882,
          0.92065274331206,
          0.9216267256804204,
          0.9225897522381465,
          0.9235419208450555,
          0.9244833291969291,
          0.9254140747986913,
          0.9263342549389263,
          0.9272439666655674,
          0.9281433067628478,
          0.9290323717293093,
          0.9299112577568904,
          0.9307800607110956,
          0.9316388761120743,
          0.9324877991166881,
          0.9333269245014422,
          0.9341563466462691,
          0.9349761595191716,
          0.9357864566616014,
          0.9365873311745956,
          0.9373788757056575,
          0.9381611824363173,
          0.9389343430703155,
          0.9396984488224682,
          0.9404535904081025,
          0.9411998580330985,
          0.9419373413844828,
          0.9426661296215277,
          0.9433863113674151,
          0.9440979747013625,
          0.9448012071512353,
          0.9454960956866034,
          0.9461827267122483,
          0.9468611860621011,
          0.9475315589935707,
          0.9481939301822508,
          0.9488483837170434,
          0.9494950030956151,
          0.9501338712202008,
          0.9507650703937625,
          0.9513886823164442,
          0.9520047880823698,
          0.9526134681767241,
          0.953214802473114,
          0.9538088702312217,
          0.954395750094738,
          0.9549755200895289,
          0.9555482576220607,
          0.9561140394780748,
          0.9566729418214863,
          0.95722504019352,
          0.957770409512018,
          0.9583091240710278,
          0.958841257540521,
          0.9593668829663481,
          0.9598860727703556,
          0.9603988987506983,
          0.960905432082321,
          0.9614057433175985,
          0.9618999023871372,
          0.9623879786007421,
          0.9628700406485186,
          0.96334615660213,
          0.9638163939161865,
          0.9642808194297542,
          0.9647394993680202,
          0.9651924993440482,
          0.9656398843606826,
          0.9660817188125366,
          0.966518066488115,
          0.9669489905720173,
          0.9673745536472583,
          0.9677948176976752,
          0.968209844110442,
          0.968619693678648,
          0.9690244266039818,
          0.9694241024994693,
          0.9698187803923329,
          0.9702085187268868,
          0.9705933753675136,
          0.9709734076017067,
          0.9713486721431899,
          0.9717192251350709,
          0.9720851221530964,
          0.9724464182089024,
          0.9728031677533777,
          0.9731554246800441,
          0.9735032423284598,
          0.9738466734877468,
          0.9741857704000716,
          0.9745205847642182,
          0.9748511677391895,
          0.9751775699478101,
          0.9754998414804317,
          0.9758180318985982,
          0.9761321902387738,
          0.9764423650160955,
          0.9767486042281481,
          0.9770509553587481,
          0.9773494653817791,
          0.9776441807650086,
          0.9779351474739546,
          0.9782224109757468,
          0.978506016243005,
          0.9787860077577379,
          0.9790624295152541,
          0.9793353250280594,
          0.9796047373297972,
          0.9798707089791507,
          0.9801332820638055,
          0.9803924982043661,
          0.980648398558296,
          0.9809010238238646,
          0.9811504142440775,
          0.9813966096106255,
          0.9816396492678124,
          0.9818795721164869,
          0.982116416617975,
          0.9823502207980062,
          0.9825810222506087,
          0.9828088581420459,
          0.9830337652147,
          0.9832557797909679,
          0.9834749377771409,
          0.9836912746672642,
          0.9839048255470215,
          0.9841156250975599,
          0.984323707599326,
          0.9845291069358925,
          0.9847318565977631,
          0.984931989686145,
          0.9851295389167486,
          0.9853245366235296,
          0.9855170147624318,
          0.9857070049151225,
          0.9858945382926759,
          0.9860796457392784,
          0.9862623577358999,
          0.9864427044039245,
          0.9866207155088067,
          0.9867964204636447,
          0.9869698483328097,
          0.9871410278354874,
          0.9873099873492299,
          0.9874767549134881,
          0.987641358233106,
          0.9878038246818124,
          0.9879641813056715,
          0.9881224548265164,
          0.9882786716453721,
          0.988432857845842,
          0.9885850391974647,
          0.9887352411590731,
          0.9888834888821001,
          0.9890298072138828,
          0.9891742207009253,
          0.9893167535921493,
          0.9894574298421186,
          0.9895962731142354,
          0.9897333067839073,
          0.989868553941705,
          0.9900020373964772,
          0.990133779678454,
          0.99026380304232,
          0.9903921294702621,
          0.9905187806749891,
          0.990643778102734,
          0.9907671429362257,
          0.9908888960976309,
          0.9910090582514967,
          0.9911276498076147,
          0.9912446909239245,
          0.9913602015093413,
          0.9914742012265817,
          0.9915867094949653,
          0.9916977454931877,
          0.9918073281620453,
          0.9919154762071873,
          0.9920222081017879,
          0.9921275420892309,
          0.9922314961857521,
          0.9923340881830549,
          0.9924353356509192,
          0.9925352559397587,
          0.9926338661831797,
          0.9927311833005004,
          0.9928272239992529,
          0.9929220047776504,
          0.9930155419270359,
          0.9931078515343232,
          0.9931989494843856,
          0.9932888514624347,
          0.9933775729563782,
          0.9934651292591554,
          0.9935515354710324,
          0.9936368065018975,
          0.9937209570735152,
          0.9938040017217628,
          0.9938859547988548,
          0.9939668304755207,
          0.9940466427431867,
          0.9941254054161089,
          0.9942031321335111,
          0.9942798363616796,
          0.9943555313960372,
          0.9944302303632109,
          0.9945039462230638,
          0.9945766917707036,
          0.9946484796384871,
          0.9947193222979764,
          0.9947892320619064,
          0.994858221086089,
          0.9949263013713495,
          0.9949934847653928,
          0.9950597829646795,
          0.9951252075162619,
          0.9951897698196286,
          0.9952534811284884,
          0.9953163525525754,
          0.9953783950593973,
          0.9954396194759941,
          0.9955000364906604,
          0.9955596566546532,
          0.9956184903838806,
          0.9956765479605713,
          0.9957338395349236,
          0.9957903751267381,
          0.9958461646270346,
          0.9959012177996422,
          0.9959555442827761,
          0.9960091535906043,
          0.9960620551147784,
          0.9961142581259622,
          0.9961657717753368,
          0.9962166050960941,
          0.9962667670048989,
          0.9963162663033499,
          0.996365111679412,
          0.9964133117088472,
          0.9964608748566062,
          0.9965078094782248,
          0.9965541238211928,
          0.9965998260263109,
          0.9966449241290248,
          0.9966894260607624,
          0.9967333396502264,
          0.9967766726246948,
          0.9968194326112999,
          0.9968616271382904,
          0.9969032636362746,
          0.996944349439458,
          0.9969848917868609,
          0.9970248978235166,
          0.9970643746016624,
          0.9971033290819283,
          0.9971417681344721,
          0.9971796985401493,
          0.9972171269916338,
          0.9972540600945404,
          0.9972905043685332,
          0.9973264662484147,
          0.9973619520852074,
          0.9973969681472213,
          0.9974315206211023,
          0.9974656156128789,
          0.9974992591489874,
          0.9975324571772886,
          0.9975652155680662,
          0.9975975401150255,
          0.997629436536266,
          0.9976609104752516,
          0.997691967501763,
          0.9977226131128455,
          0.9977528527337333,
          0.9977826917187783,
          0.9978121353523498,
          0.9978411888497429,
          0.997869857358054,
          0.9978981459570666,
          0.9979260596601081,
          0.9979536034149106,
          0.9979807821044472,
          0.9980076005477726,
          0.9980340635008411,
          0.9980601756573236,
          0.9980859416494018,
          0.9981113660485701,
          0.9981364533664132,
          0.9981612080553811,
          0.9981856345095483,
          0.9982097370653723,
          0.9982335200024368,
          0.9982569875441833,
          0.998280143858641,
          0.9983029930591418,
          0.9983255392050275,
          0.9983477863023489,
          0.9983697383045558,
          0.9983913991131788,
          0.9984127725785006,
          0.9984338625002218,
          0.9984546726281177,
          0.9984752066626811,
          0.9984954682557681,
          0.9985154610112255,
          0.9985351884855127,
          0.9985546541883233,
          0.998573861583187,
          0.998592814088071,
          0.9986115150759745,
          0.9986299678755115,
          0.9986481757714862,
          0.9986661420054698,
          0.9986838697763561,
          0.9987013622409234,
          0.9987186225143746,
          0.998735653670891,
          0.9987524587441524,
          0.9987690407278811
         ],
         "yaxis": "y"
        },
        {
         "hovertemplate": "variable=Identity Fidelity<br>Betas=%{x}<br>value=%{y}<extra></extra>",
         "legendgroup": "Identity Fidelity",
         "line": {
          "color": "#EF553B",
          "dash": "solid"
         },
         "marker": {
          "symbol": "circle"
         },
         "mode": "lines",
         "name": "Identity Fidelity",
         "showlegend": true,
         "type": "scattergl",
         "x": [
          0,
          0.1,
          0.2,
          0.30000000000000004,
          0.4,
          0.5,
          0.6,
          0.7,
          0.7999999999999999,
          0.8999999999999999,
          0.9999999999999999,
          1.0999999999999999,
          1.2,
          1.3,
          1.4000000000000001,
          1.5000000000000002,
          1.6000000000000003,
          1.7000000000000004,
          1.8000000000000005,
          1.9000000000000006,
          2.0000000000000004,
          2.1000000000000005,
          2.2000000000000006,
          2.3000000000000007,
          2.400000000000001,
          2.500000000000001,
          2.600000000000001,
          2.700000000000001,
          2.800000000000001,
          2.9000000000000012,
          3.0000000000000013,
          3.1000000000000014,
          3.2000000000000015,
          3.3000000000000016,
          3.4000000000000017,
          3.5000000000000018,
          3.600000000000002,
          3.700000000000002,
          3.800000000000002,
          3.900000000000002,
          4.000000000000002,
          4.100000000000001,
          4.200000000000001,
          4.300000000000001,
          4.4,
          4.5,
          4.6,
          4.699999999999999,
          4.799999999999999,
          4.899999999999999,
          4.999999999999998,
          5.099999999999998,
          5.1999999999999975,
          5.299999999999997,
          5.399999999999997,
          5.4999999999999964,
          5.599999999999996,
          5.699999999999996,
          5.799999999999995,
          5.899999999999995,
          5.999999999999995,
          6.099999999999994,
          6.199999999999994,
          6.299999999999994,
          6.399999999999993,
          6.499999999999993,
          6.5999999999999925,
          6.699999999999992,
          6.799999999999992,
          6.8999999999999915,
          6.999999999999991,
          7.099999999999991,
          7.19999999999999,
          7.29999999999999,
          7.39999999999999,
          7.499999999999989,
          7.599999999999989,
          7.699999999999989,
          7.799999999999988,
          7.899999999999988,
          7.999999999999988,
          8.099999999999987,
          8.199999999999987,
          8.299999999999986,
          8.399999999999986,
          8.499999999999986,
          8.599999999999985,
          8.699999999999985,
          8.799999999999985,
          8.899999999999984,
          8.999999999999984,
          9.099999999999984,
          9.199999999999983,
          9.299999999999983,
          9.399999999999983,
          9.499999999999982,
          9.599999999999982,
          9.699999999999982,
          9.799999999999981,
          9.89999999999998,
          9.99999999999998,
          10.09999999999998,
          10.19999999999998,
          10.29999999999998,
          10.399999999999979,
          10.499999999999979,
          10.599999999999978,
          10.699999999999978,
          10.799999999999978,
          10.899999999999977,
          10.999999999999977,
          11.099999999999977,
          11.199999999999976,
          11.299999999999976,
          11.399999999999975,
          11.499999999999975,
          11.599999999999975,
          11.699999999999974,
          11.799999999999974,
          11.899999999999974,
          11.999999999999973,
          12.099999999999973,
          12.199999999999973,
          12.299999999999972,
          12.399999999999972,
          12.499999999999972,
          12.599999999999971,
          12.69999999999997,
          12.79999999999997,
          12.89999999999997,
          12.99999999999997,
          13.09999999999997,
          13.199999999999969,
          13.299999999999969,
          13.399999999999968,
          13.499999999999968,
          13.599999999999968,
          13.699999999999967,
          13.799999999999967,
          13.899999999999967,
          13.999999999999966,
          14.099999999999966,
          14.199999999999966,
          14.299999999999965,
          14.399999999999965,
          14.499999999999964,
          14.599999999999964,
          14.699999999999964,
          14.799999999999963,
          14.899999999999963,
          14.999999999999963,
          15.099999999999962,
          15.199999999999962,
          15.299999999999962,
          15.399999999999961,
          15.499999999999961,
          15.59999999999996,
          15.69999999999996,
          15.79999999999996,
          15.89999999999996,
          15.99999999999996,
          16.09999999999996,
          16.19999999999996,
          16.29999999999996,
          16.399999999999963,
          16.499999999999964,
          16.599999999999966,
          16.699999999999967,
          16.79999999999997,
          16.89999999999997,
          16.99999999999997,
          17.099999999999973,
          17.199999999999974,
          17.299999999999976,
          17.399999999999977,
          17.49999999999998,
          17.59999999999998,
          17.69999999999998,
          17.799999999999983,
          17.899999999999984,
          17.999999999999986,
          18.099999999999987,
          18.19999999999999,
          18.29999999999999,
          18.39999999999999,
          18.499999999999993,
          18.599999999999994,
          18.699999999999996,
          18.799999999999997,
          18.9,
          19,
          19.1,
          19.200000000000003,
          19.300000000000004,
          19.400000000000006,
          19.500000000000007,
          19.60000000000001,
          19.70000000000001,
          19.80000000000001,
          19.900000000000013,
          20.000000000000014,
          20.100000000000016,
          20.200000000000017,
          20.30000000000002,
          20.40000000000002,
          20.50000000000002,
          20.600000000000023,
          20.700000000000024,
          20.800000000000026,
          20.900000000000027,
          21.00000000000003,
          21.10000000000003,
          21.20000000000003,
          21.300000000000033,
          21.400000000000034,
          21.500000000000036,
          21.600000000000037,
          21.70000000000004,
          21.80000000000004,
          21.90000000000004,
          22.000000000000043,
          22.100000000000044,
          22.200000000000045,
          22.300000000000047,
          22.40000000000005,
          22.50000000000005,
          22.60000000000005,
          22.700000000000053,
          22.800000000000054,
          22.900000000000055,
          23.000000000000057,
          23.10000000000006,
          23.20000000000006,
          23.30000000000006,
          23.400000000000063,
          23.500000000000064,
          23.600000000000065,
          23.700000000000067,
          23.800000000000068,
          23.90000000000007,
          24.00000000000007,
          24.100000000000072,
          24.200000000000074,
          24.300000000000075,
          24.400000000000077,
          24.500000000000078,
          24.60000000000008,
          24.70000000000008,
          24.800000000000082,
          24.900000000000084,
          25.000000000000085,
          25.100000000000087,
          25.200000000000088,
          25.30000000000009,
          25.40000000000009,
          25.500000000000092,
          25.600000000000094,
          25.700000000000095,
          25.800000000000097,
          25.900000000000098,
          26.0000000000001,
          26.1000000000001,
          26.200000000000102,
          26.300000000000104,
          26.400000000000105,
          26.500000000000107,
          26.600000000000108,
          26.70000000000011,
          26.80000000000011,
          26.900000000000112,
          27.000000000000114,
          27.100000000000115,
          27.200000000000117,
          27.300000000000118,
          27.40000000000012,
          27.50000000000012,
          27.600000000000122,
          27.700000000000124,
          27.800000000000125,
          27.900000000000126,
          28.000000000000128,
          28.10000000000013,
          28.20000000000013,
          28.300000000000132,
          28.400000000000134,
          28.500000000000135,
          28.600000000000136,
          28.700000000000138,
          28.80000000000014,
          28.90000000000014,
          29.000000000000142,
          29.100000000000144,
          29.200000000000145,
          29.300000000000146,
          29.400000000000148,
          29.50000000000015,
          29.60000000000015,
          29.700000000000152,
          29.800000000000153,
          29.900000000000155,
          30.000000000000156,
          30.100000000000158,
          30.20000000000016,
          30.30000000000016,
          30.400000000000162,
          30.500000000000163,
          30.600000000000165,
          30.700000000000166,
          30.800000000000168,
          30.90000000000017,
          31.00000000000017,
          31.100000000000172,
          31.200000000000173,
          31.300000000000175,
          31.400000000000176,
          31.500000000000178,
          31.60000000000018,
          31.70000000000018,
          31.800000000000182,
          31.900000000000183,
          32.000000000000185,
          32.100000000000186,
          32.20000000000019,
          32.30000000000019,
          32.40000000000019,
          32.50000000000019,
          32.60000000000019,
          32.700000000000195,
          32.800000000000196,
          32.9000000000002,
          33.0000000000002,
          33.1000000000002,
          33.2000000000002,
          33.3000000000002,
          33.400000000000205,
          33.500000000000206,
          33.60000000000021,
          33.70000000000021,
          33.80000000000021,
          33.90000000000021,
          34.00000000000021,
          34.100000000000215,
          34.200000000000216,
          34.30000000000022,
          34.40000000000022,
          34.50000000000022,
          34.60000000000022,
          34.70000000000022,
          34.800000000000225,
          34.900000000000226,
          35.00000000000023,
          35.10000000000023,
          35.20000000000023,
          35.30000000000023,
          35.40000000000023,
          35.500000000000234,
          35.600000000000236,
          35.70000000000024,
          35.80000000000024,
          35.90000000000024,
          36.00000000000024,
          36.10000000000024,
          36.200000000000244,
          36.300000000000246,
          36.40000000000025,
          36.50000000000025,
          36.60000000000025,
          36.70000000000025,
          36.80000000000025,
          36.900000000000254,
          37.000000000000256,
          37.10000000000026,
          37.20000000000026,
          37.30000000000026,
          37.40000000000026,
          37.50000000000026,
          37.600000000000264,
          37.700000000000266,
          37.80000000000027,
          37.90000000000027,
          38.00000000000027,
          38.10000000000027,
          38.20000000000027,
          38.300000000000274,
          38.400000000000276,
          38.50000000000028,
          38.60000000000028,
          38.70000000000028,
          38.80000000000028,
          38.90000000000028,
          39.000000000000284,
          39.100000000000286,
          39.20000000000029,
          39.30000000000029,
          39.40000000000029,
          39.50000000000029,
          39.60000000000029,
          39.700000000000294,
          39.800000000000296,
          39.9000000000003,
          40.0000000000003,
          40.1000000000003,
          40.2000000000003,
          40.3000000000003,
          40.400000000000304,
          40.500000000000306,
          40.60000000000031,
          40.70000000000031,
          40.80000000000031,
          40.90000000000031,
          41.00000000000031,
          41.100000000000314,
          41.200000000000315,
          41.30000000000032,
          41.40000000000032,
          41.50000000000032,
          41.60000000000032,
          41.70000000000032,
          41.800000000000324,
          41.900000000000325,
          42.00000000000033,
          42.10000000000033,
          42.20000000000033,
          42.30000000000033,
          42.40000000000033,
          42.500000000000334,
          42.600000000000335,
          42.70000000000034,
          42.80000000000034,
          42.90000000000034,
          43.00000000000034,
          43.10000000000034,
          43.200000000000344,
          43.300000000000345,
          43.40000000000035,
          43.50000000000035,
          43.60000000000035,
          43.70000000000035,
          43.80000000000035,
          43.900000000000354,
          44.000000000000355,
          44.10000000000036,
          44.20000000000036,
          44.30000000000036,
          44.40000000000036,
          44.50000000000036,
          44.600000000000364,
          44.700000000000365,
          44.80000000000037,
          44.90000000000037,
          45.00000000000037,
          45.10000000000037,
          45.20000000000037,
          45.300000000000374,
          45.400000000000375,
          45.50000000000038,
          45.60000000000038,
          45.70000000000038,
          45.80000000000038,
          45.90000000000038,
          46.000000000000384,
          46.100000000000385,
          46.20000000000039,
          46.30000000000039,
          46.40000000000039,
          46.50000000000039,
          46.60000000000039,
          46.700000000000394,
          46.800000000000395,
          46.9000000000004,
          47.0000000000004,
          47.1000000000004,
          47.2000000000004,
          47.3000000000004,
          47.400000000000404,
          47.500000000000405,
          47.600000000000406,
          47.70000000000041,
          47.80000000000041,
          47.90000000000041,
          48.00000000000041,
          48.10000000000041,
          48.200000000000415,
          48.300000000000416,
          48.40000000000042,
          48.50000000000042,
          48.60000000000042,
          48.70000000000042,
          48.80000000000042,
          48.900000000000425,
          49.000000000000426,
          49.10000000000043,
          49.20000000000043,
          49.30000000000043,
          49.40000000000043,
          49.50000000000043,
          49.600000000000435,
          49.700000000000436,
          49.80000000000044,
          49.90000000000044,
          50
         ],
         "xaxis": "x",
         "y": [
          1,
          0.9837118479793044,
          0.9400827914168337,
          0.877993106889547,
          0.8059429916627269,
          0.7307580768830203,
          0.6572214321327943,
          0.5882702015507499,
          0.525420219951388,
          0.4692089080816592,
          0.4195621565231186,
          0.37606220643378657,
          0.33812692118551885,
          0.30512135613198693,
          0.2764221944428402,
          0.25145145737960833,
          0.22969125578972202,
          0.2106874724102804,
          0.19404741072738063,
          0.17943449289272598,
          0.16656181589146776,
          0.15518557523242837,
          0.1450988788005779,
          0.1361261869641387,
          0.12811845273806133,
          0.12094894878059456,
          0.11450972541033068,
          0.10870862668670796,
          0.10346678842540456,
          0.09871654603169917,
          0.09439968730797749,
          0.09046599373459291,
          0.08687202197117255,
          0.08358008491029231,
          0.08055739830766169,
          0.07777536476722302,
          0.07520897172478112,
          0.07283628414125586,
          0.0706380159917292,
          0.0685971674229934,
          0.06669871674576132,
          0.06492935831184482,
          0.06327727887320457,
          0.06173196628923348,
          0.0602840454910948,
          0.05892513746879791,
          0.05764773775191222,
          0.056445111436081975,
          0.055311202287474374,
          0.054240553854342934,
          0.05322824084399006,
          0.05226980929680446,
          0.051361224316611075,
          0.050498824306419686,
          0.049679280817401014,
          0.04889956325193282,
          0.04815690777328223,
          0.0474487898685328,
          0.04677290009069804,
          0.04612712257304677,
          0.04550951596550941,
          0.044918296491307325,
          0.044351822863027204,
          0.04380858283240528,
          0.04328718117802891,
          0.04278632896081116,
          0.042304833899104284,
          0.04184159173423709,
          0.041395578473571955,
          0.040965843412250104,
          0.04055150284696456,
          0.040151734405645595,
          0.03976577192610696,
          0.03939290082464525,
          0.039032453902537026,
          0.03868380754441441,
          0.038346378267792594,
          0.038019619587654756,
          0.03770301916405044,
          0.03739609620423339,
          0.03709839909399622,
          0.03680950323561707,
          0.03652900907227685,
          0.03625654028094119,
          0.03599174211761544,
          0.03573427990055978,
          0.03548383761854281,
          0.03524011665254385,
          0.035002834600483625,
          0.0347717241956202,
          0.03454653231017763,
          0.03432701903660732,
          0.03411295683962673,
          0.0339041297728519,
          0.03370033275442323,
          0.03350137089656858,
          0.03330705888452265,
          0.033117220400647004,
          0.032931687589989656,
          0.032750300563857825,
          0.032572906938303434,
          0.03239936140469192,
          0.032229525329782904,
          0.03206326638298053,
          0.03190045818861737,
          0.03174098000132224,
          0.0315847164026929,
          0.03143155701764669,
          0.03128139624896055,
          0.031134133028643308,
          0.030989670584885224,
          0.030847916223448332,
          0.030708781122446252,
          0.030572180139547454,
          0.030438031630723495,
          0.030306257279722096,
          0.030176781937520023,
          0.030049533471066862,
          0.02992444262068025,
          0.029801442865513818,
          0.029680470296549015,
          0.029561463496618718,
          0.029444363426997033,
          0.029329113320129142,
          0.02921565857810955,
          0.029103946676537394,
          0.02899392707341549,
          0.02888555112277604,
          0.028778771992740867,
          0.028673544587747374,
          0.02856982547468645,
          0.02846757281272097,
          0.0283667462865628,
          0.02826730704301074,
          0.028169217630556655,
          0.028072441941883727,
          0.027976945159096597,
          0.027882693701522444,
          0.027789655175947524,
          0.02769779832915137,
          0.027607093002610272,
          0.027517510089260778,
          0.027429021492203203,
          0.0273416000852514,
          0.02725521967522733,
          0.027169854965907833,
          0.027085481523545524,
          0.027002075743875278,
          0.026919614820538514,
          0.026838076714850966,
          0.026757440126845333,
          0.02667768446753278,
          0.026598789832316064,
          0.026520736975505256,
          0.0264435072858812,
          0.026367082763253745,
          0.026291445995975986,
          0.02621658013935988,
          0.02614246889496244,
          0.026069096490692098,
          0.025996447661707306,
          0.025924507632066607,
          0.025853262097095646,
          0.025782697206445,
          0.02571279954780114,
          0.025643556131229175,
          0.025574954374115968,
          0.0255069820866861,
          0.025439627458071715,
          0.02537287904291035,
          0.02530672574844448,
          0.025241156822108167,
          0.025176161839579023,
          0.025111730693271567,
          0.025047853581261145,
          0.024984520996614534,
          0.024921723717115353,
          0.024859452795367325,
          0.024797699549256393,
          0.024736455552764713,
          0.024675712627115362,
          0.024615462832240156,
          0.024555698458555812,
          0.024496412019034325,
          0.02443759624156063,
          0.024379244061564973,
          0.02432134861491549,
          0.02426390323106715,
          0.024206901426454465,
          0.024150336898117287,
          0.024094203517554733,
          0.024038495324794126,
          0.02398320652267116,
          0.02392833147131207,
          0.023873864682807344,
          0.023819800816075733,
          0.023766134671905477,
          0.023712861188171484,
          0.02365997543521898,
          0.023607472611407068,
          0.02355534803880938,
          0.023503597159064825,
          0.023452215529370084,
          0.02340119881861414,
          0.023350542803645943,
          0.02330024336567089,
          0.023250296486773996,
          0.023200698246560573,
          0.023151444818916036,
          0.023102532468876967,
          0.023053957549608296,
          0.02300571649948814,
          0.02295780583929008,
          0.022910222169464877,
          0.02286296216751571,
          0.022816022585461806,
          0.022769400247391835,
          0.022723092047101396,
          0.02267709494580977,
          0.022631405969957306,
          0.022586022209078398,
          0.022540940813746503,
          0.022496158993591638,
          0.022451674015383796,
          0.022407483201184467,
          0.022363583926561258,
          0.022319973618862884,
          0.022276649755554826,
          0.02223360986261124,
          0.02219085151296304,
          0.02214837232499966,
          0.02210616996112094,
          0.02206424212634025,
          0.022022586566935693,
          0.02198120106914731,
          0.021940083457918903,
          0.021899231595684254,
          0.0218586433811951,
          0.02181831674838849,
          0.02177824966529408,
          0.021738440132979278,
          0.021698886184530867,
          0.02165958588407176,
          0.021620537325811092,
          0.02158173863312795,
          0.021543187957687372,
          0.021504883478585812,
          0.021466823401526416,
          0.021429005958024328,
          0.021391429404637622,
          0.021354092022226108,
          0.021316992115235828,
          0.02128012801100786,
          0.02124349805911289,
          0.02120710063070597,
          0.021170934117906583,
          0.021134996933198924,
          0.021099287508853096,
          0.021063804296368546,
          0.021028545765932678,
          0.020993510405902624,
          0.020958696722303664,
          0.020924103238343667,
          0.020889728493948132,
          0.020855571045306904,
          0.020821629464440786,
          0.020787902338781587,
          0.020754388270766703,
          0.02072108587744829,
          0.020687993790117633,
          0.020655110653939313,
          0.02062243512760151,
          0.020589965882977346,
          0.020557701604797345,
          0.020525640990336606,
          0.02049378274910753,
          0.020462125602568604,
          0.020430668283841255,
          0.020399409537436106,
          0.02036834811898993,
          0.020337482795012723,
          0.020306812342640427,
          0.020276335549400386,
          0.020246051212982424,
          0.020215958141018293,
          0.02018605515087182,
          0.020156341069430636,
          0.020126814732911256,
          0.020097474986667484,
          0.020068320685006247,
          0.020039350691012325,
          0.020010563876374038,
          0.019981959121220208,
          0.019953535313960855,
          0.019925291351132312,
          0.01989722613725085,
          0.019869338584667648,
          0.019841627613431608,
          0.019814092151156565,
          0.019786731132891817,
          0.019759543500998202,
          0.019732528205029957,
          0.019705684201616256,
          0.019679010454351855,
          0.0196525059336886,
          0.019626169616830936,
          0.0196000004876376,
          0.019573997536521632,
          0.019548159760358726,
          0.01952248616239667,
          0.019496975752167224,
          0.01947162754540213,
          0.0194464405639526,
          0.019421413835708234,
          0.019396546394523238,
          0.01937183728014134,
          0.019347285538124818,
          0.01932289021978745,
          0.01929865038212494,
          0.019274565087753086,
          0.019250633404844383,
          0.019226854407067773,
          0.019203227173531647,
          0.01917975078872539,
          0.019156424342465915,
          0.019133246929844926,
          0.01911021765117652,
          0.019087335611949224,
          0.01906459992277612,
          0.019042009699348838,
          0.019019564062392642,
          0.018997262137621814,
          0.018975103055697006,
          0.01895308595218518,
          0.018931209967517303,
          0.018909474246950633,
          0.018887877940530526,
          0.018866420203052802,
          0.0188451001940299,
          0.01882391707765317,
          0.018802870022760626,
          0.01878195820280374,
          0.0187611807958145,
          0.01874053698437434,
          0.018720025955584148,
          0.01869964690103299,
          0.01867939901677024,
          0.01865928150327632,
          0.0186392935654348,
          0.018619434412506478,
          0.018599703258100894,
          0.018580099320151828,
          0.018560621820890976,
          0.01854126998682338,
          0.018522043048703613,
          0.018502940241510564,
          0.018483960804424764,
          0.018465103980805662,
          0.018446369018168006,
          0.01842775516816112,
          0.01840926168654546,
          0.018390887833172373,
          0.018372632871962703,
          0.018354496070885806,
          0.018336476701939115,
          0.018318574041128858,
          0.018300787368448927,
          0.018283115967862282,
          0.018265559127281294,
          0.01824811613854856,
          0.01823078629741901,
          0.018213568903540176,
          0.018196463260434375,
          0.018179468675480842,
          0.018162584459897296,
          0.018145809928722473,
          0.018129144400798894,
          0.018112587198754602,
          0.018096137648986904,
          0.01807979508164449,
          0.01806355883061094,
          0.018047428233488327,
          0.01803140263157959,
          0.018015481369872688,
          0.01799966379702411,
          0.017983949265342362,
          0.01796833713077246,
          0.017952826752878768,
          0.01793741749482985,
          0.017922108723382412,
          0.017906899808865236,
          0.017891790125164026,
          0.017876779049705166,
          0.01786186596344038,
          0.017847050250831574,
          0.017832331299835,
          0.017817708501885892,
          0.017803181251883876,
          0.017788748948176863,
          0.017774410992546223,
          0.017760166790191902,
          0.01774601574971683,
          0.017731957283112904,
          0.01771799080574476,
          0.01770411573633559,
          0.017690331496952368,
          0.017676637512990513,
          0.01766303321315941,
          0.017649518029467844,
          0.017636091397208717,
          0.017622752754944952,
          0.01760950154449434,
          0.017596337210915122,
          0.01758325920249186,
          0.017570266970719964,
          0.017557359970291758,
          0.01754453765908194,
          0.017531799498132803,
          0.0175191449516405,
          0.01750657348693959,
          0.017494084574489425,
          0.01748167768785954,
          0.017469352303715144,
          0.017457107901803288,
          0.01744494396493796,
          0.017432859978986005,
          0.01742085543285336,
          0.017408929818470024,
          0.017397082630776384,
          0.017385313367709158,
          0.01737362153018664,
          0.017362006622095073,
          0.017350468150274433,
          0.017339005624504106,
          0.017327618557489342,
          0.017316306464846543,
          0.017305068865089864,
          0.01729390527961675,
          0.017282815232694218,
          0.01727179825144479,
          0.017260853865832967,
          0.017249981608650582,
          0.01723918101550354,
          0.017228451624797744,
          0.01721779297772529,
          0.017207204618250923,
          0.0171966860930977,
          0.01718623695173371,
          0.01717585674635838,
          0.01716554503188823,
          0.01715530136594412,
          0.017145125308836738,
          0.017135016423553508,
          0.017124974275744942,
          0.017114998433710664,
          0.017105088468386723,
          0.01709524395333129,
          0.017085464464711493,
          0.017075749581290278,
          0.01706609888441243,
          0.01705651195799176,
          0.017046988388497452,
          0.017037527764940726,
          0.017028129678861834,
          0.017018793724316493,
          0.017009519497862884,
          0.01700030659854852,
          0.016991154627896958,
          0.01698206318989463,
          0.016973031890978096,
          0.016964060340020723,
          0.016955148148319586,
          0.016946294929583113,
          0.016937500299917207,
          0.016928763877813217,
          0.016920085284134752,
          0.016911464142104562,
          0.016902900077292483,
          0.016894392717601778,
          0.01688594169325726,
          0.016877546636792327,
          0.01686920718303587,
          0.016860922969100724,
          0.016852693634369965,
          0.016844518820485276,
          0.016836398171334227,
          0.016828331333037367,
          0.016820317953936726,
          0.016812357684582797,
          0.016804450177722377,
          0.016796595088286667,
          0.016788792073378384,
          0.016781040792260397,
          0.01677334090634276,
          0.016765692079171453,
          0.016758093976415523,
          0.01675054626585588,
          0.01674304861737277,
          0.016735600702933943,
          0.0167282021965832,
          0.016720852774427936
         ],
         "yaxis": "y"
        }
       ],
       "layout": {
        "legend": {
         "title": {
          "text": "variable"
         },
         "tracegroupgap": 0
        },
        "template": {
         "data": {
          "bar": [
           {
            "error_x": {
             "color": "#2a3f5f"
            },
            "error_y": {
             "color": "#2a3f5f"
            },
            "marker": {
             "line": {
              "color": "#E5ECF6",
              "width": 0.5
             },
             "pattern": {
              "fillmode": "overlay",
              "size": 10,
              "solidity": 0.2
             }
            },
            "type": "bar"
           }
          ],
          "barpolar": [
           {
            "marker": {
             "line": {
              "color": "#E5ECF6",
              "width": 0.5
             },
             "pattern": {
              "fillmode": "overlay",
              "size": 10,
              "solidity": 0.2
             }
            },
            "type": "barpolar"
           }
          ],
          "carpet": [
           {
            "aaxis": {
             "endlinecolor": "#2a3f5f",
             "gridcolor": "white",
             "linecolor": "white",
             "minorgridcolor": "white",
             "startlinecolor": "#2a3f5f"
            },
            "baxis": {
             "endlinecolor": "#2a3f5f",
             "gridcolor": "white",
             "linecolor": "white",
             "minorgridcolor": "white",
             "startlinecolor": "#2a3f5f"
            },
            "type": "carpet"
           }
          ],
          "choropleth": [
           {
            "colorbar": {
             "outlinewidth": 0,
             "ticks": ""
            },
            "type": "choropleth"
           }
          ],
          "contour": [
           {
            "colorbar": {
             "outlinewidth": 0,
             "ticks": ""
            },
            "colorscale": [
             [
              0,
              "#0d0887"
             ],
             [
              0.1111111111111111,
              "#46039f"
             ],
             [
              0.2222222222222222,
              "#7201a8"
             ],
             [
              0.3333333333333333,
              "#9c179e"
             ],
             [
              0.4444444444444444,
              "#bd3786"
             ],
             [
              0.5555555555555556,
              "#d8576b"
             ],
             [
              0.6666666666666666,
              "#ed7953"
             ],
             [
              0.7777777777777778,
              "#fb9f3a"
             ],
             [
              0.8888888888888888,
              "#fdca26"
             ],
             [
              1,
              "#f0f921"
             ]
            ],
            "type": "contour"
           }
          ],
          "contourcarpet": [
           {
            "colorbar": {
             "outlinewidth": 0,
             "ticks": ""
            },
            "type": "contourcarpet"
           }
          ],
          "heatmap": [
           {
            "colorbar": {
             "outlinewidth": 0,
             "ticks": ""
            },
            "colorscale": [
             [
              0,
              "#0d0887"
             ],
             [
              0.1111111111111111,
              "#46039f"
             ],
             [
              0.2222222222222222,
              "#7201a8"
             ],
             [
              0.3333333333333333,
              "#9c179e"
             ],
             [
              0.4444444444444444,
              "#bd3786"
             ],
             [
              0.5555555555555556,
              "#d8576b"
             ],
             [
              0.6666666666666666,
              "#ed7953"
             ],
             [
              0.7777777777777778,
              "#fb9f3a"
             ],
             [
              0.8888888888888888,
              "#fdca26"
             ],
             [
              1,
              "#f0f921"
             ]
            ],
            "type": "heatmap"
           }
          ],
          "heatmapgl": [
           {
            "colorbar": {
             "outlinewidth": 0,
             "ticks": ""
            },
            "colorscale": [
             [
              0,
              "#0d0887"
             ],
             [
              0.1111111111111111,
              "#46039f"
             ],
             [
              0.2222222222222222,
              "#7201a8"
             ],
             [
              0.3333333333333333,
              "#9c179e"
             ],
             [
              0.4444444444444444,
              "#bd3786"
             ],
             [
              0.5555555555555556,
              "#d8576b"
             ],
             [
              0.6666666666666666,
              "#ed7953"
             ],
             [
              0.7777777777777778,
              "#fb9f3a"
             ],
             [
              0.8888888888888888,
              "#fdca26"
             ],
             [
              1,
              "#f0f921"
             ]
            ],
            "type": "heatmapgl"
           }
          ],
          "histogram": [
           {
            "marker": {
             "pattern": {
              "fillmode": "overlay",
              "size": 10,
              "solidity": 0.2
             }
            },
            "type": "histogram"
           }
          ],
          "histogram2d": [
           {
            "colorbar": {
             "outlinewidth": 0,
             "ticks": ""
            },
            "colorscale": [
             [
              0,
              "#0d0887"
             ],
             [
              0.1111111111111111,
              "#46039f"
             ],
             [
              0.2222222222222222,
              "#7201a8"
             ],
             [
              0.3333333333333333,
              "#9c179e"
             ],
             [
              0.4444444444444444,
              "#bd3786"
             ],
             [
              0.5555555555555556,
              "#d8576b"
             ],
             [
              0.6666666666666666,
              "#ed7953"
             ],
             [
              0.7777777777777778,
              "#fb9f3a"
             ],
             [
              0.8888888888888888,
              "#fdca26"
             ],
             [
              1,
              "#f0f921"
             ]
            ],
            "type": "histogram2d"
           }
          ],
          "histogram2dcontour": [
           {
            "colorbar": {
             "outlinewidth": 0,
             "ticks": ""
            },
            "colorscale": [
             [
              0,
              "#0d0887"
             ],
             [
              0.1111111111111111,
              "#46039f"
             ],
             [
              0.2222222222222222,
              "#7201a8"
             ],
             [
              0.3333333333333333,
              "#9c179e"
             ],
             [
              0.4444444444444444,
              "#bd3786"
             ],
             [
              0.5555555555555556,
              "#d8576b"
             ],
             [
              0.6666666666666666,
              "#ed7953"
             ],
             [
              0.7777777777777778,
              "#fb9f3a"
             ],
             [
              0.8888888888888888,
              "#fdca26"
             ],
             [
              1,
              "#f0f921"
             ]
            ],
            "type": "histogram2dcontour"
           }
          ],
          "mesh3d": [
           {
            "colorbar": {
             "outlinewidth": 0,
             "ticks": ""
            },
            "type": "mesh3d"
           }
          ],
          "parcoords": [
           {
            "line": {
             "colorbar": {
              "outlinewidth": 0,
              "ticks": ""
             }
            },
            "type": "parcoords"
           }
          ],
          "pie": [
           {
            "automargin": true,
            "type": "pie"
           }
          ],
          "scatter": [
           {
            "fillpattern": {
             "fillmode": "overlay",
             "size": 10,
             "solidity": 0.2
            },
            "type": "scatter"
           }
          ],
          "scatter3d": [
           {
            "line": {
             "colorbar": {
              "outlinewidth": 0,
              "ticks": ""
             }
            },
            "marker": {
             "colorbar": {
              "outlinewidth": 0,
              "ticks": ""
             }
            },
            "type": "scatter3d"
           }
          ],
          "scattercarpet": [
           {
            "marker": {
             "colorbar": {
              "outlinewidth": 0,
              "ticks": ""
             }
            },
            "type": "scattercarpet"
           }
          ],
          "scattergeo": [
           {
            "marker": {
             "colorbar": {
              "outlinewidth": 0,
              "ticks": ""
             }
            },
            "type": "scattergeo"
           }
          ],
          "scattergl": [
           {
            "marker": {
             "colorbar": {
              "outlinewidth": 0,
              "ticks": ""
             }
            },
            "type": "scattergl"
           }
          ],
          "scattermapbox": [
           {
            "marker": {
             "colorbar": {
              "outlinewidth": 0,
              "ticks": ""
             }
            },
            "type": "scattermapbox"
           }
          ],
          "scatterpolar": [
           {
            "marker": {
             "colorbar": {
              "outlinewidth": 0,
              "ticks": ""
             }
            },
            "type": "scatterpolar"
           }
          ],
          "scatterpolargl": [
           {
            "marker": {
             "colorbar": {
              "outlinewidth": 0,
              "ticks": ""
             }
            },
            "type": "scatterpolargl"
           }
          ],
          "scatterternary": [
           {
            "marker": {
             "colorbar": {
              "outlinewidth": 0,
              "ticks": ""
             }
            },
            "type": "scatterternary"
           }
          ],
          "surface": [
           {
            "colorbar": {
             "outlinewidth": 0,
             "ticks": ""
            },
            "colorscale": [
             [
              0,
              "#0d0887"
             ],
             [
              0.1111111111111111,
              "#46039f"
             ],
             [
              0.2222222222222222,
              "#7201a8"
             ],
             [
              0.3333333333333333,
              "#9c179e"
             ],
             [
              0.4444444444444444,
              "#bd3786"
             ],
             [
              0.5555555555555556,
              "#d8576b"
             ],
             [
              0.6666666666666666,
              "#ed7953"
             ],
             [
              0.7777777777777778,
              "#fb9f3a"
             ],
             [
              0.8888888888888888,
              "#fdca26"
             ],
             [
              1,
              "#f0f921"
             ]
            ],
            "type": "surface"
           }
          ],
          "table": [
           {
            "cells": {
             "fill": {
              "color": "#EBF0F8"
             },
             "line": {
              "color": "white"
             }
            },
            "header": {
             "fill": {
              "color": "#C8D4E3"
             },
             "line": {
              "color": "white"
             }
            },
            "type": "table"
           }
          ]
         },
         "layout": {
          "annotationdefaults": {
           "arrowcolor": "#2a3f5f",
           "arrowhead": 0,
           "arrowwidth": 1
          },
          "autotypenumbers": "strict",
          "coloraxis": {
           "colorbar": {
            "outlinewidth": 0,
            "ticks": ""
           }
          },
          "colorscale": {
           "diverging": [
            [
             0,
             "#8e0152"
            ],
            [
             0.1,
             "#c51b7d"
            ],
            [
             0.2,
             "#de77ae"
            ],
            [
             0.3,
             "#f1b6da"
            ],
            [
             0.4,
             "#fde0ef"
            ],
            [
             0.5,
             "#f7f7f7"
            ],
            [
             0.6,
             "#e6f5d0"
            ],
            [
             0.7,
             "#b8e186"
            ],
            [
             0.8,
             "#7fbc41"
            ],
            [
             0.9,
             "#4d9221"
            ],
            [
             1,
             "#276419"
            ]
           ],
           "sequential": [
            [
             0,
             "#0d0887"
            ],
            [
             0.1111111111111111,
             "#46039f"
            ],
            [
             0.2222222222222222,
             "#7201a8"
            ],
            [
             0.3333333333333333,
             "#9c179e"
            ],
            [
             0.4444444444444444,
             "#bd3786"
            ],
            [
             0.5555555555555556,
             "#d8576b"
            ],
            [
             0.6666666666666666,
             "#ed7953"
            ],
            [
             0.7777777777777778,
             "#fb9f3a"
            ],
            [
             0.8888888888888888,
             "#fdca26"
            ],
            [
             1,
             "#f0f921"
            ]
           ],
           "sequentialminus": [
            [
             0,
             "#0d0887"
            ],
            [
             0.1111111111111111,
             "#46039f"
            ],
            [
             0.2222222222222222,
             "#7201a8"
            ],
            [
             0.3333333333333333,
             "#9c179e"
            ],
            [
             0.4444444444444444,
             "#bd3786"
            ],
            [
             0.5555555555555556,
             "#d8576b"
            ],
            [
             0.6666666666666666,
             "#ed7953"
            ],
            [
             0.7777777777777778,
             "#fb9f3a"
            ],
            [
             0.8888888888888888,
             "#fdca26"
            ],
            [
             1,
             "#f0f921"
            ]
           ]
          },
          "colorway": [
           "#636efa",
           "#EF553B",
           "#00cc96",
           "#ab63fa",
           "#FFA15A",
           "#19d3f3",
           "#FF6692",
           "#B6E880",
           "#FF97FF",
           "#FECB52"
          ],
          "font": {
           "color": "#2a3f5f"
          },
          "geo": {
           "bgcolor": "white",
           "lakecolor": "white",
           "landcolor": "#E5ECF6",
           "showlakes": true,
           "showland": true,
           "subunitcolor": "white"
          },
          "hoverlabel": {
           "align": "left"
          },
          "hovermode": "closest",
          "mapbox": {
           "style": "light"
          },
          "paper_bgcolor": "white",
          "plot_bgcolor": "#E5ECF6",
          "polar": {
           "angularaxis": {
            "gridcolor": "white",
            "linecolor": "white",
            "ticks": ""
           },
           "bgcolor": "#E5ECF6",
           "radialaxis": {
            "gridcolor": "white",
            "linecolor": "white",
            "ticks": ""
           }
          },
          "scene": {
           "xaxis": {
            "backgroundcolor": "#E5ECF6",
            "gridcolor": "white",
            "gridwidth": 2,
            "linecolor": "white",
            "showbackground": true,
            "ticks": "",
            "zerolinecolor": "white"
           },
           "yaxis": {
            "backgroundcolor": "#E5ECF6",
            "gridcolor": "white",
            "gridwidth": 2,
            "linecolor": "white",
            "showbackground": true,
            "ticks": "",
            "zerolinecolor": "white"
           },
           "zaxis": {
            "backgroundcolor": "#E5ECF6",
            "gridcolor": "white",
            "gridwidth": 2,
            "linecolor": "white",
            "showbackground": true,
            "ticks": "",
            "zerolinecolor": "white"
           }
          },
          "shapedefaults": {
           "line": {
            "color": "#2a3f5f"
           }
          },
          "ternary": {
           "aaxis": {
            "gridcolor": "white",
            "linecolor": "white",
            "ticks": ""
           },
           "baxis": {
            "gridcolor": "white",
            "linecolor": "white",
            "ticks": ""
           },
           "bgcolor": "#E5ECF6",
           "caxis": {
            "gridcolor": "white",
            "linecolor": "white",
            "ticks": ""
           }
          },
          "title": {
           "x": 0.05
          },
          "xaxis": {
           "automargin": true,
           "gridcolor": "white",
           "linecolor": "white",
           "ticks": "",
           "title": {
            "standoff": 15
           },
           "zerolinecolor": "white",
           "zerolinewidth": 2
          },
          "yaxis": {
           "automargin": true,
           "gridcolor": "white",
           "linecolor": "white",
           "ticks": "",
           "title": {
            "standoff": 15
           },
           "zerolinecolor": "white",
           "zerolinewidth": 2
          }
         }
        },
        "title": {
         "text": "Fidelity Evolution"
        },
        "xaxis": {
         "anchor": "y",
         "domain": [
          0,
          1
         ],
         "title": {
          "text": "Betas"
         }
        },
        "yaxis": {
         "anchor": "x",
         "domain": [
          0,
          1
         ],
         "title": {
          "text": "value"
         }
        }
       }
      }
     },
     "metadata": {},
     "output_type": "display_data"
    }
   ],
   "source": [
    "px.line(df,x=\"Betas\",y=[\"Classic Fidelity\",\"Identity Fidelity\"],title=\"Fidelity Evolution\")"
   ]
  },
  {
   "cell_type": "code",
   "execution_count": 40,
   "metadata": {},
   "outputs": [
    {
     "data": {
      "text/html": [
       "<video width=\"640\" height=\"480\" controls autoplay loop>\n",
       "  <source type=\"video/mp4\" src=\"data:video/mp4;base64,AAAAIGZ0eXBNNFYgAAACAE00ViBpc29taXNvMmF2YzEAAAAIZnJlZQAAnnttZGF0AAACrgYF//+q\n",
       "3EXpvebZSLeWLNgg2SPu73gyNjQgLSBjb3JlIDE2MyByMzA2MCA1ZGI2YWE2IC0gSC4yNjQvTVBF\n",
       "Ry00IEFWQyBjb2RlYyAtIENvcHlsZWZ0IDIwMDMtMjAyMSAtIGh0dHA6Ly93d3cudmlkZW9sYW4u\n",
       "b3JnL3gyNjQuaHRtbCAtIG9wdGlvbnM6IGNhYmFjPTEgcmVmPTMgZGVibG9jaz0xOjA6MCBhbmFs\n",
       "eXNlPTB4MzoweDExMyBtZT1oZXggc3VibWU9NyBwc3k9MSBwc3lfcmQ9MS4wMDowLjAwIG1peGVk\n",
       "X3JlZj0xIG1lX3JhbmdlPTE2IGNocm9tYV9tZT0xIHRyZWxsaXM9MSA4eDhkY3Q9MSBjcW09MCBk\n",
       "ZWFkem9uZT0yMSwxMSBmYXN0X3Bza2lwPTEgY2hyb21hX3FwX29mZnNldD0tMiB0aHJlYWRzPTE1\n",
       "IGxvb2thaGVhZF90aHJlYWRzPTIgc2xpY2VkX3RocmVhZHM9MCBucj0wIGRlY2ltYXRlPTEgaW50\n",
       "ZXJsYWNlZD0wIGJsdXJheV9jb21wYXQ9MCBjb25zdHJhaW5lZF9pbnRyYT0wIGJmcmFtZXM9MyBi\n",
       "X3B5cmFtaWQ9MiBiX2FkYXB0PTEgYl9iaWFzPTAgZGlyZWN0PTEgd2VpZ2h0Yj0xIG9wZW5fZ29w\n",
       "PTAgd2VpZ2h0cD0yIGtleWludD0yNTAga2V5aW50X21pbj0xIHNjZW5lY3V0PTQwIGludHJhX3Jl\n",
       "ZnJlc2g9MCByY19sb29rYWhlYWQ9NDAgcmM9Y3JmIG1idHJlZT0xIGNyZj0yMy4wIHFjb21wPTAu\n",
       "NjAgcXBtaW49MCBxcG1heD02OSBxcHN0ZXA9NCBpcF9yYXRpbz0xLjQwIGFxPTE6MS4wMACAAABC\n",
       "omWIhAAX//731LfMsu1Tb7X6f/5N/7RUBBPHk7ULGKTU8wqZvazSTaxP/Ia8CXLO46G5Kyrxf0ds\n",
       "Hh3XrXDKBt9D/tkf1d/oULJL+SPnOuO+e9JmN/9WXSFxLWAEwBkVKdNmc637bV16/bKker3bGokv\n",
       "F0mpI8pM8cb/ht7v42s+ei9McxGmdSxRi5xQpFprymRW+InEroET4H6l32C0liUCoSO1MH+LzusM\n",
       "g/j7WuLngxqQTisMzBcGN7CEjxefi8hYOlFsmN0aMwUXtTuLlW9wuAdsJAJShcs8wg4cZQ2IZMsP\n",
       "GDuaXgQsWBel3PUSbTeR+UqAsRZgFiyPv0fybAR+qEZIOMjTVpaJIIefQh7v+PaKFpy+CVVrWZmA\n",
       "kCh67XJMGz7VxrxHBEDBuE0DSGk4xYQcfVAAnrilGmafbF9OuHxdjvrmMxLleMuxScgDti6Kk/HX\n",
       "JCLpeD7fH+sHudBwVEIBXiR1IMH0f3Z2XU5VEozzArbG/czEmDbEaGAaGJmj1rMBk83EAyH8wFln\n",
       "MrGppfU8v5CSeEigbtc8ETV6nMDfZAQy3G99f/xv5rwUGOOJ/H3EwLSH3WapEpFBTSeJ2z2VqWq3\n",
       "b4Hxn+n7ic8GgCzxwvcEpVg67CjwF/iH6tQkhTti8WfX9nluXaeaAgN/PHMCmswptSZzIAgaMXJB\n",
       "dHEDlMVQKI46AdeQW7fv5iKz7mMGKPLZ5jSpWMM0GDnkYolgvis+yUyFWXkWiP/X0FKMls24HKQu\n",
       "24lp2cl23cEol00f9iRV38hRP1c/ZJGN8vV53lcVNsHzwInUBPPuZvJkKeJk29T/O6L/oatLv0ab\n",
       "i52PED3XBnO3x5pb9ZkiP1OCYWFLR8YmQEMc69vn2UkvKjAKdHe0LisKpd22i03kqlu+/s8CflRo\n",
       "3r7fAe52AWBq+fU95vhJs8AmfmbuS2XhZ2VzhJg3JTuBviFSHDQGts8Vc5DiQCvXQNxXuH/RYAAA\n",
       "891G6DwnaLuRUMVtfMlt9KC7ElT6T992JH3unT6oe5utMjURqKCBJOhPVDeNIVIIgxjsCbGb4zZn\n",
       "QCyC06syaXqh/741RwJZ9ApAClo4SFzF7bMrMDxuBmDoDTBMoWahcznkdKT9bAXwT4NIPDph1BGV\n",
       "7nCUn3qobebEYo3wu4X2FqTJ6r7BMlae5oo5ypYtyiLfmLCLb5CATJYIQ9p48faqBxpgNr842ed8\n",
       "oRy6Xb9lGP6KRazVBvel9bKmkbko0HiLTtDcYGj3cb9ddu8wyb3HzoO5QbO8lUrk/jeLATGvgixe\n",
       "5/eXio8WxnBAko4P2U0c3bqmJwhMo0yWWg9/JltTt2SKbSg2YXSy6i3kdr5i9cAH/nzHOeyGqR7T\n",
       "cgRyddHBCfxSRyp62bRiMHptX/furNmVMwa3Vt2yEjCDJgRwYpkyo990R2qLn1H3sLk7POlUAtmR\n",
       "W6u+K/3ezaCBaipJ2w7h2AEZ0omnChBCcdBtQa1TlyqtjAt+gJb9EcScHCW2dT5YYwnCfcyicNsK\n",
       "39oM0VhTNPQEZy7txfduDtGmy8cDgJfgxua968ffaceEXpf7sLBX5VyDO7m5voJHGTZKg8RCTNWa\n",
       "nDwn0668rM+zZ6h4hwdVecKH1388CxDzul5LIOdQZauDwf5F19bnB5qIBUXZnj8/J0QCWm0f//YN\n",
       "w2Zl6egD/TFOVly9nn0Bbda/XWTE5OzUNjotpw7ADnyKuq0pNNnZzNo0aoV/TuWnp+g4+qS+oK1s\n",
       "4CUP78V9A5NYPsSP8PJNOVz2smuekdP1E1WoAXiUefQJWq3uF9LCTgzmueYsMCFklTmDSsWehayD\n",
       "bqBBGNEAvvF2kmq1F1UOnQp4ll/IwtVP6tYzd1hjOOluZ7rU08wG7ciezC1zVxlBQHQkqy4Rt3o/\n",
       "IBeEilzfL/kFoxOmSZF3M1JTmj3sTGVIVd+Z0jYp8zcLdtpNCiVIxpxYo+OLf855ohDJZ6aB/Dz+\n",
       "UNOVxb6GG4w4pc5j6soyURjARmRybBi8k5dxc6Ce87PPOHZBnUy4gD8YVimgG0kwBlDW+QYB2p2t\n",
       "ExPh5NY9aEw9dJbC2zoM1AY9HhaAaH7H4xPvIoT5q+KpKr/GuiLgpKv3SJO0URpaAnfJGvH+oik7\n",
       "D5wgh8sPcoUDBB3R68Wx/kf46m9iwkjJ94gkxCnBA/nbShrWju/4E/VHhPBCCs5lU5EgvCmESIuB\n",
       "5fSThQArXIdfuYhGL3+Vb+NaJyKSSYI3rZy9bH+b2DltNEhXAhyka4VC9UJctckLJ1Mt3jpFEFW5\n",
       "0v8UdR/qK5Xd0Ay0CwYgOjIOqIt+s74OSkEcPALCdPAGbEw2na6hZSa/7jlconuWRxHn6yun7lzg\n",
       "k6KHKahbCpjTHzmCre0p+LwIR9MpWqAFAb331LkpGEmW1aHOeIlTYZM5VeCibIX54zpuEjqg8EDu\n",
       "zR2IKaobp2iRq5gcxrOwa+C9RCpDppu6ZaNVfs/y5nCp950ErV/VIKNwvpxaSA7kSkV1oRrOdl3J\n",
       "QKxWFffdmTS2v0uWoKqbzEB4ogbAwbbE7z+ziwob/SMVTH/Ds17tcgtTb+yhypmw3gbC0GVtH3gz\n",
       "K6JKBa/opmOMfPr1Fa2rAQhBFPLG2tMt+PCNdY+jwSUEjnRSezFkXEPGvu1pUG6ApKybj+/Zjvaw\n",
       "mIQCNx/Jo7QgyxvEOjQyPwHBY1kyv+MFFR60+cviE+GGQC/M8oleYkjGZ3H+N97s5U35G0x90Edm\n",
       "53gUu/Ies8I7klOUACvYUXZX/fckOxnsfF85xpMHmGfDCJC5p7Z28PZoIHTrLxf5X46ZjJ/EJDf5\n",
       "X2FxnHh45KG3KyuFV1LOJOeOFS/ePWsrmA63hPUAR4S0Y3J10un1e8woNNK1DZMeFj4ffJ2jrxrK\n",
       "owiwiibcM+9NPXgUQM1wDhmedTf//80DIakIPpI//9awK2fluHfAkWgGP/J7honnxffyv/VF7S5O\n",
       "6NXlTK5gseHgIQbUvfocLxYaVpan1CCfYdWNkQbl9m8iPnwY1bn6ZyDkDsu5XQ4Lq9BnwWFym18t\n",
       "ME41JH8CfugWzk7evp7IdaCmFVKZjn8t7m9ezv5wLObAo/A+rRir8B/zW/tx8wMQqwvjI4+mLaAv\n",
       "UH5Jd/BtBevWyI10YH4jIImQyT81atrQ3236dMdxtqn7eusPxoxKkcRxP616rpCoEDns+5ycpDJp\n",
       "MIC4uu1kswv991JBUl3o7XaNmUhxK/6NU3eIuxr5ftgG+CoFORhOGP5EhJUU6uQY/AoCdT8WZqdD\n",
       "BJspPalX0sW3ZqUXm5Oc7Vr32JqgkN2ALaRGMTrl6zaIpkV0Gf2TsNePrl9kXJ5L8MK513ZvF7Lt\n",
       "IRz4jYbQjY5doOHWJa9EB/DJeyeODUCMmMnQ1QG0x9t0vPe5ztiV/dRHKl+6mMB6l8qNbi+1h8mf\n",
       "sxIuEk+HPdVpx9hTSUFsw8FZSK7SjJZGwAZ8u/J7kvoINUvM76lCltfXODB5vIzwCdlTFwGDjihb\n",
       "DxGfZeFKlD2jnWpoKugewboai4XGdqhqe6sakqDPfqgad+08FEFOc5CISfTr3I9JB21ad0yEf4KG\n",
       "OkFT+mj4aueJT5o3SUlFJExLPejxuM/CRraeOau7i7mxKsl2+b5k1VBcG0Fmo9bP1HqbsUQroGRo\n",
       "gPN4S5kXZDrV3KN1Mi05u1EpIeNH41HPA0XFfOd0C/J5/0vJj/tHBqaETQZsEt4cmIgMu1mTgLlz\n",
       "WkD1jRjaSQADVdbsH70LvbkmqAlTctTsGJYqSGqApmCJwDswkkopANSRsDb6CfSbMYE7PxurpOvO\n",
       "vj604jwvO3LjD7zrhPLMKPhkZAGlxYvKAoszrVn2hHplD6kUsbNP6vFymigsEE9VScc97SY2ODPR\n",
       "UOf94WFZ31hBHX3u3qLTV0Aay1R3x/L3pTEUx8fDnBTq8Wc4vwpzv7gW2c4pu42IeTAPCwbYV8c6\n",
       "Z98iKE0slKgPTkUJsaQTfKxwQQrgCctrfxPHCvyRk5xGtDCtPlAl0IF5orC32vSiUFH80Bh+YxZt\n",
       "ekWzn7QFmh+h/+TX9y3mnB1UhTfZ8SSJQejVnelgauDsucy3/le6fdRFIYDBY+f2qJkYXOeHGdcs\n",
       "QpHnwzZnJzUfhedbzOu1/W53Uns5/4efKqqBMGhHVezxsDcRkRQJ4T5ExcTmko5i9h8DotaUeyHR\n",
       "SVjn4IMjAZ+ZiTC1BaZvR+PGVYzSC8nmcZNKzuQY9yryXjVTrBQJivFWfJs39ekNOuAFP04rDVjo\n",
       "49s/kKZ+CSL1INqTVd2rtEG72vGKI6UO0Hd1ukqsQwyzzYIV/9EB44UOyoXOBJw7vKccGTrIJf+T\n",
       "XQN7XYhQi9dkZkcK/ykcBJkox41jr4D9OpK8T/N623+M7fHRT5pttzz+lWUbNkVWGO5fLMLUerUX\n",
       "nS9eMSOBaaCEknmuAqgEEf4dQDMgPWNWo+0GDuIfV9EINVZuYnQDhpUJaqR6cVwRvemsVTFYrUAq\n",
       "jFqiyqeJuPrVC5Ya4A35j8kAcES0fZ7Jaxz44jULnruc4RA35vN7xboD/TKDiBJyagbMVFgaBFBI\n",
       "j83srfaV/Ykxp/BsuyMZsniazPpozDI9TSme8XkvRwW2WVdfKR7hSJ+/2B08M4Gnb6dsvE/CepGB\n",
       "DDQXtZdtIJOH/K7G130Hbl2nXBC15JqhHuTYBH+rcSrWBGHyaGVo4I7+ZMvX3CL887SZDIQFxph8\n",
       "eK93/tWRbQ/l4xwKz/LTXByp47E/8IdqYllOwDvIX+IsoxZUcF+Izydg2Q3dsPnKbtosDoDgIgxd\n",
       "ds5vBiTB8OrMh1mqBlMj0HltJcK+8OZJhbNrLHSqDYJ1GvRGhGwIpSYffORPmT46woetWv5O8/Ss\n",
       "SG7cdnuFniDqogz7qY2lJW8TVIwLd2/TZjhWRaNDEcYK1GfNWaMvQfGufMJPysRhUXLiEOih53YR\n",
       "yW4L1Q4LElf0t9GhPYmTpnBHEWTYA++fj5Fboj57LkQFuxeh6wcWAzvY0/5nhNu9Fy95bsteBtDY\n",
       "L8PqCfYKkCBFaznUpGYaaEwRtu5MKhGGwPOmOhL1jQGsXeTEVNGit5L6VVkmSzDcPX35di5xHrGx\n",
       "pWj9fZsQDpboIfny+MxriECajIMu7d/TL7QX6enIqEldMzS0Ds6/k8uf09ajiCVKbUIJvyD6LunY\n",
       "itSaiUagdERNqPfbiIc0zB0LVVSV2Do5q834KsPoPg9Iz3mISt5m9e91S8Aaa6G9z1x6CfrdBve8\n",
       "+0PiI7Oh0wcfE6+Mjo7xY8raXEQmNv1J4smmy2ZdIFnZ1B9e0aX9/AvGTC2JZDEhu+aLVzlhst0k\n",
       "D7X0KUYFh+PrUnmgVLzfnL7YPVq4fJ+cC6CMDXJK1Q2K7Yhoh2ou8okcpBBa13DrjY1nQxrSLVEZ\n",
       "jxhg1xXiTWPOssR4BcWmNzmwwUttwlimFujYOtz4AAsocQofGiTN4cjkoh55WGxhKI5I3xZH5nH6\n",
       "MSw7+QzWcdCgnA5SrRfYq/ZXBfqT5DVWsZXvOCGZUQ9YWJ8RH48g9fmcMEq1m+zxSycV6fZKV0aG\n",
       "p8OCkBVvMIyJIiiKhHklrvasP/BK0yLmFIhQ2VzWziB3s1SF//8aZ5/ISTHd27VWokIIAAADAAP3\n",
       "ttcQkeN0i4WlQC/X6TANiNK4nafVfxRO71a9yGHKx/syVo0xl8vtYMxlwdBI0+1Z/Tq2t01LBeAR\n",
       "vZwuceHQspweK5lZZ9VqN6RwRjKGCbfEckqIIlSfv7I+nU+ylhW03lFdWJNqc+9BZtX8jZX8ePNi\n",
       "p7HNd7NfF03EGD7DLrVRVx7dOuYUAkxXlLqlbcOEEHV2ZdtA/nTIVSn3f9tWoUjvIDQvp1ZpXBco\n",
       "4ss4kq08inB0yD6QS9gWa5FwVMp432YGDMDXcXJByGQeEWcpmapbSTzqbTx+kKh35yXDd3IiVTti\n",
       "bkV3wlV4Os2ib8+45SdgY2W+ktgmX6pBn/Fd9PzgKRPXuV8FYoOnY1orcbIrsQ3tG0WZSDyKYZEU\n",
       "vRshOTnDsxsaEpax4W7cI6g6NqT80l+rNpg19qzzXOMsWqchJWvwvev4HvwlX5WgbR+It6g0Ku3U\n",
       "D/H5XVWt15pJYKMYf5Lc1JOIpqcBol+tr/WTJ2Abn3Q4L/HQxC2TlErHkIHhjiXWtV8/EcmYTI9r\n",
       "84NfKUxPBzOhrQVzIY3elAV6B1P310EDiVdR+DkpyT8cIfyiF9i9rG2bTWYkdujF9R+hqlu/kAJ8\n",
       "V02HCPI04W0xtmlgWKBvQM4TXdbY+WH1Pop7oVnLDdJNfOQcQYetBtdJ0d3vqNvDkWyx2HSv5ynm\n",
       "Quu/pVvDv8MKfytXzQVMpzt11OQp1evPOTFYIyIAAAMANbnTqjg40DOUUsLiOTSUMqi1/FeTwmi7\n",
       "OHQHfOKCRCgTt7aJ8+Wb9rhUTcSLjJL9ECtZsKRP8Y7TD/+fHiWtRAcvfTdZMmztRhowP73oFFae\n",
       "4158fHV/IXOoedNyL9pDrZVWnSV4t3w7+pgaXSrABg4sMLe+eysgd4SwksRGDej3HA6mez9LeFxH\n",
       "aZ0/hklL+TU4Tt2PsfFZdRkvSEBg0ACPle3rMaRvWNT08YOd6Ih8G9Qj3eQVLbdcB9gOTXU2CKSb\n",
       "7rfYFR4GDTTHzae0tCpQ4YjBF0x/gMhaMZXFJMIx8fSrYArV7ifsKqL6DV1Dx4JJgBP9XPR4tqjA\n",
       "HnNepX1S1W09w106BBYcLtSc/AsYiBqAzoLFKqXsBQ0Y/bFoFsk2nmwbSjYzn6Q2psP9VBRHUcQj\n",
       "da2xR7T589dO0UQLRSeLqtggtx9ysh2l2BjxUe6NfP64hA8N1d7itFIQOg6J+uLCFr3MLnmrwnO5\n",
       "aiFAZw8lBgZpgbkbxdMFtHaJffHFOz/Fn5b74q/4pKLQjymRLlBqi+xmOlvssigei6mlW64sE1uW\n",
       "gkPAkW/yz8N8hJHR0BfmjrJdJjuEYVtu/ctHrz9UjNKRMVy3Uv2gHwE0cGz3LcQpwN3Ul4PsNK02\n",
       "Kd+RqcLL3K0RoLad7jUrST4FtsSP6lAYQZU/YjBnKXn6xrYAg4XAEuLNLaGrWpLtso7jOCR6gIfX\n",
       "uRgcUqPHLSb9KXO++Quzqr///bRO7hFoK9CNcaFhhh6eO3Lg6+4ZjovfI4NkOHYGLSqPAJT+B6/d\n",
       "l/59DzFPuvmGodckSimS0cLUcJJwyJT82uHNHgUdLtdkUHolso6xanQPGijjb8VAlxuGte1Mym3e\n",
       "z6EfNdd7e1dSpO8jFODQMQipMjH+9lQ65is2AKCxp2RneU8Qv3Gvr0yJvoaVVzcEiUSGhyw9SbsH\n",
       "+/t/nAGmx7FuOeuI45CJJjyLgMyx3woKPHQXTTMUE/6tIw4QkQVP5uZYbx8mZeldCHsANvS99z2w\n",
       "OyrAc35NSNpdCnwv8AOXkBEgjxrp4ROCOJKCQuNXXVIZHqSQo7vNcugU16BdV6Mj1fBbGwZQmaCJ\n",
       "F9OzMxuTw11qfhQLZ6ypLKTq9rYtJ5IqRkir2r8+cqu0cdqJ1S7jB9m9tISTXVjWZ/JSqrkivD0V\n",
       "g1/AACUrTtYr7vlM6CDrWqvjDIgKUIIKW9pxckeE0r70ndqArQ3tGkAFDmWPrtfmimlPgVbvhfHP\n",
       "Sy3BidAsuIhCyTk6TEuFlU6UGi7O+EdGA4nm0GrRfUJWqe+TTVUZhJfdCUAcVfrXlWUUE4jGMp9i\n",
       "b4VNtFGpAz4O/92xwa2sN8gGGfbc4SpV2ELQCeanmDZl2ObWHFQEMgAmjtZ5ywBW4n4p65LksN/V\n",
       "sa23HSmk6Vx6xQXWGRDtNgEQUI5sAx8RXFOgGjtA0JuC8EKjw/kfCripNDJ915mUA6Y1+V/b7BT9\n",
       "Qk23sI/AY7qrCoSts46kRi2iqbO7fM/0Lu8htqxq8IcRxGYu/kmeroY1Wf1uC+cXFQSBRsbfV1u2\n",
       "zBtLnQ6d38Mk63HMD/7QIn1B4oBf1CXaQmVC7ePrFo42oLRLGwqryiu9WmCd5LFOXc+Doz5qDiTv\n",
       "beiP9KGvlAyTUwGuzRnFDQVXKy2Pw/8seHQ6xpOvNsGsDzVJ9uixvcEDwBMlCtDrWnSKOGoyr5Sb\n",
       "IrHfF10tsP0ssY+1Dyn5nsGx2Y+NmRy3dsNayottis+RdCGHnfeTsi2WMnblfeYpDz6+AdWtHh9m\n",
       "0SvjrqaN3kf9ltcZ4I/vh8YEavDAd3vKLQQhVOYhrqU4czKHsYAhyiEhL6LK9yNU39bmjw0dzjAl\n",
       "e2JbfoIVlZkMrRvvlydw+lQob+lHXZHGnR72uMuHau41BDGZlLip1nm49ZGFft+OJjp8woUvxK0k\n",
       "oylT/16dWIG9FLUmuTbOVmabXYUFLpyu+DftY/bBA0/GTxjwgNC8ZDkNw0BiptmbQ4Ljl/ZCyLEy\n",
       "gHLthsuGzGi+3TUMLR0A5blPoFt1j/AB/5HYL0hUJXn/dWw8I4kuKsSejIAAPcAqZXklq4ijOVAV\n",
       "8+pDeGmROqiZBSz4hM/KOlwiG8B6su/+VJJxT3j7/1eFPrxUlmZyH3jSrWOPRhF/+eldMEYmnOCA\n",
       "hmSKiYC1u9bWWD6MTiIq9tvgD/8b1uE4zsm8V0t3x9TgA8NZMGPE0LaOckRfzIQf6PHR1b+oyZZm\n",
       "FYIYy4+zT7tKotARrsMzQnImxYrpRKK6/j/yVCQOeUeBBtsgbptfWynH1bGY5fl8nuy/udRgbOsg\n",
       "3dvGtUT9Lwbxl3XcJRiCU9v/ypjsmH+xAURO2CpM0D99pDHBTYaT0qOnD/Vwjv2MX0fgQBcCPaWO\n",
       "rGf+gefQnDAbW7psPP3XqAINNY2SBHO4GQ1Er4Uq1knfB9kH8uhtgTamDB+vom8X4IwNsf3Om4DG\n",
       "UctGdtCfbEYEjuCCJx+IxlzMlQJaMTplCeuiZfpIA7qqRsDim8xE2pR8KTU4N/tqFEl/q9jKLnAa\n",
       "0B7BQcYIEi7AjJ/YJNadoyuOv4FMiZWDrc4FaT34Z/dezGvNFCJbdo7Fp0o2SJhsdfklKac46dS8\n",
       "Q1o3B+5R/GW5ZNAWWi10vCJ18jGSUYxibEe2IICOf//hRaDJm/YIUU9ivgRZPYEolKNFWHL9ukuO\n",
       "twuMRIAr8N4LHDuXapVES+fd8uo/bB+VLyBHRliF+WQ7HYqTuqnKTswM3bMATt0hzaJ9yne9beOK\n",
       "uCxvWgaCALfWFrIcK8Tj7gkJV0xyIzAzcAtcLtux0X3vtxh1ifPxoruhaB363VeXeE5MQzbv+1GN\n",
       "GO7t1PJw/HsHa1pqsMS+UEwM2CWAb+1I/lFU/0n4y69d9rrBeVUtK/MISoy0FydNQdH5jM62mDL/\n",
       "llTy5DS9Lafc0ItrAvL/Tcfgj83CsK7/UPlhnSQRlE3kFognS7sLXQfcx6TD8fb+eYlv8B2ArztQ\n",
       "u+f+6mSNOqQNUq8JSmHxFhCxsNiUgZQuVengn4PaE3vDCmA5hGKuQzoGzkbtcrF0jE8/mBu5+vow\n",
       "gX7zty4JDMLzU9XjPgqoEkkGRbOLBCAYZQ7PX/DHWyuPlCRiESdgP9WgzwLKSScWrp6ui1MKJpSu\n",
       "uyQScRp0PBWUxDHAEWJ+Pwnwj/HfWhkdElzRTYC45FoLMjUrWg7nOvCz5a5BcPvFA9dtS9AfxVbR\n",
       "lS7gekCQ7sspd74A3t9zJvOGohJD58AxopXb6D9DMMpy2rxnMeoThAWZ7YzOK0pdXlyq2CBxu5zu\n",
       "v5Zvcvod6cBbtL6DldvcXo/CRuLHOvXt08jyRLQhtzn1qxtVb9V6skJsU8JxMd8HpMBmcj+ZdiB7\n",
       "WUvOGCgZZtLwzAUq/4XiM9rKABeVxb6piWa49eJo0X0YE/2gwQP7pdmkVOycW0jf6Jmxw6EREy8o\n",
       "mO8VvDvbK8N6AaLnWzkk2v/0Ca4+hHdAOjUABgUESbIoMO0ivv7FHsoT/G8z/9uUmg1ZDcSZedBv\n",
       "gSo/jZAU5/MQr/J5eGyZdml5V6/eJejgQzBLuEhqeqfglzTwY9cWiKwUadaf5CKW2WZTiSgcc0pg\n",
       "TWDZlTzcIg8zKMAxNWZATlPAuMxnxTBWLOAIY3OWcdC8HQqcIbG7/tJQePdyBTX0FKDQlk23jzkK\n",
       "HGnsUaPwh1WPGNMjaMf1I1XKg8eMv3KEMeSETfIQ7Iuf8k/aIHqPqx9nWiim2rWmtnlWbse9HDyO\n",
       "piQSLACxxtJLO0GEDZnHOGC5WF3CFE8kVBNtlKvJFGd9eZH2Rp/epqiV/pDqK8C53+q54/K/7voq\n",
       "1wgHD6KUWq/X9Mu6LX2EYLhuVFr0vW6Uu5os80aCSt81tPaKwhxaV8IV0t49X0VDufI1AD9AWGyx\n",
       "/rv2cdXvaPtvJE7W/egpvru3sqWmlKlFrtjb/h6a79+vlrfyiYeMALzrwcz9/3kvRdvM2MzwidPs\n",
       "uaebvQ0ACXN5D1U9xC4IE7/gYw4uhVUThC3oqumKV/QT+no6lLsCEGilc9cn7K6pUPPG2qfBIO3u\n",
       "PKmh07LlB959zhgfxprSmgMYqvNUrb+28H9qalftIh3UqOCJq8eOISklGh0/mp44zb/pDBaiSPbF\n",
       "/AahzcT4jRtpdNXIOf1o4Q96YjRUvySk4H3fuybPxzdgyLVjEKL9pFZfpl+qg2UOCRXYkWOxlg5e\n",
       "1pJxghwjQFL8JelnjHiWKhMFcoGm5y/tRUVQJkqZwELTNoYsU9XHNDT2fvZNk1Z7dSPWsCoeD7ea\n",
       "6Pa1OwAgUdSUl4KlEMPJiwcSEqBYEhckXwW3SJUXl5ZA6/T96VKghHOWSxNVCUw176pAhy0xa4/t\n",
       "T/rKaIQrBOYKgdXODwEee7snB9sPw13uPJb/uOiR7EAP8rKF5kMWqG9IzMof8GCDXj3cXUk8l2++\n",
       "7D3XLqlYVkF7KrWaRc+n7XJtsPF1iZq+XynhcX4WEfrPZ20E7k58ksONHcjelfhzQtSGQOCZdmLe\n",
       "4dDoZjY+8l0WTzh4D1yCtMHrnjeaxTes/9stzKOPdyrpTk7dqHg4+RxrHacC+o944rerWLyJTcVt\n",
       "UaxMyvU2V57tpLDbgUWKVQcIgId7KLfeI/OYn5INVRs+FDGdu7bXwhg7zsZclHR3OTulpYI18VLs\n",
       "R4M5OsiEA0gXJWuZnuVu7vnY3VlAx+wrKIJmS6H/o+cNmkwgIu/WVuQSIXS9FRH/vG1zottk/oXL\n",
       "EvEuLZL+2NU3KC9QUMlLMu65KpdJqk+NV1ihsHw0GqKuacldu+15ojYFaT/QXDZaK9aXVw1+3184\n",
       "olNr6e4OowE2X7+9xMVs1Y6P4gvwg6l2EUSofs9CeB5eBlkzmeeZmW+rOM6TXLu+0unJQDhhYEm7\n",
       "GD9I4PQEALxXeo/6iaWvmiRVr4t5qYd4ivhyghhv8/qql24iO5BXa0Qm2QbcFFwxNu94Bfy/HGCN\n",
       "XpGdoVUeoHoVJ8L/8CGZvaRaQ0T3c6Hzp1IL8YOHpEMLfwnF7uw8erVvPLoM457l6gpt/EVir9OI\n",
       "WCQ7dBOfA5yhHhPTHvnbirneAH6elDLB0qZOfjfL0LAbLccN+7qHKssZy6sOXbUWhBAktDz4uagg\n",
       "QbwMTofrEoDftO3aDNio4SiRoJTjEQ22NASpvOHoMiYVOzNHXOAWMhSHc85BXnBGiUOSACT1t6ZH\n",
       "VjPc3lK9mXVD7JyIEIsxA8w9FrP9m46tb9mOL9YIjbGqshyApnCLQmZb8Z2uMoL7azvJLOUJeN21\n",
       "fCrFQ5ObjTkHtGci/6F6dVkwUGPIeau2yu9v5oh3vMnILD5QMrB837cf1pBFKLq9WSdOmqlDGoIY\n",
       "s92NyBEeTRz68PEjDTy9kSSo6keD8QUQEqvgPn8q+lQUOQr9xaHeyFhQ33KADbRof729W/N/fpnu\n",
       "2BMkAGEdQvzslWKrg+64SZQmI/fruwpAl+T1k9GEC7uRgs6GBOx1tpHLtL2WK85c0uTojJyZFt/O\n",
       "TVNPnbPiCX+2FIQKN7FeeyxF3IyTi9DEPxI3Ru3wvgiaEA1wYxYsJF8Nxqvra0crzSehcsMiUvuS\n",
       "FOZoUhDcWc0KBV0rjH4f4DJgyitLijMjmbq1d38BRViDKsdX2nQ26ipxSnmSpVy+QPEjDTMxPngr\n",
       "9h6q8f6qBIVElpNE5Nhe0hF3j5xv0ZPDPcF6xw/5Bm2+q/fpns9AOA1qSPoWJEpOjJr6EPj3Wgib\n",
       "42wf6jg3cBECG9lelsFnQwH9JzaRy7S9ddbklyjE6gURcrUDwII0pbnL9Io6uEkwqZfSOn4TVUyg\n",
       "Nb73ADQeaY+86yFzd71QHPJJB7rBTCQxiXv5KhwJwjnfgCGk5ynV/BY7lRmQxkzruziYTk794QCn\n",
       "5d9MSYisHZaRHQ+n57vEFrrSlocptzvgZV0ifnRZzINltOxEzahI5bARJEYsxMQ47pgYPWnKZ+jl\n",
       "K9vdNeytqzPo12ibsA+73aH9/Y8fOWsTvrPNmz7ON+63B4i0QJNZUyO5seKA1IPR97MwU4SLrx7G\n",
       "2JglR7YBbnHnO08Zp9XemLzCiDnC/Y6btRJQ/Gp1Qn81uZjSBmuEjaK+5HfRUoC3FEm2jVXynBiS\n",
       "13Pr7hHCX13+Kepj3F55L5QgIYQv71PhvWwHDTsSNS5EQfMsblJ2UfhtsChj2JUwVyWaKX/Zznu5\n",
       "MJrGezSG/RjUO4p73plCge/S76ipIHgO0ZUCBwAOs3yD87PAWTf/BRRuWI13ZFgMeBbOXhdk6lav\n",
       "9dewRk1AbIQ4wixr9ZsQtaAhuk49gg0tI7dzvyFpxWt6CdSRHkbiDzvmoV2kDVLYC/XZZrqjlVfN\n",
       "mExKWwlP1kz5xfikvkKKVolfCtgMtzvonOiLJfVRoWSRXi1f/EywyiBpyhZ9mQQ+tHoE3aJwcHf0\n",
       "3unkss0vzk03OAMGRJAGopyslYN2C2AOMG6G+MBrFa4F6Xy6i6RzP37tJgR8or5p4kyG6e/CULzV\n",
       "UMhkbfjvGq2ZN2KnXaB00coGAcCY2OHkDN/9rdAziLB4NArJu+M2Za8pblDsrQfxdI+45lKtzneZ\n",
       "DIXQtu4e8ICcxPKYBpABjmFJzcaBdRs6jX1TvE7fZARSeb2pc0T3Q/ZJp+gD41+xs8JJQxS6O4o3\n",
       "Eud4+4bgvWtK2Q8t9KAEY8WD9X6W+5LTrGcFrE41nqTDzKw5oS9qob15V2ECQcKNjueY9D8TNk4i\n",
       "GwR1S3ZmD9NXbtYPVA90Di5VYaeAxsOs63tFN0xWKUtx76QVzJQtyMms63vnu3zrh9xeceOL55VJ\n",
       "MKYegWncLAR5Ijhzm3Uha3Y7wtpE/Q94JFqbRHJ++2Zrvz0LDbOTs5EmCfOJ48UIwzvGgKzV/So1\n",
       "lWBelTPt9fINlMiTmS6aH3950+/FURalVoGeMP4Z/A+/8yz5iFiaDlSsIN5wx84Alw+VK9WBzGz3\n",
       "ozn8nhSNhZteL5ZIntNoKrJB+aHzdWIhU8B/n65gre9kA6EdjJZtvpNNWJ+pe672VAfmylxfr4Aw\n",
       "i6hbiLNa6mAn5b/vWyUkbmRxCcHXB8g74lg9DMOtc5A15rvB9Q7A2+Ioj+mQbSn3ISPUbSxnkdju\n",
       "uk0qz/o0aoyEzuWp4kNEreGZ/Isz6JLX5prDzKw+bxvEYoMlM/VfF9+XtBarhTcAwjHKnrySG9HR\n",
       "ranO8Cld6gncuMvta7f+4lLldgDUr9ROb/99wlU0EwcRx0vyhUZ6inq5+hW2kVt6ylLoIIdp3yG+\n",
       "J8KASOGvZ//0C8HTHCIf/ZhTuBj9TqIIAkrCmS13Td67YqdFTLVN9k0qqWY4j3mu7+4N30rSv7sI\n",
       "cZIzqPWTwHlH+zb8SO02u63GWkpSBabQ6G9osBg/RA+Mal/haV3tOpbiajzYusB/NhiaQ7f5qnZM\n",
       "5uzYHh01HUe0llypJbhBzPcZRUR9yF+9vQVkBMURHUxeMbZDJUSw8uKH9lg7li/XZa7KsrIg/00m\n",
       "roqYCf8M5otAXKHCzzfgqnNtJiZlJFX23WMPjoZqqwK8y4fTH8lP96uqzs18QeQxAyWu4L87cYe2\n",
       "R44L3wuhTLQD0hz1rA8QdGHYncaaUmfjdbv3tdqELmvQPd/SQVyqoFn2Vwz87CnD7dI5iYbB5eVs\n",
       "c6NztVtHQZ+kWduDqqvElbHPcI+Q9Y3SyPv0hBpnTcMaB6d3JB8JTqtdDYJV6u+KBJGwfviRNpPh\n",
       "rDT7aZ8cFc3apPzgFLONTLarbTI5PoiNathPkZeEDiV+qyAkzhM+M7fVM1rO791Vj5EgMyOhzQmS\n",
       "ChuCwbjGFvopQdxd4k7efqUIZatHqjb1V0vz8xDj9Q5W0YQN7jTkCmUj4tzM1imaxPLef174+7Ja\n",
       "iyImDzx3LOQ4pPt91mdkaNbWareLqMXSpUQcHcEeC6f+FUGD+ECgY56oYwKITqBhESneZyaXExA7\n",
       "1PZa/FkJ6FHSZlklP8u0OW5thmcfMs43IbV/3DCkraAX2TMmnMf6AhBmWWVwpbyc73ZueHY7+NvH\n",
       "jOImRHRczir5+XGZRnfFJoNP9fzmc8WQzfzTFMaGwkwqv4FYOlqswJERLdv+l+u0sOyfrF2TqKFG\n",
       "kIJlBwleNUxIusGkWKO5iPhuHxIsmBRfSzLwZr8qX06XqOYKiuk6ZVEk49rttVUWjZQRgWr7aWAX\n",
       "6O4Ng0YOpZ/5fh/50HbcrP1dBf1DX2Lh3sxHdtf96l8+MZenK0nE+usmI8BR/BmA4gng4soKVq6y\n",
       "eGp8mzxjCKRpOVHTAGif67h/l3GgW4bl8qilhjTHjVdIsAfLoHqLanPXfvooFE6jKOu0OeEPbXM/\n",
       "3tXDnh6WwkQPmYSuUN8EF+46x1FSnrPoe+Hgc5Hvn2G4xXt7x0Y+QpJD+zJO6K0gRYMnxwpp+P1x\n",
       "sA2z/uXuicsSE3ciprEzApwDgHr/Ld0qhIJqj+Uugj2EK1pTdFGsB3xQuySRkLFh9ft+uuGQLYX+\n",
       "DFsFoLpZdikKycrFCoBnzEvYmylApr64wCfPCp8h/Q0n0bk44o/wfmRLZlgTL+X31XVMWLUIkWyn\n",
       "zeu7d1nqkrTrYmIwtnc0QM4szLyp+TAEzYBBb7jrD13Aszln8FVkw07njDDfZCZ+3eZjYvavOpK7\n",
       "kfQjfhXou+HMYZXXJp0Xpall6QaazjegBZ2IV2ybAdZ9U9FSUBxQgbDqVpE3CiC+oIm5HnXjcIjW\n",
       "Ce1C91+dLFbRLuoMVwCZ9gX9PQf349Rm5CEv/aCjpvQyWdR4gdNCmF0lB1PSX0xSbcaIH+LnLyIF\n",
       "TkRfwSfhY4Yf91YWcjGlp88GdeyWAiNmbe7+9g/iF0IAnHF+2ZXWH9rN9tyyWnG6pmPeX9/ohcQm\n",
       "6oID9y+frt0olLbgorl77aTteeBEolvHZYJkZG9MAZViNqJttY0D9bEVIg55aPTds4pX35Fop9Gs\n",
       "GxPuWQu9T3CLL294S+t8XlTWeGMcQfkWVRksGDR/LS71C5dey0+c+QLv7BT+kW7LNERofm/oBRbx\n",
       "z1T0ixKZtKJUj6fLopSbzAZyjfOf+T4p9zvTUCeQC29PsfgJqh0mQB2NsTlIgL6RTBP1lXLBYNSt\n",
       "r5hD2xYkNOS/8NaV3K3e9qP0V/89YuNhuHKAd3lfZfcAv9jAJB1uOKT0l8bEGbgIjEMFkvpxrx63\n",
       "cIx2VHto7AJNdd/mNiyOkTPgUr2udLav4j3UGOlf/KlKKQZw91S1bHah7wMg2SJXL3zDeGScI6wF\n",
       "QShgD5j4Df7ZknRYT1ydK8hl08f3EuDTCaY4IScCtqBLCTI/9ugPwpNbz0drl1z8Sapj5LTx2BdG\n",
       "oVVjGY6ZGAXyEbJTUp7uiMtfioYFN79O4Otct1nRbFLKDhACMcq086Q9U8eQgnKkwEh7U7n5MbiZ\n",
       "n8dDk7HPI2jp6OUsr3J3kVqO/to5tPp1KR1hhjUVr+eXWLe9RdoDu+N8e4oz63t73bp4C/LoiCcj\n",
       "ozgJJiPIeLVXVn58f599t67adO9zMui8oZNSRUNOZxJr+pTg/Tpcgyrw41PEU4lwAxW27PAS8ADo\n",
       "aDP7f0l/XXrPT+MlBE65zxlrk0/U5Tb4AeoT4T/C5OAI39HDH5ovVpfJCFF4k8clvoiXccwP/f+/\n",
       "MiAKkp6WHxOd/c8NpIUjDivB3FOEMS1M/3IqJe+NILAzIgjzJVzoO6Ztf+2YBvDhxbwiQcdpwJbe\n",
       "R7KssGcYwTqWUk8oEVDE4XcibtuEEq9x/il+RyuuQm1ijhgerXDe+DiCjcMyDLvzqYbnyh9SN1hF\n",
       "Af/+le0LMe+qvF+zhUEUbykV1ZYy+tEHFo0OGJP1qjSpMQephX7lxxxLBdP/QGq1gOjauszdWjUC\n",
       "WzpZ2pcBfEV8Kmh201icax8I4Q1hdBxWjvMbUwLXy/QYY+lQlCG9L473SeSssAoYz8wwpBThotqw\n",
       "fNAAI75L6MWClkXxAtZo8iQVhxj+0y8fdrGuHi5LaFNNHBWMzS/gAANarBoLcLD5xbqlS0fJL1YG\n",
       "sIvMi+YKo4LNaps6uGHSkieDyjMluvamuHvGmXlCExZsPuW9OT2ttT7G1ni8pwg0UuEo1fXfJI6k\n",
       "Qn/MTghYqv0fS9g+KdLUxHycAEbKxPHsppm4zSrq04nfKBB6W0LuIRdcYRv/IgePoevHkem2pEHh\n",
       "4561DvymCf3xEF9U4U2FeOJaQb9rOgFSA6Wr5lY48Y6Qz1ZjpaACi3SSI3u8Kx1ITT3/f1V1Vx5j\n",
       "HQaBuk0fD90Hu4kvsAOxqYk7OhIew0H51g3PdAgYM8eiL9UyCrocGWto4awpAfMNNxkd2EAiAi1u\n",
       "mASwUhKon3yZbAjJkBHr9X3Mk6skB1lKtqUAAWXb1s7ds8DAHWIPTRmslr8ORCQl0gRlmHtPlQOK\n",
       "pKTku6xbg8mvZUtBdp4BGrz+0uLBVhSy14w45L154TvDLwJ5Y2jGySlt9OPaFL6TDScqaHaHKIoD\n",
       "uXHh95JOnzF7e46kWqHKlwQ6E3L0lyk6wY6DdfM5kidFsGpwFVxbUXCS22wZea5nVwgV0+Jx3y6Z\n",
       "As3HDIqHIOggDY8nlnVo1k5CmOgxjqYEDlFpD2DjDqpeWlpxK1NIbAWJCIeWC89d9J+2lsa8qe/j\n",
       "+fFboOXKLxdZEJknxA2mhzUWPIdXTGMMWKX0DsSdNS8Y/43QYKTPu+6jCwPnLPy6KjdVn6OnTpg/\n",
       "jD1eq72lr+6rq+/Ip1uMjrPdpj7cUPHHBYlEeY9yqg5dV8ZFLCKKL4TlhvHIRs7/VC44+/S/g1Fo\n",
       "KkD/6bSR7jj5BkpavuiEsR2zCaLS2aE7nx2/ixDtqzIzHEaruyWOd8Z8S09Vmxxc4FZZTUkyevMp\n",
       "RHOBawWWCd0+hlq0OYYlM3khbN0JbMOX5cXKUrihvgOYD8jK/9djqwIhvIHM0vqUnmpEracpSMBu\n",
       "mIrkmu4u1qFz72loZKseDbRN2qdgniRtX2maIP1awCbKewgdfO6JpBfY1ds0YkOLrK17NLuJMDiJ\n",
       "aY9LHNpIptAGLk+bHukYN3W6GIUBJumQh92iWOJi8adqvavKqN5O7TlqABYTtj8Wk6Aa4KkIAOOT\n",
       "44Pl51H/8P/oSR9fmfg9yiidst/4x6UncyA4pn8QmZoD3L7XXhuITJ8I6963ZuDNFLfWlrIu8MbO\n",
       "RfWJ6l/WSVdfJUcSDP0inP19EcWXeAo5vldwFiaTEieZ3gAyPVduXldrMTnN4QeB+Hz0pQm85wgU\n",
       "dtWS3jzq6XiWbTAbThhZwPRHIQ17vsI3oR0ZAAMrJ3UNJUOt8uUV8LVc+0B3QgsqTKwxkmYuHC0P\n",
       "PrjHwYAtdr8tncNgi5aFpb3p3z/ohmiTKABNV3WBnyw34CxTIcg8HRet+HA4vWYABbI9G3X/bqyD\n",
       "OeBPP76yvKwf2hC9ksWF+7FWys6QsTKapqWnc5u55isIHuMJQ5LOccQBpPSjvI2JVVvSrtkAz2Ss\n",
       "Oav4UamH8n7j7gFtNGhUoohO85cUAjvSWHGNIzZFI/0wdY3xGluAFOZ25NhTDeeS8RyNR2NRYatK\n",
       "fCapRB8WG0PmOKIrsXe8p6ycfvf+U1BNyZQ6Ecl3rrGVEPstidQDHKmqiTQgGLZ3fp+hofm4xoPV\n",
       "HcAZ4nmySnv89v//tZOygjqtfNz9ucU+oZ4NcrZS/23RsF+ptalNeDTZhXcKLaFeH6pioCpB2SoI\n",
       "TGpV274/axgxsAPXFVZLtO9pwUjBjsd5jyzniCVtqsnR8D7VOgGu/lHFNcSTAoFb2F36QToUyGw3\n",
       "/Ri9rcP1hgEVQDJ0u/oEhoSFCwAFIfl4aG3rgbn+qG2CZunABiu/Dhwae4pywHg9qJ96WhCahBix\n",
       "Al5ICx1bTgDo58G3nSnPJz436KLNuXzEuRAF3LBM8eyCOEoJe/OBoRzcSQJWqoGUXcsxP+8ISFuk\n",
       "JCRhDsJgYJax8TzzXB6VeMeAbYC5shiU9/Nnu6EPXxUyYL8pB8Lyl4Q4edfrvAoruiB/kWkxzJSk\n",
       "YxSIcdWMlBVtbhJnKVt8/7Xna2thHvwVSR8JjccOxt/ofi9psxT+9e9gYsi3r6uWbKtDV/yK9k2o\n",
       "0yL+lrRNsz/ztfEtJ66yGvBIDlt82NGl3ZSVLUDP/Z9X2UTV1rWIvLcpVVp4RK72OraVI1cldH6d\n",
       "vZdz/7FtUzLBQfDocQzoBA9BgucnEtQFAxHVD6/y6b3FS+fLTPOVQgSvxK5Kc/KvhEn5v9OT402p\n",
       "TF13Yy6K0F5LJr4D/EOGKx0ffWuTcs8Uj1ueoVxa3GYPr3Pbh1z9ug10WJ6mqCLiqsAAzBZtlFF7\n",
       "EO8DqXc+JsK9x8TR4f8ggnBmYV0j22re5pKWOmF3J7ldxy4OEjR4dyzS3BwpTW9ja0pOtIfUQ0tV\n",
       "Zb2dZpwju4xBfmP7qhWoteKY2DVuKNYds4VsghLgEwj6QeG55pVQja9JTAyeKWdinsHxdxoxvNpA\n",
       "S50mh8W+en632m36FxAay9q2z5qbClFlRLvamLABi7Scm3WUU4kqYD2tFB927gLcDcT+y35KPxt6\n",
       "aPQ35K4rzseUgiKaY0B4Irar+oQ539oUoTYJw9lX6JYUSOKGIqemmem2Vt6a+zein1/89x1S/mRS\n",
       "QZ00fKv/35jyelEBUS8hExfO7LNYT7tu2f7Y2iCqUlFSiNg6/JoI+o9kq1zP/xWDzCmlGEQIkBqf\n",
       "c9k5lE1fsF/LyH5XrmRg/4XaGhsrOOcjW+7dE8rbgcJjavwN/u4ER3mFNqCKg7BFqXGG6qQ1H4c4\n",
       "i80DhOqb+hnU0qeCoVFBG6ueTYsLVWZ4wq1/Al4an8zv7XKI/kZz6k13JAPKkVPlBi44+NDdYJL3\n",
       "JDfiJTP6939RXvCbxCtyBNItLz7SnUROhyzUevkZvnM07w0ZGQkp1XhFcUUcl6JXrGw5rS93Qzvf\n",
       "WROCZn04nrLF6eDGHVZ7q2R2d/GUeFdxrf8QoBH8qoxiEqOcIYZe9N+2ZVpNtRs/zStO32PKOIVB\n",
       "AUunw1wwD4pCv/b+qJknBUPbxMImfLUM6t3/v7NeCQpBYXx/puAPfY8lKSv8XOgc3cGhIhRL2sWO\n",
       "66IefVB755hfdCjGVMSsZut9m1Y1QTfVBniKoWSOINzBvCVy+sf4xiUqJZJi+PyZrFkcpZYONkfJ\n",
       "gJPCsZvmUDxgsbxb1bH6HU/fQagc0O1h563YpvW1YnNz6Qxc5XnWbJ9n+m8hVQ1Qr85nnAOquqYr\n",
       "tQDRDaJyK9bgdZ+9B+iXXMC7Iov0J7iIbxWOyuHejSlgAJLBmg8F3zXziOMZcfa12RYZ8bzEAUe1\n",
       "ZlOCmfk5GWHc966nQbyeBbIYFpI65ecxZqxFtad8Sm9E/U88dUSF2rURSKZaeBgFCY6Zj0yWdzcp\n",
       "WmyqFZqh6g9JvG9ZPMvIvZcc7aSzUfEsvCQrcxc46myzP/yM3mib23aW7VLWC77xh/80pka0UzQY\n",
       "DbNH7BgVNFcpV2dbDbjEFltaUsRsv7nf//3stRruquWu+fJm6kTg3WVdJavwCYKzuir3YQ5QDsQ2\n",
       "DB2QT0qFNcKgjexToQapID9rKIXIcNc8QAK7wSD+C2iooyHJzq1n74whbCvod2cH3yBPWi8RPc+s\n",
       "nKqryiVBP1mpcp4p97Sd3s/fNn+mg4rSRzKizq1y/7lb1FdSIos5HDl/92c/ZU8SrpVnf6qFQHI1\n",
       "N2hQkP19eYeEveQhPNtDyWDkq/XswAXQVlepVljbYEKkjc7hIN5XiWlDALhUyYsY72oW3+zgLbEZ\n",
       "K4rAH2yyMmExstBakDHxW3aCmQIDisWRb7Ehhfwb9hfnzZlm7nX5qeUqUIMMzKSEZZL0f9j0HhTF\n",
       "wF7qaiJsSg32qQQDjca1AHjGPlNllJ1XIgkPThsVQunD7RRBYh87OGe8FNKH0vD21U3N8RvowsaL\n",
       "BGfJ4Giv7UOOL/vQ9pkX9gQjgDpLl65R8I6ZnZplxJgKTskTX8Q7XRxXKQ4uzjrTJ9peL+SZryX/\n",
       "WrRtt3lWofjOq3frPrHNaCQjzzei+7IfdX4nY1qEr5r9ZlhzJMT3BAbt93imFhf3CjAcFpAEBJ8r\n",
       "Tc/3ceKT7Uj8BuouwKgsoi3NG1lO4FnrXkk4lsMMuitUdHz6WsPAGEpgXUXwOKL9ZlbuPfFTxRHZ\n",
       "+3MEHqEtn6jo2LgfV5hL+Ir1skiFagZFw5Z88r/onDIUBFAqovGBLAWp7N2//+/hYLWsIM99YJOW\n",
       "tJaoAe7k2/r4qbBaRq1YB2dLl7iXg72YvJ9KG6ZG9BKBKjWp0TXN2k3U5yZbUmtVgyQB6CBTYJY4\n",
       "xUx9fOMIerONLgkwZTyN/ezoyMkcn0Ugxtfk6e2aIng1QWxuSqybCXB69oykIHy2VOkPcsu8UF94\n",
       "jAHnojAmWK6FBw2no3fCXQyZOD4oLc5BgkryMavrOAGf3iaRdZ04Cep6gKaL7/S+b2GKX2WUEdj5\n",
       "2vqIduDLv8LnKY/oCvZQc8tsD3NNOn29kP739IUn2TsHlSzWGA5KRnGwQINpwTO9G6vxZMG71Ur2\n",
       "Hf5moolhc7qy0yc/Bogrb8G93T9UL6CQcQNcpnPQncsRlOonagnZTM6VkfOnIx9AsufPBID+BmHD\n",
       "9qZUcgHrF/UbfO+XGTfRgiSvxHKh7Lp8UrDkKqEt1M30SVREQolBhSQn4OxYQODUYkR89KVsrZpk\n",
       "jtbiwdAn1Lduw4U6BS+5gkvXpgx8VaZrhDdBRESNcFZ7cXDqC7ICMX34ZD8b4lQmH+e857NvTPdy\n",
       "13t9guCaC9bybLEOnEwCP0j7SUn5mbpQETmTnU8ix7wMts5UhXxnuXF05naaIbbudXF9CGMwSoC8\n",
       "wzCRUXoJFh5Ba3k4BMWDZk64w9sdYnccusq5Yjm+R44n54mykP7fT1icAdWkiJIxBXMyhF6y/UjH\n",
       "yygBKPjNANRYHKgxg2qB8+wmVyKswaRCd3PsUy8+fqKpcRqT89ddrXc2t5N6GAwrvD+r8gURLD5E\n",
       "v41XOgNgddfRLyIVV+M+67oP8Iof3C9qfhwusW0QNKi10bRlJasRnwcmhKxDFML3IumA6IBMyXj3\n",
       "0G1Eq9P5L4/iqI85JFncKn8tHxOFohr+o+5k75PrLFrugSzSDZu4ed4YrzySqe9VRJmVZqd/HCUI\n",
       "Zf2IdX/9SqUlSFS7j2tD4rhMPSBOncnXtXbagu36i4ARTI3Caj8Jxw0EYbbCj4TzbArWWbEXfi54\n",
       "3hgr/MC4NWqAhmQVydCF4GlGSz+mWQxZHWT+4AFnCqkxnQABH4fXFWIsQdrmCYhROALaVbfzVzu+\n",
       "FXN/Nj5r9isC4PbPi+JopTu6z+WYE3OVJI2hgLoz/BYhd2C6u1kYdOTa7vX5AdkbFFiVFmbcMFBH\n",
       "EG7GJ7E/yPcGfqAKXYvuaT78D86ykjXXwQtQdMyrETvCP4DFXDs/eJjPvUzmOoZR3jm/q2Ynaiqd\n",
       "M4T4eZbADzVNKI3t3uGjPUlWeXMUbwLfTELTjieoNJEy2Aq6ga05gkTfPEk+tk8teUGolxjvP9GL\n",
       "+hH6H3Pc0NIBqMglm6naCVOMI1dJxscYk6jiakI4t2BnbraPyQ1y6h9cLoC5A6zO8Y/QR0/A1JhJ\n",
       "Qml69TLZfguNc+aVCWsdRa2Iy+HarOrtS7nKvmk8GGhFgpk4xdSrm+LaGLFPQw8A/YCl0bzSoWxl\n",
       "Wk+p7j8HsjNAEaYT+2oWAtQdM4inZjMeUmPLQOK7Be+1YDaJs04Zt2H2V+YfUmgJFvvbXpOw5pM6\n",
       "+fXSfXZsHUkxQqjVJktrH1RYbq8bT2OFlr43aZYru8v8chRC8XBHbrc2ptTGfTV8Ex1xMuz3fSMy\n",
       "ePFBZMiaeWDSyVLu+lSca8G8jI3pevIwqL1yekUylp87bPp+OLQCPrQblBOEyItgfGPlXSd8ZPkT\n",
       "FuySEAPWz6QsnONFXEpj8sC0pNasJbrEPmYjQqHH3R+M2Ow4p6ANg14FBOtJ7PS4o7jek9Y119rB\n",
       "jbWUuw3ydZTIsD0rjNlkjKja8zMcCE3vIBixAA7UEgA0uShzdpWk3FB4vtr4hD18kVRqGo3rGZfs\n",
       "g1wsbk3ZwASVIeE4NwsMJSODPyNNTeqZ3BzufNR/5j0Ym+e7iPNtHg2gIgZV0A9vrtoQOCrJvI9Y\n",
       "ERa5aPgot8TqQ5NugMMIqvsj6K/lpqGg6F5bJtdQ2QAlenuNDYcwUEJqh61NTdcKWvxv9auGqSoG\n",
       "q3N83aVWIckFfoNnoEyFfgLVxpvABObNRFHevguONejwSFO9npzV9BJRFDf3f87TxmZC1/ebAEsB\n",
       "ym8tmYpuyDIdXx5H21pXik7Hv/4PRgWdNzWeQZutHJq4ZwEDG3zMBlt8BqqDfFgQl/O/TIFOjbE3\n",
       "yJvgVncUj3TmTlvYdCOUiQ6ijmPcflgnasMhKrZm4sCc6J1UDWiQKhyJk9JK/s1vnXI2WKyPhTw6\n",
       "cho8KRgTLe9kOURbhuz8nQAACUhBmiRsQX/+1tYB2tAAOOpk35PzkgaFH4I5EIK0JgS9nCLZbmhP\n",
       "mlb47CQ+g6VSLBrqyMFOuLIGl6SuAULSQ/62D1y9MB+eHci9CLhpEubDxzQlVXr/pJY4O5e6iCRX\n",
       "rLn/QTeOinAud8qgHBB85FFMDAxitSUReYlcF2h4hhFBfMXWbhwHaO6ONsHm7rdF3oRpQfpKiFrE\n",
       "aCAeB2yOekUc0ZOEoPEDGN0IYNfrvZGCrNNttf2VEGGtSCCTStdrwDT0iuVg6Dad1H6aqj4IWkYG\n",
       "jjJcu/rpKoCf0gPTSzNsGykBlAIWkEolXOS1LsAsN6r4LJxt4Jkaab5Zimjw3OZzkGL7HgHrSabh\n",
       "dTPvslvVQdt3aJqhEncYc9NYTuqYwDB85nkweRGF70UdlLuHunpVlmutihnzbb1fLAa9RpIk+bOy\n",
       "E88fNEqz0YGHZO5Lgbjj/mUvo4280oYfzvXX8KG+qS/DQBXbtcAgGfYWrOJKk+jGwpEj2P5UPWw4\n",
       "RYBSDRLsWrzIktDzM5pDUiNcomnRyO3tmP9SQkAKOewLNa25DtcI7d63M3OvvGyJ15Jx7LzPL//7\n",
       "smogsL6tmNFrc18DSi54ewkUw87dAPR95ZckgIIoFl1XsercwO8YX9Zek9aHP+4WayV77s33jil1\n",
       "GIXvPdtccnzK/KT92us8dj/BVajSUoJT+0cL2rP7WNcVIzBFkvui+hH6QpVG7bKds1jIOUGv2dah\n",
       "BgfqtQDYqHcL8x/t+zU9e8e2CUf0Lm2hGHyISyPA5rC8dp8gyn+6CQ2TUDAXXQREXTr4HffSSFS5\n",
       "q2aovDOtK5mXxxJuAm0x9KmMbzfhWkzL8Wj+ITupYQ4TeB01xsOc0IAjdw0vafyE9nWEqqTD+244\n",
       "guxJO2029B0mjm6amBYBdePXU8OcT7+MoPY2kvusE1ZD0jI3+a1hwXZeVjHRdZYQxXAf79LIGsLw\n",
       "wXReeeHqyk3kXBYekL6zPuI3nWuM6T13r7GAMTz8EXfjjG3Yt0N9qog6VpksU2yI0KFTT0lKPneU\n",
       "HBkx8Z9c0TnuRkPElmNlh4qwDIv6RcxV/I1FzvVdaFzwLTolSVnDB/10HijbxMTWxuePNOflDEUt\n",
       "TbWXYZkaDEHtsHi4DgakN2gNeOe6ySCcOQFjn8YbDP4nv50SAGtzjBwM2/ajG1L8H45CxrQu4hYe\n",
       "hCiccMB2VuJVKC8KO1ekEkIfeCe5B2b+mjV8Ld4zpfz3PKUlgZbh2gcm7q+w8juQK+6GnFCRBLLr\n",
       "OmTU/y5UvUyKV2pOAjQpq1BebNZffgWalXO+OiI/hT8I6y4QUMoB+6Dr5bauhZ2+n4q7QUaIYpfr\n",
       "63q29dJZfY+3+k/YTXoKYJVZM/cP2QfXJ2w6ObJekwNQraHe7xrOaagRGIDQPIYf7cDIcW33xGSl\n",
       "5h0PyGiRKGwTNNLUS9Hi8wFDb3RB/ilfLzTcRsPjXeCW68LmDcMxFBa4F/+PGiIrcMqHoNKZ3y/+\n",
       "lfqgp4Kmz5gXaxuMaXa53uokWGSUg6FK8nAL9h0qWWC2YzRbyd7jmApBYuJtoTnXj8Hymn3MakXl\n",
       "TOR1v3Cu6drr6CGss7o2UKuaR4D+CvUMzahMRdVk28JwB9gTkvkBIm5JGjYtkp+rqWmYoCQXqMT/\n",
       "CwobCh6gv5EhiVbW06vxd6jc9kiKRzVxnYsjUdk1HUw9ExXX10qOnb6jGqI8ho0ObslqBxmbfBrl\n",
       "G5iR+tbsdSXvEUI7JK+8vqMaHfqT05PPM2c/KUXA/NSqZv6Gm9/slq4ie2EoWKn+irEHZsYsaMKq\n",
       "jkO/bzTdCy021zkj305g+yzSw0ioViiyXT+So2n1DbXxIPTGYL5z96swgNymS06nSMjxPynr9J85\n",
       "zXRoy9mBb1B3w4h1qG8g45ty3KrjLptMISckyaYa7JDgP1y27eHSRMibckN+mo/gpjpOsHrW0Hmk\n",
       "QhAFB+LBqrKc/aNDbtoaGA/kOyK16BqhvESuzeFKNyKdLyZn0BA4VwevZq0FgtbDal9OCkEGlMw5\n",
       "M0SiIt0z5tcZVIdpn3XaWAAncTyQOV9p1mkBu4ZbiAlx1Dil+qB5j5H+u1gZO/R4HSq2+ou8OGz1\n",
       "jDIncFDY55JZk+SO8bBPiHwXcdW8i7FV4svcNSLyQErCIBG1i9hHQYyAs4GiGCFUQNIi1aKCF4xr\n",
       "XnrSduEL4mPhiqko9LefHOCHXyB6c7kMz/RlCMChouGJpklFfYsABwhA45UWIWKyUv5Xk1mJbxdj\n",
       "hbEBiYr04GE8IeDl+8mvAMPWmsOTX9hfhpGLBbvn27nRxPFZxfO0ZuXb3yFl8T/M9EuhTsPQd6Yf\n",
       "sf/c8bj8NQll1YQpQT98LH8THSdQuzA/3BDSJF6PUKo2qddFHiRUSv0aVi36dQXGp7qFcLO9Ek5U\n",
       "K66euYGgG4cl6T71tmKigGNrN/9wauvs0kjYA8rNA+34aCvfw/Z9EqJzFeeF7UeHYNJI9HXjlBVg\n",
       "Gc7iGS5ktB+Tw3bYXMjrLqEO/+qTpW7DPCRIBAVp4TEA+wJO+4PuA9qmYUCQx2EQhhluFvn7IgCz\n",
       "bcaPtJcjbNkGsQAAKADCO+LCTXspSrthiRgwVzhD3LHFOGOieFWUmz7bOyKQOCx5Frqunk9cDRah\n",
       "KjkRHU7siACFeRbbpzsLaViiGugd+PfD+I/NWfiqIY8c09O3UiLNRiDQbZ7hluAotAG48GBm2fbF\n",
       "XPehKnUdwMYo6IV5ghvr6lkaUv68Pfh8OOVae3NvrW35xSXWbRa6ASCx489L4/uFaUcVBRwmcgqs\n",
       "/o3Vz1KWIQhOlo21l8nxU6yslmbkbZzlu5WmJb5UJyIk68dBVCPgh0Duu6Jx9s7OSCIyMAyrIPe6\n",
       "j01bIL2kCkc2wQ9ADm5lKyoG447CJlQ9eoiYZXeD8PAuZg3WS4kjMltk0SmB+c8oZK+9jywlWNlp\n",
       "2zLKrsPSz5pwJNzST72hCXPWyq1HaoOL2oQ3ziiwCFgqHob0PJbs7NYQjxfWM9AoOFw8rmLa4e9X\n",
       "vzSTqDrXMYvgZ/Bt4vhmkpyS4tRhVHByxPES5zh1h7C4X+6UH1Sn831UTorP42N2lMvURzB0dvRp\n",
       "+U6ZTz1hvT18XqY8pkMvK2G5r7Pnp5Lo9lab2LWpkowGt7aMqfIgvjvSkpquZcun9q1JndnAEVQ/\n",
       "GBAAAAM0QZ5CeILfDlqN1Otj8AAJZdHOkQr6Ca4BKURfum/0W3iJj9XAXZ3kH+zJU/Znhc2JTVf+\n",
       "DS4qwYoKFSjEpEC2VTkRiE7F2Du2SV9difYBa7Oqds7Hr/4yCswNcVWe/UzpnlQ5b5jeD5aDfpKY\n",
       "T4seuVLWGlS4oHUV7IYX0rLwYHSUgS8PCgeq4r67EcIZTWSzjsfqW/kR40bJm4E5SXHdt4ptChXa\n",
       "QmAm7/+ywZSFUTOYd06oUTSdOtaqXuCE2IjAMNk9eROIqhn1Kh5+MAMjFgygo6HuRGnUMs4oqiNp\n",
       "DePZpC0JEWeRiAhn9i9JGuh+d3hQWedHIp5GvY9Jvx0zyXVMV0YvxOXfLaG+3j9yFSQ0oxHcm3zp\n",
       "/Sb3wqu2bMzJeLtqhP0jPhtAdNdwGWRQ067FZJTMVFIktQgpls3vOW8M1G6cc5Tri6plpMBvS0lS\n",
       "xg17vVJjTH2ASj/yqxRx/JYUPMrDTUNufhHWnqd7rXhbgQCjn17CSV5bdryzMGdJsHY4Gzz2dqJt\n",
       "UwtztXG2XyL5DHkHaAjpk0Jt1VEU5GShKKRCZ7jKh6wISY1jWPGcvMXs0YJbhYEtsK7Jf6hpykrw\n",
       "IZyCzBPC7zZzuFd3irf9x/O3/r01ZC2nxd9m1WvCtewO4U1b6QIDg3I6clmBHukAKD/VoqYxUv2W\n",
       "t5zi3BWuFr4/QmZsBV0Dvv5wWC2pF2DcWiWTR5vh90/38adhx/4nEWamdFXHn/U65c2hXomW/U96\n",
       "zJsJv7eeZjnf9MxfcikY3g6pLtvooAmr2rjihmgjbN9P92/GlrhMo1pNLIl20z3KdNV96UG9OZ2k\n",
       "pfPmvUdbnbEWF69Q6AtmwrbkOWRBn9crW2dO4Tp6sGlUhCmhpnTbYfdo378raCF34JKmyXWTSJ8w\n",
       "trOkuIl3LtXVk+NnDOavxhRTlcSpAs/s3rk3mkv2qWJvn02+NsjLgWdR/EFYiJhzcHg5TW/NwPbF\n",
       "ojGP4jHwxbxz8p7GeoeZ9tWW0HXfYPCpcxBhqF4x+MmmcfFmeWc7VG0JpdSHAgVNRP6omTNIDpB0\n",
       "KVm5mwezbID7kq0J7FrjmGyxwf3y64WdJQ2/mQAABDsBnmF0QV8Hec+wewqkF5QAJ2Mr8htMCr0l\n",
       "PB8paHwXQM75aLfiJg/br+pCcoip5xJs0h+A/YypvzQlULX5w/bfXc8OZ38GwJUa9T/Yte2iKK1h\n",
       "nUzmnAxsGoKAfZX1BksMHAggSlf+FnEJTaWgFan+l45NFhuNmzhh0q9bncFQBIpmlt1VA+oDfuXU\n",
       "8ueHEJL76X9+DFtnu+AvJbT/6mN/1tY95Yy03d0CglOJl4Nm2hfcNlooIFr9InGkZT8UmlmX/q0p\n",
       "kS3mTd7haBLNbDizucT/AuuKgHYIPL77S0Ju8hxDOyYa+Bs3x8+/gbcYOn4qXf6ei7vLt/gZ5vvK\n",
       "ws0P5qcRhMZW9PpwYvmb+fdjCCruZEvn27cAYCWGFavx0z+MPoTNLUxOIgoKfviflAypdfsaSdz0\n",
       "fW1lPRWDqXbyNpzv4S94XUY7hu/gczBYXX3H/n0mWjmm5/b3L+iX270elT6rXyWhV68egZRJG20y\n",
       "9EbkB1P4h8qbZmGpVXW+h7Wd8yuv7YtsYN68SPpmpbspSCk3wgWcF+H4hY+vTwcxF9znSZg+VMCF\n",
       "ybH4KfBtvB249Kx5kflr4XHhl1rjYija95JgfgPJhQDiGf/8Pqd+uEvXotZAom1lgSn0e5+Mdeij\n",
       "bAusGJtTFTDwdOu8cHdKeuISX96rBrCZRPkB1vR5E9PNABALrh92VFPokBZEJDSrqTusBaNymJjK\n",
       "Wuv8raiuJRhxAbzGPp65k8UG37pirW/KhOkuEPgy+upAPKWzogOsDm3z+NuILLKZhmTvMVABHRtd\n",
       "yDKAb30Yf3AdMsSCc6XnAQdJqsrwBilb4CpztriFqAXsNzjG5ZIix+oSBPkAje1mZGF7SE8tdljA\n",
       "tXgo87/21k/WtMbJEjLkKIVMp/tnYQWxrUT/KyRHiLjR12W1wD5Ivr1vl9CMFOhUGf8eteYRU6yh\n",
       "eCy4DbG0BGmu5yghMtqK2Wft0DuO47Ceh29BgO3VsTZgLs7u5/YiEFqLn2LAAx1Ik9xrhm1cxZaj\n",
       "3F/2mlMWnIvpu8zSYkURZYt3e5kLNRtIkgtDnyNdY9920cU245cAB+vZVKLe+Bj4vP18jDacBaiH\n",
       "/fCdHp0e54Zww3XPcms0Fr1lGTNWefJ/MicFaET0l6fx/NSaH2dV649Ibsm41nA5H5ODPhTZ0GS2\n",
       "NOddAFpgNlBu3bKlWF4AaVIQrllRZs7ITsjUYKyWpSiAHu9xMZ0b2JJWzYEYo5PpRg8a+J80NdJz\n",
       "dXMYCkVRLWXdEuXwnL/XVMRKQ2QVtKWgzCJ+cFh/j75tVtosSxhApOo4jljO/78SKZfobjULSRM9\n",
       "m2hF7CXcNLRW11SaTkG4prozB43TC12wOkL98fLFBvIEYPnsJPT8K7YjaL0iEBdpX/btNvLuCn8Q\n",
       "37Bn1tMJ9V5VryUwyvw/IsTnQQKTHSjG/vtLopa0z4AAAAIJAZ5jakFfDqLAdtBf+9AB/IbaAPzv\n",
       "5WWcxS7XN0Rq22BIVp+tkc1/R4HfPtqGEuA2unYP6H20Npe5E8Dp7KOHyv1QWxWOjtsbzlhDG66s\n",
       "NSMHHPp/wrhpCHzv70x0okNo56rBBIwJpdKTJYLBekG0almmiWsiVmYNQJJhzwQfifIFSkAIw+Vz\n",
       "ZcvmOcfRiKn9qw6u42a9ND3UwJCFr5Ds3dcHvrjZBY+eFEL6UoBMwGTqGyNF2sW03VNWJQPQYEpG\n",
       "t1kUyERRPfQikn5XzpAntzqaax4HRxTN85pqM7tHolgrRYNby5TtbygyvNjnl3+nreXS4+W4LznJ\n",
       "3S6/5PQbodIpjIp1QlbRTPbhHrfjpQ8LsxnbLTXNaeJ1hZmtfgg68Z4v/KhLNfukfRiYK+eEJtB3\n",
       "yWWctGyF1M3SWoOMeIQSTGjP5V4iP78dM5mNlrEYeKfhnA4PyXVam/ofvMm55oJ+t04AzYvvAmlJ\n",
       "OP3SePnFTrp/I/rY6b9Qs94A6YZ49FOAvX774M5tBkejDDQQqi7hyq7jJN8QFDtsm+XCUpyq+61p\n",
       "lVzkpGmxVVKxdOyR8erlSK4NapGZ6mkh0J8nQAloQyNzh9Qk5YyQCJehV6JZyTYBxkp1Cj4ruddL\n",
       "RjrH+N0m5hbWkZ9Ck1VKbpXi4QWfPS7uTsjZI9btSeuWLGghyLgw+Dddz4EAAAWoQZpoSahBaJlM\n",
       "CC///tX8frQADjqZRDS2GBDTxMmzQavvONNnVeH9aMIRWlhA+gEc59sM0tgg8dmTFVFSq/Uilub8\n",
       "DZe6aEfhR2ltwf3yqAWBc/W3IHxM0ug4xMsxbKxiPNXDfBsAWviLEoFCySUOrHt2CvUUYobb3M4T\n",
       "SMl2qeQ5ttpBdqPoZEdaA8qKwZ2vHmXXjwUSOvPsQvD1Vg/QAHUpC/zc13bDnDPYYjj+XDrn9bZT\n",
       "YdNrNT9MRTpayOQNObPfkta7sNHEwwRNNR/7XYD5df+9cHPcc+qlmNy9fK7yvdrIkiCVvFhXCJBE\n",
       "Z3Ld8r/OBALgcWUbHG2x2IAjEhqul4W3cs3IEWLUwutUQ5y6gFVUqIed6cZRB/Cry8idxCBaet48\n",
       "mpFs3MWmXaQiGtX5YtxfoqdED71Dp4wro6tC82sgFwbhJr1Kv8RvertHafi+o4FF26rNQASlZOaS\n",
       "2k6zI0iqD4p3w/CL9IxxGctITDOB2HALtAWBdUy5YEcyJGz6a8tdrPvRTMUhZa9ulq1u/Qt5xkk/\n",
       "MOlKbcWYGcSqM7cxzO+V9Cr4Bt6LcC4LBQugZPaWQST05o0aSCz0b9l4nC4oN0lb6VrrH7SwkDkn\n",
       "6eOHL+G3GggS5hAa/Yt/NvtfpRtCiph5lyvUiCrzpl1atIZDU6xMw9C39BOrM1ERgkJSla7yFOBw\n",
       "P/YF6zm1LRiS9yX0hFv+BlMUkPaaaLOEIJ8ufnf70KX6XsLMruk8xT/78cIQlB4w+Y0+Vx6DHDUc\n",
       "4r3ImXJ37oOBqHSZDRGt3c6abfxqOucnaCYWiRyAMNUxJPB1f9IwUQ9BcwQT2IQ3+b4Pq9ISeVG5\n",
       "BKAhZDw9rsz4jBzll3iuncSwD/SXV15c0J/vmTc+UYGtzhqHy1lH4A/t5M3aSVQiEuRStZAMXU1/\n",
       "euOQA2+CRveRWKbzU4t0fp59bq9TDFLMgwpcO1wu7Z8Z0AzLPO5ziUXmzj6Ls5VInNQlGkvinQb6\n",
       "h8wUzeTE5nIf1xTSXtTPDWlEO2gojmY7EOcQ6SSlltCI3x74+czTha8YnVoCSXTPa/HGlSzt4H2X\n",
       "c/tkZawO7FIYsLXbJ8KJg5zepyDAOJ5XkdRuEpTwnecKpgl/zJ63e+KlFxjp0Gu+THB838hIsolX\n",
       "41q7vRIus42vpvE/GF+WMyrfr4XgH+IOu0dVXuZLNdB9nm+BfaHdwvS725ACI+t+6trCmOybUtfo\n",
       "1k+mExdvsRKFt34qttSFW5L2sWNs0rz4DXo2A+7YTKOasVFmczmvVfIIh7Gtr53+ByNqeDCOzUM8\n",
       "mFC4duVLfmTamPN6HbUANvuAKlCHfXbvVGqvCqxoSGR8Vbue4E3EnoHk6ygqQe+b/+7DGWrWevGi\n",
       "LEuXEGdKcVYTCiUX5EgPsecyN1feL2dQ1fuXDpSt3kJpNfX/r2WANvUhe0v0mWE9KnVFXfgVbDOQ\n",
       "tqZor1UAZ0EzS0wgyi/RMSDo3YhpKqlL8TqWde5xRHJ/TyA8DzzAUuviYfTkHv72T7sRRkvlaa96\n",
       "NT8FHNQFvuBwx6ZbadKj06JHv8tPOCpLGP2Qy6HiGdZLfxal86krkeywM7ml2Aw03c9pJP33wYho\n",
       "a4yTX9O6T5rRsFBFCJkyS4BY3ZSySIjPyL8BcmZs/g2Y4rEfgmr98/nWZk4jfysZh6XugIZn7X+n\n",
       "WOBgzmJFycjWCCzGCoPR42Sp7RuMcKNGxFfdQfNNNfi0wVjTa/s0fSLlzWAllZwi6CmcWBmTX5jd\n",
       "D7nd70jHqAJbSIe1x13LQSliDps4bbNFwzX1ZbV4Y6S7RuElpETpHiHbco8zbSXMdAolrmZwPDmq\n",
       "j4wlesTketyWhMCKTxT0Kp/xiMj0jz9kw/aS+9wQksOYFCbf5/kiEdyICRSY2CwYldctyUiZUqsM\n",
       "McnAalgJklIS72BIYsEAAAL4QZ6GRREsFv8NwYqSlQAIvjiidYoAGfaQB0uqourpGIst81+9Noun\n",
       "CXNnKJ4OYZWo5IideCGR6nWBhxv19/II8BVm1tFagnP8m2eX7UXBdxjwTh092JS61Cg+CR536biI\n",
       "/SK8bk8DD5AUcQMhdtxLUbCIYi6O2UHKHlghrdILM//zlyHkCQyYQVMsVT/8HNupK+R1DKPMkjOY\n",
       "SZzfZfYJkWbQYINe+BNHTDgV4vlWBycNk7yQV7UQ5e1LgADmC7pU/yqqM0kkBY4Rv20OU3eD8FQn\n",
       "Q3TssFl86CMCcNZsKNmBDun1ZcxsqapsZGviz4imWexzTFLn+0EvUcrcPaWYH0343TBTHyQ/+7v/\n",
       "dBt2x0YksLIpmxvm9garvSiQyQPXuBNRyuY+o7aUQW4UcpPfMFgxQYF2uOsdxQwV6EJy2EzHY5fA\n",
       "+s3FW7/9AlGAvVeI8w5ORijKg2s+Wf3PW3VwBIO2FSci8+chEwebThToSm69tBZRs+7+3f1ygOL1\n",
       "wVQSg+RcMD7uUx58iqaI/q/A9v1BsSEVe1mpfjZTiRyXO+m0lT4i7Bbs+9yxWZ7Hb9r9gaYugU5n\n",
       "EqTsfn7L3iquLRKCoeKWRNv5uAkrsixWaI3WGyOZ79wAKkYy2a+bkbz8awTGA2ivTQRaRvL5FeeQ\n",
       "6KypHpiH4ZfvDksUwm38kMtwMsbzAkH7E+4erLc/mBXp2knzD+GAB8MJGV1sfvvYuPmiBohOWYUx\n",
       "Ce4AQzToumcOrFg7uMzbWyrBXTMVM1dFPDA4ubu85M+m81Epx+xWvMxjaMDxU+hibDrXd3LzsMQl\n",
       "HzbFIL9TCvM/Og0gZaRuWZT1fZmsDUuTurIuRssvyOZp85fw9RfHMa4Ne955RoWfm5pAAM3Pn2X1\n",
       "qxYo5BDFkkLiLI/OOydrpXStp28D+tah3ydgd3bVLsWq46nP1Ul2mu72XqiRGQmZ4L2HTBly2A5x\n",
       "grcHXXnUogRf7JMZ1on9/tcemUvi6k8O43pTi3FagOEO7q4XsQAAAiABnqV0QV8OpACArIXfegA/\n",
       "kNtAjvf8VLAAKHNFE0e/x4VCsqMsNRwATNl8w0SH3dGB06pxuyqXM3pnDhvBM8wZAjb/jifzabMu\n",
       "B2dDGLlgHao811pIqsFUVAuYYsD37MZMjtPp5fUTQ5sCazkjq+Zcm6afnHfKSr0kU74U/jeuq6Te\n",
       "TjOjjuo33ag0l69rJjsJOsIU7tE0Vad728qKmWqn4weLDbDpigEcnv+dNC7hW/Vrohg5EAJFL11B\n",
       "aPSTs0YqbD5m/fOmSFKxCqD6JTO5VtgUN8T9OmT/SzM4TMqKvfGE8+acPkUr6XVXQo37IKfcpiUN\n",
       "dbYpIMePadaRoOzjajZVM3B4o79HQdzIwD5A/iW2tLBs6FBMWfL6wEfFLuxxFjCHHOvffZYpdteL\n",
       "5qHoF9UGEcrQE/ZzwgjeyBkUL3BApiyK/KRd1wKZNG+ostxuBDanZwhR+0mVtzmnPU6aOs03teL+\n",
       "BZoR6sFwZuPrwiHWwUHr5n9Um4rCqC8VAocY0aSfSxpUgg+CXm7Xu2dqOzDU5RrP1ichSFk9zvVf\n",
       "BWK7hI5W6jAODN6LC/Kwva8ZzQunGzUV7jvjrzTvVo2NmNxpui5Y1sjOfDJKfqXuArRX7L16AiHY\n",
       "gEM5E1Ic00hDcPrZ1jmHV5SOxVQhx8VKLyccvNmYzUXmzPd+DTjypacBRrwi8pxFZkJWEa9caGPe\n",
       "YyY67DfZ7O0yOgEl5zVtAAACBAGep2pBXw6vRdLd/PqCAD+JsUAylG0mGSCmKcl47LqOTYoH3kk+\n",
       "zVv/l9c4hXy038zGACuGFGZBGZqkThW/EctT2Nmb87gsVMFe1FT05ImgTXHSJIimNVW0ZTdbXbKV\n",
       "q9KFvi2Nfy0qvWwrLYAxlDOaqENpHg2puWwu1Kzz34z8quy4BmfTpkIk/y03rgH1B2Mk2kk73H1v\n",
       "pE7MrCBs6qt1Yyridasn6ovI4eZYV3RcrMa6t/GhhWFhwF2ZN0Mub0ZKYIsKj57taPBjd5EoQ1+k\n",
       "sk5coy7+y0AwiJwkAV1QSI0JbBLlmhgF7bjYGaXdu1YV/yvVYxTiQpvCfO5N9oaNTd3utLF6j42q\n",
       "a76cPrCTulrFy97SK3VSkEAurvYRbzhsVj6XfVFWJqipTyQQWGwElh6BRQWALhwXi9axPztHuf98\n",
       "NmgOSpJo6THJ/3KSigq6jzSHqLw/G9bl3C4IODukz3PszyGUQquV7OLSmsvdp7MMkV/g439581r+\n",
       "j7I6MmFLwgLpUCGHhtQntIEDqIEAMn6QKBARws6QWZJGIxiwPH7vylrj6dpkQA3Pc7cH9CLi0OnH\n",
       "YennwtcKub2pxIAADNsrg++SrdxFRYhqc2a9mXnO2psQhkvMraLZoh6Jo4a8gqv89DiQOj/QFoKc\n",
       "9ZDzHMipq8MPK80Tmr94o57iGxC2gAAAB5NBmqxJqEFsmUwIL//+1jVg3/rQAC1JWfzNsFv+v7jP\n",
       "jshNXYwFSxqIh5DoqrscPnPuRk/D6XbcqmTC/dI9SsLAHg0KdCpUtKjXcuqpamM+eZr+BGmSnBwo\n",
       "oe6DzRG8er1571I639PfKoBXFvekFCg+rfO5v8rC1o1Akoh+rBpWY2TNxVcwF38FU2toRAkW34aj\n",
       "9KBY1ue85Ec/412gaL8XObj48LCF0WavB8X3zFelHQfc+aV2ErBOzmtKo5ZUz69xexLhROpyJZPY\n",
       "T5BV7QnFbVNx2+F0dZkCbWDJmetOiKTi11MK5sSZ9bm4J81gS+zIz3TF1XK/4BYYksiAIVwuAyVm\n",
       "cFcNbzLhgRQYeO4wEY+bSXjGLxj9zi4TL2uSt4kNNLoFmYuXnH7lE2NByxqB7ib4r0nT3VlX9ZIB\n",
       "H2Rd/9P2NjsAKefBJ9yb30yxf8mlBqlRGnegrBG2XV5PQt3jcVqbGQvJsXASe0qPyDBzkeH/5QK7\n",
       "JOyInrcj47/PRzpo6BcRY7gnB0vBvvgWAip8F3XeodeJCl2zI6C+lOE/bMP13MtN6I/DmXoDAcAi\n",
       "IPuhQvgGn3gzl1sOvWDXXHYofVDrRIzFtMEbarj7baNo2MOfLDAVjAILU+1tTsWA55FIGPCa6TT7\n",
       "3KKHfToq5b2LOqpdzqi+JZdQ1cYn+/ORg5nbnY8gpNtMs6Wq24m9cKw5O2LKuVdE4Icit5UW01NN\n",
       "2n++dWybu6FLBKJvo0HU1iYDeUNH8INXxEUjTZ/czBSsFIyvWDovqGIF3QReCHpWTfXaNkoX+W69\n",
       "fb6gWaPAFtRB1pjtKaSoHiIFlQsJ6ao9KOx54nimMnUI3hzSfs/pp7Jnh4ozpPQyrEm5trSjM1B9\n",
       "FbjAqXL4GSmY/LAemxQrMuDVlH0hbA9H2FVvItmqVYKNBdq+8ZsLsrSruqcNU+mVQZURJ1adsKoV\n",
       "9dRjcCldMG8JHVtHIsskT44+46hCs3zRAMX1NvxlVZTBHia3whHK/CEKr8DOkmv1xhHWc1DXgnz6\n",
       "5+sWuQhUUm04warm62C6omo6NBlCIAhEHiOAc1QCVUOtRIze9y9vQm7hS8n0//iWdEhurj7X6IDB\n",
       "YvjqbXcZ0Ds9RwTopKqPH9l/nVbV2ji9zLT/3EW6MUYA3mN8lvRZfWFAQQ5jt4plhP8GYwiC5rn1\n",
       "7sALt2LSxBEpBakj1YK4xTM271RNFyaarQO7boEf/BuyYF+SUCMhRhg+0K88mqYPEQeDVfF8DhWX\n",
       "x9lIF22SkCqjoRPptd5MNoTnforG8edG49cP02Z/yFlx+Qn72HoNsQ16jdfE+bRx0T8q8pENgnEl\n",
       "WZKWN8AYeDhefoUS+GXe9LHu1R7zXl/s5D7yNvlaRSZ7jXMhAJzQbty4s0YsNHyDJuNWl5LK7Utt\n",
       "PVWoWx3a9UqLgI2+yKn1JbW2lSaONVV/nMV4611D0EiY6P3aG6CZmCJlF44xigSbBXna0hIIPPpf\n",
       "Y8vzdspHhPH30uRcKO3Ln0waAqBnTx9RF26apLdHeeo4mpBIedp5DBwEBLEjX67nr1ZT13NehVaS\n",
       "e+mAGze8avgy3mSQwehDvvz3tPykNK0TLxqK9R9FfqQPfRESWHrDWZzbkgcWcYfbe9GAG8DM6bVg\n",
       "BpH3peXAy7B04M3jR6JcL1bSxcXB0lYusE5MzNpLNguu6ZFKdw84e00fVLrKkG9eVsLjw02M3fxn\n",
       "cot/1idLqTK7XTtBuOzE6ZHyWyNvZvTygMYnjnq3gEfbq5ZYvZ5UmtVRPGz8Z0179EVA7QolebPe\n",
       "5X/Tx1/WqS7IDtWOG5xmx9u3Zq0t0N1cu1dVXIoBp1Zrs0HUpqGvci7VzV64bm4CK+LILShCi/eu\n",
       "5QXuQYFJwyui6QLksIJVUcDDlYLGogqApHG8/rrGbCNZPaPvuRPodPuJtOGle637aUKVOYBR09c8\n",
       "JlPzY8k476U9C6dyo+Bsy0SNOKHB3NX30IuxTy7tXA/DRtjFW03QaJB9VaJUi8rKSu7MoZH9+HGX\n",
       "c3z6Fdc4WL7wmp01An+Wmqcs1nIRUAzl3WyVpdpw7Mh8KdkHlptQB0yN4QQ8+mxtuyJ3jmWnFT6F\n",
       "Zsy4gpWtKrq/sju1P+4SEIEVgRyK6Y24gxWTIaAUdQxzCRk3qpmNujMJN0oOBK/lOC1YE+VYfelT\n",
       "yVXF2QRkwuHm0tkY7EljSdFOKUN6vr+l3nOzLiVMMkpTPtlLUy86Im9YzGPycrrR47uiUZ4d/U5R\n",
       "YGEXvDuWoJ/1ZEBjxEgY8xBimjBnpM6wbp65VDTSXKsnWFgxVNnC5fu6QRTdtn1xnIqL7z55nlHX\n",
       "DVe9vZnvyAPMlFEO6eIjMpTL6Y/OCJMwr5oaLR3l33Z9FhN8xhCslexG31j0XWsKc6LBKwmhpSSg\n",
       "XtPlCx0Hs8NZISZGYDpaQSnLKoh2nj6PhzOfOFYCtWXlhdLdflUmuYK7qBdtWeaWEpeIFzR6yc2Z\n",
       "pz1Cr//AxRnKHId+Dd8zTGRcISQkKcyHk+ZhTPJHCAEHWoI0xWq2iGYxhewkAKbaErORqtW4DWx7\n",
       "43loij+fr+l98S19CpSWFbS0m5az62qIgANSAAAC90GeykUVLBb/DlCDiKX9QAFzW5sln3kTyI4h\n",
       "sflwhcGQa28fvw3Aj9o/mCdpTtO2Bd9Ds8xnSs6MGXVjWP1HvIcp2M4pB2Pnkru35nmc+L7KG90d\n",
       "9FmBo8URkAtmpKCaxUvfM1YI4+wWyq38bnq9jZxMR0OJu452J0vrVTFdUMc87DGGNMuT2/iFhJBu\n",
       "4tFKPUHKlbg+WEIXIOyMMr/mMMgjoI001RdbDuPFyABlb4Uf19XHjlUF+eVsJv8XvLPLmgkpcCFi\n",
       "z2X31Y1rYzxrAc6J94ErEX5VGKqEmTfxPp/TWUt5CiCU3tqY4/zUeA+vSZ4jU/8I/D2/OGX5ttge\n",
       "/ufB50F5pNrBQrZFnw7Xawtm5mdNWoiCL4zRtr0YaoEddI9ahzE9aUSI7xNFcGw5WJAzotbTlzLD\n",
       "6PeTK58y3pa4EJUkfN9kii2tc2B2JJWU52vzT0lReEjiQsRWwwl9ZkD/bLFxMnaDYO11kThM93wT\n",
       "KEyofNLUZ8yYdRsDkStn7qkNSPHlb1wqkpuByaNVJyHviBCH29WUUegbte5Wit52NrVaJGValIGM\n",
       "6mufJ+JnZ1PqwrJ8Zt1ALHP4WvSX0GbKifZUj7hz8J5tQscL3MApvDvtDGTb4NzAzTzcFrIJt6dx\n",
       "1phi80PUzurCWyg5UuiaUl4cnpyWIUAwFL55HDNRTjHrlXlECNwL81gH5fb0PowLQdjn+Tu63DIq\n",
       "jha45ezOP+V+3lDUWCKLwrhkJwT280lyq++pY2Nrfk5EPJzzAIbMu5MmF2YRG5+ZnahEY1ypejzo\n",
       "A1jQRbUWSYVKUUwFTAh/fTINwrSKWuAUVKPzkJovh/YqCYSnSltY4KgD3bLebyhPtUYug9d1NIiN\n",
       "6pbT6mZVCMLQ0HGAA1yy382oDH4flIYOIsfiarBt0QUA5uSWXvAwcbBxcp0+s5hUJ/+i6FSfopsQ\n",
       "UxlfjPBYPciUS65jB6q/n/GIhBrP4yd7ekA35GqwSZtq00o5806X4FfqqUmMXosRJwAAAkABnul0\n",
       "QV8OrkEA74df8oAE7FG527eghS5JtvbCBUEWJqWqvwUmOBYHvN6eKKcAe0LLTHjFojhJrlNWOf1c\n",
       "o6M4kakmuOjAVenFQ6BOAe+sFF7b99vE53OBroRdVwlzO36yaVIlwRZwyt5TLBt2yYXyNeinNCMZ\n",
       "+bxs53pke7iujsDTNZOxDR3XG6gyvL7uFTcqM88+e0G3PAtMpwiRwTfA+QQs6Z4pzANWcbwtuSly\n",
       "crfp4+79kECUVEuKvTDbMLLHvI494JIbejwVHfUkx5mUlE9V/Kty0H+FjVEE0SuKwqj3MNSH7FlS\n",
       "9aRTDusZyWuU5WSwTkjwzGouzr5p9wfM0p7uZrP4L85zX1dOQkfeCEeZ4SazcqX3g1xLFfbbU/nR\n",
       "agEzMpQCfHw/ciTSuHubdf3NdLbL2oRTFsLvFbUa3B/BBG7gCjq7IjKBDyJ3bYF3Y+JWmpyH67bx\n",
       "JDNmfCPODyUPHRLxA8Sq7tyhpQtHH9sva0b9Eoe2CmGN9Xuntcvwr4kHj1DrJPVICR9IS4Q/AffV\n",
       "Lvn8EpMuOdcD8KRP70c2UvbC90DZ6FPYpEuiHy/0nLqeKTmLg2UqcZ1ynSeqn5eT2uBnu1Qo9hHp\n",
       "3G5FXAHiKXpRn/r6xaZ2ulWNfAAxhADfAYOfC4NXWNKJvZZ3MsHLPab63e4OGhh+Xtbdhz2rZONF\n",
       "TvHjRwumSP1WpdYM4ypuj0eDCVuK/CIzX93fmmuv39xIwZxJXUhSAMiBNomxUUdsafCseEp6lUJA\n",
       "BBwAAAH+AZ7rakFfB3uRFdpBeUACdjqncbkqw1Kfzenuv56JYj5NptZy8w+Q6kG5nnmEVMWSXA0d\n",
       "RWomBngy2+n7pFbKlhkLMHI8S7tqV9n4ym5XWkcG5nTx1JY3uVro2HFLcXXRAgOHQM8EyEr6Mkxq\n",
       "CYyY498Hz+TFJlbv8xqU0qpIAsfzjlXxhafyep7elewMM+SXoiQSKwTM42ULnk1slZwvk0nUvlnI\n",
       "0EVQ6oibEY0XzPeUxkjxYLOEEZy7/v/YRgBRqbxh9AAfX1dWjbmXGnTIaam5MxcFXmWprz+FGTXm\n",
       "jt07bY3G9C6ojjPe/M6if/cDlHvfS5JA8i17FcqnMtzZrhoMT9plar5V6IgPctPyr4GYmhDdCuRk\n",
       "dwH9t59Et2LT6MkrTY6nTCpGN4J6TIJFjzyeJ7M7ZnNqdwDVCto07eIFk6wMfJx8fg1lmb7RZy+G\n",
       "u4EAfFhAURVLzbvXp7rfCPNMkEuGNH9PMD7ZQ9kM1LZFZfFwc9q+8l6gBsaxMhBvQaPclsG1X5bR\n",
       "nZrkj002JwOTR52vKz9qYzze4KcWNQBscERPLIZzy4Wf+6fVE905iYOLolTUwucVAIBxJnO69aFW\n",
       "tLMGfzwzrxsaW9h+rRRyxTp1bAAPeQhEAHvR7+evrAjhV4pHu4rPrRlVGiZV+dzyZwaILmOjwPfX\n",
       "Zq3oAAAHw0Ga8EmoQWyZTAgv//7W0Giu80ALCqVX+VWMz/6Jua/+Au/14BN+cMiXzBgvP1yxkrtv\n",
       "NVnbB6QqjCoZmKOa+LdjhKjgFNYfRNBHlkE3LY0CeIRy73yqATRiCar0h76GjhLbZjsIGD9WK61f\n",
       "/vJtFJ9ghodPRRFaFT0i9r18kWckqGRwITYID0Gj5vZVWd7gVmqRomU5iJ9N+eCKIGyKOzEbR+GD\n",
       "jxRy0M5i4KQp91oFzGLa9dWJehIio7peebUYCFEJIIvRAzc16UP06QAix2LswwoVH/Li9KaCK7fj\n",
       "PYf/HYRK6CHzi/u2PhQSxG3Eyqjrve8okmI2Bk8AqgPy5sw4FjuAqIXr0fDDvMb97BKWXFi2L6wj\n",
       "RmDr9KDdKd1oP8M1fV6XJD1Z6HoJjEEtPYQb7KVT5CGNY3X3YAA2Cg2LIGllbdl6Y7N6jxkhQ2Zx\n",
       "OTFP6jvPh0sUrOP6LWGCy39XTBgiwPKCz9cC9yue2fTHFKy4fSxf/89hLM3lkzD6e/+2TlRT7Ea9\n",
       "TSDNDgvDdHb8C7awL7STqYOFlKLV8pyvgzCPhK+p7WTgxpfAcvs3J8sG5ip2BWN+3qtUb5rb8nLc\n",
       "tr5W0PM+dRhJtSuIT4TO1MUnvnZngJNDkeWTAHXFH4s64gUXzGp5Wh1O3L3HZqbhSH3jnF0OzR4g\n",
       "20TqVxwOEJD6mhXlI2jDBQsEah9F+7L66KalvxqMpDcL7/gIMoMQAhlwKVMA5IT3i/1JTZdkQ+23\n",
       "N9J4dXPlqt0WcNo4cOew0FQDaYe64m74hF5V+YBv5Y+rqXNaqAbDjWQ03KtZo+TWLQ1hPVGtZHLc\n",
       "GHwFFHJbhlhBxKZwbj/oBOtFUuhuA3RZ3d8/N1pkF/3mxiKTURM/sTNDaDd8svyZb0hsZfBn43IB\n",
       "//HWcQnwEaXn1yS/5eKlfcM2qwClacxran9pk1CSdB2fbyVCgLdPe8wvu/7P4LdfwoYsHkKxdIxM\n",
       "iS+v1/mzcQ26H8ehgmY3LyxfnMy6ia0HQfZ8e+JsKV3kZ3/JV326u39uOI9DRB5MZ9NT1Smn6LeC\n",
       "OK3T/BcvB8frazyz5pPRneySbVfnpUCEVglleQKRgFRBUQ8HEP6mB1qJ4Ggp+/yc+lgjpRw2O/CV\n",
       "mNXwSzlfIZL6x4p1vlyzT+TzHpjLu1Z8Rsvp3+RPrC8pZ/Y9LitjdznkvQaBbm87VneQnbkrQ+8t\n",
       "cwmceHz9UoUIZv3WzF8ChkTr2OEfJfzaawKH4cBz4i5DUihlXV972diULXx3cSqZtPS4pC1t0MB5\n",
       "W//iVKGmsgQL9YRfT70dYasdFRhTXJSTwFftadNSYwqcveLpLdOqC+GXstyi5osrp2kKNLjMbOtA\n",
       "lX7naOV9Jde6yeeKIvPduyvZL2EpTYWclhkAi82VBjP96YLXtrVWZ3vZeTAOvGeRg4jvmKq9SfHl\n",
       "DgCaOWfDWQS2zA3ClTO0sunfeXqF5y2NxkzYyzEMHv1AhtI7G7zDYRcIKa+LFNPoBP1QrHZcOe2Z\n",
       "jZK0TaS9ThKRLHgFddTw4BY8oe3HONPbUqP649wJ2LpfPh0Jz+HC8CgMVHe66h3xux14yRqiX1OI\n",
       "Xq1qGX8MXI1tZGg3oIVcgxnC6KpGXn7zA9ooDRoidSLRfBqsXMbV7AzTWfP40lkc8bL1YUYDlMCL\n",
       "vAaSLH8uK84YYgTlmjJ9bpjrBRQx00m47ShffLxaJWyqv5OIcQF8qVVIqYBgE1m8Gx7U9PHMoLiQ\n",
       "+VX5SwKVqsZYf4jL/330WYCvdltRuZ0hL6UAVC93LuWjuaVKxMNyBU6xK9fFPaj7bM6IQLgYThl2\n",
       "Te6Rrb3kfboOiCDMJxHWg2/T99ittuXe95YyTver0AAn50fzWHH9zzXZpBOEH3xH+R316pszd8E2\n",
       "VmSpzqJBGhLWb40SWc+YRTOLtf+7wNrlJUNdpK/cV8LtbBSXoGX7hdLVIEzuJClIlZa4GwZZKt2G\n",
       "lgTPa9/n+f+U1NCAMJlLnfAZLGPfUZrPh9368Qg2IrEoJldGxREKKz1IPiYo8PTt++axWPFa01d5\n",
       "cwehlutzQzBPx9WmCsoI6If9GZ1pkWOXnjGm1UL0CAU03RVbwh2xdK37opLq4dus3R8MXYSpHxaX\n",
       "W4vOqZEjpijrcWC+va6vIBvGSiBaxAMaG4OuEqaGTpMbUcxvHm8kZLfqQ34oFWh7zkxTyQ9YwKdg\n",
       "GvAOJ0ozGrplCyfbl6sZuX2qdWkfGdqTZrp0DpBh9SlSOt7UM1ZnifvXOCj5/kjHQALUqIHRs70+\n",
       "51yclTQ3MnIgOp9+nvMrbCQcfaYcdbo7bIoZ/LKy1EGcn45JdYHVbFtkBPbYXjQ+qMtkOlFyHXYv\n",
       "RWf6alZwIsSG05/nv/NVkBYKM+N1mMi9bKS85yBa4YWEFV/VgJMGGfhaIGIrkatQBjIBAAA1gZYk\n",
       "2cQgTvEQEVeMVtAAJdMqJoIGpflDDVeW2v32g7qd92VRl/NPtYACeLLaFonw+J6YOG57xjMOjSIS\n",
       "0/38demFIZ0wIhqOxY1fkMEHM47ZwQZpvRr29i7gHMDuG1jyt19oQT/iDF12K7YWwbtC9vHaxNxY\n",
       "62LvUFq3HXfZl2XiKWu7f2BJuvVOJBNhgU+UKY9fnkvUeisk1HO6Vxn1UTYOETiGgBU4wdbcXdEA\n",
       "AAMdQZ8ORRUsFv8OJWIgQAAll1L4Qt8C7u5j8Zc6tc6IzGZtUR5E9ap2wn1Xl6gqQH3F77B6M/Nl\n",
       "amMbqdpOdPh83BA5/pYEWeb9IAElalDb+APllT4FU0RkOjHEfQvpw9leFwbOZqscOMUsBmP8BgfV\n",
       "GIJ9E5D1KRbrADKoSF9iqnuXglCTavvqneloI/ixNniXHXIO7nHCl1uBrRWyXBnbyt1ZgaR205h8\n",
       "AOxrrrqCHfguDXw3w1YpHpOkqBAunpkFRy0tT/Ee/ZyRvUts5mRyVBXYNZ+tuAWefRPEk+Q+soNw\n",
       "qdZhCL9wnKQbdglThS/2rut7dR4zfM6QZedS8nxOe5l6q4n71n04GzbWgAqfqanf/Gxvo6a6EWTe\n",
       "rZwKpqFp0L34djdbFW1ibGvHz9+DfLNk4PetrZg/lbzqzg9BnItNKW3TRzr5Ex6vKdXCNyL9I6px\n",
       "0zYtcow7WqKRWhu6EYAdCcdK5DGGvGqNSuDB1yoHHdgkgXd0l2rC9BnyVEcrNWF4olmIyNd9E5hn\n",
       "gZ3yjp2HCF6rbD751zDvkKXz6G/Ag74gwOJg172OaNQNSyON4JRg3Zsio5/PHLrFJNF39bgagBYF\n",
       "g48cXCTXhMipLCo40Lr4c6y5QikpnKXlsQau2+O2dbqIeDafvrwWgwAdnrsh9BX/gV9UTNboJiKs\n",
       "61Xu0cs72MxHDNZbyDeu+Y7ZNdGszgDjUyZJHk9dSkP7dpZ6ZYekerCySMd0s0rsZ0UOEBq1O7bj\n",
       "NTxzKU9DBfmEcNnL54alnnaarxigikky1+g0jmidf8XnSQCS6XJSE5taIztPfbE1/EnoXF7IsWHh\n",
       "hj74cKQZalIKSdp/nAonCUHACXW5VfK7eZKPatv9IRCYqFM1va+7W8oKfGoaRPK1lCIUVmIxNY/5\n",
       "fbCqSoyx4ksbcKABOS2DGuLo1J192kTgPcjFzjYPSEEm67oSaur889nsk3RTpkzxWva+xF6JVZwK\n",
       "wkTbaJYGJNV/BabXicdAAY2grAkMUW5UhZKlfG+dGBfleQXJ0IYBMaogX7dT2VJ3lB6PXy8YYvYA\n",
       "64EAAAGyAZ8tdEFfDqQAf9iYoIAP5DbkC5gjVx9ryCC8pqzJWVQrxDBESb+M022oMs757rmtiY2w\n",
       "OBKaixfSInfQABAeLmWV/v7CAH9twQI4GQ7mmzUm+RzN3PFW/0fh7Iny6/ndXNlNgNHF8AVUZVEZ\n",
       "Iq8+zLJdnzzXAX743xWaWRpxks6so+CvtU3sKbAey7/JKALKmCUE0HPPTitwVTBnIYzEXkVObsGd\n",
       "IJ8cmOhk7e/eAAwbBxY46bSzvEG6yCpRRscShaAG3S7ayjhIcdfRR94VRqlr1yAIHKno411iuZN1\n",
       "Dlyr66QMK0tgW89ZLp9foQFHQbljSd0b6u7xkwFVDvr01x+0PkKSXpwTmM1u9Ite6cL21fbkZz7A\n",
       "LjQP40Wh/2hCILiGtEH/sqqEU8FiemkifnBCD88lmqRmQuR1rRJH9EOLFMIQ+xvzhwVcaykFMbpM\n",
       "jM9iCKiwL/GhuSVou8FRw/e2WAgyzjnsQDqJgE+2MgQJimIwfNrgAwq3ALMMOkoSZ3NglslCO63X\n",
       "+h3Qu384Ca+vPn4ktUvuhbwrcxQHIuW64hIl7AFF5Q/PitZSerQJvB0AAAHOAZ8vakFfDqLAcW0H\n",
       "96AD+QEtb/UHUdc/85vUF3e9vqwb2oLod9gPkpTw3MZ/ZdZdzTJcM3qSHxq77ID7f7WvfsfYOYuO\n",
       "hbY8bHdI0akrfWucDXErpK/I8Dw5mDD8cUs6cvfORT++hI3Zs/ZKBguBkK8Wp6S/HC+WzmCjjo4C\n",
       "HalXage8loVlwmPCLzjJuDE+ucuSP22UMMtrtW8V/6QIJxDtKju/esc80kq57EMSekbx4aT8PCDZ\n",
       "dP42y0eIKdhN98AmXxpxofQ9i/pby43qnVmMf4qNP9h6QYMa/NY66Nb4/wPByyhm8kbr1Q/Qv17v\n",
       "BkWx1s0rUeUuTjTHa0vkAkWGNlPjUeZKDIHsBXPJb53PTTRVtzjsToCUgnusCNg3JuKxXc5j/yVX\n",
       "eaZpDOUmILfbnTpjk6DKte088Ei4npda1pUjNv66KUlkPcpAoOd8y/n0887ci47ttgjOESW8iwiu\n",
       "97NatUuU9u5o9RYD8oQrcFGtAAGam9+mihBuRHo/kSGlNeomT6kqQzy+LdtvtWMaS/i7MD5dw8iX\n",
       "c0D7G2QKlT2hsiMSqUFYDrAfBM01RhXGhrOUDe+ofZVlsP4QtiaQHqf56fngBGA54mLKAAAGi0Gb\n",
       "NEmoQWyZTAgv//7XDMkWgAHHUyhtnv9yV6I6lgxHu7WzdSFOlQEtilpNUiJBWwaoFp03E2iggXiQ\n",
       "0qdaGt1+KmmlXpVUNIxz01nXzLAVUos1PegDZmUWJxn5nmPGvCN0KmHglYDmeC118j4DJ8L/+Wxa\n",
       "HtvP0ztY+nOjQKxbaY3bqdwPsDRQZDI5IZwGR6Ok/YRgEf9yeq9mMIsml1FustokICTgBZsT4fSk\n",
       "xkY7UxWQAOh6EMyefVem53XLjTJHi2jcwzQbjoFMnmJyqBo/n8UTfVmh5bSyEOaRDyKS74Of/d4U\n",
       "MRi6qx5VgWcB//m3WOSFQxap6OcMABs1kIbpKLwTupITSuxdUnIqC/Ey5zoxOKey4W8HKoXBTooM\n",
       "mDhLNwXZEMgixB7Y8B3wBOahoj/rNGy8xthOko6DpZ9/dt4HHfXGniX7m2PVM1+d/WoyG88Sgssr\n",
       "qi6Oo7ehp8f1FaDQDaESbN9U/TqqUXZz6RcImcmTZR/gVwSo1Xo5oTbWL6uONHIAzfQeQJPLMfeB\n",
       "TlX5ggRUGP2Chp2WtZQTt63aWM+X/Cq+xa94ygNs8EOehdgZW/xL4oV7SsYbXpi3a88dMrNIM6+J\n",
       "EABwQjY0T9GHtMYpJPCjtLcJBT6zcmh1Rep1FZ6mhsh59HubPQBL2zcbqB5SmUYOrQYIlA8ZCDhI\n",
       "uSNa49IpGi6eKAe/iDjr9dsjkXS8mgX+EuiU39OtA4p/XZ8EgLx8GHcw4NX3N8aXY53y6+YLGEBv\n",
       "jo7l2uAuLYiZhNiN8dcWxbEBuk3Q7JWid+3jxjaV/yQ0QnnsYKeQ/dVq1mzYdnl6pJeh10gB//oo\n",
       "rBbo9VgO1K2t2ATSqZI2GHasw860mj9tlQ0ioECAt5Q++s1wPc5C4zBwMw5+2V9zzdQeWyoA1cOt\n",
       "/1vQl0IAaEDMl0foLvC1ci/X3iRRMjdDXdqy+FsQKLjVs3VErWw8TAJGSHzWexjDwHp51ZQxVKRV\n",
       "w9xAvlnzB+HsUuUk5ivHgplHaPO7WJhxdu23hJ+oQS0lTUmRbIBnI20hEKEBcrqNSf2m/aMSUoHo\n",
       "Agyg5GKNlE3bspIJIe8bqgOqYmy6/EHBafFXtG3I2a3wY1AX4lB62zZOYURb7s36m7cX2DT3qF7U\n",
       "n63GDudnySaIFeTG8VSaiV25VxN/dWWBrHanJ8EOK55l33mjhGa2rXLZ9BNst11qm9JhLz7W03uw\n",
       "zC8ijhZzdvUBFZx+rPeqq7G5ghhW9baWbToWPqqf1WxuffIgG+O8o574C5yG/jZC07cmcbqls1eb\n",
       "bdPpE6oyFkiCgByTZQ37BDHCgq4yhyqhWRQbaR1O2HUcA4X+2IabXtsuKX5dHjBbhgVwj0pSlGKs\n",
       "Tq55ymGBDXp3FREnKqqi70Henpoijx/GPHE6JNMGaCPjB/RCo63UprSaZa2AujYS77/5OcoBvxUl\n",
       "4V5wOGj8MQXSfHieih6IEB8pPVUEhFJI5ZUT3UyjFnZEwjHS/HwP3CgjdZH1M+XNa5eZ39QjeSzF\n",
       "qr7hNPfZkX6oKFdgCFinTxT1WxNl3k9Fmj0v2NVNXNTpfuXIeaTb7Z4CukULSpHJ/vUotufzBmFF\n",
       "CNxrAFuNIztZ+S6QONtRCMaHnBDSzxkmD8tQAL/gj7EHEC4Ws4boPCfgMWc/WsCfCfXM9IaZuWt8\n",
       "B/co3JosAo42lHIgub+LZrOPira15lgNrw7iRoMAEBh9/D+zj76OKexqEaI1LuqKhyh7DpAM6HtY\n",
       "+dUV2rCKgG7v6u4VxdX6uW9tZ7AMhcKga3T3wq3AdleNs2mR1mRwveg+VOLOczG1iswCGYpLZMrU\n",
       "DGFk8gPVMUzVZxwOPUz8XTbXBtjKPOJixOYImpVsNKXQK1JMs5XgqoQmXIsQmEq9+6fqt2GNFVc8\n",
       "gzKWDosCCvvEQfuyU8zNGNoyjrcMmWsk1VD8kk/jdJF8b2jMhzLBb+6j5TfnsVUXVVDBbhsMyDUh\n",
       "bMR/wU1a1AHDkmEhghN7IzovwP7HYeIkUjoWZYdvEugiuK+gPch8z7loIfkkk1iuEK2kGezdLOL8\n",
       "KlH1nYJXkF4d7gXp9iuIYA4CocFJOF/8mwATPRpPMfz9+v69DulHujdajLuBcLkgsWYj9Niolff0\n",
       "lJ5Dbp0/zq2YMv1b6YvpOE9dAt9BIpJxVL0dOdb0xxMvur5awNzk9e94AjyRsux471+uWwSvRYcL\n",
       "4KdapHwLFE9Z2qGFlIvYgBnwu4AAAAMMQZ9SRRUsFv8NYUrfAEqAAsEOAk6vMFi1n8VoE/fYMjB1\n",
       "jND6QcaApvlATSI2XHpEMjIxe0p0y6bBREAWW0RFD/AfhUpxFhB5+RroZOAVsWksczjM81jID4Ud\n",
       "6RwrcADTwTZ7JwAA+rtYMcseJaOArz7Ad+JEsY87vsIvMy0x4ue6Oh/JhsOAjYXNC/ddiQX27dxC\n",
       "re+1qysMlwAAAwBuEnvxyN7S81AzNBAHA7YKCJCfsiigi69pSY27BCHA0wuaQXuy2nP2dWb+wKxD\n",
       "PHXVd/mcpezWCm8P7Nn384j1zBpCrMJcE/zRwCJ+orXAssVrfWSfU8NPIuFE9jIiPo+vUz7+kdyp\n",
       "+aMek54gRgAicSBKvnvPopQWwUXndWvGzzH8rCM4pR3k7JpW/RSfiO28jXDRn4inli2oRxbfTrT0\n",
       "kiDe7DMXj4AUpwQfmJV0bDrj2FmdsZ1GnJVN0sZ2zxEhSlvodJ/qDudz4F2Uesh190B7ovktS4KJ\n",
       "VYFm532gh2GswOykJ+JkOxj4ms7ZYiv8nC5ve0L3ERpqWA5NoMN+OTfPGH2AXsd6TNJa0HXRwBaS\n",
       "gWqMFNGv619CRiC2D+j5xDwgebiepm7WXWR6rwFoGkI8J+UC5Xzbh81pvtm32UOxmz0XGfKkF+8J\n",
       "F0uRa9GumrDNxQgT0pdToES14zf3YLH2zyZisE9b7AadmwC+YOQ9f5D5QHpiE1ZXo/QDF/9hIOhw\n",
       "895T3gLaTHmx6oK+sfaOunuiiWn4pynrmyp/+eHtydsSCDbnJPXCYaIeF0crMBCbVOnmVi4Y/On7\n",
       "CAdJEV+7EdIem3V2AJl0nLKS6AEynNG8kxj8We11ZBCImVdoscJlzHqMGn0w0lQAEXFPfgARF/Oa\n",
       "E2sUxrWAx4ZKMi/Kwre4AiZhla/8kOM5xXNCxWB0hl2igyUQ5dPyJytwwt7MGlGb9sOtAqkNCfC5\n",
       "Dd8/HqvlWrqOgQ7gPu9zzxjspaKwMwFJ1MX1MAED6hUYa8uCGj3vyqBppJFzBPGvwJwnwBFaWY12\n",
       "xMCaBpHxAAABiQGfcXRBXw6uQOunmxsAJqO52lNhOXljlQ9/o4iKMZqgj/UhPv+/ZhYOFbw9XChM\n",
       "Fu8nMGCnoAO8Gm7Bc/oibFobVGC8lPhQXpC1rTnAKFLHm9RqTBpkS29Rj5FzVZsMn4QQy7VnXRwr\n",
       "wiNbbgWllfb/wdQrDIJV4Z4IvbnY+mx8G5iUAWTAVVUHY51OG6AEN8bQlXUlHmnwhrbZJq/RCjPg\n",
       "ATPvsFynvak27QCOm125iSc+XNDrQRCHeMtoJpz9BYN2Y3HQhTJTTtRe8OxVwQK0nN03EywZHOiB\n",
       "/8rIavZlX0JpPA/E6cUDyWHo1pXs1pLZdVDaTWbdxhcMflxUBsvmxzcnN6BYH/8RnutoRc7b/Gqe\n",
       "nzAUXsGIzdMm9Ck5166JyMBI7UCrQVzqHIqeusRcUemGDW44PUoahDiXb+m7JmhAfKCAfzZG1SHs\n",
       "CoCKB5N4c9/861sDwRGBuxPd3FQSKthtr4s5skmXOfX4MuPCwyjlWc/0ZpQmrRozaOoOmnDZIy0q\n",
       "pC87oAAAAZEBn3NqQV8Or0XS0uTn8oAE7C8RfRhWPnl1wCuIcTgxxN7Y0SEO2GKgwwEM+KAwAjCZ\n",
       "WkQcF4Lx79nBJx8exE+GDXaN0I08sx9zpswj9mMFQtSMCaKIM7opNTrJsXmHLXL3wA8q6yoFewEi\n",
       "x/LZPFQ9Eg35TzsNLFibriO1LiZCTJD5XGMcuKnpKT6bCoUiOmIwIYvUgRtKAH8/XSR808DOuL0Q\n",
       "rZ8bgOf94zLDv4CPeltWHCXL22WM2gHrwK0qFkdgiPJ1flr1enapIrhJ1/iTW5yARQj8sXIpauuu\n",
       "XnkJvolj0dtJo7ZLqRKWzSMAcHNAEBDQDFhKyka62+89lQeCKbm2egaFufa8wVv/g27T08GwXvAd\n",
       "eugxEd2dd7Nrgrk/4vQF6rFiy4wyBuBXJqRhb8F8LLRh+Pb70XRziWQFQ7Czv6gWSXVN6AAipLTH\n",
       "vua2UgqxGIlBFhabsnnfRefepHpgsXzA2kv69re788oydDukFKcq/uq2icuTd6C7zZToziLtNXE/\n",
       "TMd95+yV5gYf8wAABlVBm3hJqEFsmUwILf/+0i4KEAAH72yzwCdvf878ZSKA+z2af86scYTQEjPe\n",
       "VEnbN2ZOeaI9rVrr4wCEdZUDLsMrsF8VqExf5s4IfmuLZ9TTjvlUA7j7Nr36FW4mqpNIlvMFTN0h\n",
       "/6esTQ5C3qEfXZYqbC0VTJsU8tH5UtlcnsrfEJShBxi10f9cVEecINwukMIbkyU9QG+QOpwuMIHW\n",
       "WAm0sb+LIyERWcnLuXUhvZVm9cWFWT3KZ8Z/DHH/qT4On8WNYyoq122TugPihEoqKWaY5t/+UTNH\n",
       "68sfdGQcMdC96HHtpv/FJdi+mO6NVKUAAEGykjHIHQDi77rD5AxM30VgkeOxSYrL8ZtTfemJ0pIo\n",
       "r0Nx6AAmRr3THM9N7i12D/H5yNWoxPuONkbsGS6MkNNyQpiWWHRgFNxJb7BR1efkKDoa1CXO8aDN\n",
       "kefQmHWe3YoLaQU+3WLqEvm2NEqHSUOqv558vezOSLjeIrJURN0AOCA2L7lpQU8lCAQ6XjUCIVC8\n",
       "+1tkYM7CHco4AHUbe+FFppy/X9Uc1LLObsn2IOHjD2+vmMFSkPp9+pjuCE5rOP3ot4tSOjsLw54k\n",
       "u3KmosTcoVRyTlwBJVL8JEzbF6M1kCq5vo/7jcGwsMb1VdQ7Jjwy9443y9dTFtWf1WOZ0Xxe9lb1\n",
       "ebhYbdrz0nnFYhtGDmF7tfJylxok/4WZJG6BVHnvTfk/yomFJkN9dJnfPg4xC1dAgcke9ACx+EUn\n",
       "gJNEuGKxlv8VALKCpmYnLouUciYM0ozIa7W1u4ixOvAMtPgeq9Vp4nOei5NOlPf8vH1dEkjwv12P\n",
       "gnwPeP9o+eLFQRa0hatHFdoOyV2WBfWQ2ScOi+mmd/0fm0RlPcV9yknmf6iWftnNksBqxAkZN5g/\n",
       "ZYq9eufoxFepizwRdSxICHOEZ+DTRZSZBwcBf/cIpaavxGnlOnKP5xbq/HVd/AaQWkLmMSWDLL3i\n",
       "uDI5W00/LQQbN10DMxD591A/agk60BLI/dqCupyix6okr2MQqc7ybkK+UfBE9g8AKRTLC96+Zrug\n",
       "N5cF+AIVafI8FUWK5xAmWjT75vvsomOLr6skTNj6DlknSpt2T8XjIrXSgDkRiO/w0GmdMtlWY8Dn\n",
       "kSEmzwi60GSTlh2dztQgG48nNseq0lW2lC55q/RTqSgSdwibO/Kuh6kE31zu8VWh2wzNcvTlUfhU\n",
       "W7hKwLVc5OArWg0hWYbH7ljZqBU4/AlIe1Del8rx/iL/j8kAKHK9fBH/fh6tpMlrAwqYzzBUk7+S\n",
       "8J9HpJyG4Mn9e6gUPLq/O47c9dXR6Y/5kpu5k1jxJzrYuceAdbh8rxrRTwc5ai5wF6vp8CER6j8f\n",
       "Y2eY4RWPOipWcTmXn7wAahh94T3IWeIPnJuoF1M6rpjlh7129o4wtrKZuQfoWXUUJ2ZxkY4mL5JS\n",
       "vcXtvZAQFT1xdI3ZjqOc3VN/s49ArPaDhyFUJZEGOtDhzIQtZasyqjrMexz8ARsXzPx13AD6dmKl\n",
       "RfB5gzIboIr0viL9sxS5FLRplgy1NnYw93ZIjLKLf8gu/NspfugVal3pY79/OvVxn83wG2IDToQO\n",
       "o+x4GQMLK1sPvYYQEO7ZglpBOyaNn9TL2HtSm0PlKqL+JUP52Y6gkCB0H4eTogE+IRPzAh6tgY49\n",
       "Koqmrn2uFvphTkGiCzDjH0y+kklwksqI00Hwox3BW5TkWGdgBodzaQFZnUfLN8GHcL83ff951Fp+\n",
       "K3YFwQ0M66OqNVoabJKrZYXu5Wninlhw37R7cKcCT0xcsm4w6Dxosp/3oo7hjKHKjB5r+XsAbHME\n",
       "pJMktP4hd5Ezn9FKOPg0qi7XO6stioXZzteyIpDZ9ZCmesxj7Zc30BpRN0EQ3MyNYjMVPS7l4bwM\n",
       "yhSv7mCuDjG2jY9EmvtlJkHOsWLM8kUFQvDWbvFH4rdnxLRFa6+2GvN4II7IxSPQC0mavIKAZjeH\n",
       "1An3e/qT5onGQ5ww7UYPZckXkDdXytWDziX/xr4xNhSJswrvsg6vNPzdPvk3rqJvQcoJC5fKTdoK\n",
       "LYFb8EKJ5+lfMWYAnVcc91JqaUmS5PltCvfE8nk/RTBIEx8T+if0UmIwOvV+EH41u5lF5p2s+jvi\n",
       "TQn4xo+dLjAqgD7oq5BpjikMiT5Xa7rN32yu/NeNuaDhavFv+DUhAAAC2kGflkUVLBb/DltG7LWV\n",
       "+oACdjwkzc3YajQsi9TftCreUWI0lYTIIBVXWKW28YxOb+JnSs0mRMSHKJBb+9iOXR4ZbhnHktPa\n",
       "nLAJ8vrL8K8dsp2TEsQ393sKjJWQIWdfAlM73koKnccoGK+Th199PZYWKX5XyRrosF3KOk/mqoF3\n",
       "6p1LzP8caWgrjlX9zfUN8chKxDtLumwovS9Alg87dd9VlpYCtlefeaDyzAaUW6a8lZFAnjQuHXRL\n",
       "5+L4K35mMZ5MA3zKHBT5mlyHV1xXZMCTN2Ygp019N8SVh3pS2cFl0tsNAxBdkLgcXXunGUzHSnUH\n",
       "bWWnLsNNUZdYCvfY2cEEchQbpzj+PDRSNwByQO8aKciPrerwGv5+SvJY7yhz0FFleBOiwbvHr2Q9\n",
       "i3Bpgkfd7gAIMqH1EQwPm0FUfljkKYqyVQI4t1yinzqGXgH6u38iLNZIZXM2rRUOiEfhRUNAcuSn\n",
       "fKw1p01g9a8EYD59d4B0VoxVtwypSoqvcDPfWbz0xQjqw98EIwa0uwYEBBFSqJEkDF8/44varnkh\n",
       "nF2HygGEAxl8dPAIHXkoJeg66kA8wGAchXIBMu3OrcFe3QgSaS8xkSz1poiYtsPhmJXg0yY3f+fg\n",
       "7QS80E7gW1Xp9jKweBz3HDgvPs/I6MHPkXHnPEIlP3svKgHYEJb5DqULLxKXAmFKU+hpY0sQ4zIH\n",
       "UjXehwyNuiZzrGO1P1BcgT+Fz5RWlFS85DyItjkys9QPlTSf4Iycrn17P+m8ADQwiLpQ4rYBL83Q\n",
       "gKjIE7+vcsIwvhF2Al/PEsq+BLP6Z6X7fc9+t7pPfN8/zqionK8nKAnURJpf2pkq5+PVhOBcXaf6\n",
       "82UhFxdpJNry2BgGX1aQjV0S9soeyBLw378HP/Kif6aO5M/W46NHPjkWspK+BSKklwIQVLihhEAQ\n",
       "TRTU33HATFhjVFfjSZPI7gLzXvjr7aabZsftALps1IAAAAHRAZ+1dEFfB3nPsHsKpBeUACdjLoPP\n",
       "Hoy5JOip5ac8Ag6eSYWGNVQlpO5DagZpHpgnIHj3BeM37d1Cec6KPM/GD5Pg46ETiQQCHzFd1N9j\n",
       "XqMeKzHjd5hNo7y6O1htxgT8Y/8qwEIsxQx9fY3pfd4iZIAYd6t5a2HTK5ZHLjhPb7POWTmVMqPL\n",
       "v5O1iIiGUQB4g4OfAHypf3xWRqtns+llz/4j7c9X2vDeEFE9CA5DfKaP9tyI1kD0syrAcxF5bBCg\n",
       "+x46wJLf8Io+0FYVKEZyw++7gEloCZ6cIaLlMCYBqGum8VSrUmFzeqZGu+8DkEUeO50Mlktj3gVN\n",
       "bNII3XzU4yBz6Q+OqMm41DbL/TF1RZW6L+iaQqxl4E3ztqcUZ4NUzFWtn+14L2LGSnc2ex2xLqKz\n",
       "78+JV5+uGdl7tlSfATC67FOpaXdf5JFfANS2hDTqnLiofjNH3Am1eIKUGeeCY4tknICzX1Jcb75g\n",
       "ACIjxRjZzTqZP0MLicqWqJ2SGs95IWIujW49zxbcUSlcYl/xWFFgRE5jY+9wlL3d+N3CRDImjW++\n",
       "AD0HzokXwzOtoh4i9bVUKVRmF88ryggADyHATNwGZ9iPCUyX5P3mhFkqgXdBAAABhwGft2pBXw6i\n",
       "wHbDh5flAAnY7net2CrAXF77NZ/LC1FCGKL/EKIgo0BGLZ+qsJjySqxDBSneUop32CjQ1w4E9+D5\n",
       "RkPcJIZ/rr/BTmuEclVmEMFsvpOYerN1uT16xoyMuxnV9tPE90VAuZrXk4bHksVt++04DeUqIzec\n",
       "g6/5Oiy5n/I+XMkcdCemtkU9WvLSWa51V9jh/UXFg9WRdjq7wrGb9iFM51HTd9xYh3lb7Lzj9LG9\n",
       "VxsR4A3lJq+A+w/R2rI6qv3v2JvBoBl7sAvXTAJaH8U8Yu2DjXT5Sr8Jt4rO1tfDdGr2+reNPm90\n",
       "e/QO8oWb1f3OqDczTshQbvAnxaT6sxEjSlb4nwVSy4YkwYExTP7xl2gNRtB5q/JruDYAHiZXBxJ4\n",
       "rncTjHtad+hDdED1EKC1lHtW7dwuUFo4zv4naN14EnZ+PAWO19ZL1NppszhZBOtFRe/ivXyYnMNQ\n",
       "bqW4bh7pdlEmv0dbl0/3EGBV9VGiCjU9RnwhIIwXo1oMEhnhJlTmNqEAAALTQZu5SahBbJlMCCv/\n",
       "/sp6/8N+v+AAXSoG+60Gfa80VPA7+gB1/4zQJFUBl2jPCoHRrh3AXMS3jlwHtsK89KzRVF0eyac+\n",
       "Sars6OfvUqgIjizqchJISsnp8tP9a9bX6gqodmFnGU00CDMbghTnyIovEouBCkFXhXZaUUPgX5Yh\n",
       "BgxRGQoZHq6JDNIDIXYXRc3FIOYJ+ziPCfYgLJ2BWL6ZM2aKszljbdvJObOjoWQpDHXr67IFv+Nu\n",
       "SNTN1UHC6ANMw2HiYfI6+OFiuM1+9j3BkqXm54xJo2zXJx0E9xPnLIoudlLjO+nv709dAWpCx4mk\n",
       "9GD2CVJe6lpBMdECSeGeCD0Tg45RIACvuZEre3xBYblisduMWBLxDk/c7gN8ZFtUrchajPlzGyOw\n",
       "82NUwoUZKX86s9IrvBHG7D8dd6bGdzy+mDZaXMmgkXhHgW5+nZYrecBjepscLMWCd5/+9IwRRr9o\n",
       "B0Rj2KOjTH1Qz+zlmvBbEwTpQX0uJGRFUCYbwLkWhJJ74YguLh9S1smW7lb4LkKYYufWxdJMmoHI\n",
       "bve5ZU+AeoS04DrntvQ/eXpn42HjJtww69PLgUL4qVtbwveA8As8N7bQJJGmapTdSYFHQsg1on7x\n",
       "t+KxlyfLYZFHL0LumriF6dt5m0HoOKVxNbkGA/D1ffZQBKKF90fDD65OFYWtVP+CNH5DIJ76BZrh\n",
       "RU9lVLdob+ZSBx460TOcwCEEpgkRQ8xLXFMj5lm+YfmND0HkoGSTjAF3KrApVU61IvLUx0000rtW\n",
       "nql4AecMKYhj0Rw7SgEPHbLnXXXbV+bVOmVDlL9ArzutEvFqkJ6cWcQA5anXlgLzL9PGPYGIxbcK\n",
       "u8CmTKigll1XNGc2EEZVq6G/t1PnzCG4iFWNYsTOAOklp3Axb1PIeBPkLY0CNK8bbFQIYUmWgHIb\n",
       "xCXNBk5pINtFLLL30B3ObMR+Cp1tS7uAJUO6AAAEam1vb3YAAABsbXZoZAAAAAAAAAAAAAAAAAAA\n",
       "A+gAAGWQAAEAAAEAAAAAAAAAAAAAAAABAAAAAAAAAAAAAAAAAAAAAQAAAAAAAAAAAAAAAAAAQAAA\n",
       "AAAAAAAAAAAAAAAAAAAAAAAAAAAAAAAAAAAAAAIAAAOUdHJhawAAAFx0a2hkAAAAAwAAAAAAAAAA\n",
       "AAAAAQAAAAAAAGWQAAAAAAAAAAAAAAAAAAAAAAABAAAAAAAAAAAAAAAAAAAAAQAAAAAAAAAAAAAA\n",
       "AAAAQAAAAAKAAAAB4AAAAAAAJGVkdHMAAAAcZWxzdAAAAAAAAAABAABlkAAAgAAAAQAAAAADDG1k\n",
       "aWEAAAAgbWRoZAAAAAAAAAAAAAAAAAAAQAAABoAAVcQAAAAAAC1oZGxyAAAAAAAAAAB2aWRlAAAA\n",
       "AAAAAAAAAAAAVmlkZW9IYW5kbGVyAAAAArdtaW5mAAAAFHZtaGQAAAABAAAAAAAAAAAAAAAkZGlu\n",
       "ZgAAABxkcmVmAAAAAAAAAAEAAAAMdXJsIAAAAAEAAAJ3c3RibAAAALdzdHNkAAAAAAAAAAEAAACn\n",
       "YXZjMQAAAAAAAAABAAAAAAAAAAAAAAAAAAAAAAKAAeAASAAAAEgAAAAAAAAAAQAAAAAAAAAAAAAA\n",
       "AAAAAAAAAAAAAAAAAAAAAAAAAAAAABj//wAAADVhdmNDAWQAFv/hABhnZAAWrNlAoD2hAAADAAEA\n",
       "AAMAAg8WLZYBAAZo6+PLIsD9+PgAAAAAHHV1aWRraEDyXyRPxbo5pRvPAyPzAAAAAAAAABhzdHRz\n",
       "AAAAAAAAAAEAAAAaAABAAAAAABRzdHNzAAAAAAAAAAEAAAABAAAA4GN0dHMAAAAAAAAAGgAAAAEA\n",
       "AIAAAAAAAQABQAAAAAABAACAAAAAAAEAAAAAAAAAAQAAQAAAAAABAAFAAAAAAAEAAIAAAAAAAQAA\n",
       "AAAAAAABAABAAAAAAAEAAUAAAAAAAQAAgAAAAAABAAAAAAAAAAEAAEAAAAAAAQABQAAAAAABAACA\n",
       "AAAAAAEAAAAAAAAAAQAAQAAAAAABAAFAAAAAAAEAAIAAAAAAAQAAAAAAAAABAABAAAAAAAEAAUAA\n",
       "AAAAAQAAgAAAAAABAAAAAAAAAAEAAEAAAAAAAQAAgAAAAAAcc3RzYwAAAAAAAAABAAAAAQAAABoA\n",
       "AAABAAAAfHN0c3oAAAAAAAAAAAAAABoAAEVYAAAJTAAAAzgAAAQ/AAACDQAABawAAAL8AAACJAAA\n",
       "AggAAAeXAAAC+wAAAkQAAAICAAAHxwAAAyEAAAG2AAAB0gAABo8AAAMQAAABjQAAAZUAAAZZAAAC\n",
       "3gAAAdUAAAGLAAAC1wAAABRzdGNvAAAAAAAAAAEAAAAwAAAAYnVkdGEAAABabWV0YQAAAAAAAAAh\n",
       "aGRscgAAAAAAAAAAbWRpcmFwcGwAAAAAAAAAAAAAAAAtaWxzdAAAACWpdG9vAAAAHWRhdGEAAAAB\n",
       "AAAAAExhdmY1OS4xNi4xMDA=\n",
       "\">\n",
       "  Your browser does not support the video tag.\n",
       "</video>"
      ],
      "text/plain": [
       "<IPython.core.display.HTML object>"
      ]
     },
     "execution_count": 40,
     "metadata": {},
     "output_type": "execute_result"
    }
   ],
   "source": [
    "qasm_result.animated_hamiltonian(func=np.real)"
   ]
  },
  {
   "cell_type": "code",
   "execution_count": 107,
   "metadata": {},
   "outputs": [
    {
     "data": {
      "application/vnd.plotly.v1+json": {
       "config": {
        "plotlyServerURL": "https://plot.ly"
       },
       "data": [
        {
         "alignmentgroup": "True",
         "bingroup": "x",
         "histnorm": "probability",
         "hovertemplate": "variable=Error<br>value=%{x}<br>probability=%{y}<extra></extra>",
         "legendgroup": "Error",
         "marker": {
          "color": "#636efa",
          "opacity": 0.5,
          "pattern": {
           "shape": ""
          }
         },
         "name": "Error",
         "nbinsx": 100,
         "offsetgroup": "Error",
         "orientation": "v",
         "showlegend": true,
         "type": "histogram",
         "x": [
          -0.006031945952950098,
          -0.031502797151084914,
          -0.07660773942380941,
          -0.10237451885787079,
          0,
          0,
          0,
          0,
          -1.1422608994152244,
          -1.0112357789783788,
          -0.9464618050275411,
          -1.0063909718396984,
          0.2004885992550125,
          0.23661126535492796,
          0.285374167848619,
          0,
          0,
          0,
          -0.002827978829491915,
          0.00781618104706499,
          0.011183849298395051,
          0,
          0,
          0,
          -0.0741727208252774,
          -0.07716656446748221,
          -0.09279247424747536,
          0,
          0,
          0,
          0.024577082545896932,
          0.1280586785103432,
          0.11725660437215794,
          0,
          0,
          0,
          0.21871213000129838,
          0.28794357222790096,
          0.2424107832956064,
          0.002524548194348204,
          0.0045554510501126695,
          -0.010246513006718257,
          -0.007291232288307078,
          0,
          0,
          0.00418632779741968,
          0.005192597376236167,
          0,
          0,
          0,
          0,
          0.0027919189650503825,
          0.00293670391707172,
          0,
          0,
          -0.000479748652346677,
          0.0014917996954178754,
          -0.01631625649908343,
          -0.01731490300696059,
          0,
          0,
          0.0007665236208178054,
          -0.00046761183099675637,
          0,
          0,
          0,
          0,
          0.009083552685416937,
          0.008191544014361233,
          0,
          0,
          -0.0009218590661845328,
          -0.0014512820701705611,
          -0.00036971439854265964,
          -0.001805489516218767,
          0,
          0,
          0.006620622519060629,
          0.009171048986743056,
          0,
          0,
          0,
          0,
          0.019358591177731886,
          0.01876448089632546,
          0,
          0,
          0.013026523405025721,
          0.014716682447890525,
          -0.018624309176688093,
          -0.028943629715692434,
          0,
          0,
          -0.01674564284231184,
          -0.014017454057009313,
          0,
          0,
          0,
          0,
          0.01592371371370023,
          0.027374567862911807,
          0,
          0,
          0.028670127804411916,
          0.026873106231967925,
          -0.0034347272855199066,
          -0.01291961097830813,
          0,
          0,
          -0.03925225805760793,
          -0.038860236191600506
         ],
         "xaxis": "x",
         "yaxis": "y"
        },
        {
         "alignmentgroup": "True",
         "bingroup": "x",
         "histnorm": "probability",
         "hovertemplate": "variable=Classic Error<br>value=%{x}<br>probability=%{y}<extra></extra>",
         "legendgroup": "Classic Error",
         "marker": {
          "color": "#EF553B",
          "opacity": 0.5,
          "pattern": {
           "shape": ""
          }
         },
         "name": "Classic Error",
         "nbinsx": 100,
         "offsetgroup": "Classic Error",
         "orientation": "v",
         "showlegend": true,
         "type": "histogram",
         "x": [
          -6.990185287095897e-16,
          -1.3177894562382707e-16,
          2.381426523783224e-16,
          -5.943457884087182e-16,
          0,
          0,
          0,
          0,
          -1.0484942199029068,
          -1.0641439205233725,
          -1.0682776133612741,
          -1.0462934703736733,
          0.23937742382205382,
          0.2682241639158397,
          0.2392380338552532,
          0,
          0,
          0,
          2.1790059277381144e-17,
          -5.658900434986803e-17,
          -1.0842005003261874e-16,
          0,
          0,
          0,
          -0.08571369591543705,
          -0.09547838300392437,
          -0.08562477420554465,
          0,
          0,
          0,
          -3.927726699015327e-17,
          -1.955159760732728e-16,
          5.243863844805262e-16,
          0,
          0,
          0,
          0.32701130118049926,
          0.36338975610057456,
          0.3251029233414515,
          0.004771035334847687,
          0.004752018810408349,
          6.973059081931874e-17,
          6.055533863382898e-17,
          0,
          0,
          0.005435506066067014,
          0.0054815513078488405,
          0,
          0,
          0,
          0,
          -1.3149984425270355e-16,
          -1.5254378403230666e-16,
          0,
          0,
          -3.883679082869304e-16,
          6.571819905990195e-17,
          -0.028345561120660917,
          -0.027809166830085587,
          0,
          0,
          2.5330357781205527e-16,
          7.469068787469467e-17,
          0,
          0,
          0,
          0,
          -2.0238306460457951e-16,
          -2.505466407120339e-17,
          0,
          0,
          -0.0015644831343073168,
          -0.0015923564808059147,
          9.877550990372189e-17,
          -4.270850036554492e-17,
          0,
          0,
          0.009240109771183544,
          0.009202078168919648,
          0,
          0,
          0,
          0,
          0.0278569370107926,
          0.02782505625388814,
          0,
          0,
          -1.307482845817505e-16,
          -6.646854993971807e-17,
          -0.028101495342383934,
          -0.028197816689557436,
          0,
          0,
          1.0303853902978082e-16,
          -4.232504362990551e-17,
          0,
          0,
          0,
          0,
          0.028351685612494903,
          0.027472719963324854,
          0,
          0,
          0.05676397146544526,
          0.053140623687101096,
          -8.593696988243522e-17,
          1.251721396896856e-16,
          0,
          0,
          -0.07502882733078242,
          -0.0702101120993997
         ],
         "xaxis": "x",
         "yaxis": "y"
        }
       ],
       "layout": {
        "barmode": "overlay",
        "legend": {
         "title": {
          "text": "variable"
         },
         "tracegroupgap": 0
        },
        "margin": {
         "t": 60
        },
        "template": {
         "data": {
          "bar": [
           {
            "error_x": {
             "color": "#2a3f5f"
            },
            "error_y": {
             "color": "#2a3f5f"
            },
            "marker": {
             "line": {
              "color": "#E5ECF6",
              "width": 0.5
             },
             "pattern": {
              "fillmode": "overlay",
              "size": 10,
              "solidity": 0.2
             }
            },
            "type": "bar"
           }
          ],
          "barpolar": [
           {
            "marker": {
             "line": {
              "color": "#E5ECF6",
              "width": 0.5
             },
             "pattern": {
              "fillmode": "overlay",
              "size": 10,
              "solidity": 0.2
             }
            },
            "type": "barpolar"
           }
          ],
          "carpet": [
           {
            "aaxis": {
             "endlinecolor": "#2a3f5f",
             "gridcolor": "white",
             "linecolor": "white",
             "minorgridcolor": "white",
             "startlinecolor": "#2a3f5f"
            },
            "baxis": {
             "endlinecolor": "#2a3f5f",
             "gridcolor": "white",
             "linecolor": "white",
             "minorgridcolor": "white",
             "startlinecolor": "#2a3f5f"
            },
            "type": "carpet"
           }
          ],
          "choropleth": [
           {
            "colorbar": {
             "outlinewidth": 0,
             "ticks": ""
            },
            "type": "choropleth"
           }
          ],
          "contour": [
           {
            "colorbar": {
             "outlinewidth": 0,
             "ticks": ""
            },
            "colorscale": [
             [
              0,
              "#0d0887"
             ],
             [
              0.1111111111111111,
              "#46039f"
             ],
             [
              0.2222222222222222,
              "#7201a8"
             ],
             [
              0.3333333333333333,
              "#9c179e"
             ],
             [
              0.4444444444444444,
              "#bd3786"
             ],
             [
              0.5555555555555556,
              "#d8576b"
             ],
             [
              0.6666666666666666,
              "#ed7953"
             ],
             [
              0.7777777777777778,
              "#fb9f3a"
             ],
             [
              0.8888888888888888,
              "#fdca26"
             ],
             [
              1,
              "#f0f921"
             ]
            ],
            "type": "contour"
           }
          ],
          "contourcarpet": [
           {
            "colorbar": {
             "outlinewidth": 0,
             "ticks": ""
            },
            "type": "contourcarpet"
           }
          ],
          "heatmap": [
           {
            "colorbar": {
             "outlinewidth": 0,
             "ticks": ""
            },
            "colorscale": [
             [
              0,
              "#0d0887"
             ],
             [
              0.1111111111111111,
              "#46039f"
             ],
             [
              0.2222222222222222,
              "#7201a8"
             ],
             [
              0.3333333333333333,
              "#9c179e"
             ],
             [
              0.4444444444444444,
              "#bd3786"
             ],
             [
              0.5555555555555556,
              "#d8576b"
             ],
             [
              0.6666666666666666,
              "#ed7953"
             ],
             [
              0.7777777777777778,
              "#fb9f3a"
             ],
             [
              0.8888888888888888,
              "#fdca26"
             ],
             [
              1,
              "#f0f921"
             ]
            ],
            "type": "heatmap"
           }
          ],
          "heatmapgl": [
           {
            "colorbar": {
             "outlinewidth": 0,
             "ticks": ""
            },
            "colorscale": [
             [
              0,
              "#0d0887"
             ],
             [
              0.1111111111111111,
              "#46039f"
             ],
             [
              0.2222222222222222,
              "#7201a8"
             ],
             [
              0.3333333333333333,
              "#9c179e"
             ],
             [
              0.4444444444444444,
              "#bd3786"
             ],
             [
              0.5555555555555556,
              "#d8576b"
             ],
             [
              0.6666666666666666,
              "#ed7953"
             ],
             [
              0.7777777777777778,
              "#fb9f3a"
             ],
             [
              0.8888888888888888,
              "#fdca26"
             ],
             [
              1,
              "#f0f921"
             ]
            ],
            "type": "heatmapgl"
           }
          ],
          "histogram": [
           {
            "marker": {
             "pattern": {
              "fillmode": "overlay",
              "size": 10,
              "solidity": 0.2
             }
            },
            "type": "histogram"
           }
          ],
          "histogram2d": [
           {
            "colorbar": {
             "outlinewidth": 0,
             "ticks": ""
            },
            "colorscale": [
             [
              0,
              "#0d0887"
             ],
             [
              0.1111111111111111,
              "#46039f"
             ],
             [
              0.2222222222222222,
              "#7201a8"
             ],
             [
              0.3333333333333333,
              "#9c179e"
             ],
             [
              0.4444444444444444,
              "#bd3786"
             ],
             [
              0.5555555555555556,
              "#d8576b"
             ],
             [
              0.6666666666666666,
              "#ed7953"
             ],
             [
              0.7777777777777778,
              "#fb9f3a"
             ],
             [
              0.8888888888888888,
              "#fdca26"
             ],
             [
              1,
              "#f0f921"
             ]
            ],
            "type": "histogram2d"
           }
          ],
          "histogram2dcontour": [
           {
            "colorbar": {
             "outlinewidth": 0,
             "ticks": ""
            },
            "colorscale": [
             [
              0,
              "#0d0887"
             ],
             [
              0.1111111111111111,
              "#46039f"
             ],
             [
              0.2222222222222222,
              "#7201a8"
             ],
             [
              0.3333333333333333,
              "#9c179e"
             ],
             [
              0.4444444444444444,
              "#bd3786"
             ],
             [
              0.5555555555555556,
              "#d8576b"
             ],
             [
              0.6666666666666666,
              "#ed7953"
             ],
             [
              0.7777777777777778,
              "#fb9f3a"
             ],
             [
              0.8888888888888888,
              "#fdca26"
             ],
             [
              1,
              "#f0f921"
             ]
            ],
            "type": "histogram2dcontour"
           }
          ],
          "mesh3d": [
           {
            "colorbar": {
             "outlinewidth": 0,
             "ticks": ""
            },
            "type": "mesh3d"
           }
          ],
          "parcoords": [
           {
            "line": {
             "colorbar": {
              "outlinewidth": 0,
              "ticks": ""
             }
            },
            "type": "parcoords"
           }
          ],
          "pie": [
           {
            "automargin": true,
            "type": "pie"
           }
          ],
          "scatter": [
           {
            "fillpattern": {
             "fillmode": "overlay",
             "size": 10,
             "solidity": 0.2
            },
            "type": "scatter"
           }
          ],
          "scatter3d": [
           {
            "line": {
             "colorbar": {
              "outlinewidth": 0,
              "ticks": ""
             }
            },
            "marker": {
             "colorbar": {
              "outlinewidth": 0,
              "ticks": ""
             }
            },
            "type": "scatter3d"
           }
          ],
          "scattercarpet": [
           {
            "marker": {
             "colorbar": {
              "outlinewidth": 0,
              "ticks": ""
             }
            },
            "type": "scattercarpet"
           }
          ],
          "scattergeo": [
           {
            "marker": {
             "colorbar": {
              "outlinewidth": 0,
              "ticks": ""
             }
            },
            "type": "scattergeo"
           }
          ],
          "scattergl": [
           {
            "marker": {
             "colorbar": {
              "outlinewidth": 0,
              "ticks": ""
             }
            },
            "type": "scattergl"
           }
          ],
          "scattermapbox": [
           {
            "marker": {
             "colorbar": {
              "outlinewidth": 0,
              "ticks": ""
             }
            },
            "type": "scattermapbox"
           }
          ],
          "scatterpolar": [
           {
            "marker": {
             "colorbar": {
              "outlinewidth": 0,
              "ticks": ""
             }
            },
            "type": "scatterpolar"
           }
          ],
          "scatterpolargl": [
           {
            "marker": {
             "colorbar": {
              "outlinewidth": 0,
              "ticks": ""
             }
            },
            "type": "scatterpolargl"
           }
          ],
          "scatterternary": [
           {
            "marker": {
             "colorbar": {
              "outlinewidth": 0,
              "ticks": ""
             }
            },
            "type": "scatterternary"
           }
          ],
          "surface": [
           {
            "colorbar": {
             "outlinewidth": 0,
             "ticks": ""
            },
            "colorscale": [
             [
              0,
              "#0d0887"
             ],
             [
              0.1111111111111111,
              "#46039f"
             ],
             [
              0.2222222222222222,
              "#7201a8"
             ],
             [
              0.3333333333333333,
              "#9c179e"
             ],
             [
              0.4444444444444444,
              "#bd3786"
             ],
             [
              0.5555555555555556,
              "#d8576b"
             ],
             [
              0.6666666666666666,
              "#ed7953"
             ],
             [
              0.7777777777777778,
              "#fb9f3a"
             ],
             [
              0.8888888888888888,
              "#fdca26"
             ],
             [
              1,
              "#f0f921"
             ]
            ],
            "type": "surface"
           }
          ],
          "table": [
           {
            "cells": {
             "fill": {
              "color": "#EBF0F8"
             },
             "line": {
              "color": "white"
             }
            },
            "header": {
             "fill": {
              "color": "#C8D4E3"
             },
             "line": {
              "color": "white"
             }
            },
            "type": "table"
           }
          ]
         },
         "layout": {
          "annotationdefaults": {
           "arrowcolor": "#2a3f5f",
           "arrowhead": 0,
           "arrowwidth": 1
          },
          "autotypenumbers": "strict",
          "coloraxis": {
           "colorbar": {
            "outlinewidth": 0,
            "ticks": ""
           }
          },
          "colorscale": {
           "diverging": [
            [
             0,
             "#8e0152"
            ],
            [
             0.1,
             "#c51b7d"
            ],
            [
             0.2,
             "#de77ae"
            ],
            [
             0.3,
             "#f1b6da"
            ],
            [
             0.4,
             "#fde0ef"
            ],
            [
             0.5,
             "#f7f7f7"
            ],
            [
             0.6,
             "#e6f5d0"
            ],
            [
             0.7,
             "#b8e186"
            ],
            [
             0.8,
             "#7fbc41"
            ],
            [
             0.9,
             "#4d9221"
            ],
            [
             1,
             "#276419"
            ]
           ],
           "sequential": [
            [
             0,
             "#0d0887"
            ],
            [
             0.1111111111111111,
             "#46039f"
            ],
            [
             0.2222222222222222,
             "#7201a8"
            ],
            [
             0.3333333333333333,
             "#9c179e"
            ],
            [
             0.4444444444444444,
             "#bd3786"
            ],
            [
             0.5555555555555556,
             "#d8576b"
            ],
            [
             0.6666666666666666,
             "#ed7953"
            ],
            [
             0.7777777777777778,
             "#fb9f3a"
            ],
            [
             0.8888888888888888,
             "#fdca26"
            ],
            [
             1,
             "#f0f921"
            ]
           ],
           "sequentialminus": [
            [
             0,
             "#0d0887"
            ],
            [
             0.1111111111111111,
             "#46039f"
            ],
            [
             0.2222222222222222,
             "#7201a8"
            ],
            [
             0.3333333333333333,
             "#9c179e"
            ],
            [
             0.4444444444444444,
             "#bd3786"
            ],
            [
             0.5555555555555556,
             "#d8576b"
            ],
            [
             0.6666666666666666,
             "#ed7953"
            ],
            [
             0.7777777777777778,
             "#fb9f3a"
            ],
            [
             0.8888888888888888,
             "#fdca26"
            ],
            [
             1,
             "#f0f921"
            ]
           ]
          },
          "colorway": [
           "#636efa",
           "#EF553B",
           "#00cc96",
           "#ab63fa",
           "#FFA15A",
           "#19d3f3",
           "#FF6692",
           "#B6E880",
           "#FF97FF",
           "#FECB52"
          ],
          "font": {
           "color": "#2a3f5f"
          },
          "geo": {
           "bgcolor": "white",
           "lakecolor": "white",
           "landcolor": "#E5ECF6",
           "showlakes": true,
           "showland": true,
           "subunitcolor": "white"
          },
          "hoverlabel": {
           "align": "left"
          },
          "hovermode": "closest",
          "mapbox": {
           "style": "light"
          },
          "paper_bgcolor": "white",
          "plot_bgcolor": "#E5ECF6",
          "polar": {
           "angularaxis": {
            "gridcolor": "white",
            "linecolor": "white",
            "ticks": ""
           },
           "bgcolor": "#E5ECF6",
           "radialaxis": {
            "gridcolor": "white",
            "linecolor": "white",
            "ticks": ""
           }
          },
          "scene": {
           "xaxis": {
            "backgroundcolor": "#E5ECF6",
            "gridcolor": "white",
            "gridwidth": 2,
            "linecolor": "white",
            "showbackground": true,
            "ticks": "",
            "zerolinecolor": "white"
           },
           "yaxis": {
            "backgroundcolor": "#E5ECF6",
            "gridcolor": "white",
            "gridwidth": 2,
            "linecolor": "white",
            "showbackground": true,
            "ticks": "",
            "zerolinecolor": "white"
           },
           "zaxis": {
            "backgroundcolor": "#E5ECF6",
            "gridcolor": "white",
            "gridwidth": 2,
            "linecolor": "white",
            "showbackground": true,
            "ticks": "",
            "zerolinecolor": "white"
           }
          },
          "shapedefaults": {
           "line": {
            "color": "#2a3f5f"
           }
          },
          "ternary": {
           "aaxis": {
            "gridcolor": "white",
            "linecolor": "white",
            "ticks": ""
           },
           "baxis": {
            "gridcolor": "white",
            "linecolor": "white",
            "ticks": ""
           },
           "bgcolor": "#E5ECF6",
           "caxis": {
            "gridcolor": "white",
            "linecolor": "white",
            "ticks": ""
           }
          },
          "title": {
           "x": 0.05
          },
          "xaxis": {
           "automargin": true,
           "gridcolor": "white",
           "linecolor": "white",
           "ticks": "",
           "title": {
            "standoff": 15
           },
           "zerolinecolor": "white",
           "zerolinewidth": 2
          },
          "yaxis": {
           "automargin": true,
           "gridcolor": "white",
           "linecolor": "white",
           "ticks": "",
           "title": {
            "standoff": 15
           },
           "zerolinecolor": "white",
           "zerolinewidth": 2
          }
         }
        },
        "xaxis": {
         "anchor": "y",
         "domain": [
          0,
          1
         ],
         "title": {
          "text": "value"
         }
        },
        "yaxis": {
         "anchor": "x",
         "domain": [
          0,
          1
         ],
         "title": {
          "text": "probability"
         }
        }
       }
      }
     },
     "metadata": {},
     "output_type": "display_data"
    }
   ],
   "source": [
    "timestep = -1\n",
    "df ={\n",
    "    \"Error\": np.real(qasm_result.cfaulties[timestep]-qasm_result.coriginal[timestep]*qasm_result.betas[timestep]),\n",
    "    \"Classic Error\": np.real(classic_result.cfaulties[timestep]-classic_result.coriginal[timestep]*classic_result.betas[timestep]),\n",
    "     }\n",
    "# df[\"Error\"] = df[\"Error\"][np.abs(df[\"Error\"])>1e-4]\n",
    "# df[\"Classic Error\"] = df[\"Classic Error\"][np.abs(df[\"Classic Error\"])>1e-4]\n",
    "\n",
    "px.histogram(df,x=[\"Error\",\"Classic Error\"],nbins=100,barmode='overlay',histnorm=\"probability\")"
   ]
  }
 ],
 "metadata": {
  "kernelspec": {
   "display_name": "test_easy_instalation",
   "language": "python",
   "name": "python3"
  },
  "language_info": {
   "codemirror_mode": {
    "name": "ipython",
    "version": 3
   },
   "file_extension": ".py",
   "mimetype": "text/x-python",
   "name": "python",
   "nbconvert_exporter": "python",
   "pygments_lexer": "ipython3",
   "version": "3.10.9"
  },
  "orig_nbformat": 4,
  "vscode": {
   "interpreter": {
    "hash": "a99669db2c788b5eb6a3f1de1af58ba979ab8e9c6ee57e40d99f496c2ca91e4c"
   }
  }
 },
 "nbformat": 4,
 "nbformat_minor": 2
}
