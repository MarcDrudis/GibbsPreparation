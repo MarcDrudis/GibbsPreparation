{
    "cells": [
        {
            "cell_type": "code",
            "execution_count": 1,
            "metadata": {},
            "outputs": [],
            "source": [
                "from gibbs.dataclass import GibbsResult\n",
                "import matplotlib.pyplot as plt\n",
                "import numpy as np\n",
                "from gibbs.learning.bayesian_learning import BayesianLearning\n",
                "from gibbs.learning.constraint_matrix import ConstraintMatrixFactory\n",
                "from qiskit.quantum_info import Statevector\n",
                "from gibbs.learning.klocal_pauli_basis import KLocalPauliBasis\n",
                "from scipy.linalg import block_diag\n",
                "from scipy.sparse import bmat\n",
                "from qiskit.quantum_info import state_fidelity\n",
                "from gibbs.utils import number_of_elements, simple_purify_hamiltonian, spectral_dec\n",
                "# plt.rcParams['text.usetex'] = True\n",
                "\n",
                "%load_ext autoreload\n",
                "%autoreload 2\n"
            ]
        },
        {
            "attachments": {},
            "cell_type": "markdown",
            "metadata": {},
            "source": [
                "Recover all the control fields and control fields for each one of the simulations."
            ]
        },
        {
            "cell_type": "code",
            "execution_count": 2,
            "metadata": {},
            "outputs": [
                {
                    "name": "stdout",
                    "output_type": "stream",
                    "text": [
                        "4\n"
                    ]
                }
            ],
            "source": [
                "\n",
                "import os\n",
                "gibbs_result_list = []\n",
                "folder_path = \"../saved_simulations/turbo/allcontrols4ising\"\n",
                "for file in os.listdir(folder_path):\n",
                "    if file.endswith(\".npy\"):\n",
                "        path = os.path.join(folder_path, file)\n",
                "        gibbs_result_list.append(GibbsResult.load(path))\n",
                "\n",
                "\n",
                "print(nfields:=len(gibbs_result_list)-1)\n",
                "\n",
                "\n",
                "c_original_prior = gibbs_result_list[0].coriginal        \n",
                "states = [r.state for r in gibbs_result_list]\n",
                "control_fields = [r.coriginal - c_original_prior for r in gibbs_result_list]\n"
            ]
        },
        {
            "attachments": {},
            "cell_type": "markdown",
            "metadata": {},
            "source": [
                "Here we will take satistics on the actual errors that come from the preparation. We will distinguish between the original preparaiton error and the error that arises from adding a control field."
            ]
        },
        {
            "cell_type": "code",
            "execution_count": 3,
            "metadata": {},
            "outputs": [
                {
                    "name": "stdout",
                    "output_type": "stream",
                    "text": [
                        "The control error is: 4.37e-03\n",
                        "The preparation error is:1.37e-02\n"
                    ]
                },
                {
                    "name": "stderr",
                    "output_type": "stream",
                    "text": [
                        "/home/drudis/python_environements/test_easy_instalation/lib64/python3.10/site-packages/matplotlib/cbook/__init__.py:1369: ComplexWarning: Casting complex values to real discards the imaginary part\n",
                        "  return np.asarray(x, float)\n"
                    ]
                },
                {
                    "data": {
                        "image/png": "[encoded data removed]",
                        "text/plain": [
                            "<Figure size 640x480 with 1 Axes>"
                        ]
                    },
                    "metadata": {},
                    "output_type": "display_data"
                }
            ],
            "source": [
                "k=gibbs_result_list[0].klocality\n",
                "n=gibbs_result_list[0].num_qubits\n",
                "basisH = KLocalPauliBasis(k,n)\n",
                "preparationH = gibbs_result_list[0].cfaulties[-1]\n",
                "preparation_state = Statevector(gibbs_result_list[0].state)\n",
                "\n",
                "\n",
                "#Faulty prep with control field - Original faulty prep - (Original H - Control H)\n",
                "control_error_vectors = [(r.cfaulties[-1]-preparationH) - (r.coriginal - gibbs_result_list[0].coriginal) for r in gibbs_result_list]\n",
                "for err_vec in control_error_vectors:\n",
                "    plt.stairs(err_vec)\n",
                "\n",
                "\n",
                "control_noise=np.abs(np.concatenate(control_error_vectors))\n",
                "control_noise = control_noise[control_noise>1e-8]\n",
                "control_noise = np.std(control_noise)\n",
                "prep_noise = np.std(gibbs_result_list[0].cfaulties[-1]-c_original_prior)\n",
                "\n",
                "plt.vlines([KLocalPauliBasis(4,2).size,KLocalPauliBasis(4,3).size,],[-control_noise]*2,[control_noise]*2)\n",
                "plt.title(\"Control Error\")\n",
                "\n",
                "print(f\"The control error is: {control_noise:.2e}\")\n",
                "print(f\"The preparation error is:{prep_noise:.2e}\")"
            ]
        },
        {
            "cell_type": "code",
            "execution_count": 4,
            "metadata": {},
            "outputs": [
                {
                    "name": "stdout",
                    "output_type": "stream",
                    "text": [
                        "With 4 qubits and 3-local basis will need to sample 255 Paulis for each one of the 5 states. In total,1.3E+13measurement shots as opposed to 2.6E+12 for full state tomograhy.\n"
                    ]
                }
            ],
            "source": [
                "shots = 1e10\n",
                "initial_arguments = {\n",
                "    \"states\":states,\n",
                "    \"control_fields\": control_fields,\n",
                "    \"constraint_matrix_factory\": ConstraintMatrixFactory(n,k,k),\n",
                "    \"prior_mean\": c_original_prior,\n",
                "    \"prior_covariance\": (prep_noise,control_noise),\n",
                "    \"sampling_std\": 1/np.sqrt(shots),\n",
                "    \"shots\": None\n",
                "    }\n",
                "bl = BayesianLearning(**initial_arguments)\n",
                "print(f\"With {n} qubits and {k}-local basis will need to sample {KLocalPauliBasis(3*k,n,False).size} \\\n",
                "Paulis for each one of the {nfields+1} states. In total,{int((nfields+1)*shots*KLocalPauliBasis(2*k,n,False).size):.1E}\\\n",
                "measurement shots as opposed to {4**n*shots:.1E} for full state tomograhy.\")"
            ]
        },
        {
            "attachments": {},
            "cell_type": "markdown",
            "metadata": {},
            "source": [
                "With all of these states we can choose to simply construct a bigger constraint matrix. By doing so we would get the following reconstruction."
            ]
        },
        {
            "cell_type": "code",
            "execution_count": 5,
            "metadata": {},
            "outputs": [
                {
                    "name": "stdout",
                    "output_type": "stream",
                    "text": [
                        "We have used 5 to build the constraint matrix.\n",
                        "We start with a hamiltonian error of:0.146922648894448 and end up with 2.821199764725917 \n",
                        "The prior fidelity is: 0.9973849214509192 and the posterior fidelity is: 0.25462559482009156\n"
                    ]
                },
                {
                    "data": {
                        "image/png": "[encoded data removed]",
                        "text/plain": [
                            "<Figure size 1000x500 with 2 Axes>"
                        ]
                    },
                    "metadata": {},
                    "output_type": "display_data"
                }
            ],
            "source": [
                "bl.constraint_matrix(0);\n",
                "A = bl.block_control_matrix(bl.constraint_matrices[:(num_states:=5)])\n",
                "s,v = spectral_dec(A)\n",
                "candidate = v[:,-1][:preparationH.size].copy(); candidate /= np.linalg.norm(candidate)\n",
                "if np.linalg.norm(preparationH/np.linalg.norm(preparationH) + candidate) < np.linalg.norm(preparationH/np.linalg.norm(preparationH) - candidate):\n",
                "    candidate = -candidate  \n",
                "fig,ax = plt.subplots(1,2,figsize=(10,5))\n",
                "ax[0].stairs(preparationH/np.linalg.norm(preparationH),lw=3)\n",
                "ax[0].stairs(candidate)\n",
                "ax[1].plot(np.log(s),marker=\".\")\n",
                "print(f\"We have used {num_states} to build the constraint matrix.\")\n",
                "print(f\"We start with a hamiltonian error of:{np.linalg.norm(c_original_prior-preparationH)} and end up with {np.linalg.norm(candidate*np.linalg.norm(preparationH)-preparationH)} \")\n",
                "print(f\"The prior fidelity is: {state_fidelity(simple_purify_hamiltonian(basisH.vector_to_pauli_op(c_original_prior)),simple_purify_hamiltonian(basisH.vector_to_pauli_op(preparationH)))} and the posterior fidelity is: {state_fidelity(simple_purify_hamiltonian(basisH.vector_to_pauli_op(candidate*np.linalg.norm(preparationH))),simple_purify_hamiltonian(basisH.vector_to_pauli_op(preparationH)))}\")"
            ]
        },
        {
            "cell_type": "code",
            "execution_count": 33,
            "metadata": {},
            "outputs": [
                {
                    "name": "stdout",
                    "output_type": "stream",
                    "text": [
                        "(333,) (333, 333)\n",
                        "(333, 333) (333, 333) (333,)\n",
                        "[0, 1, 2]\n",
                        "6\n",
                        "why (222, 555)\n"
                    ]
                },
                {
                    "ename": "ValueError",
                    "evalue": "could not broadcast input array from shape (555,0) into shape (555,)",
                    "output_type": "error",
                    "traceback": [
                        "\u001b[0;31m---------------------------------------------------------------------------\u001b[0m",
                        "\u001b[0;31mValueError\u001b[0m                                Traceback (most recent call last)",
                        "Cell \u001b[0;32mIn[33], line 5\u001b[0m\n\u001b[1;32m      2\u001b[0m cb \u001b[39m=\u001b[39m minimization_problem\u001b[39m.\u001b[39mpop(\u001b[39m\"\u001b[39m\u001b[39mcallback\u001b[39m\u001b[39m\"\u001b[39m)\n\u001b[1;32m      3\u001b[0m \u001b[39m# minimization_problem[\"x0\"] *= 0\u001b[39;00m\n\u001b[1;32m      4\u001b[0m \u001b[39m# print(minimization_problem[\"x0\"].shape)\u001b[39;00m\n\u001b[0;32m----> 5\u001b[0m \u001b[39mprint\u001b[39m(cb(minimization_problem[\u001b[39m\"\u001b[39;49m\u001b[39mx0\u001b[39;49m\u001b[39m\"\u001b[39;49m]))\n\u001b[1;32m      6\u001b[0m \u001b[39mfrom\u001b[39;00m \u001b[39mscipy\u001b[39;00m\u001b[39m.\u001b[39;00m\u001b[39moptimize\u001b[39;00m \u001b[39mimport\u001b[39;00m minimize\n\u001b[1;32m      7\u001b[0m \u001b[39m# print(f\"We start with{cb(minimization_problem['x0'])}\")\u001b[39;00m\n",
                        "File \u001b[0;32m~/GH/Julien/gibbs_code/gibbs/learning/bayesian_learning.py:165\u001b[0m, in \u001b[0;36mBayesianLearning.minimization_problem.<locals>.<lambda>\u001b[0;34m(xx)\u001b[0m\n\u001b[1;32m    161\u001b[0m \u001b[39massert\u001b[39;00m x0\u001b[39m.\u001b[39msize \u001b[39m==\u001b[39m A\u001b[39m.\u001b[39mshape[\u001b[39m1\u001b[39m], \u001b[39mf\u001b[39m\u001b[39m\"\u001b[39m\u001b[39mSize of x0: \u001b[39m\u001b[39m{\u001b[39;00mx0\u001b[39m.\u001b[39msize\u001b[39m}\u001b[39;00m\u001b[39m and constraint matrix: \u001b[39m\u001b[39m{\u001b[39;00mA\u001b[39m.\u001b[39mshape\u001b[39m}\u001b[39;00m\u001b[39m don\u001b[39m\u001b[39m'\u001b[39m\u001b[39mt match\u001b[39m\u001b[39m\"\u001b[39m\n\u001b[1;32m    163\u001b[0m \u001b[39mprint\u001b[39m(x0\u001b[39m.\u001b[39mshape,A\u001b[39m.\u001b[39mshape,)\n\u001b[0;32m--> 165\u001b[0m callback \u001b[39m=\u001b[39m \u001b[39mlambda\u001b[39;00m xx : \u001b[39mself\u001b[39;49m\u001b[39m.\u001b[39;49m_cost_function(xx, A,indexes)\n\u001b[1;32m    167\u001b[0m \u001b[39mreturn\u001b[39;00m {\u001b[39m\"\u001b[39m\u001b[39mfun\u001b[39m\u001b[39m\"\u001b[39m: cost_function, \u001b[39m\"\u001b[39m\u001b[39mx0\u001b[39m\u001b[39m\"\u001b[39m:x0, \u001b[39m\"\u001b[39m\u001b[39mcallback\u001b[39m\u001b[39m\"\u001b[39m:callback}\n",
                        "File \u001b[0;32m~/GH/Julien/gibbs_code/gibbs/learning/bayesian_learning.py:144\u001b[0m, in \u001b[0;36mBayesianLearning._cost_function\u001b[0;34m(self, x, A, indexes)\u001b[0m\n\u001b[1;32m    141\u001b[0m xbar \u001b[39m=\u001b[39m np\u001b[39m.\u001b[39mconcatenate([\u001b[39mself\u001b[39m\u001b[39m.\u001b[39mcurrent_mean,\u001b[39m*\u001b[39m[\u001b[39mself\u001b[39m\u001b[39m.\u001b[39mcontrol_fields[i] \u001b[39mfor\u001b[39;00m i \u001b[39min\u001b[39;00m indexes[\u001b[39m1\u001b[39m:]]])\n\u001b[1;32m    143\u001b[0m loss \u001b[39m=\u001b[39m \u001b[39mself\u001b[39m\u001b[39m.\u001b[39m_cond_term(Gammaex,A,x)\n\u001b[0;32m--> 144\u001b[0m regularization \u001b[39m=\u001b[39m \u001b[39mself\u001b[39;49m\u001b[39m.\u001b[39;49m_distribution_term(\u001b[39mself\u001b[39;49m\u001b[39m.\u001b[39;49mpartial_cov(indexes),x,xbar)\n\u001b[1;32m    145\u001b[0m \u001b[39mreturn\u001b[39;00m loss, regularization\n",
                        "File \u001b[0;32m~/GH/Julien/gibbs_code/gibbs/learning/bayesian_learning.py:133\u001b[0m, in \u001b[0;36mBayesianLearning._distribution_term\u001b[0;34m(Gammax, x, xbar)\u001b[0m\n\u001b[1;32m    129\u001b[0m \u001b[39m@staticmethod\u001b[39m\n\u001b[1;32m    130\u001b[0m \u001b[39mdef\u001b[39;00m \u001b[39m_distribution_term\u001b[39m(Gammax,x,xbar):\n\u001b[1;32m    131\u001b[0m \u001b[39m    \u001b[39m\u001b[39m\"\"\"Returns the other term to minimize Lx(x-xbar).\u001b[39;00m\n\u001b[1;32m    132\u001b[0m \u001b[39m    \"\"\"\u001b[39;00m\n\u001b[0;32m--> 133\u001b[0m     L_inv \u001b[39m=\u001b[39m cholesky(Gammax,lower\u001b[39m=\u001b[39;49m\u001b[39mTrue\u001b[39;49;00m)\n\u001b[1;32m    134\u001b[0m     c \u001b[39m=\u001b[39m solve_triangular(L_inv,x\u001b[39m-\u001b[39mxbar)        \n\u001b[1;32m    135\u001b[0m     \u001b[39mreturn\u001b[39;00m np\u001b[39m.\u001b[39mlinalg\u001b[39m.\u001b[39mnorm(c) \u001b[39m*\u001b[39m\u001b[39m*\u001b[39m \u001b[39m2\u001b[39m\n",
                        "File \u001b[0;32m~/python_environements/test_easy_instalation/lib64/python3.10/site-packages/scipy/linalg/_decomp_cholesky.py:89\u001b[0m, in \u001b[0;36mcholesky\u001b[0;34m(a, lower, overwrite_a, check_finite)\u001b[0m\n\u001b[1;32m     45\u001b[0m \u001b[39mdef\u001b[39;00m \u001b[39mcholesky\u001b[39m(a, lower\u001b[39m=\u001b[39m\u001b[39mFalse\u001b[39;00m, overwrite_a\u001b[39m=\u001b[39m\u001b[39mFalse\u001b[39;00m, check_finite\u001b[39m=\u001b[39m\u001b[39mTrue\u001b[39;00m):\n\u001b[1;32m     46\u001b[0m \u001b[39m    \u001b[39m\u001b[39m\"\"\"\u001b[39;00m\n\u001b[1;32m     47\u001b[0m \u001b[39m    Compute the Cholesky decomposition of a matrix.\u001b[39;00m\n\u001b[1;32m     48\u001b[0m \n\u001b[0;32m   (...)\u001b[0m\n\u001b[1;32m     87\u001b[0m \n\u001b[1;32m     88\u001b[0m \u001b[39m    \"\"\"\u001b[39;00m\n\u001b[0;32m---> 89\u001b[0m     c, lower \u001b[39m=\u001b[39m _cholesky(a, lower\u001b[39m=\u001b[39;49mlower, overwrite_a\u001b[39m=\u001b[39;49moverwrite_a, clean\u001b[39m=\u001b[39;49m\u001b[39mTrue\u001b[39;49;00m,\n\u001b[1;32m     90\u001b[0m                          check_finite\u001b[39m=\u001b[39;49mcheck_finite)\n\u001b[1;32m     91\u001b[0m     \u001b[39mreturn\u001b[39;00m c\n",
                        "File \u001b[0;32m~/python_environements/test_easy_instalation/lib64/python3.10/site-packages/scipy/linalg/_decomp_cholesky.py:17\u001b[0m, in \u001b[0;36m_cholesky\u001b[0;34m(a, lower, overwrite_a, clean, check_finite)\u001b[0m\n\u001b[1;32m     13\u001b[0m \u001b[39mdef\u001b[39;00m \u001b[39m_cholesky\u001b[39m(a, lower\u001b[39m=\u001b[39m\u001b[39mFalse\u001b[39;00m, overwrite_a\u001b[39m=\u001b[39m\u001b[39mFalse\u001b[39;00m, clean\u001b[39m=\u001b[39m\u001b[39mTrue\u001b[39;00m,\n\u001b[1;32m     14\u001b[0m               check_finite\u001b[39m=\u001b[39m\u001b[39mTrue\u001b[39;00m):\n\u001b[1;32m     15\u001b[0m \u001b[39m    \u001b[39m\u001b[39m\"\"\"Common code for cholesky() and cho_factor().\"\"\"\u001b[39;00m\n\u001b[0;32m---> 17\u001b[0m     a1 \u001b[39m=\u001b[39m asarray_chkfinite(a) \u001b[39mif\u001b[39;00m check_finite \u001b[39melse\u001b[39;00m asarray(a)\n\u001b[1;32m     18\u001b[0m     a1 \u001b[39m=\u001b[39m atleast_2d(a1)\n\u001b[1;32m     20\u001b[0m     \u001b[39m# Dimension check\u001b[39;00m\n",
                        "File \u001b[0;32m~/python_environements/test_easy_instalation/lib64/python3.10/site-packages/numpy/lib/function_base.py:625\u001b[0m, in \u001b[0;36masarray_chkfinite\u001b[0;34m(a, dtype, order)\u001b[0m\n\u001b[1;32m    561\u001b[0m \u001b[39m@set_module\u001b[39m(\u001b[39m'\u001b[39m\u001b[39mnumpy\u001b[39m\u001b[39m'\u001b[39m)\n\u001b[1;32m    562\u001b[0m \u001b[39mdef\u001b[39;00m \u001b[39masarray_chkfinite\u001b[39m(a, dtype\u001b[39m=\u001b[39m\u001b[39mNone\u001b[39;00m, order\u001b[39m=\u001b[39m\u001b[39mNone\u001b[39;00m):\n\u001b[1;32m    563\u001b[0m \u001b[39m    \u001b[39m\u001b[39m\"\"\"Convert the input to an array, checking for NaNs or Infs.\u001b[39;00m\n\u001b[1;32m    564\u001b[0m \n\u001b[1;32m    565\u001b[0m \u001b[39m    Parameters\u001b[39;00m\n\u001b[0;32m   (...)\u001b[0m\n\u001b[1;32m    623\u001b[0m \n\u001b[1;32m    624\u001b[0m \u001b[39m    \"\"\"\u001b[39;00m\n\u001b[0;32m--> 625\u001b[0m     a \u001b[39m=\u001b[39m asarray(a, dtype\u001b[39m=\u001b[39;49mdtype, order\u001b[39m=\u001b[39;49morder)\n\u001b[1;32m    626\u001b[0m     \u001b[39mif\u001b[39;00m a\u001b[39m.\u001b[39mdtype\u001b[39m.\u001b[39mchar \u001b[39min\u001b[39;00m typecodes[\u001b[39m'\u001b[39m\u001b[39mAllFloat\u001b[39m\u001b[39m'\u001b[39m] \u001b[39mand\u001b[39;00m \u001b[39mnot\u001b[39;00m np\u001b[39m.\u001b[39misfinite(a)\u001b[39m.\u001b[39mall():\n\u001b[1;32m    627\u001b[0m         \u001b[39mraise\u001b[39;00m \u001b[39mValueError\u001b[39;00m(\n\u001b[1;32m    628\u001b[0m             \u001b[39m\"\u001b[39m\u001b[39marray must not contain infs or NaNs\u001b[39m\u001b[39m\"\u001b[39m)\n",
                        "\u001b[0;31mValueError\u001b[0m: could not broadcast input array from shape (555,0) into shape (555,)"
                    ]
                }
            ],
            "source": [
                "minimization_problem = bl.minimization_problem([0,1,2])\n",
                "cb = minimization_problem.pop(\"callback\")\n",
                "# minimization_problem[\"x0\"] *= 0\n",
                "# print(minimization_problem[\"x0\"].shape)\n",
                "print(cb(minimization_problem[\"x0\"]))\n",
                "from scipy.optimize import minimize\n",
                "# print(f\"We start with{cb(minimization_problem['x0'])}\")\n",
                "def callback(x):\n",
                "    print(cb(x))\n",
                "\n",
                "result = minimize(**minimization_problem,options={\"maxiter\":1e5,\"xrtol\":1e-3,\"disp\":True},callback=None)\n",
                "print(result)"
            ]
        },
        {
            "cell_type": "code",
            "execution_count": null,
            "metadata": {},
            "outputs": [],
            "source": [
                "# update = bl.update_mean()\n",
                "update = result.x\n",
                "cov = bl.update_cov(update)"
            ]
        },
        {
            "cell_type": "code",
            "execution_count": null,
            "metadata": {},
            "outputs": [],
            "source": [
                "# fig,ax = plt.subplots(1,2,figsize=(15,5))\n",
                "# ax[0].stairs(gibbs_result_list[0].cfaulties[-1],label=\"preparation\")\n",
                "# ax[0].stairs(c_original_prior,label = \"prior\")\n",
                "# ax[0].stairs(update[:c_original_prior.size],label=\"posterior\")\n",
                "# ax[0].legend(loc = \"lower right\")\n",
                "# width = 0.9\n",
                "# ax[1].bar(np.arange(bl.size),np.abs(gibbs_result_list[0].cfaulties[-1]-c_original_prior),width,label=\"prior error\",lw=2,fill=True)\n",
                "# ax[1].bar(np.arange(bl.size),np.abs(gibbs_result_list[0].cfaulties[-1]-update[:c_original_prior.size]),0.6*width,label=\"Posterior Error\",fill=True)\n",
                "# ax[1].stairs(cov.diagonal()[:c_original_prior.size],np.arange(bl.size+1)-1/2,label=\"std\",color=\"red\")\n",
                "# ax[1].hlines([prep_noise],[0],[80])\n",
                "# ax[1].legend()\n",
                "# # ax[2].stairs(update,label=\"posterior\")\n",
                "# # ax[2].stairs(cov.diagonal(),label=\"posterior std\")\n",
                "# # ax[2].vlines([bl.size],[-1],[0.4],color=\"black\",linestyles=\"dotted\")\n",
                "# # ax[2].legend()\n",
                "\n",
                "print(f\"We start with a hamiltonian error of:{np.linalg.norm(c_original_prior-preparationH):.5f} and end up with {np.linalg.norm(update[:c_original_prior.size]-preparationH):.5f} \")\n",
                "print(f\"The prior fidelity is: {state_fidelity(simple_purify_hamiltonian(basisH.vector_to_pauli_op(c_original_prior)),preparation_state):.5f} and the posterior fidelity is: {state_fidelity(simple_purify_hamiltonian(basisH.vector_to_pauli_op(update[:c_original_prior.size])),preparation_state):.5f}\")\n",
                "print(f\"This means we would have estimated our state to have a fidelity of {state_fidelity(simple_purify_hamiltonian(basisH.vector_to_pauli_op(c_original_prior)),simple_purify_hamiltonian(basisH.vector_to_pauli_op(update[:c_original_prior.size]))):.5f} when it actually had a fidelity of {state_fidelity(simple_purify_hamiltonian(basisH.vector_to_pauli_op(preparationH)),simple_purify_hamiltonian(basisH.vector_to_pauli_op(c_original_prior)) )}\")"
            ]
        },
        {
            "cell_type": "code",
            "execution_count": null,
            "metadata": {},
            "outputs": [],
            "source": [
                "import plotly.express as px\n",
                "import plotly.graph_objects as go\n",
                "\n",
                "local_sizes = np.array([0]+[KLocalPauliBasis(i+1,4).size for i in range(3)])\n",
                "local_positions = local_sizes[1:]-local_sizes[:-1]\n",
                "local_labels = np.concatenate([[f\"{i+1}-local\"]*local_positions[i] for i in range(local_positions.size)])\n",
                "data = {\n",
                "    \"Pauli Basis Label\":KLocalPauliBasis(3,4).paulis_list,\n",
                "    \"Pauli Basis\":np.arange(KLocalPauliBasis(3,4).size),\n",
                "    \"locality\":local_labels,\n",
                "    \"prepH\":np.real(gibbs_result_list[0].cfaulties[-1]),\n",
                "    \"priorH\":np.real(c_original_prior),\n",
                "    \"posteriorH\":update[:c_original_prior.size],\n",
                "    \"Posterior Std\": np.real(cov.diagonal()[:c_original_prior.size])\n",
                "}\n",
                "data[\"Prior Error\"] = np.abs(data[\"priorH\"]-data[\"prepH\"])\n",
                "data[\"Posterior Error\"] = np.abs(data[\"posteriorH\"]-data[\"prepH\"])\n",
                "\n",
                "# fig = px.bar(data, x='paulibasis', y=['prepH','priorH'],barmode=\"overlay\")\n",
                "fig = px.bar(data, x='Pauli Basis', y=[\"Prior Error\",\"Posterior Error\"],color_discrete_sequence=[\"blue\", \"red\"],\n",
                "             barmode=\"overlay\", hover_name=\"Pauli Basis Label\"\n",
                "             )\n",
                "fig.add_trace(\n",
                "    go.Scatter(\n",
                "        x=data[\"Pauli Basis\"]-0.5,\n",
                "        y=data[\"Posterior Std\"],\n",
                "        mode=\"lines\",\n",
                "        line={\"shape\": 'hv',\"color\":\"black\"},\n",
                "        name=\"Posterior Std\",\n",
                "        showlegend=True)\n",
                ")\n",
                "fig.update_layout(\n",
                "    xaxis = dict(\n",
                "        tickvals =local_sizes[:-1]-0.5,\n",
                "        ticktext = [\"1-local\",\"2-local\",\"3-local\"],\n",
                "        ticks=\"outside\",\n",
                "        showgrid=True,\n",
                "        tickson=\"boundaries\",\n",
                "        ticklen=5),\n",
                "    title=\"Prior vs Posterior Error\",\n",
                "    xaxis_title=\"Pauli Basis\",\n",
                "    yaxis_title=\"Reconstruction Error\",\n",
                "    legend_title=\"\",\n",
                "    font={\"size\":18,\"color\":\"black\"},\n",
                "    legend={\"yanchor\":\"top\",\"y\":0.99,\"xanchor\":\"right\",\"x\":0.99}\n",
                ")\n",
                "fig.show()"
            ]
        }
    ],
    "metadata": {
        "kernelspec": {
            "display_name": "gibbsvenv",
            "language": "python",
            "name": "python3"
        },
        "language_info": {
            "codemirror_mode": {
                "name": "ipython",
                "version": 3
            },
            "file_extension": ".py",
            "mimetype": "text/x-python",
            "name": "python",
            "nbconvert_exporter": "python",
            "pygments_lexer": "ipython3",
            "version": "3.10.9"
        },
        "orig_nbformat": 4,
        "vscode": {
            "interpreter": {
                "hash": "dd6fc153763b8e9ec78bec65332e4837868b6da362e5e54c610a9825559f097e"
            }
        }
    },
    "nbformat": 4,
    "nbformat_minor": 2
}
