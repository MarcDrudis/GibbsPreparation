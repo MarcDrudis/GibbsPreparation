{
 "cells": [
  {
   "cell_type": "code",
   "execution_count": 45,
   "metadata": {},
   "outputs": [
    {
     "name": "stdout",
     "output_type": "stream",
     "text": [
      "The autoreload extension is already loaded. To reload it, use:\n",
      "  %reload_ext autoreload\n"
     ]
    }
   ],
   "source": [
    "from gibbs.dataclass import GibbsResult\n",
    "import matplotlib.pyplot as plt\n",
    "import numpy as np\n",
    "from gibbs.learning.bayesian_learning import BayesianLearning\n",
    "from gibbs.learning.constraint_matrix import ConstraintMatrixFactory\n",
    "from qiskit.quantum_info import Statevector\n",
    "from gibbs.learning.klocal_pauli_basis import KLocalPauliBasis\n",
    "from scipy.linalg import block_diag\n",
    "from scipy.sparse import bmat\n",
    "\n",
    "from gibbs.utils import number_of_elements, simple_purify_hamiltonian\n",
    "# plt.rcParams['text.usetex'] = True\n",
    "\n",
    "%load_ext autoreload\n",
    "%autoreload 2"
   ]
  },
  {
   "cell_type": "code",
   "execution_count": 46,
   "metadata": {},
   "outputs": [],
   "source": [
    "n=4\n",
    "k=2\n",
    "nfields = 5\n",
    "basisH = KLocalPauliBasis(k,n,False)\n",
    "c_original = np.zeros(basisH.size); c_original[10:20]=1\n",
    "control_fields = [np.zeros(basisH.size) for i in range(nfields+1)]\n",
    "for i,cf in enumerate(control_fields[1:]):\n",
    "    cf[i*5:(i+1)*5] = -0.25\n",
    "\n",
    "error = np.zeros(basisH.size); c_original[25:30]=-0.4\n",
    "cfaulty = c_original + error\n",
    "states = [simple_purify_hamiltonian(basisH.vector_to_pauli_op(cfaulty + cfield)) for cfield in control_fields]"
   ]
  },
  {
   "cell_type": "code",
   "execution_count": 47,
   "metadata": {},
   "outputs": [],
   "source": [
    "bl = BayesianLearning(\n",
    "    states=states,\n",
    "    control_fields= control_fields,\n",
    "    constraint_matrix_factory= ConstraintMatrixFactory(n,k,k),\n",
    "    prior_mean=c_original*0,\n",
    "    prior_c_cov=np.eye(c_original.shape[0]),\n",
    "    prior_cfield_cov=np.eye(c_original.shape[0])*1e-5,\n",
    "    sampling_std= 1e-5,   \n",
    ")"
   ]
  },
  {
   "cell_type": "code",
   "execution_count": 48,
   "metadata": {},
   "outputs": [],
   "source": [
    "assert bl.constraint_matrices is None, \"The constraint matrices have already been built\"\n",
    "bl.constraint_matrix(0);"
   ]
  },
  {
   "cell_type": "code",
   "execution_count": 49,
   "metadata": {},
   "outputs": [],
   "source": [
    "# Lx = np.linalg.cholesky(block_diag(bl.current_inv_cov, bl.cfield_inv_cov))\n",
    "# constraint_matrix = bmat(\n",
    "#             [\n",
    "#                 [   bl.constraint_matrix(0),\n",
    "#                     None\n",
    "#                 ],\n",
    "#                 [\n",
    "#                     bl.constraint_matrix(1),\n",
    "#                     bl.constraint_matrix(1)\n",
    "#                 ],\n",
    "#             ]\n",
    "#         )"
   ]
  },
  {
   "cell_type": "code",
   "execution_count": 50,
   "metadata": {},
   "outputs": [],
   "source": [
    "# plt.stairs(c_original)\n",
    "# # plt.stairs(c_original+control_fields[1])\n",
    "# plt.stairs(cfaulty)\n",
    "# print(bl._cost_function(x=np.append(c_original,control_fields[1]),cfield_index = 1,A=constraint_matrix,Lx=Lx))\n",
    "# print(bl._cost_function(x=np.append(cfaulty,control_fields[1]),cfield_index = 1,A=constraint_matrix,Lx=Lx))"
   ]
  },
  {
   "cell_type": "code",
   "execution_count": 51,
   "metadata": {},
   "outputs": [],
   "source": [
    "# from scipy.optimize import minimize\n",
    "# def func(x):\n",
    "#     cost =  bl._cost_function(x=x,cfield_index = 1,A=constraint_matrix,Lx=Lx)\n",
    "#     # print(cost)\n",
    "#     return cost\n",
    "# # result = minimize(func,np.append(bl.current_mean,control_fields[1]),options={\"maxiter\":1e5,\"xrtol\":1e-5})"
   ]
  },
  {
   "cell_type": "code",
   "execution_count": 52,
   "metadata": {},
   "outputs": [],
   "source": [
    "# plt.stairs(c_original,label = \"prior\")\n",
    "# plt.stairs(result.x[:c_original.size],label = \"guess\")\n",
    "# plt.stairs(cfaulty,label = \"preparation\")\n",
    "# plt.legend()"
   ]
  },
  {
   "cell_type": "code",
   "execution_count": null,
   "metadata": {},
   "outputs": [],
   "source": []
  },
  {
   "cell_type": "code",
   "execution_count": null,
   "metadata": {},
   "outputs": [],
   "source": []
  },
  {
   "cell_type": "code",
   "execution_count": 53,
   "metadata": {},
   "outputs": [
    {
     "name": "stdout",
     "output_type": "stream",
     "text": [
      "The time it takes for minimize is: 38.88454580307007 for the rest: 0.07350730895996094\n",
      "The time it takes for minimize is: 254.72004222869873 for the rest: 0.048933982849121094\n",
      "The time it takes for minimize is: 45.35547494888306 for the rest: 0.08216190338134766\n",
      "The time it takes for minimize is: 45.49836802482605 for the rest: 0.0585479736328125\n"
     ]
    }
   ],
   "source": [
    "for i in range(1,nfields):\n",
    "    update = bl.update_mean(i)\n",
    "    cov = bl.update_cov(update,i)\n",
    "    bl.current_mean = update[:update.size//2]\n",
    "    bl.total_cov = cov"
   ]
  },
  {
   "cell_type": "code",
   "execution_count": 54,
   "metadata": {},
   "outputs": [
    {
     "data": {
      "text/plain": [
       "<matplotlib.legend.Legend at 0x7fce80ae4430>"
      ]
     },
     "execution_count": 54,
     "metadata": {},
     "output_type": "execute_result"
    },
    {
     "data": {
      "image/png": "[encoded data removed]",
      "text/plain": [
       "<Figure size 640x480 with 1 Axes>"
      ]
     },
     "metadata": {},
     "output_type": "display_data"
    }
   ],
   "source": [
    "plt.stairs(update[:update.size//2],label=\"update\")\n",
    "plt.stairs(c_original,label=\"original\")\n",
    "plt.stairs(cfaulty,label=\"prep\")\n",
    "# plt.stairs(cfaulty+control_fields[2],label=\"control prep\")\n",
    "plt.stairs(cov.diagonal()[:cov.diagonal().size//2])\n",
    "plt.legend(loc=\"lower right\")"
   ]
  },
  {
   "cell_type": "code",
   "execution_count": 55,
   "metadata": {},
   "outputs": [
    {
     "data": {
      "text/plain": [
       "array([ 0.01463502-1.54737334e-14j, -0.04699775-9.93302662e-15j,\n",
       "        0.00589566-5.41233725e-15j,  0.02270861+2.06897869e-15j,\n",
       "       -0.00708753+2.04003481e-15j,  0.04084529-7.23726634e-15j,\n",
       "        0.00281296-7.75830370e-15j,  0.01298739-1.21314960e-14j,\n",
       "        0.01192938+1.17859063e-14j,  0.00685603-5.95314408e-15j,\n",
       "       -0.22478027+2.89524758e-15j, -0.18631402-2.16901368e-15j,\n",
       "       -0.07382188+2.48412402e-15j, -0.07878192-1.11022302e-15j,\n",
       "       -0.11551533+6.10622664e-15j, -0.07274094+1.63757896e-15j,\n",
       "       -0.10919537+4.99600361e-15j, -0.10860528+3.60822483e-16j,\n",
       "       -0.06675362+7.09848846e-15j, -0.13928339-6.83481050e-16j,\n",
       "        0.01833883-7.63278329e-15j,  0.00799491-2.52575738e-15j,\n",
       "       -0.00880837-1.58206781e-15j, -0.07085741+1.66533454e-15j,\n",
       "       -0.02374072+2.15105711e-16j,  0.02915819-7.70217223e-16j,\n",
       "        0.15866363-4.10782519e-15j,  0.04417887-5.12784259e-15j,\n",
       "        0.1056157 -1.63064007e-15j,  0.0381804 -2.34174430e-14j,\n",
       "       -0.03300807+1.16920362e-15j, -0.02179115-4.01761957e-15j,\n",
       "        0.01327121+1.12630508e-14j,  0.01712023-3.30291350e-15j,\n",
       "        0.0474085 +2.52020544e-15j,  0.00162398-1.91009309e-14j,\n",
       "        0.021758  -2.06819123e-16j, -0.00421352-1.66421220e-15j,\n",
       "       -0.22673798-9.58604527e-16j])"
      ]
     },
     "execution_count": 55,
     "metadata": {},
     "output_type": "execute_result"
    }
   ],
   "source": [
    "update[:update.size//2]-c_original"
   ]
  }
 ],
 "metadata": {
  "kernelspec": {
   "display_name": "test_easy_instalation",
   "language": "python",
   "name": "python3"
  },
  "language_info": {
   "codemirror_mode": {
    "name": "ipython",
    "version": 3
   },
   "file_extension": ".py",
   "mimetype": "text/x-python",
   "name": "python",
   "nbconvert_exporter": "python",
   "pygments_lexer": "ipython3",
   "version": "3.10.9"
  },
  "orig_nbformat": 4,
  "vscode": {
   "interpreter": {
    "hash": "a99669db2c788b5eb6a3f1de1af58ba979ab8e9c6ee57e40d99f496c2ca91e4c"
   }
  }
 },
 "nbformat": 4,
 "nbformat_minor": 2
}
