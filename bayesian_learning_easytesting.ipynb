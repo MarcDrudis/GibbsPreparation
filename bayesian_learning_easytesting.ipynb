{
 "cells": [
  {
   "cell_type": "code",
   "execution_count": 99,
   "metadata": {},
   "outputs": [
    {
     "name": "stdout",
     "output_type": "stream",
     "text": [
      "The autoreload extension is already loaded. To reload it, use:\n",
      "  %reload_ext autoreload\n"
     ]
    }
   ],
   "source": [
    "from gibbs.dataclass import GibbsResult\n",
    "import matplotlib.pyplot as plt\n",
    "import numpy as np\n",
    "from gibbs.learning.bayesian_learning import BayesianLearning\n",
    "from gibbs.learning.constraint_matrix import ConstraintMatrixFactory\n",
    "from qiskit.quantum_info import Statevector\n",
    "from gibbs.learning.klocal_pauli_basis import KLocalPauliBasis\n",
    "from scipy.linalg import block_diag\n",
    "from scipy.sparse import bmat\n",
    "\n",
    "from gibbs.utils import number_of_elements, simple_purify_hamiltonian\n",
    "# plt.rcParams['text.usetex'] = True\n",
    "\n",
    "%load_ext autoreload\n",
    "%autoreload 2"
   ]
  },
  {
   "cell_type": "code",
   "execution_count": 100,
   "metadata": {},
   "outputs": [],
   "source": [
    "n=4\n",
    "k=2\n",
    "nfields = 5\n",
    "basisH = KLocalPauliBasis(k,n,False)\n",
    "c_original = np.zeros(basisH.size); c_original[10:20]=1\n",
    "control_fields = [np.zeros(basisH.size) for i in range(nfields+1)]\n",
    "for i,cf in enumerate(control_fields[1:]):\n",
    "    cf[i*5:(i+1)*5] = -0.25\n",
    "cfaulty = c_original + np.random.rand(basisH.size)*0.1\n",
    "states = [simple_purify_hamiltonian(basisH.vector_to_pauli_op(cfaulty + cfield)) for cfield in control_fields]"
   ]
  },
  {
   "cell_type": "code",
   "execution_count": 101,
   "metadata": {},
   "outputs": [],
   "source": [
    "bl = BayesianLearning(\n",
    "    states=states,\n",
    "    control_fields= control_fields,\n",
    "    constraint_matrix_factory= ConstraintMatrixFactory(n,k,k),\n",
    "    prior_mean=c_original,\n",
    "    prior_c_cov=np.eye(c_original.shape[0]),\n",
    "    prior_cfield_cov=np.eye(c_original.shape[0])*1e-3,\n",
    "    sampling_std= 1e-2,   \n",
    ")"
   ]
  },
  {
   "cell_type": "code",
   "execution_count": 102,
   "metadata": {},
   "outputs": [],
   "source": [
    "assert bl.constraint_matrices is None, \"The constraint matrices have already been built\"\n",
    "bl.constraint_matrix(0);"
   ]
  },
  {
   "cell_type": "code",
   "execution_count": 103,
   "metadata": {},
   "outputs": [],
   "source": [
    "# Lx = np.linalg.cholesky(block_diag(bl.current_inv_cov, bl.cfield_inv_cov))\n",
    "# constraint_matrix = bmat(\n",
    "#             [\n",
    "#                 [   bl.constraint_matrix(0),\n",
    "#                     None\n",
    "#                 ],\n",
    "#                 [\n",
    "#                     bl.constraint_matrix(1),\n",
    "#                     bl.constraint_matrix(1)\n",
    "#                 ],\n",
    "#             ]\n",
    "#         )"
   ]
  },
  {
   "cell_type": "code",
   "execution_count": 104,
   "metadata": {},
   "outputs": [
    {
     "name": "stdout",
     "output_type": "stream",
     "text": [
      "0.15501924518471902\n",
      "0.36601830980517747\n"
     ]
    },
    {
     "data": {
      "image/png": "[encoded data removed]",
      "text/plain": [
       "<Figure size 640x480 with 1 Axes>"
      ]
     },
     "metadata": {},
     "output_type": "display_data"
    }
   ],
   "source": [
    "plt.stairs(c_original)\n",
    "# plt.stairs(c_original+control_fields[1])\n",
    "plt.stairs(cfaulty)\n",
    "print(bl._cost_function(x=np.append(c_original,control_fields[1]),cfield_index = 1,A=constraint_matrix,Lx=Lx))\n",
    "print(bl._cost_function(x=np.append(cfaulty,control_fields[1]),cfield_index = 1,A=constraint_matrix,Lx=Lx))"
   ]
  },
  {
   "cell_type": "code",
   "execution_count": 105,
   "metadata": {},
   "outputs": [],
   "source": [
    "# from scipy.optimize import minimize\n",
    "# def func(x):\n",
    "#     cost =  bl._cost_function(x=x,cfield_index = 1,A=constraint_matrix,Lx=Lx)\n",
    "#     print(cost)\n",
    "#     return cost\n",
    "# result = minimize(func,np.append(cfaulty,control_fields[1]),options={\"maxiter\":1e5,\"xrtol\":1e-5})"
   ]
  },
  {
   "cell_type": "code",
   "execution_count": 106,
   "metadata": {},
   "outputs": [],
   "source": [
    "# plt.stairs(c_original,label = \"prior\")\n",
    "# plt.stairs(result.x[:c_original.size],label = \"guess\")\n",
    "# plt.stairs(cfaulty,label = \"preparation\")\n",
    "# plt.legend()"
   ]
  },
  {
   "cell_type": "code",
   "execution_count": null,
   "metadata": {},
   "outputs": [],
   "source": []
  },
  {
   "cell_type": "code",
   "execution_count": null,
   "metadata": {},
   "outputs": [],
   "source": []
  },
  {
   "cell_type": "code",
   "execution_count": 107,
   "metadata": {},
   "outputs": [],
   "source": [
    "for i in range(1,3):\n",
    "    update = bl.update_mean(i)\n",
    "    cov = bl.update_cov(update,i)\n",
    "    bl.current_mean = update[:update.size//2]\n",
    "    bl.current_cov = cov[:cov.shape[0]//2,:cov.shape[1]//2]"
   ]
  },
  {
   "cell_type": "code",
   "execution_count": null,
   "metadata": {},
   "outputs": [
    {
     "data": {
      "text/plain": [
       "<matplotlib.legend.Legend at 0x7f77357a4a90>"
      ]
     },
     "execution_count": 52,
     "metadata": {},
     "output_type": "execute_result"
    },
    {
     "data": {
      "image/png": "[encoded data removed]",
      "text/plain": [
       "<Figure size 640x480 with 1 Axes>"
      ]
     },
     "metadata": {},
     "output_type": "display_data"
    }
   ],
   "source": [
    "plt.stairs(update[:update.size//2],label=\"update\")\n",
    "plt.stairs(c_original,label=\"original\")\n",
    "plt.stairs(cfaulty,label=\"prep\")\n",
    "plt.stairs(cfaulty+control_fields[2],label=\"control prep\")\n",
    "# plt.stairs(cov.diagonal()[:cov.diagonal().size])\n",
    "plt.legend(loc=\"lower right\")"
   ]
  },
  {
   "cell_type": "code",
   "execution_count": null,
   "metadata": {},
   "outputs": [
    {
     "data": {
      "text/plain": [
       "array([0., 0., 0., 0., 0., 0., 0., 0., 0., 0., 0., 0., 0., 0., 0., 0., 0.,\n",
       "       0., 0., 0., 0., 0., 0., 0., 0., 0., 0., 0., 0., 0., 0., 0., 0., 0.,\n",
       "       0., 0., 0., 0., 0.])"
      ]
     },
     "execution_count": 53,
     "metadata": {},
     "output_type": "execute_result"
    }
   ],
   "source": [
    "update[:update.size//2]-c_original"
   ]
  }
 ],
 "metadata": {
  "kernelspec": {
   "display_name": "test_easy_instalation",
   "language": "python",
   "name": "python3"
  },
  "language_info": {
   "codemirror_mode": {
    "name": "ipython",
    "version": 3
   },
   "file_extension": ".py",
   "mimetype": "text/x-python",
   "name": "python",
   "nbconvert_exporter": "python",
   "pygments_lexer": "ipython3",
   "version": "3.10.9"
  },
  "orig_nbformat": 4,
  "vscode": {
   "interpreter": {
    "hash": "a99669db2c788b5eb6a3f1de1af58ba979ab8e9c6ee57e40d99f496c2ca91e4c"
   }
  }
 },
 "nbformat": 4,
 "nbformat_minor": 2
}
