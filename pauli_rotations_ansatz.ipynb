{
 "cells": [
  {
   "cell_type": "code",
   "execution_count": 2,
   "metadata": {},
   "outputs": [],
   "source": [
    "import sys\n",
    "sys.path.append(\"~/GH/Julien/gibbs_state_preparation/\")\n",
    "\n",
    "from qiskit.circuit import QuantumCircuit, ParameterVector,QuantumRegister\n",
    "from qiskit.circuit.library import RXGate, RYGate, RZGate\n",
    "import numpy as np\n",
    "from pauli_rotation import RPGate\n",
    "%load_ext autoreload\n",
    "%autoreload 2"
   ]
  },
  {
   "cell_type": "code",
   "execution_count": 42,
   "metadata": {},
   "outputs": [],
   "source": [
    "pauli = \"XYZIIXZI\"\n",
    "# N = len(pauli)\n",
    "# qc = QuantumCircuit(N)\n",
    "# basis_rotation = {\"I\": None,\"X\": RYGate(np.pi/2),\"Y\": RXGate(np.pi/2),\"Z\": None}\n",
    "# for i,p in enumerate(pauli):\n",
    "#     if basis_rotation[p]:\n",
    "#         qc.append(basis_rotation[p],i)\n"
   ]
  },
  {
   "cell_type": "code",
   "execution_count": 43,
   "metadata": {},
   "outputs": [
    {
     "name": "stdout",
     "output_type": "stream",
     "text": [
      "6\n"
     ]
    },
    {
     "data": {
      "text/html": [
       "<pre style=\"word-wrap: normal;white-space: pre;background: #fff0;line-height: 1.1;font-family: &quot;Courier New&quot;,Courier,monospace\">     ┌─────────┐                                                            »\n",
       "q_0: ┤ Ry(π/2) ├──■──────────────────────────────────────────────────────■──»\n",
       "     ├─────────┤  │                                                      │  »\n",
       "q_1: ┤ Rx(π/2) ├──┼────■────────────────────────────────────────────■────┼──»\n",
       "     └─────────┘  │    │                                            │    │  »\n",
       "q_2: ─────────────┼────┼────■───────────────────────■───────────────┼────┼──»\n",
       "                  │    │    │                       │               │    │  »\n",
       "q_3: ─────────────┼────┼────┼───────────────────────┼───────────────┼────┼──»\n",
       "                  │    │    │                       │               │    │  »\n",
       "q_4: ─────────────┼────┼────┼───────────────────────┼───────────────┼────┼──»\n",
       "     ┌─────────┐  │    │    │                       │  ┌─────────┐  │    │  »\n",
       "q_5: ┤ Ry(π/2) ├──┼────┼────┼────■─────────────■────┼──┤ Ry(π/2) ├──┼────┼──»\n",
       "     └─────────┘┌─┴─┐┌─┴─┐┌─┴─┐┌─┴─┐┌───────┐┌─┴─┐┌─┴─┐└─────────┘┌─┴─┐┌─┴─┐»\n",
       "q_6: ───────────┤ X ├┤ X ├┤ X ├┤ X ├┤ Rz(1) ├┤ X ├┤ X ├───────────┤ X ├┤ X ├»\n",
       "                └───┘└───┘└───┘└───┘└───────┘└───┘└───┘           └───┘└───┘»\n",
       "q_7: ───────────────────────────────────────────────────────────────────────»\n",
       "                                                                            »\n",
       "«     ┌─────────┐\n",
       "«q_0: ┤ Ry(π/2) ├\n",
       "«     ├─────────┤\n",
       "«q_1: ┤ Rx(π/2) ├\n",
       "«     └─────────┘\n",
       "«q_2: ───────────\n",
       "«                \n",
       "«q_3: ───────────\n",
       "«                \n",
       "«q_4: ───────────\n",
       "«                \n",
       "«q_5: ───────────\n",
       "«                \n",
       "«q_6: ───────────\n",
       "«                \n",
       "«q_7: ───────────\n",
       "«                </pre>"
      ],
      "text/plain": [
       "     ┌─────────┐                                                            »\n",
       "q_0: ┤ Ry(π/2) ├──■──────────────────────────────────────────────────────■──»\n",
       "     ├─────────┤  │                                                      │  »\n",
       "q_1: ┤ Rx(π/2) ├──┼────■────────────────────────────────────────────■────┼──»\n",
       "     └─────────┘  │    │                                            │    │  »\n",
       "q_2: ─────────────┼────┼────■───────────────────────■───────────────┼────┼──»\n",
       "                  │    │    │                       │               │    │  »\n",
       "q_3: ─────────────┼────┼────┼───────────────────────┼───────────────┼────┼──»\n",
       "                  │    │    │                       │               │    │  »\n",
       "q_4: ─────────────┼────┼────┼───────────────────────┼───────────────┼────┼──»\n",
       "     ┌─────────┐  │    │    │                       │  ┌─────────┐  │    │  »\n",
       "q_5: ┤ Ry(π/2) ├──┼────┼────┼────■─────────────■────┼──┤ Ry(π/2) ├──┼────┼──»\n",
       "     └─────────┘┌─┴─┐┌─┴─┐┌─┴─┐┌─┴─┐┌───────┐┌─┴─┐┌─┴─┐└─────────┘┌─┴─┐┌─┴─┐»\n",
       "q_6: ───────────┤ X ├┤ X ├┤ X ├┤ X ├┤ Rz(1) ├┤ X ├┤ X ├───────────┤ X ├┤ X ├»\n",
       "                └───┘└───┘└───┘└───┘└───────┘└───┘└───┘           └───┘└───┘»\n",
       "q_7: ───────────────────────────────────────────────────────────────────────»\n",
       "                                                                            »\n",
       "«     ┌─────────┐\n",
       "«q_0: ┤ Ry(π/2) ├\n",
       "«     ├─────────┤\n",
       "«q_1: ┤ Rx(π/2) ├\n",
       "«     └─────────┘\n",
       "«q_2: ───────────\n",
       "«                \n",
       "«q_3: ───────────\n",
       "«                \n",
       "«q_4: ───────────\n",
       "«                \n",
       "«q_5: ───────────\n",
       "«                \n",
       "«q_6: ───────────\n",
       "«                \n",
       "«q_7: ───────────\n",
       "«                "
      ]
     },
     "execution_count": 43,
     "metadata": {},
     "output_type": "execute_result"
    }
   ],
   "source": [
    "qc = QuantumCircuit(len(pauli))\n",
    "qc.append(RPGate(pauli,1),range(len(pauli)))\n",
    "qc.decompose().draw()"
   ]
  }
 ],
 "metadata": {
  "kernelspec": {
   "display_name": "Python 3.10.7 ('JulienVarQITE')",
   "language": "python",
   "name": "python3"
  },
  "language_info": {
   "codemirror_mode": {
    "name": "ipython",
    "version": 3
   },
   "file_extension": ".py",
   "mimetype": "text/x-python",
   "name": "python",
   "nbconvert_exporter": "python",
   "pygments_lexer": "ipython3",
   "version": "3.10.7"
  },
  "orig_nbformat": 4,
  "vscode": {
   "interpreter": {
    "hash": "e0c64f3bcdec0072c9c7dd86851c5f64bc0ac47e1b8f552608c742c012e3e497"
   }
  }
 },
 "nbformat": 4,
 "nbformat_minor": 2
}
