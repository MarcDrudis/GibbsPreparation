{
 "cells": [
  {
   "cell_type": "code",
   "execution_count": 1,
   "id": "8c60ec46",
   "metadata": {},
   "outputs": [],
   "source": [
    "import scipy\n",
    "import numpy as np\n",
    "import matplotlib.pyplot as plt\n",
    "from qiskit.algorithms.optimizers import COBYLA\n",
    "from qiskit.circuit import Parameter, QuantumCircuit\n",
    "from qiskit.circuit.library import EfficientSU2\n",
    "from qiskit.opflow import PauliSumOp\n",
    "from qiskit.quantum_info import Statevector\n",
    "from surfer.gradient import ReverseGradient\n",
    "from surfer.qfi import ReverseQFI"
   ]
  },
  {
   "cell_type": "code",
   "execution_count": 2,
   "id": "fb1f7e92",
   "metadata": {},
   "outputs": [],
   "source": [
    "x = Parameter(\"x\")\n",
    "circuit = QuantumCircuit(1)\n",
    "circuit.rx(x, 0)\n",
    "\n",
    "values = np.array([0.2])\n",
    "\n",
    "op = PauliSumOp.from_list([(\"Y\", 1)])"
   ]
  },
  {
   "cell_type": "markdown",
   "id": "91ccd0f6",
   "metadata": {},
   "source": [
    "### Model\n",
    "\n",
    "Heisenberg on a line, ``EfficientSU2`` ansatz with 3 reps."
   ]
  },
  {
   "cell_type": "code",
   "execution_count": 64,
   "id": "5b2530e7",
   "metadata": {},
   "outputs": [],
   "source": [
    "J = 0.25\n",
    "g = -1\n",
    "circuit = EfficientSU2(3, reps=1, entanglement=\"pairwise\")\n",
    "values = np.zeros(circuit.num_parameters)\n",
    "for i in range(3):\n",
    "    values[~(3 + i)] = np.pi / 2\n",
    "\n",
    "op = PauliSumOp.from_list([\n",
    "    (\"ZII\", g), (\"IZI\", g), (\"IIZ\", g), \n",
    "    (\"XXI\", J), (\"IXX\", J), (\"YYI\", J), (\"IYY\", J), (\"ZZI\", J), (\"IZZ\", J), \n",
    "])"
   ]
  },
  {
   "cell_type": "markdown",
   "id": "bb6a8a75",
   "metadata": {},
   "source": [
    "Evolution time:"
   ]
  },
  {
   "cell_type": "code",
   "execution_count": 4,
   "id": "0cd51e9f",
   "metadata": {},
   "outputs": [],
   "source": [
    "time = 1"
   ]
  },
  {
   "cell_type": "code",
   "execution_count": 5,
   "id": "5e9a2a98",
   "metadata": {},
   "outputs": [],
   "source": [
    "def solve(A, b, x0=None):\n",
    "    x0 = x0 or np.zeros_like(b)\n",
    "    return COBYLA().minimize(lambda x: x.dot(A.dot(x)) - 2 * b.dot(x), x0).x"
   ]
  },
  {
   "cell_type": "markdown",
   "id": "8f0dbe23",
   "metadata": {},
   "source": [
    "### Expected state"
   ]
  },
  {
   "cell_type": "code",
   "execution_count": 17,
   "id": "d270964b",
   "metadata": {},
   "outputs": [
    {
     "name": "stdout",
     "output_type": "stream",
     "text": [
      "Partition function: (54.418721610889506+0j)\n",
      "State:\n",
      " [ 4.67711802+0.j  5.57447016+0.j -0.27679758+0.j  0.35055944+0.j\n",
      "  0.75333176+0.j  0.83524506+0.j -0.02563885+0.j  0.05711227+0.j]\n",
      "Normalized state:\n",
      " [ 0.63402176+0.j  0.75566521+0.j -0.03752219+0.j  0.04752121+0.j\n",
      "  0.10212031+0.j  0.11322433+0.j -0.00347556+0.j  0.00774204+0.j]\n"
     ]
    }
   ],
   "source": [
    "initial = Statevector(circuit.bind_parameters(values))\n",
    "expected = scipy.linalg.expm(-op.to_matrix() * time).dot(initial)\n",
    "sqrtZ = np.sqrt(initial.data.dot(scipy.linalg.expm(-2 * op.to_matrix() * time).dot(initial.data)))\n",
    "print(\"Partition function:\", sqrtZ ** 2)\n",
    "print(\"State:\\n\", expected)\n",
    "expected_normalized = expected / np.linalg.norm(expected)\n",
    "print(\"Normalized state:\\n\", expected_normalized)"
   ]
  },
  {
   "cell_type": "markdown",
   "id": "40c41fdc",
   "metadata": {},
   "source": [
    "### Plain McLachlan \n",
    "\n",
    "Normalized states only!"
   ]
  },
  {
   "cell_type": "code",
   "execution_count": 7,
   "id": "c6e73647",
   "metadata": {},
   "outputs": [],
   "source": [
    "parameters = [values]\n",
    "num_timesteps = 100\n",
    "dt = time / num_timesteps\n",
    "\n",
    "for _ in range(num_timesteps):\n",
    "    theta = parameters[-1]\n",
    "    qgt = ReverseQFI().compute(circuit, theta) / 4\n",
    "    b = -ReverseGradient().compute(op, circuit, theta) / 2\n",
    "    update = solve(qgt, b)\n",
    "    parameters.append(theta + dt * update)"
   ]
  },
  {
   "cell_type": "code",
   "execution_count": 8,
   "id": "e6a634e6",
   "metadata": {},
   "outputs": [
    {
     "name": "stdout",
     "output_type": "stream",
     "text": [
      "Statevector([ 0.63193177+3.10707597e-03j,  0.75926497+3.72442569e-03j,\n",
      "             -0.02134474+5.00147917e-04j,  0.0348812 -5.21646120e-05j,\n",
      "              0.09530585+3.18478701e-04j,  0.11503824+3.68763853e-04j,\n",
      "              0.01215725-1.34644860e-05j, -0.00422198+1.20981947e-04j],\n",
      "            dims=(2, 2, 2))\n"
     ]
    }
   ],
   "source": [
    "bound = circuit.bind_parameters(parameters[-1])\n",
    "standard = Statevector(bound)\n",
    "print(standard)"
   ]
  },
  {
   "cell_type": "code",
   "execution_count": 9,
   "id": "9f449092",
   "metadata": {},
   "outputs": [
    {
     "data": {
      "text/plain": [
       "0.030001422657526044"
      ]
     },
     "execution_count": 9,
     "metadata": {},
     "output_type": "execute_result"
    }
   ],
   "source": [
    "np.linalg.norm(standard - expected_normalized)"
   ]
  },
  {
   "cell_type": "markdown",
   "id": "af611684",
   "metadata": {},
   "source": [
    "### Unnormalized"
   ]
  },
  {
   "cell_type": "code",
   "execution_count": 56,
   "id": "43e0eac6",
   "metadata": {},
   "outputs": [],
   "source": [
    "def qite(ansatz, initial_values, time):\n",
    "    norms = [1]\n",
    "    parameters = [initial_values]\n",
    "    num_timesteps = 100\n",
    "    dt = time / num_timesteps\n",
    "\n",
    "    for _ in range(num_timesteps):\n",
    "        theta = parameters[-1]\n",
    "        zeta = norms[-1]\n",
    "\n",
    "        energy = Statevector(circuit.bind_parameters(theta)).expectation_value(op.primitive).real\n",
    "        norms.append(zeta - dt * energy * zeta)\n",
    "\n",
    "        qgt = ReverseQFI().compute(circuit, theta) / 4\n",
    "        b = -ReverseGradient().compute(op, circuit, theta) / 2\n",
    "\n",
    "        update = solve(qgt, b)\n",
    "        parameters.append(theta + dt * update)\n",
    "        \n",
    "    return parameters, norms"
   ]
  },
  {
   "cell_type": "code",
   "execution_count": 21,
   "id": "2b499de6",
   "metadata": {},
   "outputs": [],
   "source": [
    "parameters, norms = qite(circuit, values, time)"
   ]
  },
  {
   "cell_type": "code",
   "execution_count": 22,
   "id": "4c932eb0",
   "metadata": {},
   "outputs": [
    {
     "name": "stdout",
     "output_type": "stream",
     "text": [
      "Statevector([ 0.63193177+3.10707597e-03j,  0.75926497+3.72442569e-03j,\n",
      "             -0.02134474+5.00147917e-04j,  0.0348812 -5.21646120e-05j,\n",
      "              0.09530585+3.18478701e-04j,  0.11503824+3.68763853e-04j,\n",
      "              0.01215725-1.34644860e-05j, -0.00422198+1.20981947e-04j],\n",
      "            dims=(2, 2, 2))\n"
     ]
    }
   ],
   "source": [
    "bound = circuit.bind_parameters(parameters[-1])\n",
    "standard = Statevector(bound)\n",
    "print(standard)"
   ]
  },
  {
   "cell_type": "code",
   "execution_count": 23,
   "id": "609b2070",
   "metadata": {},
   "outputs": [],
   "source": [
    "unnorm = norms[-1] * standard"
   ]
  },
  {
   "cell_type": "code",
   "execution_count": 24,
   "id": "51a07a5b",
   "metadata": {},
   "outputs": [
    {
     "data": {
      "text/plain": [
       "0.04670274692923428"
      ]
     },
     "execution_count": 24,
     "metadata": {},
     "output_type": "execute_result"
    }
   ],
   "source": [
    "np.linalg.norm(unnorm - expected) / np.linalg.norm(unnorm)"
   ]
  },
  {
   "cell_type": "code",
   "execution_count": 25,
   "id": "a05f0e82",
   "metadata": {},
   "outputs": [
    {
     "data": {
      "text/plain": [
       "0.030001422657526044"
      ]
     },
     "execution_count": 25,
     "metadata": {},
     "output_type": "execute_result"
    }
   ],
   "source": [
    "np.linalg.norm(standard - expected_normalized) "
   ]
  },
  {
   "cell_type": "code",
   "execution_count": 26,
   "id": "6f6a189a",
   "metadata": {},
   "outputs": [
    {
     "data": {
      "text/plain": [
       "0.06711079207068447"
      ]
     },
     "execution_count": 26,
     "metadata": {},
     "output_type": "execute_result"
    }
   ],
   "source": [
    "np.abs(sqrtZ ** 2 - norms[-1] ** 2) / np.abs(sqrtZ ** 2)"
   ]
  },
  {
   "cell_type": "code",
   "execution_count": 27,
   "id": "7e11e538",
   "metadata": {},
   "outputs": [
    {
     "data": {
      "text/plain": [
       "[<matplotlib.lines.Line2D at 0x7fd788023520>]"
      ]
     },
     "execution_count": 27,
     "metadata": {},
     "output_type": "execute_result"
    },
    {
     "data": {
      "image/png": "[encoded data removed]",
      "text/plain": [
       "<Figure size 432x288 with 1 Axes>"
      ]
     },
     "metadata": {
      "needs_background": "light"
     },
     "output_type": "display_data"
    }
   ],
   "source": [
    "plt.plot(norms)"
   ]
  },
  {
   "cell_type": "markdown",
   "id": "edeff3da",
   "metadata": {},
   "source": [
    "### Thermodynamic observables"
   ]
  },
  {
   "cell_type": "code",
   "execution_count": 65,
   "id": "e45a4ca1",
   "metadata": {},
   "outputs": [],
   "source": [
    "observable = PauliSumOp.from_list([(\"ZZI\", 1)])\n",
    "\n",
    "temperature = 1\n",
    "time = 1 / temperature"
   ]
  },
  {
   "cell_type": "markdown",
   "id": "b8ebd330",
   "metadata": {},
   "source": [
    "Reference value:"
   ]
  },
  {
   "cell_type": "code",
   "execution_count": 66,
   "id": "4d78b18a",
   "metadata": {},
   "outputs": [],
   "source": [
    "expH = scipy.linalg.expm(-time * op.to_matrix())\n",
    "exact = np.trace(expH.dot(observable.to_matrix())) / np.trace(expH)"
   ]
  },
  {
   "cell_type": "code",
   "execution_count": 67,
   "id": "656d6b1c",
   "metadata": {},
   "outputs": [
    {
     "data": {
      "text/plain": [
       "(0.23458893070790507+0j)"
      ]
     },
     "execution_count": 67,
     "metadata": {},
     "output_type": "execute_result"
    }
   ],
   "source": [
    "exact"
   ]
  },
  {
   "cell_type": "code",
   "execution_count": 68,
   "id": "25c35ef9",
   "metadata": {},
   "outputs": [],
   "source": [
    "def random_initial_values():\n",
    "    num_qubits = circuit.num_qubits\n",
    "    random_angles = 2 * np.pi * (np.random.random(num_qubits) - 0.5)  # in [-pi, pi]\n",
    "    initial_values = np.zeros(circuit.num_parameters)\n",
    "    initial_values[-2 * num_qubits:-num_qubits] = random_angles\n",
    "    \n",
    "    return initial_values"
   ]
  },
  {
   "cell_type": "markdown",
   "id": "d3113a67",
   "metadata": {},
   "source": [
    "Draw samples:"
   ]
  },
  {
   "cell_type": "code",
   "execution_count": 69,
   "id": "89450c37",
   "metadata": {},
   "outputs": [],
   "source": [
    "num_samples = 90\n",
    "parameters = []\n",
    "norms = []"
   ]
  },
  {
   "cell_type": "code",
   "execution_count": 74,
   "id": "f3e81658",
   "metadata": {},
   "outputs": [
    {
     "name": "stdout",
     "output_type": "stream",
     "text": [
      "Sample 90/10\r"
     ]
    }
   ],
   "source": [
    "for i in range(90):\n",
    "    print(f\"Sample {i + 1}/{num_samples}\", end=\"\\r\")\n",
    "    p, n = qite(circuit, random_initial_values(), time=time/2)\n",
    "    parameters.append(p[-1])\n",
    "    norms.append(n[-1])"
   ]
  },
  {
   "cell_type": "markdown",
   "id": "72a7d2fd",
   "metadata": {},
   "source": [
    "Compute average"
   ]
  },
  {
   "cell_type": "code",
   "execution_count": 75,
   "id": "14558127",
   "metadata": {},
   "outputs": [],
   "source": [
    "averages = [Statevector(circuit.bind_parameters(theta)).expectation_value(observable) for theta in parameters]"
   ]
  },
  {
   "cell_type": "code",
   "execution_count": 76,
   "id": "b99bddbe",
   "metadata": {},
   "outputs": [
    {
     "name": "stderr",
     "output_type": "stream",
     "text": [
      "<ipython-input-76-fd346114f77f>:1: DeprecationWarning: Calling np.sum(generator) is deprecated, and in the future will give a different result. Use np.sum(np.fromiter(generator)) or the python sum builtin instead.\n",
      "  ensemble_average = np.sum(avg * Z for avg, Z in zip(averages, norms)) / np.sum(norms)\n"
     ]
    }
   ],
   "source": [
    "ensemble_average = np.sum(avg * Z for avg, Z in zip(averages, norms)) / np.sum(norms)"
   ]
  },
  {
   "cell_type": "code",
   "execution_count": 77,
   "id": "8e39a516",
   "metadata": {},
   "outputs": [
    {
     "data": {
      "text/plain": [
       "(-0.018924755640222016+0j)"
      ]
     },
     "execution_count": 77,
     "metadata": {},
     "output_type": "execute_result"
    }
   ],
   "source": [
    "ensemble_average"
   ]
  },
  {
   "cell_type": "code",
   "execution_count": 78,
   "id": "0819ecf2",
   "metadata": {},
   "outputs": [
    {
     "data": {
      "text/plain": [
       "[(0.19772607626447172+0j),\n",
       " (0.7072954251618648+0j),\n",
       " (-0.6160363632524805+0j),\n",
       " (-0.6411700048970977+0j),\n",
       " (0.6308503065134434+0j),\n",
       " (-0.384839854564967+0j),\n",
       " (-0.5885230261336699+0j),\n",
       " (-0.4576625396632696+0j),\n",
       " (0.5290750804794178+0j),\n",
       " (0.027921961375856594+0j),\n",
       " (-0.3704432695583698+0j),\n",
       " (0.39618576341008954+0j),\n",
       " (-0.9787075826498338+0j),\n",
       " (-0.7201269795005678+0j),\n",
       " (-0.3167782389702797+0j),\n",
       " (0.40536008283953595+0j),\n",
       " (0.9764952673305234+0j),\n",
       " (0.38856404087839963+0j),\n",
       " (-0.882225372512378+0j),\n",
       " (-0.5218578073167035+0j),\n",
       " (0.06713248248099231+0j),\n",
       " (-0.9167463546651184+0j),\n",
       " (-0.9861324110253307+0j),\n",
       " (0.348197263770477+0j),\n",
       " (-0.4357684048055993+0j),\n",
       " (-0.723209913587105+0j),\n",
       " (-0.12736913375777323+0j),\n",
       " (0.8904599938470896+0j),\n",
       " (0.5856830073642103+0j),\n",
       " (0.44033190648935244+0j),\n",
       " (-0.8814460988016181+0j),\n",
       " (-0.5564097717506441+0j),\n",
       " (0.6539639144125622+0j),\n",
       " (0.7524281658230115+0j),\n",
       " (-0.8213317001623818+0j),\n",
       " (0.7656578524694281+0j),\n",
       " (-0.24339497859775688+0j),\n",
       " (0.31385038901137496+0j),\n",
       " (-0.5651791044410581+0j),\n",
       " (-0.7523078075046573+0j),\n",
       " (0.35275060340749476+0j),\n",
       " (-0.5481631682532884+0j),\n",
       " (0.4516822703684073+0j),\n",
       " (-0.9577568328726064+0j),\n",
       " (0.5174964119601904+0j),\n",
       " (-0.29410404889393277+0j),\n",
       " (-0.37811318007442657+0j),\n",
       " (-0.731996798812696+0j),\n",
       " (0.13145384649078984+0j),\n",
       " (-0.7097891982096275+0j),\n",
       " (-0.2780509245335321+0j),\n",
       " (-0.9261630261085274+0j),\n",
       " (0.46677052965177135+0j),\n",
       " (0.5640303866185123+0j),\n",
       " (0.35445530678286186+0j),\n",
       " (-0.09348097985453313+0j),\n",
       " (0.2791431566954268+0j),\n",
       " (-0.8357867950520776+0j),\n",
       " (0.18605896584826864+0j),\n",
       " (-0.3603319662785616+0j),\n",
       " (0.4287846641587605+0j),\n",
       " (0.6950993350184842+0j),\n",
       " (0.5825158869411947+0j),\n",
       " (-0.31377841984683075+0j),\n",
       " (-0.950399691740706+0j),\n",
       " (0.20313245943111055+0j),\n",
       " (0.19586172028544754+0j),\n",
       " (-0.07562078359342556+0j),\n",
       " (-0.7994248456600949+0j),\n",
       " (-0.11618234171101426+0j),\n",
       " (-0.17143365024495733+0j),\n",
       " (0.11908087078289785+0j),\n",
       " (-0.32867073707268846+0j),\n",
       " (0.6732356139433668+0j),\n",
       " (-0.7402399798797284+0j),\n",
       " (-0.011107376774534262+0j),\n",
       " (-0.08636177241981241+0j),\n",
       " (-0.8590735410883862+0j),\n",
       " (0.757429726417854+0j),\n",
       " (-0.5859044894264983+0j),\n",
       " (-0.7092362447564476+0j),\n",
       " (0.06367571725741059+0j),\n",
       " (-0.4435516485659391+0j),\n",
       " (0.36429822290716046+0j),\n",
       " (0.11328981372349027+0j),\n",
       " (0.7112952103401627+0j),\n",
       " (0.5139668470589149+0j),\n",
       " (0.7485530768906337+0j),\n",
       " (-0.9511352401847183+0j),\n",
       " (-0.883545757324905+0j),\n",
       " (-0.10607834087164275+0j),\n",
       " (-0.464436056552875+0j),\n",
       " (-0.42767963863565517+0j),\n",
       " (-0.02492403182774874+0j),\n",
       " (0.9364118715156893+0j),\n",
       " (0.1471660916968284+0j),\n",
       " (-0.3705210191658844+0j),\n",
       " (-0.4551969969302262+0j),\n",
       " (-0.959302609631953+0j),\n",
       " (-0.20921588546948322+0j)]"
      ]
     },
     "execution_count": 78,
     "metadata": {},
     "output_type": "execute_result"
    }
   ],
   "source": [
    "averages"
   ]
  },
  {
   "cell_type": "code",
   "execution_count": 86,
   "id": "723d7d85",
   "metadata": {},
   "outputs": [],
   "source": [
    "from qiskit.visualization import plot_bloch_multivector"
   ]
  },
  {
   "cell_type": "code",
   "execution_count": 142,
   "id": "05dd70e1",
   "metadata": {},
   "outputs": [
    {
     "data": {
      "text/plain": [
       "<qiskit.circuit.instructionset.InstructionSet at 0x7fd779c22800>"
      ]
     },
     "execution_count": 142,
     "metadata": {},
     "output_type": "execute_result"
    }
   ],
   "source": [
    "theta = np.random.uniform(-np.pi, np.pi, 1)[0]\n",
    "v = np.random.uniform(0, 1, 1)[0]\n",
    "phi = np.arccos(1 - 2 * v)\n",
    "# phi = np.pi / 2\n",
    "theta = np.pi / 2\n",
    "circuit = QuantumCircuit(2)\n",
    "circuit.h(0)\n",
    "circuit.rz(theta, 0)\n",
    "circuit.ry(phi, 0)"
   ]
  },
  {
   "cell_type": "code",
   "execution_count": 187,
   "id": "70228841",
   "metadata": {},
   "outputs": [
    {
     "data": {
      "text/plain": [
       "<qiskit.circuit.instructionset.InstructionSet at 0x7fd76a1faa40>"
      ]
     },
     "execution_count": 187,
     "metadata": {},
     "output_type": "execute_result"
    }
   ],
   "source": [
    "circuit = QuantumCircuit(1)\n",
    "theta = 0\n",
    "phi = -np.pi / 2\n",
    "circuit.u(theta, phi, 0, 0)"
   ]
  },
  {
   "cell_type": "code",
   "execution_count": 188,
   "id": "be20ce29",
   "metadata": {},
   "outputs": [],
   "source": [
    "state = Statevector(circuit)"
   ]
  },
  {
   "cell_type": "code",
   "execution_count": 189,
   "id": "afa8eb35",
   "metadata": {},
   "outputs": [
    {
     "data": {
      "image/png": "[encoded data removed]",
      "text/plain": [
       "<Figure size 288x288 with 1 Axes>"
      ]
     },
     "execution_count": 189,
     "metadata": {},
     "output_type": "execute_result"
    }
   ],
   "source": [
    "plot_bloch_multivector(state.data)"
   ]
  },
  {
   "cell_type": "code",
   "execution_count": 204,
   "id": "f06a2e24",
   "metadata": {},
   "outputs": [],
   "source": [
    "def coords(theta, phi):\n",
    "    return np.array([\n",
    "        np.sin(phi) * np.cos(theta),\n",
    "        np.sin(phi) * np.sin(theta),\n",
    "        np.cos(phi)\n",
    "    ])"
   ]
  },
  {
   "cell_type": "code",
   "execution_count": 199,
   "id": "8d7642a8",
   "metadata": {},
   "outputs": [],
   "source": [
    "n = 500\n",
    "theta = np.random.uniform(0, 2 * np.pi, n)\n",
    "v = np.random.uniform(0, 1, n)\n",
    "phi = np.arccos(1 - 2 * v)"
   ]
  },
  {
   "cell_type": "code",
   "execution_count": 200,
   "id": "16875719",
   "metadata": {},
   "outputs": [
    {
     "data": {
      "text/plain": [
       "<matplotlib.collections.PathCollection at 0x7fd76a3d59c0>"
      ]
     },
     "execution_count": 200,
     "metadata": {},
     "output_type": "execute_result"
    },
    {
     "data": {
      "image/png": "[encoded data removed]",
      "text/plain": [
       "<Figure size 432x288 with 1 Axes>"
      ]
     },
     "metadata": {
      "needs_background": "light"
     },
     "output_type": "display_data"
    }
   ],
   "source": [
    "plt.scatter(theta, phi, s=10)"
   ]
  },
  {
   "cell_type": "code",
   "execution_count": 238,
   "id": "0cf00d6f",
   "metadata": {},
   "outputs": [
    {
     "data": {
      "text/plain": [
       "<qiskit.circuit.instructionset.InstructionSet at 0x7fd7aa7be740>"
      ]
     },
     "execution_count": 238,
     "metadata": {},
     "output_type": "execute_result"
    }
   ],
   "source": [
    "theta = np.random.uniform(0, 2 * np.pi, 1)[0]\n",
    "v = np.random.uniform(0, 1, 1)[0]\n",
    "phi = np.arccos(1 - 2 * v)\n",
    "\n",
    "theta = 3 * np.pi / 2\n",
    "# theta = 0\n",
    "phi = 3 * np.pi / 4\n",
    "circuit = QuantumCircuit(1)\n",
    "circuit.ry(phi, 0)\n",
    "circuit.rz(theta, 0)"
   ]
  },
  {
   "cell_type": "code",
   "execution_count": 239,
   "id": "87f6e378",
   "metadata": {},
   "outputs": [
    {
     "name": "stdout",
     "output_type": "stream",
     "text": [
      "2.356194490192345 4.71238898038469\n",
      "[ 7.07106781e-01 -7.07106781e-01 -1.83697020e-16]\n"
     ]
    }
   ],
   "source": [
    "print(phi, theta)\n",
    "print(coords(phi, theta))"
   ]
  },
  {
   "cell_type": "code",
   "execution_count": 240,
   "id": "cd8bba12",
   "metadata": {},
   "outputs": [
    {
     "data": {
      "image/png": "[encoded data removed]",
      "text/plain": [
       "<Figure size 288x288 with 1 Axes>"
      ]
     },
     "execution_count": 240,
     "metadata": {},
     "output_type": "execute_result"
    }
   ],
   "source": [
    "state = Statevector(circuit)\n",
    "plot_bloch_multivector(state.data)"
   ]
  },
  {
   "cell_type": "code",
   "execution_count": 249,
   "id": "13bf2f68",
   "metadata": {},
   "outputs": [
    {
     "name": "stdout",
     "output_type": "stream",
     "text": [
      "Statevector([-0.27059805-0.27059805j, -0.65328148+0.65328148j],\n",
      "            dims=(2,))\n",
      "[-0.27059805-0.27059805j -0.65328148+0.65328148j]\n"
     ]
    }
   ],
   "source": [
    "print(state)\n",
    "print(np.array([np.exp(-0.5j * theta) * np.cos(phi / 2), np.exp(0.5j * theta) * np.sin(phi / 2)]))"
   ]
  },
  {
   "cell_type": "code",
   "execution_count": null,
   "id": "35645ab4",
   "metadata": {},
   "outputs": [],
   "source": []
  }
 ],
 "metadata": {
  "kernelspec": {
   "display_name": "Python 3",
   "language": "python",
   "name": "python3"
  },
  "language_info": {
   "codemirror_mode": {
    "name": "ipython",
    "version": 3
   },
   "file_extension": ".py",
   "mimetype": "text/x-python",
   "name": "python",
   "nbconvert_exporter": "python",
   "pygments_lexer": "ipython3",
   "version": "3.10.4"
  }
 },
 "nbformat": 4,
 "nbformat_minor": 5
}
