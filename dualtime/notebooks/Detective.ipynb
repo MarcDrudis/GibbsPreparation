{
 "cells": [
  {
   "cell_type": "code",
   "execution_count": 1,
   "id": "c20a8330",
   "metadata": {},
   "outputs": [],
   "source": [
    "import sys\n",
    "sys.path.append(\"..\")"
   ]
  },
  {
   "cell_type": "code",
   "execution_count": 2,
   "id": "cfa10481",
   "metadata": {},
   "outputs": [],
   "source": [
    "from src.expectation import Expectation\n",
    "from src.fidelity import Fidelity\n",
    "\n",
    "from src.gradients import ExpectationParameterShift, FidelityParameterShift\n",
    "from src.gradients import ExpectationReverse, FidelityReverse\n",
    "\n",
    "from experiments.models.heisenline import get_model\n",
    "from src.realdual import DualRTE"
   ]
  },
  {
   "cell_type": "code",
   "execution_count": 3,
   "id": "bcf73af1",
   "metadata": {},
   "outputs": [],
   "source": [
    "import matplotlib.pyplot as plt"
   ]
  },
  {
   "cell_type": "code",
   "execution_count": 32,
   "id": "52e4bd69",
   "metadata": {},
   "outputs": [],
   "source": [
    "import numpy as np\n",
    "\n",
    "data = np.load(\"../ising.npy\", allow_pickle=True).item()"
   ]
  },
  {
   "cell_type": "code",
   "execution_count": 33,
   "id": "35d2b667",
   "metadata": {},
   "outputs": [
    {
     "data": {
      "text/plain": [
       "[<matplotlib.lines.Line2D at 0x7fcb6b9047f0>]"
      ]
     },
     "execution_count": 33,
     "metadata": {},
     "output_type": "execute_result"
    },
    {
     "data": {
      "image/png": "[encoded data removed]",
      "text/plain": [
       "<Figure size 432x288 with 1 Axes>"
      ]
     },
     "metadata": {
      "needs_background": "light"
     },
     "output_type": "display_data"
    }
   ],
   "source": [
    "plt.plot(sum(data[\"losses\"][:10], []))"
   ]
  },
  {
   "cell_type": "code",
   "execution_count": 34,
   "id": "86b0e1fa",
   "metadata": {},
   "outputs": [],
   "source": [
    "d2 = np.load(\"../ising_long.npy\", allow_pickle=True).item()"
   ]
  },
  {
   "cell_type": "code",
   "execution_count": 35,
   "id": "1f5d27eb",
   "metadata": {},
   "outputs": [
    {
     "data": {
      "text/plain": [
       "[<matplotlib.lines.Line2D at 0x7fcb6b92f790>]"
      ]
     },
     "execution_count": 35,
     "metadata": {},
     "output_type": "execute_result"
    },
    {
     "data": {
      "image/png": "[encoded data removed]",
      "text/plain": [
       "<Figure size 432x288 with 1 Axes>"
      ]
     },
     "metadata": {
      "needs_background": "light"
     },
     "output_type": "display_data"
    }
   ],
   "source": [
    "plt.plot(d2[\"losses\"][0])"
   ]
  },
  {
   "cell_type": "code",
   "execution_count": 36,
   "id": "87adb135",
   "metadata": {},
   "outputs": [
    {
     "data": {
      "text/plain": [
       "[<matplotlib.lines.Line2D at 0x7fcb4897d000>]"
      ]
     },
     "execution_count": 36,
     "metadata": {},
     "output_type": "execute_result"
    },
    {
     "data": {
      "image/png": "[encoded data removed]",
      "text/plain": [
       "<Figure size 432x288 with 1 Axes>"
      ]
     },
     "metadata": {
      "needs_background": "light"
     },
     "output_type": "display_data"
    }
   ],
   "source": [
    "plt.plot(sum(d2[\"losses\"][:10], []))"
   ]
  },
  {
   "cell_type": "code",
   "execution_count": 9,
   "id": "b208cc90",
   "metadata": {},
   "outputs": [
    {
     "name": "stdout",
     "output_type": "stream",
     "text": [
      "     ┌──────────┐                      ┌──────────┐            \n",
      "q_0: ┤ Rx(θ[0]) ├─■──────────■─────────┤ Rx(θ[6]) ├────────────\n",
      "     ├──────────┤ │ZZ(θ[3])  │         └──────────┘┌──────────┐\n",
      "q_1: ┤ Rx(θ[1]) ├─■──────────┼──────────■──────────┤ Rx(θ[7]) ├\n",
      "     ├──────────┤            │ZZ(θ[4])  │ZZ(θ[5])  ├──────────┤\n",
      "q_2: ┤ Rx(θ[2]) ├────────────■──────────■──────────┤ Rx(θ[8]) ├\n",
      "     └──────────┘                                  └──────────┘\n"
     ]
    }
   ],
   "source": [
    "# pylint: disable=import-error, no-name-in-module\n",
    "import numpy as np\n",
    "import logging\n",
    "import coloredlogs\n",
    "from dataclasses import asdict\n",
    "\n",
    "from qiskit.circuit.library import TwoLocal\n",
    "from qiskit.opflow import PauliSumOp, AerPauliExpectation\n",
    "from qiskit.providers.aer import AerSimulator\n",
    "from qiskit.quantum_info import SparsePauliOp\n",
    "\n",
    "from src.expectation import Expectation\n",
    "from src.fidelity import Fidelity\n",
    "\n",
    "from src.gradients import ExpectationReverse, FidelityReverse\n",
    "from src.optimizers import GradientDescent\n",
    "from src.realdual import DualRTE\n",
    "\n",
    "\n",
    "reps = 1\n",
    "# dirname = \"data/heisen2/lrel1e1/sv/--_gd100.npy\"\n",
    "dirname = \"ising_long.npy\"\n",
    "filenames = [dirname]\n",
    "# filenames = [f\"{dirname}/{i}.npy\" for i in range(1, reps + 1)]\n",
    "# filenames = [\"data/heisen3/lr1e3/spsa_it100_b1/sv_xi1.npy\"]\n",
    "\n",
    "J = 1 / 4\n",
    "h = 1\n",
    "hamiltonian = PauliSumOp.from_list([(\"ZZI\", J), (\"IZZ\", J), (\"XII\", h), (\"IXI\", h), (\"IIX\", h)])\n",
    "magn = PauliSumOp.from_list([(\"ZII\", 1 / 3), (\"IZI\", 1 / 3), (\"IIZ\", 1 / 3)])\n",
    "\n",
    "circuit = TwoLocal(3, rotation_blocks=\"rx\", entanglement_blocks=\"rzz\", reps=1)\n",
    "initial_parameters = np.zeros(circuit.num_parameters)\n",
    "\n",
    "print(circuit.decompose().draw())\n",
    "\n",
    "final_time = 0.02\n",
    "timestep = 0.01\n",
    "\n",
    "backend = AerSimulator(method=\"statevector\")\n",
    "expectation_converter = AerPauliExpectation()\n",
    "shots = None\n",
    "expectation_gradient = ExpectationReverse()\n",
    "fidelity_gradient = FidelityReverse()\n",
    "\n",
    "expectation = Expectation(backend, expectation_converter, shots=shots)\n",
    "fidelity = Fidelity(backend, expectation_converter, shots=shots)\n",
    "\n",
    "\n",
    "opt = GradientDescent(maxiter=10_000, learning_rate=0.2, blocking=False, losstol=1e-6, gradtol=0)\n",
    "# opt = SPSA(maxiter=100, learning_rate=0.1, perturbation=0.1, batch_size=1, averaging=1)\n",
    "\n",
    "# algo = VarQITE(circuit, initial_parameters, backend)\n",
    "algo = DualRTE(\n",
    "    circuit,\n",
    "    initial_parameters,\n",
    "    expectation,\n",
    "    fidelity,\n",
    "    expectation_gradient,\n",
    "    fidelity_gradient,\n",
    "    norm_factor=0,\n",
    "    optimizer=opt,\n",
    "    warmstart=True,\n",
    "    timestep_normalization=True,\n",
    ")"
   ]
  },
  {
   "cell_type": "code",
   "execution_count": 10,
   "id": "87fdbd03",
   "metadata": {},
   "outputs": [
    {
     "name": "stdout",
     "output_type": "stream",
     "text": [
      "[ 0.5  0.5  0.5 -0.  -0.  -0.   0.5  0.5  0.5]\n"
     ]
    }
   ],
   "source": [
    "algo._sync_primitives(hamiltonian)\n",
    "loss = algo.get_loss_and_gradient(timestep, initial_parameters)"
   ]
  },
  {
   "cell_type": "code",
   "execution_count": 11,
   "id": "2e06d2ef",
   "metadata": {},
   "outputs": [
    {
     "data": {
      "text/plain": [
       "(0.0, array([0.005, 0.005, 0.005, 0.   , 0.   , 0.   , 0.005, 0.005, 0.005]))"
      ]
     },
     "execution_count": 11,
     "metadata": {},
     "output_type": "execute_result"
    }
   ],
   "source": [
    "loss(initial_parameters)"
   ]
  },
  {
   "cell_type": "code",
   "execution_count": 12,
   "id": "4e196831",
   "metadata": {},
   "outputs": [],
   "source": [
    "# direction = np.ones(circuit.num_parameters)\n",
    "direction = np.random.choice([1, -1], circuit.num_parameters)\n",
    "eps = np.linspace(-0.2, 0.2, 200)\n",
    "cut = [loss(eps_i * direction)[0] for eps_i in eps]"
   ]
  },
  {
   "cell_type": "code",
   "execution_count": 13,
   "id": "6ea70187",
   "metadata": {},
   "outputs": [
    {
     "data": {
      "text/plain": [
       "[<matplotlib.lines.Line2D at 0x7fcb6b6d0190>]"
      ]
     },
     "execution_count": 13,
     "metadata": {},
     "output_type": "execute_result"
    },
    {
     "data": {
      "image/png": "[encoded data removed]",
      "text/plain": [
       "<Figure size 432x288 with 1 Axes>"
      ]
     },
     "metadata": {
      "needs_background": "light"
     },
     "output_type": "display_data"
    }
   ],
   "source": [
    "plt.plot(eps, cut)"
   ]
  },
  {
   "cell_type": "code",
   "execution_count": 14,
   "id": "41199f6b",
   "metadata": {},
   "outputs": [],
   "source": [
    "theta = initial_parameters"
   ]
  },
  {
   "cell_type": "code",
   "execution_count": 15,
   "id": "6e6c9ff8",
   "metadata": {},
   "outputs": [],
   "source": [
    "thetas, values, gradients = [theta], [], []\n",
    "eta = 0.1"
   ]
  },
  {
   "cell_type": "code",
   "execution_count": 16,
   "id": "1152bd36",
   "metadata": {},
   "outputs": [],
   "source": [
    "N = 10"
   ]
  },
  {
   "cell_type": "code",
   "execution_count": 17,
   "id": "b0622394",
   "metadata": {},
   "outputs": [
    {
     "name": "stdout",
     "output_type": "stream",
     "text": [
      "-9.041847594487116e-05 0.0077190962325846895\r"
     ]
    }
   ],
   "source": [
    "for _ in range(N):\n",
    "    val, grad = loss(thetas[-1])\n",
    "    values.append(val)\n",
    "    gradients.append(grad)\n",
    "    print(f\"{val} {np.linalg.norm(grad)}\", end=\"\\r\")#, grad)\n",
    "    thetas.append(thetas[-1] - eta * grad)"
   ]
  },
  {
   "cell_type": "code",
   "execution_count": 18,
   "id": "2638eb05",
   "metadata": {},
   "outputs": [
    {
     "data": {
      "text/plain": [
       "<matplotlib.legend.Legend at 0x7fcb594a33d0>"
      ]
     },
     "execution_count": 18,
     "metadata": {},
     "output_type": "execute_result"
    },
    {
     "data": {
      "image/png": "[encoded data removed]",
      "text/plain": [
       "<Figure size 432x288 with 1 Axes>"
      ]
     },
     "metadata": {
      "needs_background": "light"
     },
     "output_type": "display_data"
    }
   ],
   "source": [
    "for dim in range(circuit.num_parameters):\n",
    "    plt.plot(np.asarray(gradients)[:, dim], label=f\"{dim}\")\n",
    "    \n",
    "plt.legend()"
   ]
  },
  {
   "cell_type": "code",
   "execution_count": 19,
   "id": "6fc197fe",
   "metadata": {},
   "outputs": [
    {
     "name": "stderr",
     "output_type": "stream",
     "text": [
      "/Users/jul/opt/miniconda3/envs/py10/lib/python3.10/site-packages/numpy/core/fromnumeric.py:3432: RuntimeWarning: Mean of empty slice.\n",
      "  return _methods._mean(a, axis=axis, dtype=dtype,\n",
      "/Users/jul/opt/miniconda3/envs/py10/lib/python3.10/site-packages/numpy/core/_methods.py:182: RuntimeWarning: invalid value encountered in divide\n",
      "  ret = um.true_divide(\n"
     ]
    },
    {
     "data": {
      "text/plain": [
       "array([nan, nan, nan, nan, nan, nan, nan, nan, nan])"
      ]
     },
     "execution_count": 19,
     "metadata": {},
     "output_type": "execute_result"
    }
   ],
   "source": [
    "np.mean(np.asarray(gradients)[100:, :], axis=0)"
   ]
  },
  {
   "cell_type": "code",
   "execution_count": 20,
   "id": "1b98a589",
   "metadata": {},
   "outputs": [
    {
     "data": {
      "text/plain": [
       "[<matplotlib.lines.Line2D at 0x7fcb595dc4f0>]"
      ]
     },
     "execution_count": 20,
     "metadata": {},
     "output_type": "execute_result"
    },
    {
     "data": {
      "image/png": "[encoded data removed]",
      "text/plain": [
       "<Figure size 432x288 with 1 Axes>"
      ]
     },
     "metadata": {
      "needs_background": "light"
     },
     "output_type": "display_data"
    }
   ],
   "source": [
    "plt.plot(values)"
   ]
  },
  {
   "cell_type": "code",
   "execution_count": 21,
   "id": "3e856db7",
   "metadata": {},
   "outputs": [
    {
     "data": {
      "text/plain": [
       "(0.006032405658915495,\n",
       " array([ 5.49009853e-03,  4.99754543e-03,  5.46624113e-02,  4.87643960e-04,\n",
       "         4.90086234e-04, -3.46944695e-18,  4.50990147e-03,  5.00245457e-03,\n",
       "         5.46624113e-02]))"
      ]
     },
     "execution_count": 21,
     "metadata": {},
     "output_type": "execute_result"
    }
   ],
   "source": [
    "direction = np.random.choice([1, -1], circuit.num_parameters)\n",
    "loss(0.1 * direction)"
   ]
  },
  {
   "cell_type": "code",
   "execution_count": 22,
   "id": "aa14e819",
   "metadata": {},
   "outputs": [
    {
     "data": {
      "text/plain": [
       "(0.0, array([0.005, 0.005, 0.005, 0.   , 0.   , 0.   , 0.005, 0.005, 0.005]))"
      ]
     },
     "execution_count": 22,
     "metadata": {},
     "output_type": "execute_result"
    }
   ],
   "source": [
    "theta = np.zeros(9)\n",
    "theta[3] = 100000\n",
    "loss(theta)"
   ]
  },
  {
   "cell_type": "code",
   "execution_count": 23,
   "id": "3e7cd872",
   "metadata": {},
   "outputs": [
    {
     "data": {
      "text/html": [
       "<pre style=\"word-wrap: normal;white-space: pre;background: #fff0;line-height: 1.1;font-family: &quot;Courier New&quot;,Courier,monospace\">     ┌──────────┐                      ┌──────────┐            \n",
       "q_0: ┤ Rx(θ[0]) ├─■──────────■─────────┤ Rx(θ[6]) ├────────────\n",
       "     ├──────────┤ │ZZ(θ[3])  │         └──────────┘┌──────────┐\n",
       "q_1: ┤ Rx(θ[1]) ├─■──────────┼──────────■──────────┤ Rx(θ[7]) ├\n",
       "     ├──────────┤            │ZZ(θ[4])  │ZZ(θ[5])  ├──────────┤\n",
       "q_2: ┤ Rx(θ[2]) ├────────────■──────────■──────────┤ Rx(θ[8]) ├\n",
       "     └──────────┘                                  └──────────┘</pre>"
      ],
      "text/plain": [
       "     ┌──────────┐                      ┌──────────┐            \n",
       "q_0: ┤ Rx(θ[0]) ├─■──────────■─────────┤ Rx(θ[6]) ├────────────\n",
       "     ├──────────┤ │ZZ(θ[3])  │         └──────────┘┌──────────┐\n",
       "q_1: ┤ Rx(θ[1]) ├─■──────────┼──────────■──────────┤ Rx(θ[7]) ├\n",
       "     ├──────────┤            │ZZ(θ[4])  │ZZ(θ[5])  ├──────────┤\n",
       "q_2: ┤ Rx(θ[2]) ├────────────■──────────■──────────┤ Rx(θ[8]) ├\n",
       "     └──────────┘                                  └──────────┘"
      ]
     },
     "execution_count": 23,
     "metadata": {},
     "output_type": "execute_result"
    }
   ],
   "source": [
    "circuit.decompose().draw()"
   ]
  },
  {
   "cell_type": "code",
   "execution_count": 24,
   "id": "137f089a",
   "metadata": {},
   "outputs": [],
   "source": [
    "from qiskit.primitives import Estimator\n",
    "from qiskit.algorithms.gradients import LinCombEstimatorGradient\n",
    "from qiskit.algorithms.gradients.lin_comb_estimator_gradient import DerivativeType"
   ]
  },
  {
   "cell_type": "code",
   "execution_count": 25,
   "id": "90f71bce",
   "metadata": {},
   "outputs": [],
   "source": [
    "hamiltonian = hamiltonian.to_matrix_op().primitive"
   ]
  },
  {
   "cell_type": "code",
   "execution_count": 26,
   "id": "084852b3",
   "metadata": {},
   "outputs": [],
   "source": [
    "est = Estimator()\n",
    "grad = LinCombEstimatorGradient(est, derivative_type=DerivativeType.COMPLEX)\n",
    "iden = SparsePauliOp([\"I\" * circuit.num_qubits])"
   ]
  },
  {
   "cell_type": "code",
   "execution_count": 27,
   "id": "83406756",
   "metadata": {},
   "outputs": [],
   "source": [
    "grads = grad.run(2 * [circuit], [hamiltonian, iden], 2 * [initial_parameters]).result()\n",
    "E = est.run([circuit], [hamiltonian], [initial_parameters]).result().values[0]"
   ]
  },
  {
   "cell_type": "code",
   "execution_count": 28,
   "id": "f379cc79",
   "metadata": {},
   "outputs": [],
   "source": [
    "dE = grads.gradients[0]\n",
    "dPsi = grads.gradients[1]"
   ]
  },
  {
   "cell_type": "code",
   "execution_count": 29,
   "id": "1db460c0",
   "metadata": {},
   "outputs": [
    {
     "data": {
      "text/plain": [
       "array([0.-1.j, 0.-1.j, 0.-1.j, 0.+0.j, 0.+0.j, 0.+0.j, 0.-1.j, 0.-1.j,\n",
       "       0.-1.j])"
      ]
     },
     "execution_count": 29,
     "metadata": {},
     "output_type": "execute_result"
    }
   ],
   "source": [
    "dE - E * dPsi"
   ]
  },
  {
   "cell_type": "code",
   "execution_count": 30,
   "id": "8cb045d9",
   "metadata": {},
   "outputs": [],
   "source": [
    "from src.gradients import ExpectationReverse, FidelityReverse"
   ]
  },
  {
   "cell_type": "code",
   "execution_count": 31,
   "id": "a3ffcf2d",
   "metadata": {},
   "outputs": [
    {
     "ename": "TypeError",
     "evalue": "'<=' not supported between instances of 'NoneType' and 'int'",
     "output_type": "error",
     "traceback": [
      "\u001b[0;31m---------------------------------------------------------------------------\u001b[0m",
      "\u001b[0;31mTypeError\u001b[0m                                 Traceback (most recent call last)",
      "\u001b[0;32m<ipython-input-31-40b27e90d170>\u001b[0m in \u001b[0;36m<module>\u001b[0;34m\u001b[0m\n\u001b[0;32m----> 1\u001b[0;31m \u001b[0mexp\u001b[0m \u001b[0;34m=\u001b[0m \u001b[0mExpectation\u001b[0m\u001b[0;34m(\u001b[0m\u001b[0;32mNone\u001b[0m\u001b[0;34m,\u001b[0m \u001b[0;32mNone\u001b[0m\u001b[0;34m)\u001b[0m\u001b[0;34m\u001b[0m\u001b[0;34m\u001b[0m\u001b[0m\n\u001b[0m",
      "\u001b[0;32m~/IBM/dual-qite/notebooks/../src/expectation.py\u001b[0m in \u001b[0;36m__init__\u001b[0;34m(self, backend, expectation, hamiltonian, circuit, shots, measurement_error_mitigation, initial_layout)\u001b[0m\n\u001b[1;32m     49\u001b[0m         \u001b[0mself\u001b[0m\u001b[0;34m.\u001b[0m\u001b[0mexpectation\u001b[0m \u001b[0;34m=\u001b[0m \u001b[0mexpectation\u001b[0m\u001b[0;34m\u001b[0m\u001b[0;34m\u001b[0m\u001b[0m\n\u001b[1;32m     50\u001b[0m \u001b[0;34m\u001b[0m\u001b[0m\n\u001b[0;32m---> 51\u001b[0;31m         quantum_instance = self._construct_quantum_instance(\n\u001b[0m\u001b[1;32m     52\u001b[0m             \u001b[0mbackend\u001b[0m\u001b[0;34m,\u001b[0m \u001b[0mshots\u001b[0m\u001b[0;34m,\u001b[0m \u001b[0mmeasurement_error_mitigation\u001b[0m\u001b[0;34m,\u001b[0m \u001b[0minitial_layout\u001b[0m\u001b[0;34m\u001b[0m\u001b[0;34m\u001b[0m\u001b[0m\n\u001b[1;32m     53\u001b[0m         )\n",
      "\u001b[0;32m~/IBM/dual-qite/notebooks/../src/expectation.py\u001b[0m in \u001b[0;36m_construct_quantum_instance\u001b[0;34m(backend, shots, measurement_error_mitigation, initial_layout)\u001b[0m\n\u001b[1;32m    126\u001b[0m             )\n\u001b[1;32m    127\u001b[0m         \u001b[0;32melse\u001b[0m\u001b[0;34m:\u001b[0m\u001b[0;34m\u001b[0m\u001b[0;34m\u001b[0m\u001b[0m\n\u001b[0;32m--> 128\u001b[0;31m             \u001b[0mquantum_instance\u001b[0m \u001b[0;34m=\u001b[0m \u001b[0mQuantumInstance\u001b[0m\u001b[0;34m(\u001b[0m\u001b[0mbackend\u001b[0m\u001b[0;34m,\u001b[0m \u001b[0minitial_layout\u001b[0m\u001b[0;34m=\u001b[0m\u001b[0minitial_layout\u001b[0m\u001b[0;34m,\u001b[0m \u001b[0mshots\u001b[0m\u001b[0;34m=\u001b[0m\u001b[0mshots\u001b[0m\u001b[0;34m)\u001b[0m\u001b[0;34m\u001b[0m\u001b[0;34m\u001b[0m\u001b[0m\n\u001b[0m\u001b[1;32m    129\u001b[0m \u001b[0;34m\u001b[0m\u001b[0m\n\u001b[1;32m    130\u001b[0m         \u001b[0;32mreturn\u001b[0m \u001b[0mquantum_instance\u001b[0m\u001b[0;34m\u001b[0m\u001b[0;34m\u001b[0m\u001b[0m\n",
      "\u001b[0;32m~/Qiskit/qiskit-terra/qiskit/utils/quantum_instance.py\u001b[0m in \u001b[0;36m__init__\u001b[0;34m(self, backend, shots, seed_simulator, max_credits, basis_gates, coupling_map, initial_layout, pass_manager, bound_pass_manager, seed_transpiler, optimization_level, backend_options, noise_model, timeout, wait, skip_qobj_validation, measurement_error_mitigation_cls, cals_matrix_refresh_period, measurement_error_mitigation_shots, job_callback, mit_pattern, max_job_retries)\u001b[0m\n\u001b[1;32m    282\u001b[0m \u001b[0;34m\u001b[0m\u001b[0m\n\u001b[1;32m    283\u001b[0m         \u001b[0;31m# setup backend config\u001b[0m\u001b[0;34m\u001b[0m\u001b[0;34m\u001b[0m\u001b[0m\n\u001b[0;32m--> 284\u001b[0;31m         \u001b[0;32mif\u001b[0m \u001b[0mself\u001b[0m\u001b[0;34m.\u001b[0m\u001b[0m_backend_interface_version\u001b[0m \u001b[0;34m<=\u001b[0m \u001b[0;36m1\u001b[0m\u001b[0;34m:\u001b[0m\u001b[0;34m\u001b[0m\u001b[0;34m\u001b[0m\u001b[0m\n\u001b[0m\u001b[1;32m    285\u001b[0m             \u001b[0mbasis_gates\u001b[0m \u001b[0;34m=\u001b[0m \u001b[0mbasis_gates\u001b[0m \u001b[0;32mor\u001b[0m \u001b[0mbackend\u001b[0m\u001b[0;34m.\u001b[0m\u001b[0mconfiguration\u001b[0m\u001b[0;34m(\u001b[0m\u001b[0;34m)\u001b[0m\u001b[0;34m.\u001b[0m\u001b[0mbasis_gates\u001b[0m\u001b[0;34m\u001b[0m\u001b[0;34m\u001b[0m\u001b[0m\n\u001b[1;32m    286\u001b[0m             \u001b[0mcoupling_map\u001b[0m \u001b[0;34m=\u001b[0m \u001b[0mcoupling_map\u001b[0m \u001b[0;32mor\u001b[0m \u001b[0mgetattr\u001b[0m\u001b[0;34m(\u001b[0m\u001b[0mbackend\u001b[0m\u001b[0;34m.\u001b[0m\u001b[0mconfiguration\u001b[0m\u001b[0;34m(\u001b[0m\u001b[0;34m)\u001b[0m\u001b[0;34m,\u001b[0m \u001b[0;34m\"coupling_map\"\u001b[0m\u001b[0;34m,\u001b[0m \u001b[0;32mNone\u001b[0m\u001b[0;34m)\u001b[0m\u001b[0;34m\u001b[0m\u001b[0;34m\u001b[0m\u001b[0m\n",
      "\u001b[0;31mTypeError\u001b[0m: '<=' not supported between instances of 'NoneType' and 'int'"
     ]
    }
   ],
   "source": [
    "exp = Expectation(None, None)"
   ]
  },
  {
   "cell_type": "code",
   "execution_count": null,
   "id": "bd3b55a8",
   "metadata": {},
   "outputs": [],
   "source": [
    "rev = ExpectationReverse(partial=True)\n",
    "rev.expectation"
   ]
  },
  {
   "cell_type": "code",
   "execution_count": null,
   "id": "117bd780",
   "metadata": {},
   "outputs": [],
   "source": [
    "from surfer.gradient import ReverseGradient"
   ]
  },
  {
   "cell_type": "code",
   "execution_count": null,
   "id": "033cd358",
   "metadata": {},
   "outputs": [],
   "source": [
    "rev = ReverseGradient(partial_gradient=True)\n",
    "de = rev.compute(hamiltonian, circuit, initial_parameters)\n",
    "dpsi = rev.compute(iden, circuit, initial_parameters)"
   ]
  },
  {
   "cell_type": "code",
   "execution_count": null,
   "id": "be054c20",
   "metadata": {},
   "outputs": [],
   "source": []
  },
  {
   "cell_type": "code",
   "execution_count": null,
   "id": "55c3e284",
   "metadata": {},
   "outputs": [],
   "source": []
  },
  {
   "cell_type": "code",
   "execution_count": null,
   "id": "241784f6",
   "metadata": {},
   "outputs": [],
   "source": [
    "dE / 2"
   ]
  },
  {
   "cell_type": "code",
   "execution_count": null,
   "id": "a5234d21",
   "metadata": {},
   "outputs": [],
   "source": [
    "dPsi / 2"
   ]
  },
  {
   "cell_type": "code",
   "execution_count": null,
   "id": "12e3f7bc",
   "metadata": {},
   "outputs": [],
   "source": [
    "de"
   ]
  },
  {
   "cell_type": "code",
   "execution_count": null,
   "id": "14ed2cef",
   "metadata": {},
   "outputs": [],
   "source": [
    "dpsi"
   ]
  },
  {
   "cell_type": "code",
   "execution_count": null,
   "id": "54812078",
   "metadata": {},
   "outputs": [],
   "source": [
    "dE / 2 - E * dPsi / 2"
   ]
  },
  {
   "cell_type": "code",
   "execution_count": null,
   "id": "a6606c18",
   "metadata": {},
   "outputs": [],
   "source": [
    "de - E * dpsi"
   ]
  },
  {
   "cell_type": "code",
   "execution_count": null,
   "id": "0ffcbd70",
   "metadata": {},
   "outputs": [],
   "source": []
  }
 ],
 "metadata": {
  "kernelspec": {
   "display_name": "Python 3",
   "language": "python",
   "name": "python3"
  },
  "language_info": {
   "codemirror_mode": {
    "name": "ipython",
    "version": 3
   },
   "file_extension": ".py",
   "mimetype": "text/x-python",
   "name": "python",
   "nbconvert_exporter": "python",
   "pygments_lexer": "ipython3",
   "version": "3.10.4"
  }
 },
 "nbformat": 4,
 "nbformat_minor": 5
}
