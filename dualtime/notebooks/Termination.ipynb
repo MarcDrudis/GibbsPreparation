{
 "cells": [
  {
   "cell_type": "code",
   "execution_count": 1,
   "id": "cdea6ca5",
   "metadata": {},
   "outputs": [],
   "source": [
    "import sys\n",
    "sys.path.append(\"..\")"
   ]
  },
  {
   "cell_type": "code",
   "execution_count": 2,
   "id": "bb26f63a",
   "metadata": {},
   "outputs": [],
   "source": [
    "from dataclasses import dataclass\n",
    "from typing import Optional, Union\n",
    "import logging\n",
    "\n",
    "import numpy as np\n",
    "import scipy as sc\n",
    "import matplotlib.pyplot as plt\n",
    "\n",
    "from qiskit.algorithms.optimizers import L_BFGS_B\n",
    "from qiskit.circuit import QuantumCircuit\n",
    "from qiskit.opflow import PauliSumOp, AerPauliExpectation, PauliExpectation\n",
    "from qiskit.circuit.library import EfficientSU2\n",
    "from qiskit.providers.aer import AerSimulator\n",
    "from qiskit.quantum_info import Statevector"
   ]
  },
  {
   "cell_type": "code",
   "execution_count": 2,
   "id": "df716942",
   "metadata": {},
   "outputs": [],
   "source": [
    "from src.expectation import Expectation\n",
    "from src.fidelity import Fidelity\n",
    "\n",
    "from src.gradients import ExpectationParameterShift, FidelityParameterShift\n",
    "from src.gradients import ExpectationReverse, FidelityReverse\n",
    "\n",
    "from experiments.models.heisenline import get_model\n",
    "from src.dual import DualITE"
   ]
  },
  {
   "cell_type": "code",
   "execution_count": 37,
   "id": "872b7b96",
   "metadata": {},
   "outputs": [],
   "source": [
    "class GradientDescent:\n",
    "    \"\"\"Specialized GD for our fidelity problem.\"\"\"\n",
    "    \n",
    "    def __init__(self, maxiter=100, learning_rate=0.01, timestep_normalization=True, losstol=1e-5, gradtol=1e-5):\n",
    "        self.maxiter = maxiter\n",
    "        self.learning_rate = learning_rate\n",
    "        self.timestep_normalization = timestep_normalization\n",
    "        self.losstol = losstol\n",
    "        self.gradtol = gradtol\n",
    "        \n",
    "    def check_termination(self, losses, gradients):\n",
    "        state = \"\"\n",
    "        if len(losses) > 1:\n",
    "            state += f\"lossdiff: {np.abs(losses[-1] - losses[-2])} \"\n",
    "            if np.abs(losses[-1] - losses[-2]) <= self.losstol:\n",
    "                print(\"Reached losstol at k =\", len(losses))\n",
    "                return True\n",
    "        \n",
    "        state += f\"gradnorm: {np.linalg.norm(gradients[-1])}\"\n",
    "        if np.linalg.norm(gradients[-1]) <= self.gradtol:\n",
    "            print(\"Reached gradtol at k =\", len(gradients))\n",
    "            return True\n",
    "    \n",
    "        print(state, end=\"\\r\")\n",
    "        \n",
    "        return False\n",
    "        \n",
    "    def minimize(self, theta, dt, x0, expectation_gradient, fidelity, fidelity_gradient):\n",
    "        energy_gradient = 0.5 * expectation_gradient.compute(theta)\n",
    "        xs = [x0]\n",
    "        losses = []\n",
    "        gradients = []\n",
    "        scs = []\n",
    "        \n",
    "        for _ in range(self.maxiter):\n",
    "            x = xs[-1]\n",
    "            sc = 0.5 * energy_gradient.dot(xs[-1])\n",
    "            \n",
    "            infid = 1 - fidelity.evaluate(theta, theta + x)\n",
    "            loss = energy_gradient.dot(x) + 0.5 / dt * infid\n",
    "            \n",
    "            fid_derivative = fidelity_gradient.compute(theta, theta + x)\n",
    "            gradient = energy_gradient - 0.5 / dt * fid_derivative\n",
    "\n",
    "            if self.timestep_normalization:\n",
    "                gradient *= dt\n",
    "                loss *= dt\n",
    "                sc *= dt \n",
    "                \n",
    "            losses.append(loss)\n",
    "            gradients.append(gradient)\n",
    "            xs.append(x - self.learning_rate * gradient)\n",
    "            scs.append(sc)\n",
    "            \n",
    "            if self.check_termination(losses, gradients):\n",
    "                break\n",
    "            \n",
    "        return xs[-1], xs, losses, gradients, scs"
   ]
  },
  {
   "cell_type": "code",
   "execution_count": 24,
   "id": "fe4e22cb",
   "metadata": {},
   "outputs": [],
   "source": [
    "class CG:\n",
    "    def __init__(self, maxiter=100, losstol=1e-5, gradtol=1e-3):\n",
    "        self.maxiter = maxiter\n",
    "        self.gradtol = gradtol  # if norm of residual is below this, stop\n",
    "        self.losstol = losstol\n",
    "        \n",
    "    def check_termination(self, losses, residuals):\n",
    "        if len(losses) > 1 and np.abs(losses[-1] - losses[-2]) <= self.losstol:\n",
    "            print(\"Reached losstol at k =\", len(losses))\n",
    "            return True\n",
    "        \n",
    "        if np.linalg.norm(residuals[-1]) <= self.gradtol:\n",
    "            print(\"Reached gradtol at k =\", len(losses))\n",
    "            return True\n",
    "        \n",
    "        return False\n",
    "        \n",
    "    def minimize(self, theta, dt, x0, expectation_gradient, fidelity, fidelity_gradient):\n",
    "        energy_gradient = 0.5 * dt * expectation_gradient.compute(theta)\n",
    "        xs = [x0]\n",
    "        losses = []\n",
    "        scs = []\n",
    "        \n",
    "        fid_derivative = fidelity_gradient.compute(theta, theta + x0)\n",
    "        residuals = [-(energy_gradient - 0.5 * fid_derivative)]\n",
    "        basis_vectors = [residuals[-1]]\n",
    "        coeffs = []\n",
    "        \n",
    "        if self.check_termination(losses, residuals):\n",
    "            print(\"Stopped immediately!\")\n",
    "            return x0, xs, losses, residuals, scs\n",
    "        \n",
    "        for k in range(self.maxiter):\n",
    "            print(f\"Iteration {k+1}/{self.maxiter}\", end=\"\\r\")\n",
    "            rk = residuals[-1]\n",
    "            pk = basis_vectors[-1]\n",
    "            \n",
    "            coeffs.append(rk.dot(rk) / fidelity.evaluate(theta, theta + pk))\n",
    "            xs.append(xs[-1] + coeffs[-1] * basis_vectors[-1])\n",
    "            \n",
    "            fid_derivative = fidelity_gradient.compute(theta, theta + xs[-1])\n",
    "            residuals.append(-(energy_gradient - 0.5 * fid_derivative))\n",
    "            \n",
    "            bk = residuals[-1].dot(residuals[-1]) / rk.dot(rk)\n",
    "            basis_vectors.append(residuals[-1] + bk * basis_vectors[-1])\n",
    "            \n",
    "            losses.append(\n",
    "                energy_gradient.dot(xs[-1]) + 0.5 * (1 - fidelity.evaluate(theta, theta + xs[-1]))\n",
    "            )\n",
    "            scs.append(0.5 * energy_gradient.dot(xs[-1]))\n",
    "            \n",
    "            if self.check_termination(losses, residuals):\n",
    "                print(\"Stopped at k =\", k)\n",
    "                break\n",
    "            \n",
    "        return xs[-1], xs, losses, residuals, scs"
   ]
  },
  {
   "cell_type": "code",
   "execution_count": 6,
   "id": "9fcd6de7",
   "metadata": {},
   "outputs": [],
   "source": [
    "class BFGS:\n",
    "    \"\"\"Specialized BFGS for our fidelity problem.\"\"\"\n",
    "    \n",
    "    def __init__(self, timestep_normalization=True):\n",
    "        self.timestep_normalization = timestep_normalization\n",
    "        \n",
    "    def minimize(self, theta, dt, x0, expectation_gradient, fidelity, fidelity_gradient):\n",
    "        energy_gradient = 0.5 * expectation_gradient.compute(theta)\n",
    "\n",
    "        def loss(x):            \n",
    "            infid = 1 - fidelity.evaluate(theta, theta + x)\n",
    "            res = energy_gradient.dot(x) + 0.5 / dt * infid\n",
    "            if self.timestep_normalization:\n",
    "                res *= dt\n",
    "            return res\n",
    "        \n",
    "        result = L_BFGS_B().minimize(loss, x0)\n",
    "        \n",
    "        sc = 0.5 * energy_gradient.dot(result.x)\n",
    "        if self.timestep_normalization:\n",
    "            sc *= dt\n",
    "        return result.x, [result.x], [result.fun], [None], [sc]"
   ]
  },
  {
   "cell_type": "code",
   "execution_count": 38,
   "id": "6245daef",
   "metadata": {},
   "outputs": [],
   "source": [
    "@dataclass\n",
    "class DualITEResult:\n",
    "    times: list\n",
    "    parameters: list\n",
    "    energies: list\n",
    "\n",
    "    # history attributes\n",
    "    thetas: list\n",
    "    losses: list\n",
    "    gradients: list\n",
    "    scs: list\n",
    "\n",
    "\n",
    "class DualITE:\n",
    "    \"\"\"Imaginary time evolution using the QNG minimization formulation.\"\"\"\n",
    "\n",
    "    def __init__(\n",
    "        self,\n",
    "        ansatz,\n",
    "        initial_parameters,\n",
    "        expectation,\n",
    "        fidelity,\n",
    "        expectation_gradient = None,\n",
    "        fidelity_gradient = None,\n",
    "        norm_factor = 1,\n",
    "        arccos = False,\n",
    "        optimizer = None,\n",
    "        warmstart = True,\n",
    "    ):\n",
    "        \"\"\"\n",
    "        Args:\n",
    "            ansatz: The ansatz circuit.\n",
    "            expectation: The expectation converter to use for the basis transformation.\n",
    "            fidelity: The fidelity of the two quantum states.\n",
    "            expectation_gradient: The expectation gradient.\n",
    "            fidelity_gradient: The fidelity gradient.\n",
    "            norm_factor: Add the norm of the update step to the loss with this factor.\n",
    "            arccos: Use arccos instead of 1 - fidelity.\n",
    "            optimizer: An optimizer callable, taking a loss_and_gradient and initial point.\n",
    "            warmstart: If True use the gradient of the last iteration as initial step.\n",
    "                If a vector, this vector is used as first initial guess and then the other\n",
    "                steps are warmstarted. If False a zero vector is used as initial guess.\n",
    "        \"\"\"\n",
    "        self.ansatz = ansatz\n",
    "        self.initial_parameters = initial_parameters\n",
    "        self.expectation = expectation\n",
    "        self.fidelity = fidelity\n",
    "\n",
    "        self.expectation.circuit = ansatz\n",
    "        self.fidelity.right_circuit = ansatz\n",
    "        self.fidelity.left_circuit = ansatz\n",
    "\n",
    "        if expectation_gradient is None:\n",
    "            expectation_gradient = ExpectationParameterShift()\n",
    "\n",
    "        expectation_gradient.expectation = self.expectation\n",
    "        self.expectation_gradient = expectation_gradient\n",
    "\n",
    "        if fidelity_gradient is None:\n",
    "            fidelity_gradient = FidelityParameterShift()\n",
    "\n",
    "        fidelity_gradient.fidelity = self.fidelity\n",
    "        self.fidelity_gradient = fidelity_gradient\n",
    "\n",
    "        self.norm_factor = norm_factor\n",
    "        self.arccos = arccos\n",
    "\n",
    "        if optimizer is None:\n",
    "            optimizer = GradientDescent(maxiter=300, learning_rate=0.01)\n",
    "\n",
    "        self.optimizer = optimizer\n",
    "\n",
    "        self.warmstart = warmstart\n",
    "        \n",
    "    def step(self, dt: float, theta: np.ndarray, x0: Optional[np.ndarray] = None):\n",
    "        \"\"\"Perform a single step of the time evolution.\n",
    "\n",
    "        Args:\n",
    "            dt: The time step.\n",
    "            theta: The current parameters.\n",
    "            x0: The point at which to start the optimization (0 per default).\n",
    "\n",
    "        Returns:\n",
    "            The new parameters, along with: all parameters, all losses and all gradient norms of\n",
    "            the optimization.\n",
    "        \"\"\"\n",
    "        if x0 is None:\n",
    "            x = 0.01 * np.ones_like(theta)\n",
    "        else:\n",
    "            x = x0\n",
    "\n",
    "        x, xs, losses, gradients, sc = self.optimizer(\n",
    "            theta, dt, x, self.expectation_gradient, self.fidelity, self.fidelity_gradient\n",
    "        )\n",
    "\n",
    "        thetas = [theta + x_i for x_i in xs]\n",
    "        return theta + x, thetas, losses, gradients, sc\n",
    "\n",
    "    def evolve(self, hamiltonian: PauliSumOp, final_time: float, timestep: float) -> DualITEResult:\n",
    "        \"\"\"Evolve the ansatz circuit for a given Hamiltonian.\n",
    "\n",
    "        Args:\n",
    "            hamiltonian: The Hamiltonian to evolve under.\n",
    "            final_time: The final time.\n",
    "            timestep: The timestep.\n",
    "\n",
    "        Returns:\n",
    "            The result of the evolution.\n",
    "        \"\"\"\n",
    "        self.expectation.hamiltonian = hamiltonian\n",
    "        energies = [self.expectation.evaluate(self.initial_parameters)]\n",
    "        parameters = [self.initial_parameters]\n",
    "\n",
    "        thetas = []\n",
    "        losses = []\n",
    "        gradients = []\n",
    "        scs = []\n",
    "\n",
    "        num_timesteps = int(np.ceil(final_time / timestep))\n",
    "        times = np.linspace(0, final_time, num_timesteps + 1).tolist()\n",
    "\n",
    "        if isinstance(self.warmstart, np.ndarray):\n",
    "            x0 = self.warmstart\n",
    "        else:\n",
    "            x0 = 0.01 * np.ones(self.initial_parameters.size)\n",
    "\n",
    "        for i in range(num_timesteps):\n",
    "            print(f\"Iteration {i+1}/{num_timesteps}\")\n",
    "            next_theta, thetas_i, losses_i, gradients_i, scs_i = self.step(timestep, parameters[-1], x0)\n",
    "\n",
    "            if self.warmstart is not False:  # to cover the case of np.ndarray\n",
    "                x0 = next_theta - parameters[-1]\n",
    "\n",
    "            parameters.append(next_theta)\n",
    "            energies.append(self.expectation.evaluate(next_theta))\n",
    "\n",
    "            thetas.append(thetas_i)\n",
    "            losses.append(losses_i)\n",
    "            gradients.append(gradients_i)\n",
    "            scs.append(scs_i)\n",
    "\n",
    "        return DualITEResult(times, parameters, energies, thetas, losses, gradients, scs)\n"
   ]
  },
  {
   "cell_type": "code",
   "execution_count": 141,
   "id": "a33ef379",
   "metadata": {},
   "outputs": [],
   "source": [
    "hamiltonian, circuit, initial_parameters = get_model(num_sites=5, J=0.25, g=-1, reps=6, periodic=True)"
   ]
  },
  {
   "cell_type": "code",
   "execution_count": 132,
   "id": "1b19e910",
   "metadata": {},
   "outputs": [
    {
     "data": {
      "text/plain": [
       "56"
      ]
     },
     "execution_count": 132,
     "metadata": {},
     "output_type": "execute_result"
    }
   ],
   "source": [
    "circuit.num_parameters"
   ]
  },
  {
   "cell_type": "code",
   "execution_count": 133,
   "id": "ba5471c4",
   "metadata": {},
   "outputs": [
    {
     "name": "stdout",
     "output_type": "stream",
     "text": [
      "     ┌──────────┐┌──────────┐      ┌──────────┐┌───────────┐                  »\n",
      "q_0: ┤ Ry(θ[0]) ├┤ Rz(θ[4]) ├──■───┤ Ry(θ[8]) ├┤ Rz(θ[12]) ├───────────────■──»\n",
      "     ├──────────┤├──────────┤┌─┴─┐ └──────────┘└┬──────────┤┌───────────┐┌─┴─┐»\n",
      "q_1: ┤ Ry(θ[1]) ├┤ Rz(θ[5]) ├┤ X ├──────■───────┤ Ry(θ[9]) ├┤ Rz(θ[13]) ├┤ X ├»\n",
      "     ├──────────┤├──────────┤└───┘    ┌─┴─┐    ┌┴──────────┤├───────────┤└───┘»\n",
      "q_2: ┤ Ry(θ[2]) ├┤ Rz(θ[6]) ├──■──────┤ X ├────┤ Ry(θ[10]) ├┤ Rz(θ[14]) ├──■──»\n",
      "     ├──────────┤├──────────┤┌─┴─┐┌───┴───┴───┐├───────────┤└───────────┘┌─┴─┐»\n",
      "q_3: ┤ Ry(θ[3]) ├┤ Rz(θ[7]) ├┤ X ├┤ Ry(θ[11]) ├┤ Rz(θ[15]) ├─────────────┤ X ├»\n",
      "     └──────────┘└──────────┘└───┘└───────────┘└───────────┘             └───┘»\n",
      "«     ┌───────────┐┌───────────┐                  ┌───────────┐┌───────────┐»\n",
      "«q_0: ┤ Ry(θ[16]) ├┤ Rz(θ[20]) ├───────────────■──┤ Ry(θ[24]) ├┤ Rz(θ[28]) ├»\n",
      "«     └───────────┘├───────────┤┌───────────┐┌─┴─┐└───────────┘├───────────┤»\n",
      "«q_1: ──────■──────┤ Ry(θ[17]) ├┤ Rz(θ[21]) ├┤ X ├──────■──────┤ Ry(θ[25]) ├»\n",
      "«         ┌─┴─┐    ├───────────┤├───────────┤└───┘    ┌─┴─┐    ├───────────┤»\n",
      "«q_2: ────┤ X ├────┤ Ry(θ[18]) ├┤ Rz(θ[22]) ├──■──────┤ X ├────┤ Ry(θ[26]) ├»\n",
      "«     ┌───┴───┴───┐├───────────┤└───────────┘┌─┴─┐┌───┴───┴───┐├───────────┤»\n",
      "«q_3: ┤ Ry(θ[19]) ├┤ Rz(θ[23]) ├─────────────┤ X ├┤ Ry(θ[27]) ├┤ Rz(θ[31]) ├»\n",
      "«     └───────────┘└───────────┘             └───┘└───────────┘└───────────┘»\n",
      "«                       ┌───────────┐┌───────────┐                  »\n",
      "«q_0: ───────────────■──┤ Ry(θ[32]) ├┤ Rz(θ[36]) ├───────────────■──»\n",
      "«     ┌───────────┐┌─┴─┐└───────────┘├───────────┤┌───────────┐┌─┴─┐»\n",
      "«q_1: ┤ Rz(θ[29]) ├┤ X ├──────■──────┤ Ry(θ[33]) ├┤ Rz(θ[37]) ├┤ X ├»\n",
      "«     ├───────────┤└───┘    ┌─┴─┐    ├───────────┤├───────────┤└───┘»\n",
      "«q_2: ┤ Rz(θ[30]) ├──■──────┤ X ├────┤ Ry(θ[34]) ├┤ Rz(θ[38]) ├──■──»\n",
      "«     └───────────┘┌─┴─┐┌───┴───┴───┐├───────────┤└───────────┘┌─┴─┐»\n",
      "«q_3: ─────────────┤ X ├┤ Ry(θ[35]) ├┤ Rz(θ[39]) ├─────────────┤ X ├»\n",
      "«                  └───┘└───────────┘└───────────┘             └───┘»\n",
      "«     ┌───────────┐┌───────────┐                  ┌───────────┐┌───────────┐»\n",
      "«q_0: ┤ Ry(θ[40]) ├┤ Rz(θ[44]) ├───────────────■──┤ Ry(θ[48]) ├┤ Rz(θ[52]) ├»\n",
      "«     └───────────┘├───────────┤┌───────────┐┌─┴─┐└───────────┘├───────────┤»\n",
      "«q_1: ──────■──────┤ Ry(θ[41]) ├┤ Rz(θ[45]) ├┤ X ├──────■──────┤ Ry(θ[49]) ├»\n",
      "«         ┌─┴─┐    ├───────────┤├───────────┤└───┘    ┌─┴─┐    ├───────────┤»\n",
      "«q_2: ────┤ X ├────┤ Ry(θ[42]) ├┤ Rz(θ[46]) ├──■──────┤ X ├────┤ Ry(θ[50]) ├»\n",
      "«     ┌───┴───┴───┐├───────────┤└───────────┘┌─┴─┐┌───┴───┴───┐├───────────┤»\n",
      "«q_3: ┤ Ry(θ[43]) ├┤ Rz(θ[47]) ├─────────────┤ X ├┤ Ry(θ[51]) ├┤ Rz(θ[55]) ├»\n",
      "«     └───────────┘└───────────┘             └───┘└───────────┘└───────────┘»\n",
      "«                  \n",
      "«q_0: ─────────────\n",
      "«     ┌───────────┐\n",
      "«q_1: ┤ Rz(θ[53]) ├\n",
      "«     ├───────────┤\n",
      "«q_2: ┤ Rz(θ[54]) ├\n",
      "«     └───────────┘\n",
      "«q_3: ─────────────\n",
      "«                  \n"
     ]
    }
   ],
   "source": [
    "print(circuit.decompose().draw())"
   ]
  },
  {
   "cell_type": "code",
   "execution_count": 134,
   "id": "7b7a93cd",
   "metadata": {},
   "outputs": [],
   "source": [
    "backend = AerSimulator(method=\"statevector\")\n",
    "expectation_converter = AerPauliExpectation()\n",
    "shots = None\n",
    "expectation_gradient = ExpectationReverse()\n",
    "fidelity_gradient = FidelityReverse()\n",
    "expectation = Expectation(backend, expectation_converter, hamiltonian, shots=shots)\n",
    "fidelity = Fidelity(backend, expectation_converter, shots=shots)"
   ]
  },
  {
   "cell_type": "code",
   "execution_count": 135,
   "id": "20a89b08",
   "metadata": {},
   "outputs": [],
   "source": [
    "def num_iterations(result):\n",
    "    \"\"\"Number of iteration steps.\"\"\"\n",
    "    thetas = result.thetas if isinstance(result, DualITEResult) else result[\"thetas\"]\n",
    "    return np.array([len(thetas_i) for thetas_i in thetas])"
   ]
  },
  {
   "cell_type": "code",
   "execution_count": 136,
   "id": "15ae1bae",
   "metadata": {},
   "outputs": [],
   "source": [
    "def energy_errors(exact, result):\n",
    "    return np.abs(exact.energies - result.energies)"
   ]
  },
  {
   "cell_type": "code",
   "execution_count": 137,
   "id": "ca69e386",
   "metadata": {},
   "outputs": [],
   "source": [
    "def fidelities(exact, result):\n",
    "    return [\n",
    "        np.dot(np.conj(ref), Statevector(circuit.bind_parameters(theta)))\n",
    "        for ref, theta in zip(exact.parameters, result.parameters)\n",
    "    ]"
   ]
  },
  {
   "cell_type": "markdown",
   "id": "37dcda17",
   "metadata": {},
   "source": [
    "### Exact reference"
   ]
  },
  {
   "cell_type": "code",
   "execution_count": 354,
   "id": "771a0d49",
   "metadata": {},
   "outputs": [],
   "source": [
    "initial_state = Statevector(circuit.bind_parameters(initial_parameters))\n",
    "initial_statevector = initial_state.data\n",
    "hamiltonian_matrix = hamiltonian.to_matrix()\n",
    "\n",
    "times = [0]\n",
    "energies = [initial_state.expectation_value(hamiltonian_matrix)]\n",
    "states = [initial_statevector]\n",
    "final_time = 1\n",
    "timestep = 0.01\n",
    "\n",
    "while times[-1] < final_time:\n",
    "#     print(f\"Time {times[-1]}/{final_time}\")\n",
    "    times.append(times[-1] + timestep)\n",
    "    statevector = sc.linalg.expm(-times[-1] * hamiltonian_matrix).dot(initial_statevector)\n",
    "    statevector /= np.linalg.norm(statevector)\n",
    "    energies.append(Statevector(statevector).expectation_value(hamiltonian_matrix))\n",
    "    states.append(statevector)\n",
    "\n",
    "exact = DualITEResult(times, states, energies, [], [], [], [])"
   ]
  },
  {
   "cell_type": "markdown",
   "id": "53c83865",
   "metadata": {},
   "source": [
    "## Gradient descent"
   ]
  },
  {
   "cell_type": "markdown",
   "id": "7c9ac9e4",
   "metadata": {},
   "source": [
    "### no stop"
   ]
  },
  {
   "cell_type": "code",
   "execution_count": 424,
   "id": "99b6800b",
   "metadata": {},
   "outputs": [],
   "source": [
    "gd = GradientDescent(100, 0.1, True, losstol=0, gradtol=0)"
   ]
  },
  {
   "cell_type": "code",
   "execution_count": 425,
   "id": "779e8044",
   "metadata": {},
   "outputs": [],
   "source": [
    "algo = DualITE(\n",
    "    circuit,\n",
    "    initial_parameters,\n",
    "    expectation,\n",
    "    fidelity,\n",
    "    expectation_gradient,\n",
    "    fidelity_gradient,\n",
    "    warmstart=False,\n",
    "    optimizer=gd.minimize,\n",
    "    timestep_normalization=True,\n",
    "    norm_factor=0,\n",
    ")"
   ]
  },
  {
   "cell_type": "code",
   "execution_count": 426,
   "id": "c877ade4",
   "metadata": {},
   "outputs": [
    {
     "name": "stdout",
     "output_type": "stream",
     "text": [
      "Iteration 100/100\r"
     ]
    }
   ],
   "source": [
    "gd100_nostop = algo.evolve(hamiltonian, final_time=1, timestep=0.01)"
   ]
  },
  {
   "cell_type": "code",
   "execution_count": 427,
   "id": "0fd2fc3e",
   "metadata": {},
   "outputs": [
    {
     "data": {
      "text/plain": [
       "[<matplotlib.lines.Line2D at 0x7fd800cd9d80>]"
      ]
     },
     "execution_count": 427,
     "metadata": {},
     "output_type": "execute_result"
    },
    {
     "data": {
      "image/png": "[encoded data removed]",
      "text/plain": [
       "<Figure size 432x288 with 1 Axes>"
      ]
     },
     "metadata": {
      "needs_background": "light"
     },
     "output_type": "display_data"
    }
   ],
   "source": [
    "plt.plot(gd100_nostop.energies)\n",
    "# plt.plot(exact.energies)"
   ]
  },
  {
   "cell_type": "code",
   "execution_count": 345,
   "id": "a7a369da",
   "metadata": {},
   "outputs": [
    {
     "data": {
      "text/plain": [
       "[<matplotlib.lines.Line2D at 0x7fd83319d120>]"
      ]
     },
     "execution_count": 345,
     "metadata": {},
     "output_type": "execute_result"
    },
    {
     "data": {
      "image/png": "[encoded data removed]",
      "text/plain": [
       "<Figure size 432x288 with 1 Axes>"
      ]
     },
     "metadata": {
      "needs_background": "light"
     },
     "output_type": "display_data"
    }
   ],
   "source": [
    "plt.plot(num_iterations(gd100_nostop), \"o\", ls=\"\")"
   ]
  },
  {
   "cell_type": "markdown",
   "id": "6e2a2cf4",
   "metadata": {},
   "source": [
    "### with stopping"
   ]
  },
  {
   "cell_type": "code",
   "execution_count": 39,
   "id": "af969d75",
   "metadata": {},
   "outputs": [],
   "source": [
    "gd = GradientDescent(100, 0.1, True, losstol=1e-4 * 0.01, gradtol=1e-3 * 0.01)"
   ]
  },
  {
   "cell_type": "code",
   "execution_count": 40,
   "id": "e9ccb053",
   "metadata": {},
   "outputs": [],
   "source": [
    "algo = DualITE(\n",
    "    circuit,\n",
    "    initial_parameters,\n",
    "    expectation,\n",
    "    fidelity,\n",
    "    expectation_gradient,\n",
    "    fidelity_gradient,\n",
    "    warmstart=False,\n",
    "    optimizer=gd.minimize,\n",
    "    norm_factor=0,\n",
    ")"
   ]
  },
  {
   "cell_type": "code",
   "execution_count": 41,
   "id": "6784e740",
   "metadata": {},
   "outputs": [
    {
     "name": "stdout",
     "output_type": "stream",
     "text": [
      "Iteration 1/100\n",
      "Reached losstol at k = 90883e-06 gradnorm: 0.0031118228720414535\n",
      "Iteration 2/100\n",
      "Reached losstol at k = 90442e-06 gradnorm: 0.0031119815400726413\n",
      "Iteration 3/100\n",
      "Reached losstol at k = 90156e-06 gradnorm: 0.0031242736536485874\n",
      "Iteration 4/100\n",
      "Reached losstol at k = 90155e-06 gradnorm: 0.0031479389455447464\n",
      "Iteration 5/100\n",
      "Reached losstol at k = 90756e-06 gradnorm: 0.0031801728735027493\n",
      "Iteration 6/100\n",
      "Reached losstol at k = 91327e-06 gradnorm: 0.0031384662806855567\n",
      "Iteration 7/100\n",
      "Reached losstol at k = 91009e-06 gradnorm: 0.0031755170183514847\n",
      "Iteration 8/100\n",
      "Reached losstol at k = 92353e-06 gradnorm: 0.0031325520653553953\n",
      "Iteration 9/100\n",
      "Reached losstol at k = 92979e-06 gradnorm: 0.0031626293564744213\n",
      "Iteration 10/100\n",
      "Reached losstol at k = 93349e-06 gradnorm: 0.0031113313405023942\n",
      "Iteration 11/100\n",
      "Reached losstol at k = 93945e-06 gradnorm: 0.0031321946434644323\n",
      "Iteration 12/100\n",
      "Reached losstol at k = 9336e-06 gradnorm: 0.00314970824729207375\n",
      "Iteration 13/100\n",
      "Reached losstol at k = 9392e-06 gradnorm: 0.00316474843018693236\n",
      "Iteration 14/100\n",
      "Reached losstol at k = 93884e-06 gradnorm: 0.0031781524858935147\n",
      "Iteration 15/100\n",
      "Reached losstol at k = 9417e-06 gradnorm: 0.00311425520336753056\n",
      "Iteration 16/100\n",
      "Reached losstol at k = 94373e-06 gradnorm: 0.0031261695088392324\n",
      "Iteration 17/100\n",
      "Reached losstol at k = 94663e-06 gradnorm: 0.0031382110915653674\n",
      "Iteration 18/100\n",
      "Reached losstol at k = 94866e-06 gradnorm: 0.0031506904216149533\n",
      "Iteration 19/100\n",
      "Reached losstol at k = 94128e-06 gradnorm: 0.0031638130322993443\n",
      "Iteration 20/100\n",
      "Reached losstol at k = 94457e-06 gradnorm: 0.0031776947571382185\n",
      "Iteration 21/100\n",
      "Reached losstol at k = 9566e-06 gradnorm: 0.00311899494818433834\n",
      "Iteration 22/100\n",
      "Reached losstol at k = 95964e-06 gradnorm: 0.0031343308940810573\n",
      "Iteration 23/100\n",
      "Reached losstol at k = 95296e-06 gradnorm: 0.0031503240034080537\n",
      "Iteration 24/100\n",
      "Reached losstol at k = 95044e-06 gradnorm: 0.0031668330366965893\n",
      "Iteration 25/100\n",
      "Reached losstol at k = 9638e-06 gradnorm: 0.00311353156180492562\n",
      "Iteration 26/100\n",
      "Reached losstol at k = 96552e-06 gradnorm: 0.0031303540402442443\n",
      "Iteration 27/100\n",
      "Reached losstol at k = 96346e-06 gradnorm: 0.0031469932361071432\n",
      "Iteration 28/100\n",
      "Reached losstol at k = 96416e-06 gradnorm: 0.0031631664184100366\n",
      "Iteration 29/100\n",
      "Reached losstol at k = 96531e-06 gradnorm: 0.0031785881932086006\n",
      "Iteration 30/100\n",
      "Reached losstol at k = 97775e-06 gradnorm: 0.0031265944213707065\n",
      "Iteration 31/100\n",
      "Reached losstol at k = 97756e-06 gradnorm: 0.0031396684130942246\n",
      "Iteration 32/100\n",
      "Reached losstol at k = 97812e-06 gradnorm: 0.0031513645608217995\n",
      "Iteration 33/100\n",
      "Reached losstol at k = 9779e-06 gradnorm: 0.00316163278076112266\n",
      "Iteration 34/100\n",
      "Reached losstol at k = 9776e-06 gradnorm: 0.00317051447122805245\n",
      "Iteration 35/100\n",
      "Reached losstol at k = 98834e-06 gradnorm: 0.0031153781568555266\n",
      "Iteration 36/100\n",
      "Reached losstol at k = 9882e-06 gradnorm: 0.00312177166028326573\n",
      "Iteration 37/100\n",
      "Reached losstol at k = 98277e-06 gradnorm: 0.0031272409879286324\n",
      "Iteration 38/100\n",
      "Reached losstol at k = 98054e-06 gradnorm: 0.0031319804925643638\n",
      "Iteration 39/100\n",
      "Reached losstol at k = 98582e-06 gradnorm: 0.0031362262912876136\n",
      "Iteration 40/100\n",
      "Reached losstol at k = 98119e-06 gradnorm: 0.0031402955860802494\n",
      "Iteration 41/100\n",
      "Reached losstol at k = 9829e-06 gradnorm: 0.00314459164229146155\n",
      "Iteration 42/100\n",
      "Reached losstol at k = 98194e-06 gradnorm: 0.0031495386213603975\n",
      "Iteration 43/100\n",
      "Reached losstol at k = 98446e-06 gradnorm: 0.0031554562676609998\n",
      "Iteration 44/100\n",
      "Reached losstol at k = 9846e-06 gradnorm: 0.00316243330393391136\n",
      "Iteration 45/100\n",
      "Reached losstol at k = 98158e-06 gradnorm: 0.0031702677872906824\n",
      "Iteration 46/100\n",
      "Reached losstol at k = 99393e-06 gradnorm: 0.0031229459892563676\n",
      "Iteration 47/100\n",
      "Reached losstol at k = 99364e-06 gradnorm: 0.0031309727499378875\n",
      "Iteration 48/100\n",
      "Reached losstol at k = 99803e-06 gradnorm: 0.0031381483604181177\n",
      "Iteration 49/100\n",
      "Reached losstol at k = 99938e-06 gradnorm: 0.0031439688376858127\n",
      "Iteration 50/100\n",
      "Reached losstol at k = 99634e-06 gradnorm: 0.0031480907555880458\n",
      "Iteration 51/100\n",
      "Reached losstol at k = 99528e-06 gradnorm: 0.0031503401967742364\n",
      "Iteration 52/100\n",
      "Reached losstol at k = 99176e-06 gradnorm: 0.0031506899313525636\n",
      "Iteration 53/100\n",
      "Reached losstol at k = 99533e-06 gradnorm: 0.0031492219814752974\n",
      "Iteration 54/100\n",
      "Reached losstol at k = 9993e-06 gradnorm: 0.00314608860940201542\n",
      "Iteration 55/100\n",
      "Reached losstol at k = 99312e-06 gradnorm: 0.0031414791515654047\n",
      "Iteration 56/100\n",
      "Reached losstol at k = 9979e-06 gradnorm: 0.00313559548013073355\n",
      "Iteration 57/100\n",
      "Reached losstol at k = 99501e-06 gradnorm: 0.0031286359428189444\n",
      "Iteration 58/100\n",
      "Reached losstol at k = 98717e-06 gradnorm: 0.0031738402930844427\n",
      "Iteration 59/100\n",
      "Reached losstol at k = 98298e-06 gradnorm: 0.0031656186568346048\n",
      "Iteration 60/100\n",
      "Reached losstol at k = 98814e-06 gradnorm: 0.0031568063074212872\n",
      "Iteration 61/100\n",
      "Reached losstol at k = 9876e-06 gradnorm: 0.00314753992041196157\n",
      "Iteration 62/100\n",
      "Reached losstol at k = 98707e-06 gradnorm: 0.0031379411094427216\n",
      "Iteration 63/100\n",
      "Reached losstol at k = 988e-06 gradnorm: 0.003128118397888677813\n",
      "Iteration 64/100\n",
      "Reached losstol at k = 97247e-06 gradnorm: 0.0031724508162764457\n",
      "Iteration 65/100\n",
      "Reached losstol at k = 97153e-06 gradnorm: 0.0031627986782982245\n",
      "Iteration 66/100\n",
      "Reached losstol at k = 9738e-06 gradnorm: 0.00315317518419444246\n",
      "Iteration 67/100\n",
      "Reached losstol at k = 97471e-06 gradnorm: 0.0031436564875422708\n",
      "Iteration 68/100\n",
      "Reached losstol at k = 97628e-06 gradnorm: 0.0031343130177673532\n",
      "Iteration 69/100\n",
      "Reached losstol at k = 97135e-06 gradnorm: 0.0031252103786449133\n",
      "Iteration 70/100\n",
      "Reached losstol at k = 96654e-06 gradnorm: 0.0031719571355576974\n",
      "Iteration 71/100\n",
      "Reached losstol at k = 96114e-06 gradnorm: 0.0031638604080744046\n",
      "Iteration 72/100\n",
      "Reached losstol at k = 96589e-06 gradnorm: 0.0031561685335741185\n",
      "Iteration 73/100\n",
      "Reached losstol at k = 9678e-06 gradnorm: 0.00314893395702896834\n",
      "Iteration 74/100\n",
      "Reached losstol at k = 9692e-06 gradnorm: 0.00314220618434395117\n",
      "Iteration 75/100\n",
      "Reached losstol at k = 9601e-06 gradnorm: 0.00313603185347823046\n",
      "Iteration 76/100\n",
      "Reached losstol at k = 96224e-06 gradnorm: 0.0031304546463161525\n",
      "Iteration 77/100\n",
      "Reached losstol at k = 96045e-06 gradnorm: 0.0031255150270781155\n",
      "Iteration 78/100\n",
      "Reached losstol at k = 9654e-06 gradnorm: 0.00312124979533509723\n",
      "Iteration 79/100\n",
      "Reached losstol at k = 95162e-06 gradnorm: 0.0031742989115138157\n",
      "Iteration 80/100\n",
      "Reached losstol at k = 95015e-06 gradnorm: 0.0031718260505350063\n",
      "Iteration 81/100\n",
      "Reached losstol at k = 95622e-06 gradnorm: 0.0031700969173503084\n",
      "Iteration 82/100\n",
      "Reached losstol at k = 9504e-06 gradnorm: 0.00316912561248138146\n",
      "Iteration 83/100\n",
      "Reached losstol at k = 95385e-06 gradnorm: 0.0031689178047461246\n",
      "Iteration 84/100\n",
      "Reached losstol at k = 9539e-06 gradnorm: 0.00316946956921278293\n",
      "Iteration 85/100\n",
      "Reached losstol at k = 951e-06 gradnorm: 0.003170766331450188287\n",
      "Iteration 86/100\n",
      "Reached losstol at k = 95095e-06 gradnorm: 0.0031727820282052344\n",
      "Iteration 87/100\n",
      "Reached losstol at k = 95017e-06 gradnorm: 0.0031754785972406415\n",
      "Iteration 88/100\n",
      "Reached losstol at k = 96668e-06 gradnorm: 0.0031229869491446197\n",
      "Iteration 89/100\n",
      "Reached losstol at k = 96983e-06 gradnorm: 0.0031265333480590496\n",
      "Iteration 90/100\n",
      "Reached losstol at k = 96878e-06 gradnorm: 0.0031305871999002422\n",
      "Iteration 91/100\n",
      "Reached losstol at k = 96462e-06 gradnorm: 0.0031350667473780294\n",
      "Iteration 92/100\n",
      "Reached losstol at k = 96712e-06 gradnorm: 0.0031398831376447213\n",
      "Iteration 93/100\n",
      "Reached losstol at k = 96193e-06 gradnorm: 0.0031449428370015397\n",
      "Iteration 94/100\n",
      "Reached losstol at k = 96744e-06 gradnorm: 0.0031501502855803497\n",
      "Iteration 95/100\n",
      "Reached losstol at k = 96849e-06 gradnorm: 0.0031554106211511457\n",
      "Iteration 96/100\n",
      "Reached losstol at k = 96666e-06 gradnorm: 0.0031606322968493095\n",
      "Iteration 97/100\n",
      "Reached losstol at k = 96484e-06 gradnorm: 0.0031657294332597197\n",
      "Iteration 98/100\n",
      "Reached losstol at k = 96698e-06 gradnorm: 0.0031706237776750273\n",
      "Iteration 99/100\n",
      "Reached losstol at k = 96066e-06 gradnorm: 0.0031752461874307964\n",
      "Iteration 100/100\n",
      "Reached losstol at k = 97526e-06 gradnorm: 0.0031262774001114546\n"
     ]
    }
   ],
   "source": [
    "gd100_stop = algo.evolve(hamiltonian, final_time=1, timestep=0.01)"
   ]
  },
  {
   "cell_type": "code",
   "execution_count": 42,
   "id": "3dd4edce",
   "metadata": {},
   "outputs": [
    {
     "data": {
      "text/plain": [
       "[<matplotlib.lines.Line2D at 0x7fdb414bdfc0>]"
      ]
     },
     "execution_count": 42,
     "metadata": {},
     "output_type": "execute_result"
    },
    {
     "data": {
      "image/png": "[encoded data removed]",
      "text/plain": [
       "<Figure size 432x288 with 1 Axes>"
      ]
     },
     "metadata": {
      "needs_background": "light"
     },
     "output_type": "display_data"
    }
   ],
   "source": [
    "plt.plot(sum(gd100_stop.losses[:10], []))"
   ]
  },
  {
   "cell_type": "code",
   "execution_count": 43,
   "id": "76929be8",
   "metadata": {},
   "outputs": [
    {
     "data": {
      "text/plain": [
       "[<matplotlib.lines.Line2D at 0x7fdaf059ca90>]"
      ]
     },
     "execution_count": 43,
     "metadata": {},
     "output_type": "execute_result"
    },
    {
     "data": {
      "image/png": "[encoded data removed]",
      "text/plain": [
       "<Figure size 432x288 with 1 Axes>"
      ]
     },
     "metadata": {
      "needs_background": "light"
     },
     "output_type": "display_data"
    }
   ],
   "source": [
    "plt.plot(gd100_stop.energies)"
   ]
  },
  {
   "cell_type": "code",
   "execution_count": 385,
   "id": "b2d5d013",
   "metadata": {},
   "outputs": [
    {
     "data": {
      "text/plain": [
       "[<matplotlib.lines.Line2D at 0x7fd833981330>]"
      ]
     },
     "execution_count": 385,
     "metadata": {},
     "output_type": "execute_result"
    },
    {
     "data": {
      "image/png": "[encoded data removed]",
      "text/plain": [
       "<Figure size 432x288 with 1 Axes>"
      ]
     },
     "metadata": {
      "needs_background": "light"
     },
     "output_type": "display_data"
    }
   ],
   "source": [
    "plt.plot(exact.energies)\n",
    "plt.plot(gd100_nostop.energies)\n",
    "plt.plot(gd100_stop.energies)"
   ]
  },
  {
   "cell_type": "code",
   "execution_count": 384,
   "id": "566153ce",
   "metadata": {},
   "outputs": [
    {
     "data": {
      "text/plain": [
       "[<matplotlib.lines.Line2D at 0x7fd833919810>]"
      ]
     },
     "execution_count": 384,
     "metadata": {},
     "output_type": "execute_result"
    },
    {
     "data": {
      "image/png": "[encoded data removed]",
      "text/plain": [
       "<Figure size 432x288 with 1 Axes>"
      ]
     },
     "metadata": {
      "needs_background": "light"
     },
     "output_type": "display_data"
    }
   ],
   "source": [
    "plt.plot(num_iterations(gd100_nostop), \"o\", ls=\"\")\n",
    "plt.plot(num_iterations(gd100_stop), \"o\", ls=\"\")"
   ]
  },
  {
   "cell_type": "markdown",
   "id": "4f6072da",
   "metadata": {},
   "source": [
    "### warmstart + stop"
   ]
  },
  {
   "cell_type": "code",
   "execution_count": 163,
   "id": "ed6a12c4",
   "metadata": {},
   "outputs": [],
   "source": [
    "hamiltonian, circuit, initial_parameters = get_model(num_sites=10, J=0.25, g=-1, reps=6, periodic=True)"
   ]
  },
  {
   "cell_type": "code",
   "execution_count": 164,
   "id": "1a15a3cc",
   "metadata": {},
   "outputs": [],
   "source": [
    "gd = GradientDescent(100, 0.1, True, losstol=1e-4 * 0.01, gradtol=1e-3 * 0.01)\n",
    "\n",
    "algo = DualITE(\n",
    "    circuit,\n",
    "    initial_parameters,\n",
    "    expectation,\n",
    "    fidelity,\n",
    "    expectation_gradient,\n",
    "    fidelity_gradient,\n",
    "    warmstart=True,\n",
    "    optimizer=gd.minimize,\n",
    "    norm_factor=0,\n",
    ")"
   ]
  },
  {
   "cell_type": "code",
   "execution_count": 165,
   "id": "8e352111",
   "metadata": {},
   "outputs": [
    {
     "name": "stdout",
     "output_type": "stream",
     "text": [
      "Iteration 1/100\n",
      "Reached losstol at k = 84318e-06 gradnorm: 0.0031642041597585637\n",
      "Iteration 2/100\n",
      "Reached losstol at k = 25608367\n",
      "Iteration 3/100\n",
      "Reached losstol at k = 26362525\n",
      "Iteration 4/100\n",
      "Reached losstol at k = 56923e-06 gradnorm: 0.0031123317174177683\n",
      "Iteration 5/100\n",
      "Reached losstol at k = 73602e-06 gradnorm: 0.0031180624424805904\n",
      "Iteration 6/100\n",
      "Reached losstol at k = 83819e-06 gradnorm: 0.0031247286695548455\n",
      "Iteration 7/100\n",
      "Reached losstol at k = 82044e-06 gradnorm: 0.0031743800541829173\n",
      "Iteration 8/100\n",
      "Reached losstol at k = 92722e-06 gradnorm: 0.0031439046321765827\n",
      "Iteration 9/100\n",
      "Reached losstol at k = 99218e-06 gradnorm: 0.0031191556584342823\n",
      "Iteration 10/100\n",
      "Reached losstol at k = 89324e-06 gradnorm: 0.0031833673767345027\n",
      "Iteration 11/100\n",
      "Reached losstol at k = 9224e-06 gradnorm: 0.00312354553532083867\n",
      "Iteration 12/100\n",
      "Reached losstol at k = 84903e-06 gradnorm: 0.0031560243082841897\n",
      "Iteration 13/100\n",
      "Reached losstol at k = 88124e-06 gradnorm: 0.0031611178287720442\n",
      "Iteration 14/100\n",
      "Reached losstol at k = 8821e-06 gradnorm: 0.00314168108398878765\n",
      "Iteration 15/100\n",
      "Reached losstol at k = 84142e-06 gradnorm: 0.0031006796263929424\n",
      "Iteration 16/100\n",
      "Reached losstol at k = 75642e-06 gradnorm: 0.003152863601205933\n",
      "Iteration 17/100\n",
      "Reached losstol at k = 71391e-06 gradnorm: 0.0031652609349848068\n",
      "Iteration 18/100\n",
      "Reached losstol at k = 78276e-06 gradnorm: 0.0031425430279851713\n",
      "Iteration 19/100\n",
      "Reached losstol at k = 7839e-06 gradnorm: 0.00308920667674175577\n",
      "Iteration 20/100\n",
      "Reached losstol at k = 68076e-06 gradnorm: 0.0031358166415885673\n",
      "Iteration 21/100\n",
      "Reached losstol at k = 63244e-06 gradnorm: 0.0031343628942458166\n",
      "Iteration 22/100\n",
      "Reached losstol at k = 63377e-06 gradnorm: 0.0030917349214053924\n",
      "Iteration 23/100\n",
      "Reached losstol at k = 533e-06 gradnorm: 0.0031539949440111494\n",
      "Iteration 24/100\n",
      "Reached losstol at k = 56094e-06 gradnorm: 0.0031629366292749777\n",
      "Iteration 25/100\n",
      "Reached losstol at k = 52734e-06 gradnorm: 0.0031270177696988105\n",
      "Iteration 26/100\n",
      "Reached losstol at k = 57434e-06 gradnorm: 0.0030551769906923304\n",
      "Iteration 27/100\n",
      "Reached losstol at k = 42037e-06 gradnorm: 0.003107360553516704\n",
      "Iteration 28/100\n",
      "Reached losstol at k = 40756e-06 gradnorm: 0.0031129729306693076\n",
      "Iteration 29/100\n",
      "Reached losstol at k = 4818e-06 gradnorm: 0.0030812084748063186\n",
      "Iteration 30/100\n",
      "Reached losstol at k = 3584e-06 gradnorm: 0.0031852007688658074\n",
      "Iteration 31/100\n",
      "Reached losstol at k = 48321e-06 gradnorm: 0.003076377466659097\n",
      "Iteration 32/100\n",
      "Reached losstol at k = 3236e-06 gradnorm: 0.0031241550069660705\n",
      "Iteration 33/100\n",
      "Reached losstol at k = 31485e-06 gradnorm: 0.003142679580732172\n",
      "Iteration 34/100\n",
      "Reached losstol at k = 31288e-06 gradnorm: 0.0031401013547885724\n",
      "Iteration 35/100\n",
      "Reached losstol at k = 33865e-06 gradnorm: 0.0031245025242478677\n",
      "Iteration 36/100\n",
      "Reached losstol at k = 38747e-06 gradnorm: 0.003103478709409186\n",
      "Iteration 37/100\n",
      "Reached losstol at k = 3308e-06 gradnorm: 0.003083781080938976\n",
      "Iteration 38/100\n",
      "Reached losstol at k = 33365e-06 gradnorm: 0.003071022082632684\n",
      "Iteration 39/100\n",
      "Reached losstol at k = 32139e-06 gradnorm: 0.0030694651229879744\n",
      "Iteration 40/100\n",
      "Reached losstol at k = 3859e-06 gradnorm: 0.0030819245520013866\n",
      "Iteration 41/100\n",
      "Reached losstol at k = 36456e-06 gradnorm: 0.0031097933056989597\n",
      "Iteration 42/100\n",
      "Reached losstol at k = 31694e-06 gradnorm: 0.0031531934028889838\n",
      "Iteration 43/100\n",
      "Reached losstol at k = 48242e-06 gradnorm: 0.0031080194241838587\n",
      "Iteration 44/100\n",
      "Reached losstol at k = 41896e-06 gradnorm: 0.003103240987286365\n",
      "Iteration 45/100\n",
      "Reached losstol at k = 49596e-06 gradnorm: 0.0031260589581749316\n",
      "Iteration 46/100\n",
      "Reached losstol at k = 48045e-06 gradnorm: 0.0031671388887183154\n",
      "Iteration 47/100\n",
      "Reached losstol at k = 5106e-06 gradnorm: 0.00314701034646887745\n",
      "Iteration 48/100\n",
      "Reached losstol at k = 54419e-06 gradnorm: 0.0031476608884028653\n",
      "Iteration 49/100\n",
      "Reached losstol at k = 54966e-06 gradnorm: 0.0031593697300513306\n",
      "Iteration 50/100\n",
      "Reached losstol at k = 57954e-06 gradnorm: 0.0031761680215179533\n",
      "Iteration 51/100\n",
      "Reached losstol at k = 65128e-06 gradnorm: 0.0031345923221004833\n",
      "Iteration 52/100\n",
      "Reached losstol at k = 50325e-06 gradnorm: 0.0031581424294944405\n",
      "Iteration 53/100\n",
      "Reached losstol at k = 69863e-06 gradnorm: 0.0031200927579603643\n",
      "Iteration 54/100\n",
      "Reached losstol at k = 56913e-06 gradnorm: 0.0031395100368962943\n",
      "Iteration 55/100\n",
      "Reached losstol at k = 55777e-06 gradnorm: 0.0031518588150123298\n",
      "Iteration 56/100\n",
      "Reached losstol at k = 51908e-06 gradnorm: 0.0031571193720305525\n",
      "Iteration 57/100\n",
      "Reached losstol at k = 53329e-06 gradnorm: 0.0031554358332490174\n",
      "Iteration 58/100\n",
      "Reached losstol at k = 54174e-06 gradnorm: 0.0031470650503900026\n",
      "Iteration 59/100\n",
      "Reached losstol at k = 50978e-06 gradnorm: 0.0031323504601321033\n",
      "Iteration 60/100\n",
      "Reached losstol at k = 41456e-06 gradnorm: 0.003170088619373318\n",
      "Iteration 61/100\n",
      "Reached losstol at k = 5944e-06 gradnorm: 0.00313717160472067104\n",
      "Iteration 62/100\n",
      "Reached losstol at k = 4076e-06 gradnorm: 0.0031604089070210695\n",
      "Iteration 63/100\n",
      "Reached losstol at k = 40686e-06 gradnorm: 0.0031744125284197287\n",
      "Iteration 64/100\n",
      "Reached losstol at k = 5441e-06 gradnorm: 0.00311764539177060872\n",
      "Iteration 65/100\n",
      "Reached losstol at k = 42798e-06 gradnorm: 0.0031220989553788317\n",
      "Iteration 66/100\n",
      "Reached losstol at k = 40016e-06 gradnorm: 0.0031190810160611902\n",
      "Iteration 67/100\n",
      "Reached losstol at k = 39738e-06 gradnorm: 0.0031762694278764814\n",
      "Iteration 68/100\n",
      "Reached losstol at k = 45814e-06 gradnorm: 0.0031532575463473594\n",
      "Iteration 69/100\n",
      "Reached losstol at k = 44446e-06 gradnorm: 0.003127334358588089\n",
      "Iteration 70/100\n",
      "Reached losstol at k = 33636e-06 gradnorm: 0.003168301137545457\n",
      "Iteration 71/100\n",
      "Reached losstol at k = 4762e-06 gradnorm: 0.0031281878814171213\n",
      "Iteration 72/100\n",
      "Reached losstol at k = 33838e-06 gradnorm: 0.0031595797398781553\n",
      "Iteration 73/100\n",
      "Reached losstol at k = 43093e-06 gradnorm: 0.0031099152674792935\n",
      "Iteration 74/100\n",
      "Reached losstol at k = 35666e-06 gradnorm: 0.0031342717655530126\n",
      "Iteration 75/100\n",
      "Reached losstol at k = 37864e-06 gradnorm: 0.0031522229012223026\n",
      "Iteration 76/100\n",
      "Reached losstol at k = 37153e-06 gradnorm: 0.003164685527244412\n",
      "Iteration 77/100\n",
      "Reached losstol at k = 3876e-06 gradnorm: 0.003172535934316032\n",
      "Iteration 78/100\n",
      "Reached losstol at k = 37108e-06 gradnorm: 0.0031765272393167576\n",
      "Iteration 79/100\n",
      "Reached losstol at k = 39413e-06 gradnorm: 0.003177263053769799\n",
      "Iteration 80/100\n",
      "Reached losstol at k = 38697e-06 gradnorm: 0.0031751952020143285\n",
      "Iteration 81/100\n",
      "Reached losstol at k = 39819e-06 gradnorm: 0.0031706311431224455\n",
      "Iteration 82/100\n",
      "Reached losstol at k = 3588e-06 gradnorm: 0.003163745246908621\n",
      "Iteration 83/100\n",
      "Reached losstol at k = 3002e-06 gradnorm: 0.003154591973721096\n",
      "Iteration 84/100\n",
      "Reached losstol at k = 3038e-06 gradnorm: 0.0031431206423991804\n",
      "Iteration 85/100\n",
      "Reached losstol at k = 32267e-06 gradnorm: 0.003129191989758715\n",
      "Iteration 86/100\n",
      "Reached losstol at k = 33628e-06 gradnorm: 0.0031125967082371486\n",
      "Iteration 87/100\n",
      "Reached losstol at k = 2056083\n",
      "Iteration 88/100\n",
      "Reached losstol at k = 31454e-06 gradnorm: 0.003144228119973207\n",
      "Iteration 89/100\n",
      "Reached losstol at k = 30095e-06 gradnorm: 0.0031124471105860602\n",
      "Iteration 90/100\n",
      "Reached losstol at k = 25186148\n",
      "Iteration 91/100\n",
      "Reached losstol at k = 3721e-06 gradnorm: 0.0031153607591203896\n",
      "Iteration 92/100\n",
      "Reached losstol at k = 27163616\n",
      "Iteration 93/100\n",
      "Reached losstol at k = 2965923\n",
      "Iteration 94/100\n",
      "Reached losstol at k = 3709e-06 gradnorm: 0.00311495873362821\n",
      "Iteration 95/100\n",
      "Reached losstol at k = 26386313\n",
      "Iteration 96/100\n",
      "Reached losstol at k = 21715337\n",
      "Iteration 97/100\n",
      "Reached losstol at k = 26171995\n",
      "Iteration 98/100\n",
      "Reached losstol at k = 22065426\n",
      "Iteration 99/100\n",
      "Reached losstol at k = 2819511\n",
      "Iteration 100/100\n",
      "Reached losstol at k = 2862041\n"
     ]
    }
   ],
   "source": [
    "gd100_ws_stop = algo.evolve(hamiltonian, final_time=1, timestep=0.01)"
   ]
  },
  {
   "cell_type": "code",
   "execution_count": 166,
   "id": "713d1641",
   "metadata": {},
   "outputs": [],
   "source": [
    "np.save(\"10q_gd100_ws_stop.npy\", gd100_ws_stop)"
   ]
  },
  {
   "cell_type": "code",
   "execution_count": null,
   "id": "4753ea60",
   "metadata": {},
   "outputs": [],
   "source": []
  },
  {
   "cell_type": "code",
   "execution_count": 51,
   "id": "f1bc135a",
   "metadata": {},
   "outputs": [],
   "source": [
    "exact = np.load(\"../data/heisencomb/exact.npy\", allow_pickle=True).item()"
   ]
  },
  {
   "cell_type": "code",
   "execution_count": 101,
   "id": "d3122dfa",
   "metadata": {},
   "outputs": [
    {
     "data": {
      "text/plain": [
       "[<matplotlib.lines.Line2D at 0x7fdb32df5870>]"
      ]
     },
     "execution_count": 101,
     "metadata": {},
     "output_type": "execute_result"
    },
    {
     "data": {
      "image/png": "[encoded data removed]",
      "text/plain": [
       "<Figure size 432x288 with 1 Axes>"
      ]
     },
     "metadata": {
      "needs_background": "light"
     },
     "output_type": "display_data"
    }
   ],
   "source": [
    "# plt.plot(exact[\"energies\"][:100])\n",
    "# plt.plot(gd100_stop.energies)\n",
    "plt.plot(gd100_ws_stop.energies)"
   ]
  },
  {
   "cell_type": "code",
   "execution_count": 49,
   "id": "3b621fcf",
   "metadata": {},
   "outputs": [
    {
     "data": {
      "text/plain": [
       "[<matplotlib.lines.Line2D at 0x7fdb31cb72e0>]"
      ]
     },
     "execution_count": 49,
     "metadata": {},
     "output_type": "execute_result"
    },
    {
     "data": {
      "image/png": "[encoded data removed]",
      "text/plain": [
       "<Figure size 432x288 with 1 Axes>"
      ]
     },
     "metadata": {
      "needs_background": "light"
     },
     "output_type": "display_data"
    }
   ],
   "source": [
    "# plt.plot(num_iterations(gd100_nostop), \"o\", ls=\"\")\n",
    "plt.plot(num_iterations(gd100_stop), \"o\", ls=\"\")\n",
    "plt.plot(num_iterations(gd100_ws_stop), \"o\", ls=\"\")"
   ]
  },
  {
   "cell_type": "code",
   "execution_count": 55,
   "id": "2aa55fb3",
   "metadata": {},
   "outputs": [],
   "source": [
    "np.save(\"12q_gd100_stop.npy\", gd100_stop)"
   ]
  },
  {
   "cell_type": "code",
   "execution_count": 56,
   "id": "99696b0e",
   "metadata": {},
   "outputs": [],
   "source": [
    "np.save(\"12q_gd100_ws_stop.npy\", gd100_ws_stop)"
   ]
  },
  {
   "cell_type": "code",
   "execution_count": 85,
   "id": "614a8f92",
   "metadata": {},
   "outputs": [
    {
     "data": {
      "image/png": "[encoded data removed]",
      "text/plain": [
       "<Figure size 432x288 with 1 Axes>"
      ]
     },
     "metadata": {
      "needs_background": "light"
     },
     "output_type": "display_data"
    }
   ],
   "source": [
    "d = circuit.num_parameters\n",
    "# plt.title(\"\")\n",
    "# plt.plot(d * (1 + num_iterations(gd100_nostop)), \"o\", ls=\"\")\n",
    "plt.plot(num_iterations(gd100_stop), ls=\"\", marker=\"o\", markersize=4, color=\"royalblue\", label=r\"0-started\")\n",
    "plt.plot(num_iterations(gd100_ws_stop), ls=\"\", marker=\"o\", markersize=4, color=\"seagreen\", label=r\"warmstarted\")\n",
    "plt.xlabel(\"timestep\")\n",
    "plt.ylabel(\"number of iterations\")\n",
    "plt.legend(loc=\"best\")\n",
    "plt.tight_layout()\n",
    "# plt.savefig(\"num_circuits_per_step.pdf\")"
   ]
  },
  {
   "cell_type": "code",
   "execution_count": 90,
   "id": "8e1106ac",
   "metadata": {},
   "outputs": [
    {
     "data": {
      "image/png": "[encoded data removed]",
      "text/plain": [
       "<Figure size 288x216 with 1 Axes>"
      ]
     },
     "metadata": {
      "needs_background": "light"
     },
     "output_type": "display_data"
    }
   ],
   "source": [
    "k = 3\n",
    "d = circuit.num_parameters\n",
    "# plt.title(\"\")\n",
    "plt.figure(figsize=(4, 3))\n",
    "plt.semilogy()\n",
    "# plt.plot(d * (1 + num_iterations(gd100_nostop)), \"o\", ls=\"\")\n",
    "plt.plot(d * (2 * k + 2 * num_iterations(gd100_stop)), ls=\"\", marker=\"o\", markersize=4, color=\"royalblue\", label=r\"0-started\")\n",
    "plt.plot(d * (2 * k + 2 * num_iterations(gd100_ws_stop)), ls=\"\", marker=\"o\", markersize=4, color=\"seagreen\", label=r\"warmstarted\")\n",
    "plt.axhline(y=d * (d + 1 * 2 * k), color=\"crimson\", ls=\"--\", label=\"parameter-shift\")\n",
    "plt.axhline(y=d * (d + 7) / 2, color=\"crimson\", label=\"LCU\")\n",
    "plt.xlabel(\"timestep\")\n",
    "plt.ylabel(\"number of circuits\")\n",
    "plt.legend(loc=\"best\")\n",
    "plt.tight_layout()\n",
    "plt.savefig(\"num_circuits_per_step.pdf\")"
   ]
  },
  {
   "cell_type": "code",
   "execution_count": 167,
   "id": "df9ad524",
   "metadata": {},
   "outputs": [],
   "source": [
    "num_qubits = list(range(3, 12 + 1))\n",
    "all_data = [\n",
    "    np.load(f\"{n}q_gd100_ws_stop.npy\", allow_pickle=True).item()\n",
    "    for n in num_qubits\n",
    "]\n",
    "all_iterations = [\n",
    "    num_iterations(data) for data in all_data\n",
    "]"
   ]
  },
  {
   "cell_type": "code",
   "execution_count": 168,
   "id": "49203698",
   "metadata": {},
   "outputs": [],
   "source": [
    "# first iteration\n",
    "first_iters = [it[0] for it in all_iterations]"
   ]
  },
  {
   "cell_type": "code",
   "execution_count": 215,
   "id": "33a6316d",
   "metadata": {},
   "outputs": [
    {
     "data": {
      "image/png": "[encoded data removed]",
      "text/plain": [
       "<Figure size 288x216 with 1 Axes>"
      ]
     },
     "metadata": {
      "needs_background": "light"
     },
     "output_type": "display_data"
    }
   ],
   "source": [
    "# plt.plot(num_qubits, first_iters)\n",
    "plt.figure(figsize=(4, 3))\n",
    "# plt.semilogy()\n",
    "num_params = 2 * 7 * np.array(num_qubits)\n",
    "plt.plot(num_qubits, num_params, \"k--\", label=r\"$\\propto d$\")\n",
    "plt.plot(num_qubits, first_iters, color=\"royalblue\", label=\"first iteration\")\n",
    "plt.errorbar(num_qubits, means, yerr=stds, color=\"seagreen\", label=\"warmstarted iterations\")\n",
    "plt.ylim(top=120)\n",
    "plt.ylabel(\"num. iterations\")\n",
    "plt.xlabel(\"num. qubits\")\n",
    "plt.legend(bbox_to_anchor=(1, 0.5))\n",
    "plt.tight_layout()\n",
    "plt.savefig(\"iters_vs_size.pdf\")"
   ]
  },
  {
   "cell_type": "code",
   "execution_count": 183,
   "id": "3be5916c",
   "metadata": {},
   "outputs": [],
   "source": [
    "# warmstarted iterations\n",
    "means = [np.mean(it[1:]) for it in all_iterations]\n",
    "stds = [np.std(it[1:]) for it in all_iterations]"
   ]
  },
  {
   "cell_type": "code",
   "execution_count": 192,
   "id": "3c37e2a9",
   "metadata": {},
   "outputs": [
    {
     "data": {
      "text/plain": [
       "Text(0.5, 0, 'num. parameters')"
      ]
     },
     "execution_count": 192,
     "metadata": {},
     "output_type": "execute_result"
    },
    {
     "data": {
      "image/png": "[encoded data removed]",
      "text/plain": [
       "<Figure size 432x288 with 1 Axes>"
      ]
     },
     "metadata": {
      "needs_background": "light"
     },
     "output_type": "display_data"
    }
   ],
   "source": [
    "plt.errorbar(num_qubits, means, yerr=stds, color=\"royalblue\")\n",
    "plt.ylabel(\"num. iterations\")\n",
    "plt.xlabel(\"num. parameters\")"
   ]
  },
  {
   "cell_type": "code",
   "execution_count": 14,
   "id": "16690e10",
   "metadata": {},
   "outputs": [
    {
     "data": {
      "text/plain": [
       "[<matplotlib.lines.Line2D at 0x7fdb31a4b7c0>]"
      ]
     },
     "execution_count": 14,
     "metadata": {},
     "output_type": "execute_result"
    },
    {
     "data": {
      "image/png": "[encoded data removed]",
      "text/plain": [
       "<Figure size 432x288 with 1 Axes>"
      ]
     },
     "metadata": {
      "needs_background": "light"
     },
     "output_type": "display_data"
    }
   ],
   "source": [
    "d = np.load(\"gd100_ws_stop.npy\", allow_pickle=True).item()\n",
    "plt.plot([len(loss) for loss in d[\"losses\"]])"
   ]
  },
  {
   "cell_type": "code",
   "execution_count": 15,
   "id": "74272981",
   "metadata": {},
   "outputs": [],
   "source": [
    "gd100_nostop = np.load(\"gd100_nostop.npy\", allow_pickle=True).item()\n",
    "gd100_stop = np.load(\"gd100_stop.npy\", allow_pickle=True).item()\n",
    "gd100_ws_stop = np.load(\"gd100_ws_stop.npy\", allow_pickle=True).item()"
   ]
  },
  {
   "cell_type": "code",
   "execution_count": 20,
   "id": "8b357e4e",
   "metadata": {},
   "outputs": [
    {
     "data": {
      "text/plain": [
       "<matplotlib.lines.Line2D at 0x7fdaf04d27d0>"
      ]
     },
     "execution_count": 20,
     "metadata": {},
     "output_type": "execute_result"
    },
    {
     "data": {
      "image/png": "[encoded data removed]",
      "text/plain": [
       "<Figure size 432x288 with 1 Axes>"
      ]
     },
     "metadata": {
      "needs_background": "light"
     },
     "output_type": "display_data"
    }
   ],
   "source": [
    "d = 3 * 4 * 2\n",
    "plt.title(\"number of circuit evaluations\")\n",
    "plt.plot(d * (1 + num_iterations(gd100_nostop)), \"o\", ls=\"\")\n",
    "plt.plot(d * (1 + num_iterations(gd100_stop)), \"o\", ls=\"\")\n",
    "plt.plot(d * (1 + num_iterations(gd100_ws_stop)), \"o\", ls=\"\")\n",
    "plt.axhline(y=d * (d + 5) / 2, color=\"tab:red\")"
   ]
  },
  {
   "cell_type": "code",
   "execution_count": 412,
   "id": "78444748",
   "metadata": {},
   "outputs": [],
   "source": [
    "# dump\n",
    "from dataclasses import asdict\n",
    "\n",
    "np.save(\"gd100_nostop.npy\", asdict(gd100_nostop))\n",
    "np.save(\"gd100_stop.npy\", asdict(gd100_stop))\n",
    "np.save(\"gd100_ws_stop.npy\", asdict(gd100_ws_stop))"
   ]
  },
  {
   "cell_type": "code",
   "execution_count": 21,
   "id": "11f4345a",
   "metadata": {},
   "outputs": [
    {
     "name": "stdout",
     "output_type": "stream",
     "text": [
      "VarQITE: 34800.0\n",
      "GD + ws + stop: 22392\n"
     ]
    }
   ],
   "source": [
    "print(\"VarQITE:\", 100 * d * (d + 5) / 2)\n",
    "print(\"GD + ws + stop:\", sum(d * (1 + num_iterations(gd100_ws_stop))))"
   ]
  },
  {
   "cell_type": "markdown",
   "id": "763b3465",
   "metadata": {},
   "source": [
    "## Conjugate gradient"
   ]
  },
  {
   "cell_type": "code",
   "execution_count": 399,
   "id": "45139099",
   "metadata": {},
   "outputs": [],
   "source": [
    "gd = CG(200, losstol=1e-5 * 0.01, gradtol=1e-5 * 0.01)\n",
    "\n",
    "algo = DualITE(\n",
    "    circuit,\n",
    "    initial_parameters,\n",
    "    expectation,\n",
    "    fidelity,\n",
    "    expectation_gradient,\n",
    "    fidelity_gradient,\n",
    "    warmstart=False,\n",
    "    optimizer=gd.minimize,\n",
    "    timestep_normalization=True,\n",
    "    norm_factor=0,\n",
    ")"
   ]
  },
  {
   "cell_type": "code",
   "execution_count": 400,
   "id": "a137e6db",
   "metadata": {},
   "outputs": [
    {
     "name": "stdout",
     "output_type": "stream",
     "text": [
      "Iteration 100/100\r"
     ]
    }
   ],
   "source": [
    "cg_stop = algo.evolve(hamiltonian, final_time=1, timestep=0.01)"
   ]
  },
  {
   "cell_type": "code",
   "execution_count": 409,
   "id": "9eec1351",
   "metadata": {},
   "outputs": [
    {
     "data": {
      "text/plain": [
       "[<matplotlib.lines.Line2D at 0x7fd8025d2890>]"
      ]
     },
     "execution_count": 409,
     "metadata": {},
     "output_type": "execute_result"
    },
    {
     "data": {
      "image/png": "[encoded data removed]",
      "text/plain": [
       "<Figure size 432x288 with 1 Axes>"
      ]
     },
     "metadata": {
      "needs_background": "light"
     },
     "output_type": "display_data"
    }
   ],
   "source": [
    "plt.plot(cg_stop.losses[0])\n",
    "plt.plot(gd100_stop.losses[0])"
   ]
  },
  {
   "cell_type": "code",
   "execution_count": 402,
   "id": "2e77259e",
   "metadata": {},
   "outputs": [
    {
     "data": {
      "text/plain": [
       "[<matplotlib.lines.Line2D at 0x7fd834298730>]"
      ]
     },
     "execution_count": 402,
     "metadata": {},
     "output_type": "execute_result"
    },
    {
     "data": {
      "image/png": "[encoded data removed]",
      "text/plain": [
       "<Figure size 432x288 with 1 Axes>"
      ]
     },
     "metadata": {
      "needs_background": "light"
     },
     "output_type": "display_data"
    }
   ],
   "source": [
    "plt.plot(exact.energies)\n",
    "plt.plot(cg_stop.energies)"
   ]
  },
  {
   "cell_type": "markdown",
   "id": "1be5f99d",
   "metadata": {},
   "source": [
    "### BFGS"
   ]
  },
  {
   "cell_type": "code",
   "execution_count": 326,
   "id": "1ee49f86",
   "metadata": {},
   "outputs": [],
   "source": [
    "gd = BFGS()"
   ]
  },
  {
   "cell_type": "code",
   "execution_count": 327,
   "id": "19b3488d",
   "metadata": {},
   "outputs": [],
   "source": [
    "algo = DualITE(\n",
    "    circuit,\n",
    "    initial_parameters,\n",
    "    expectation,\n",
    "    fidelity,\n",
    "    expectation_gradient,\n",
    "    fidelity_gradient,\n",
    "    warmstart=False,\n",
    "    optimizer=gd.minimize,\n",
    "    timestep_normalization=True,\n",
    "    norm_factor=0,\n",
    ")"
   ]
  },
  {
   "cell_type": "code",
   "execution_count": 328,
   "id": "40983992",
   "metadata": {},
   "outputs": [
    {
     "name": "stdout",
     "output_type": "stream",
     "text": [
      "-- Warmstarting with initial guess: [0.01 0.01 0.01 0.01 0.01 0.01 0.01 0.01 0.01 0.01 0.01 0.01 0.01 0.01\n",
      " 0.01 0.01 0.01 0.01 0.01 0.01 0.01 0.01 0.01 0.01]\n"
     ]
    },
    {
     "ename": "ValueError",
     "evalue": "too many values to unpack (expected 4)",
     "output_type": "error",
     "traceback": [
      "\u001b[0;31m---------------------------------------------------------------------------\u001b[0m",
      "\u001b[0;31mValueError\u001b[0m                                Traceback (most recent call last)",
      "\u001b[0;32m<ipython-input-328-b8a31ec869d6>\u001b[0m in \u001b[0;36m<module>\u001b[0;34m\u001b[0m\n\u001b[0;32m----> 1\u001b[0;31m \u001b[0mbfgs_result\u001b[0m \u001b[0;34m=\u001b[0m \u001b[0malgo\u001b[0m\u001b[0;34m.\u001b[0m\u001b[0mevolve\u001b[0m\u001b[0;34m(\u001b[0m\u001b[0mhamiltonian\u001b[0m\u001b[0;34m,\u001b[0m \u001b[0mfinal_time\u001b[0m\u001b[0;34m=\u001b[0m\u001b[0;36m1\u001b[0m\u001b[0;34m,\u001b[0m \u001b[0mtimestep\u001b[0m\u001b[0;34m=\u001b[0m\u001b[0;36m0.01\u001b[0m\u001b[0;34m)\u001b[0m\u001b[0;34m\u001b[0m\u001b[0;34m\u001b[0m\u001b[0m\n\u001b[0m",
      "\u001b[0;32m<ipython-input-313-8c79ee110c54>\u001b[0m in \u001b[0;36mevolve\u001b[0;34m(self, hamiltonian, final_time, timestep)\u001b[0m\n\u001b[1;32m    128\u001b[0m         \u001b[0;32mfor\u001b[0m \u001b[0mi\u001b[0m \u001b[0;32min\u001b[0m \u001b[0mrange\u001b[0m\u001b[0;34m(\u001b[0m\u001b[0mnum_timesteps\u001b[0m\u001b[0;34m)\u001b[0m\u001b[0;34m:\u001b[0m\u001b[0;34m\u001b[0m\u001b[0;34m\u001b[0m\u001b[0m\n\u001b[1;32m    129\u001b[0m             \u001b[0mprint\u001b[0m\u001b[0;34m(\u001b[0m\u001b[0;34m\"-- Warmstarting with initial guess:\"\u001b[0m\u001b[0;34m,\u001b[0m \u001b[0mx0\u001b[0m\u001b[0;34m)\u001b[0m\u001b[0;34m\u001b[0m\u001b[0;34m\u001b[0m\u001b[0m\n\u001b[0;32m--> 130\u001b[0;31m             \u001b[0mnext_theta\u001b[0m\u001b[0;34m,\u001b[0m \u001b[0mthetas_i\u001b[0m\u001b[0;34m,\u001b[0m \u001b[0mlosses_i\u001b[0m\u001b[0;34m,\u001b[0m \u001b[0mgradients_i\u001b[0m \u001b[0;34m=\u001b[0m \u001b[0mself\u001b[0m\u001b[0;34m.\u001b[0m\u001b[0mstep\u001b[0m\u001b[0;34m(\u001b[0m\u001b[0mtimestep\u001b[0m\u001b[0;34m,\u001b[0m \u001b[0mparameters\u001b[0m\u001b[0;34m[\u001b[0m\u001b[0;34m-\u001b[0m\u001b[0;36m1\u001b[0m\u001b[0;34m]\u001b[0m\u001b[0;34m,\u001b[0m \u001b[0mx0\u001b[0m\u001b[0;34m)\u001b[0m\u001b[0;34m\u001b[0m\u001b[0;34m\u001b[0m\u001b[0m\n\u001b[0m\u001b[1;32m    131\u001b[0m \u001b[0;34m\u001b[0m\u001b[0m\n\u001b[1;32m    132\u001b[0m             \u001b[0;32mif\u001b[0m \u001b[0mself\u001b[0m\u001b[0;34m.\u001b[0m\u001b[0mwarmstart\u001b[0m \u001b[0;32mis\u001b[0m \u001b[0;32mnot\u001b[0m \u001b[0;32mFalse\u001b[0m\u001b[0;34m:\u001b[0m  \u001b[0;31m# to cover the case of np.ndarray\u001b[0m\u001b[0;34m\u001b[0m\u001b[0;34m\u001b[0m\u001b[0m\n",
      "\u001b[0;31mValueError\u001b[0m: too many values to unpack (expected 4)"
     ]
    }
   ],
   "source": [
    "bfgs_result = algo.evolve(hamiltonian, final_time=1, timestep=0.01)"
   ]
  },
  {
   "cell_type": "code",
   "execution_count": null,
   "id": "ef6b0a8c",
   "metadata": {},
   "outputs": [],
   "source": []
  },
  {
   "cell_type": "code",
   "execution_count": 321,
   "id": "05aa8804",
   "metadata": {},
   "outputs": [],
   "source": [
    "algo.expectation.hamiltonian = hamiltonian"
   ]
  },
  {
   "cell_type": "code",
   "execution_count": 263,
   "id": "e5d5455c",
   "metadata": {},
   "outputs": [],
   "source": [
    "theta1 = thetas[-1]"
   ]
  },
  {
   "cell_type": "code",
   "execution_count": 322,
   "id": "434a380b",
   "metadata": {},
   "outputs": [
    {
     "name": "stdout",
     "output_type": "stream",
     "text": [
      "Reached losstol at k = 2\n"
     ]
    }
   ],
   "source": [
    "_, thetas, losses, gradients, sc = algo.step(dt=0.01, theta=initial_parameters)"
   ]
  },
  {
   "cell_type": "code",
   "execution_count": 276,
   "id": "fb8ec25a",
   "metadata": {},
   "outputs": [],
   "source": [
    "_, thetas, losses, gradients, sc = algo.step(dt=0.01, theta=theta1)#, x0=theta1 - initial_parameters)"
   ]
  },
  {
   "cell_type": "code",
   "execution_count": 235,
   "id": "f2470344",
   "metadata": {},
   "outputs": [],
   "source": [
    "ws = (thetas[0] - initial_parameters) / 0.01 + 0.1 * (np.random.random(thetas[0].size) - 0.5)"
   ]
  },
  {
   "cell_type": "code",
   "execution_count": 323,
   "id": "e52378c6",
   "metadata": {},
   "outputs": [
    {
     "data": {
      "text/plain": [
       "[<matplotlib.lines.Line2D at 0x7fd833152500>]"
      ]
     },
     "execution_count": 323,
     "metadata": {},
     "output_type": "execute_result"
    },
    {
     "data": {
      "image/png": "[encoded data removed]",
      "text/plain": [
       "<Figure size 432x288 with 1 Axes>"
      ]
     },
     "metadata": {
      "needs_background": "light"
     },
     "output_type": "display_data"
    }
   ],
   "source": [
    "plt.plot([np.linalg.norm(residual) for residual in gradients])"
   ]
  },
  {
   "cell_type": "code",
   "execution_count": 324,
   "id": "2e747229",
   "metadata": {},
   "outputs": [
    {
     "data": {
      "text/plain": [
       "[<matplotlib.lines.Line2D at 0x7fd8331b4130>]"
      ]
     },
     "execution_count": 324,
     "metadata": {},
     "output_type": "execute_result"
    },
    {
     "data": {
      "image/png": "[encoded data removed]",
      "text/plain": [
       "<Figure size 432x288 with 1 Axes>"
      ]
     },
     "metadata": {
      "needs_background": "light"
     },
     "output_type": "display_data"
    }
   ],
   "source": [
    "plt.plot(losses)"
   ]
  },
  {
   "cell_type": "code",
   "execution_count": 297,
   "id": "bed37ec9",
   "metadata": {},
   "outputs": [
    {
     "data": {
      "text/plain": [
       "[<matplotlib.lines.Line2D at 0x7fd83307b910>]"
      ]
     },
     "execution_count": 297,
     "metadata": {},
     "output_type": "execute_result"
    },
    {
     "data": {
      "image/png": "[encoded data removed]",
      "text/plain": [
       "<Figure size 432x288 with 1 Axes>"
      ]
     },
     "metadata": {
      "needs_background": "light"
     },
     "output_type": "display_data"
    }
   ],
   "source": [
    "plt.plot(losses)\n",
    "plt.plot(sc)"
   ]
  },
  {
   "cell_type": "code",
   "execution_count": null,
   "id": "daf5e631",
   "metadata": {},
   "outputs": [],
   "source": []
  },
  {
   "cell_type": "code",
   "execution_count": 153,
   "id": "7ea1fbd7",
   "metadata": {},
   "outputs": [
    {
     "data": {
      "text/plain": [
       "[<matplotlib.lines.Line2D at 0x7fd8327d3c40>]"
      ]
     },
     "execution_count": 153,
     "metadata": {},
     "output_type": "execute_result"
    },
    {
     "data": {
      "image/png": "[encoded data removed]",
      "text/plain": [
       "<Figure size 432x288 with 1 Axes>"
      ]
     },
     "metadata": {
      "needs_background": "light"
     },
     "output_type": "display_data"
    }
   ],
   "source": [
    "plt.plot(np.diff(losses))"
   ]
  },
  {
   "cell_type": "code",
   "execution_count": null,
   "id": "39c72e67",
   "metadata": {},
   "outputs": [],
   "source": []
  },
  {
   "cell_type": "markdown",
   "id": "46895d95",
   "metadata": {},
   "source": [
    "### Conjugate gradient descent"
   ]
  },
  {
   "cell_type": "code",
   "execution_count": null,
   "id": "5499ff93",
   "metadata": {},
   "outputs": [],
   "source": [
    "gd = CG(maxiter=500)"
   ]
  }
 ],
 "metadata": {
  "kernelspec": {
   "display_name": "Python 3",
   "language": "python",
   "name": "python3"
  },
  "language_info": {
   "codemirror_mode": {
    "name": "ipython",
    "version": 3
   },
   "file_extension": ".py",
   "mimetype": "text/x-python",
   "name": "python",
   "nbconvert_exporter": "python",
   "pygments_lexer": "ipython3",
   "version": "3.10.4"
  }
 },
 "nbformat": 4,
 "nbformat_minor": 5
}
